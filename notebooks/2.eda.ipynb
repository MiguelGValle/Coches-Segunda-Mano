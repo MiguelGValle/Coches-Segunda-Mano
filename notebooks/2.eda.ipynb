{
 "cells": [
  {
   "cell_type": "code",
   "execution_count": null,
   "id": "bd88e695-1453-4dfb-a5b0-1000dc34d2ac",
   "metadata": {
    "tags": []
   },
   "outputs": [],
   "source": [
    "import numpy as np\n",
    "import pandas as pd\n",
    "import matplotlib.pyplot as plt\n",
    "import seaborn as sns\n",
    "import re\n",
    "\n",
    "import folium\n",
    "from folium import Choropleth\n",
    "from folium import GeoJson\n",
    "import geopandas as gpd\n",
    "\n",
    "import plotly.express as px\n",
    "\n",
    "from sklearn.preprocessing import LabelEncoder\n",
    "from sklearn.preprocessing import OneHotEncoder\n",
    "from sklearn.impute import KNNImputer\n",
    "\n",
    "from sklearn.ensemble import RandomForestRegressor"
   ]
  },
  {
   "cell_type": "code",
   "execution_count": null,
   "id": "769e28ab-33f0-48c4-b662-ed99be01e869",
   "metadata": {
    "tags": []
   },
   "outputs": [],
   "source": [
    "pd.set_option('display.max_columns', None)\n",
    "\n",
    "df1 = pd.read_csv('../bin/data1.csv')\n",
    "df2 = pd.read_csv('../bin/data2.csv')\n",
    "df3 = pd.read_csv('../bin/data3.csv')\n",
    "\n",
    "df = pd.concat([df1, df2, df3], ignore_index=True)\n",
    "\n",
    "df.head()"
   ]
  },
  {
   "cell_type": "markdown",
   "id": "609a6362-d9c0-4c9b-a7fd-2f6471952b79",
   "metadata": {
    "jp-MarkdownHeadingCollapsed": true,
    "tags": []
   },
   "source": [
    "## Limpieza preliminar"
   ]
  },
  {
   "cell_type": "code",
   "execution_count": null,
   "id": "544670a2-9fae-4dbd-a4b3-e94f794e1aa9",
   "metadata": {
    "scrolled": true,
    "tags": []
   },
   "outputs": [],
   "source": [
    "stats = []\n",
    "for col in df.columns:\n",
    "    stats.append((col, df[col].nunique(), df[col].isnull().sum() * 100 / df.shape[0], df[col].value_counts(normalize=True, dropna=False).values[0] * 100, df[col].dtype))\n",
    "    stats_df = pd.DataFrame(stats, columns=['Columna', 'Valores únicos', '% nulos', '% of values in the biggest category', 'tipo'])\n",
    "stats_df.sort_values('% nulos', ascending=False)"
   ]
  },
  {
   "cell_type": "code",
   "execution_count": null,
   "id": "8a4f1a36-c883-4798-b53c-72de14b3f15e",
   "metadata": {
    "tags": []
   },
   "outputs": [],
   "source": [
    "df['tipo_cambio'].unique()\n",
    "\n",
    "#Hay nans que se toman como floats. Lo convierto a \"no disponible\"\n",
    "df['tipo_cambio'] = df['tipo_cambio'].fillna(\"no disponible\")\n",
    "\n",
    "#No sé qué es manual automatizada, si queremos que sea manual hay que poner la lambda al revés\n",
    "df['tipo_cambio'] = df['tipo_cambio'].apply(lambda x: 'Manual' if 'Manual' in x else 'Automático')"
   ]
  },
  {
   "cell_type": "code",
   "execution_count": null,
   "id": "c8f175da-8b07-4a26-88c6-de53edf81813",
   "metadata": {
    "tags": []
   },
   "outputs": [],
   "source": [
    "df[\"carroceria\"] = df[\"carroceria\"].str.replace(\"Carrocería\",\"\")\n",
    "\n",
    "df[\"combustible\"] = df[\"combustible\"].str.replace(\"combustible \",\"\").str.replace(\"Combustible \",\"\")"
   ]
  },
  {
   "cell_type": "code",
   "execution_count": null,
   "id": "3111c593-f5e9-424a-9cba-230f86c12458",
   "metadata": {
    "tags": []
   },
   "outputs": [],
   "source": [
    "df['fecha_matriculacion'] = df['fecha_matriculacion'].str.split(\"Matriculado: \").str[1]\n",
    "\n",
    "def limpiar_fecha(fecha):\n",
    "    try:\n",
    "        mes, ano = fecha.split('/')\n",
    "        return int(mes), int(ano)\n",
    "    except:\n",
    "        return np.nan, int(fecha)\n",
    "\n",
    "df[['mes_matriculacion', 'ano_matriculacion']] = df['fecha_matriculacion'].apply(lambda x: pd.Series(limpiar_fecha(x)))\n",
    "\n",
    "df = df.drop(columns=['fecha_matriculacion'])"
   ]
  },
  {
   "cell_type": "code",
   "execution_count": null,
   "id": "aed67bcf-c671-4cca-992d-92f1f32046b2",
   "metadata": {
    "tags": []
   },
   "outputs": [],
   "source": [
    "df['mes_matriculacion'] = df['mes_matriculacion'].fillna(0).astype('int64')\n",
    "df['ano_matriculacion'] = df['ano_matriculacion'].fillna(0).astype('int64')"
   ]
  },
  {
   "cell_type": "code",
   "execution_count": null,
   "id": "2dc17830-16cd-4f79-a0f4-6700a494166f",
   "metadata": {
    "tags": []
   },
   "outputs": [],
   "source": [
    "df = df[df[\"tipo_vendedor\"] == \"Profesional\"]\n",
    "df = df.drop(columns=['tipo_vendedor'])"
   ]
  },
  {
   "cell_type": "code",
   "execution_count": null,
   "id": "849132da-b51e-4165-9fb9-b35a4d84df85",
   "metadata": {
    "tags": []
   },
   "outputs": [],
   "source": [
    "df[\"garantia\"] = df[\"garantia\"].str.split(' ').str[0].replace(\"Sí\",np.nan).replace(\"No\",0).astype(float)"
   ]
  },
  {
   "cell_type": "code",
   "execution_count": null,
   "id": "81da1a65-5778-4c3c-9c5a-76ff1412e75b",
   "metadata": {
    "tags": []
   },
   "outputs": [],
   "source": [
    "df[\"precio_contado\"] = pd.to_numeric(df[\"precio_contado\"], errors='coerce')\n",
    "\n",
    "df[\"precio_nuevo\"] = pd.to_numeric(df[\"precio_nuevo\"], errors='coerce')\n",
    "\n",
    "df['largo'] = pd.to_numeric(df['largo'].str.extract('(\\d+\\.?\\d*)')[0], errors='coerce')\n",
    "df['ancho'] = pd.to_numeric(df['ancho'].str.extract('(\\d+\\.?\\d*)')[0], errors='coerce')\n",
    "df['alto'] = pd.to_numeric(df['alto'].str.extract('(\\d+\\.?\\d*)')[0], errors='coerce')\n",
    "\n",
    "df['capacidad_maletero'] = pd.to_numeric(df['capacidad_maletero'].str.extract(r'(\\d+\\.?\\d*)')[0], errors='coerce')\n",
    "df[\"num_plazas\"] = df[\"num_plazas\"].str.split(\"s\").str[1].astype(\"Int64\")\n",
    "df[\"batalla\"] = df[\"batalla\"].str.replace('Batalla (mm)\\r\\n', '').str.replace('.','').astype(\"Int64\")\n",
    "df[\"peso\"] = df[\"peso\"].str.replace('Peso/Masa max. autorizado (kg)', '').str.replace('.','').astype(\"Int64\")\n",
    "df[\"num_puertas\"] = df[\"num_puertas\"].str.extract(r'(\\d+)').astype(\"Int64\")\n",
    "df[\"consumo_medio\"] = df[\"consumo_medio\"].str.extract(r'(\\d+,\\d+)').replace(',', '.', regex=True).astype(float)\n",
    "df[\"consumo_carretera\"] = df[\"consumo_carretera\"].str.extract(r'(\\d+,\\d+)').replace(',', '.', regex=True).astype(float)\n",
    "df[\"consumo_urbano\"] = df[\"consumo_urbano\"].str.extract(r'(\\d+,\\d+)').replace(',', '.', regex=True).astype(float)\n",
    "df[\"co2\"] = df[\"CO2\"].str.extract(r'(\\d{1,3})(?= g/km)')[0].astype(float)\n",
    "df[\"num_cilindros\"] = df[\"cilindros\"].str.extract(r'(\\d+)').astype(\"Int64\")\n",
    "df[\"cilindrada\"] = df[\"cilindrada\"].str.extract(r'(\\d+,\\d+|\\d+\\.\\d+)', expand=False).str.replace(',', '').str.replace('.', '').astype(\"Int64\")\n",
    "df[\"deposito\"] = df[\"deposito\"].str.extract(r'(\\d+,\\d+)').replace(',', '.', regex=True).astype(float)\n",
    "\n",
    "df[\"num_marchas\"] = df[\"num_marchas\"].str.extract(r'(\\d+)').astype(\"Int64\")\n",
    "df[\"potencia_kw\"] = df[\"potencia_kw\"].str.extract(r'(\\d+)').astype(\"Int64\")\n",
    "df[\"potencia_cv\"] = df[\"potencia_cv\"].str.extract(r'(\\d+)').astype(\"Int64\")\n",
    "df[\"par\"] = df[\"par\"].str.extract(r'(\\d+)').astype(\"Int64\")\n",
    "df[\"velocidad_max\"] = df[\"velocidad_max\"].str.extract(r'(\\d+)').astype(\"Int64\")\n",
    "df[\"aceleracion\"] = df[\"aceleracion\"].str.extract(r'(\\d+,\\d+|\\d+\\.\\d+)')[0].str.replace(\",\", \".\").astype(float)\n",
    "df['id_sobrealimentacion'] = df['sobrealimentacion'].apply(lambda x: x.replace('Sobrealimentación', '').replace('Tipo de sobrealimentador', 'no disponible').strip() if pd.notna(x) and x != '-' else 'no disponible')"
   ]
  },
  {
   "cell_type": "code",
   "execution_count": null,
   "id": "fbfb2bab-e133-4b7f-b002-5832308ba42a",
   "metadata": {
    "tags": []
   },
   "outputs": [],
   "source": [
    "df['id_sobrealimentacion'].unique()"
   ]
  },
  {
   "cell_type": "code",
   "execution_count": null,
   "id": "069aa854-435b-47a0-bf89-386d1a8eee76",
   "metadata": {
    "tags": []
   },
   "outputs": [],
   "source": [
    "df[\"traccion\"].unique()\n",
    "\n",
    "df[\"traccion\"] = df['traccion'].fillna(\"no disponible\")\n",
    "df[\"traccion\"] = df[\"traccion\"].str.replace('Tracción', '').str.replace('Todo terreno tracción', '').apply(lambda x: x.strip())"
   ]
  },
  {
   "cell_type": "code",
   "execution_count": null,
   "id": "c0b9090c-4ff6-494d-a5ab-97715d7dfbdb",
   "metadata": {
    "tags": []
   },
   "outputs": [],
   "source": [
    "marca_listado = pd.read_csv('../bin/listado_marcas.csv')\n",
    "\n",
    "lista_marcas = [marca.upper() for marca in marca_listado['nombre_marca'].tolist()]\n",
    "\n",
    "df['marca_modelo'] = df['marca_modelo'].fillna('').str.replace(\"Detalles \", \"\").str.strip().str.upper()\n",
    "\n",
    "df['marca'] = df['marca_modelo'].apply(lambda x: next((marca for marca in lista_marcas if marca in x), np.nan))\n",
    "df['modelo'] = df.apply(lambda x: re.sub(r'\\s*\\(.*?\\)', '', x['marca_modelo'].replace(x['marca'], \"\").strip()).strip() if pd.notnull(x['marca']) else x['marca_modelo'], axis=1)\n"
   ]
  },
  {
   "cell_type": "code",
   "execution_count": null,
   "id": "a57ef3b8-a1e5-463f-a309-8f19ee4a9353",
   "metadata": {
    "tags": []
   },
   "outputs": [],
   "source": [
    "df = df.drop(columns=['marca_modelo', 'CO2', 'cilindros', 'sobrealimentacion', 'carroceria'])"
   ]
  },
  {
   "cell_type": "code",
   "execution_count": null,
   "id": "19b3eac5-f4aa-4389-890a-397eb7637315",
   "metadata": {
    "tags": []
   },
   "outputs": [],
   "source": [
    "df.rename(columns={'distintivo_ambiental': 'id_distintivo_ambiental'\n",
    "                  , 'marca': 'id_marca'\n",
    "                  , 'modelo': 'id_modelo'\n",
    "                  , 'nombre_vendedor': 'id_concesionario'\n",
    "                  , 'provincia': 'id_provincia'\n",
    "                  , 'traccion': 'id_traccion'}, inplace=True)"
   ]
  },
  {
   "cell_type": "code",
   "execution_count": null,
   "id": "ce62ab42-05f7-426b-b9ab-b5f2c14e0c8e",
   "metadata": {
    "scrolled": true,
    "tags": []
   },
   "outputs": [],
   "source": [
    "df['combustible'] = (\n",
    "    df['combustible']\n",
    "    .str.replace('-', 'no disponible')\n",
    "    .str.replace('Diésel', 'Diesel')\n",
    "    .str.replace('Gasolina y corriente eléctrica', 'Híbrido Enchufable', regex=False)\n",
    "    .str.replace('Diesel y corriente eléctrica', 'Híbrido Enchufable', regex=False)\n",
    "    .str.replace('Corriente eléctrica', 'Eléctrico', regex=False)\n",
    "    .str.replace(r'\\bHíbrido\\b(?!.*Enchufable)', 'Híbrido Enchufable', regex=True)\n",
    ")"
   ]
  },
  {
   "cell_type": "code",
   "execution_count": null,
   "id": "8e3fea36-8177-4983-9adf-f2630265b4d3",
   "metadata": {
    "tags": []
   },
   "outputs": [],
   "source": [
    "df['id_concesionario'] = df['id_concesionario'].apply(lambda x: x.split('-')[0])"
   ]
  },
  {
   "cell_type": "code",
   "execution_count": null,
   "id": "bbfbedd7-4028-46c7-9d0d-f945c8f9958d",
   "metadata": {
    "tags": []
   },
   "outputs": [],
   "source": [
    "for columna in df.columns:\n",
    "    df[columna] = df[columna].replace([\"no disponible\", \"<NA>\", \"-\", \"0\", 0, np.nan], None)\n",
    "    "
   ]
  },
  {
   "cell_type": "code",
   "execution_count": null,
   "id": "f314245e-ace0-4f4f-b5a6-62f223f7b568",
   "metadata": {
    "tags": []
   },
   "outputs": [],
   "source": [
    "df = df[df['precio_contado'].notna()]"
   ]
  },
  {
   "cell_type": "markdown",
   "id": "9af5954a-e808-42fa-9d08-abd495fc360f",
   "metadata": {
    "jp-MarkdownHeadingCollapsed": true,
    "tags": []
   },
   "source": [
    "## Rtdo limpieza"
   ]
  },
  {
   "cell_type": "code",
   "execution_count": null,
   "id": "f43d504e-b137-40e4-b19c-2685b66d82bc",
   "metadata": {
    "tags": []
   },
   "outputs": [],
   "source": [
    "df.sample(10)"
   ]
  },
  {
   "cell_type": "code",
   "execution_count": null,
   "id": "256ce021-9075-453e-96d3-df4f5de6153b",
   "metadata": {
    "scrolled": true,
    "tags": []
   },
   "outputs": [],
   "source": [
    "stats = []\n",
    "for col in df.columns:\n",
    "    stats.append((col, df[col].nunique(), df[col].isnull().sum() * 100 / df.shape[0], df[col].value_counts(normalize=True, dropna=False).values[0] * 100, df[col].dtype))\n",
    "    stats_df = pd.DataFrame(stats, columns=['Columna', 'Valores únicos', '% nulos', '% of values in the biggest category', 'tipo'])\n",
    "stats_df.sort_values('% nulos', ascending=False)"
   ]
  },
  {
   "cell_type": "code",
   "execution_count": null,
   "id": "fd5f4b48-214e-446d-9687-3e5a543aec6b",
   "metadata": {
    "tags": []
   },
   "outputs": [],
   "source": [
    "df.to_csv('../bin/data_preprocess.csv', index=False)"
   ]
  },
  {
   "cell_type": "markdown",
   "id": "21352400-04d9-41e2-8ae7-5f9fad3ec072",
   "metadata": {
    "jp-MarkdownHeadingCollapsed": true,
    "tags": []
   },
   "source": [
    "## Gráficos"
   ]
  },
  {
   "cell_type": "code",
   "execution_count": null,
   "id": "00f41413-cf50-489b-b743-bcf6e258667b",
   "metadata": {
    "tags": []
   },
   "outputs": [],
   "source": [
    "plt.figure(figsize=(10, 6))\n",
    "for tipo_combustible in df['combustible'].unique():\n",
    "    subset = df[df['combustible'] == tipo_combustible]\n",
    "    plt.scatter(subset['potencia_cv'], subset['precio_contado'], label=tipo_combustible, alpha=0.6)\n",
    "\n",
    "# Configurar etiquetas y título\n",
    "plt.xlabel('Potencia (cv)')\n",
    "plt.ylabel('Precio')\n",
    "plt.title('Relación entre Precio y Potencia por Tipo de Combustible')\n",
    "plt.legend(title='Combustible')\n",
    "plt.yscale('log')\n",
    "\n",
    "#Guardamos la imagen para usarla en Streamlit\n",
    "plt.savefig('../bin/imagenes/grafico_precio_potencia.png')\n",
    "\n",
    "plt.show()\n",
    "\n"
   ]
  },
  {
   "cell_type": "code",
   "execution_count": null,
   "id": "5fa46de4-19ec-465a-b9b8-f28bf2daf725",
   "metadata": {
    "tags": []
   },
   "outputs": [],
   "source": [
    "plt.figure(figsize=(12, 8))\n",
    "scatter = plt.scatter(df['kilometraje'], df['precio_contado'], c=df['ano_matriculacion'], cmap='viridis', alpha=0.6)\n",
    "plt.colorbar(scatter, label='Año de Matriculación')\n",
    "\n",
    "# Configurar etiquetas y título\n",
    "plt.xlabel('Kilometraje')\n",
    "plt.ylabel('Precio Contado')\n",
    "plt.title('Relación entre Kilometraje y Precio Contado por Año de Matriculación')\n",
    "plt.yscale('log')\n",
    "\n",
    "#Guardamos la imagen para usarla en Streamlit\n",
    "plt.savefig('../bin/imagenes/grafico_kilometraje_precio.png')\n",
    "\n",
    "plt.show()\n",
    "\n"
   ]
  },
  {
   "cell_type": "code",
   "execution_count": null,
   "id": "4ec9f99d-051d-4bdc-889b-3f1239e8ac5a",
   "metadata": {
    "tags": []
   },
   "outputs": [],
   "source": [
    "precio_medio = df.groupby('id_marca')[['precio_nuevo', 'precio_contado']].mean().sort_values(by='precio_contado', ascending=False)\n",
    "\n",
    "precio_medio.plot(kind='bar', figsize=(18, 7))\n",
    "plt.xlabel('Marca')\n",
    "plt.ylabel('Precio Medio')\n",
    "plt.title('Comparación del Precio Nuevo y Precio Contado por Marca')\n",
    "plt.xticks(rotation=45, fontsize=8)\n",
    "\n",
    "#Guardamos la imagen para usarla en Streamlit\n",
    "plt.savefig('../bin/imagenes/grafico_precio_nuevo_contado.png')\n",
    "\n",
    "plt.show()\n",
    "\n"
   ]
  },
  {
   "cell_type": "code",
   "execution_count": null,
   "id": "1649a62f-508a-448d-9d4c-bd4d7db55b25",
   "metadata": {
    "tags": []
   },
   "outputs": [],
   "source": [
    "plt.figure(figsize=(20, 15))\n",
    "df.boxplot(column='precio_contado', by='id_distintivo_ambiental', grid=False)\n",
    "plt.xlabel('Distintivo Ambiental')\n",
    "plt.ylabel('Precio Contado')\n",
    "plt.title('Distribución del Precio Contado por Distintivo Ambiental')\n",
    "plt.suptitle('')  # Elimina el título automático generado por boxplot\n",
    "plt.yscale('log')\n",
    "\n",
    "#Guardamos la imagen para usarla en Streamlit\n",
    "plt.savefig('../bin/imagenes/grafico_precio_distintivo.png')\n",
    "\n",
    "plt.show()\n",
    "\n"
   ]
  },
  {
   "cell_type": "markdown",
   "id": "a483d1fa-d0dd-4551-8004-eaeb0bde36f8",
   "metadata": {
    "jp-MarkdownHeadingCollapsed": true,
    "tags": []
   },
   "source": [
    "## Visualizaciones"
   ]
  },
  {
   "cell_type": "code",
   "execution_count": null,
   "id": "0a7642fb-5e64-4319-837a-595873e743e5",
   "metadata": {
    "tags": []
   },
   "outputs": [],
   "source": [
    "df.columns"
   ]
  },
  {
   "cell_type": "code",
   "execution_count": null,
   "id": "c04d6ef9-682a-46ac-908b-e710b0157194",
   "metadata": {
    "tags": []
   },
   "outputs": [],
   "source": [
    "categorical_columns = ['id_provincia', 'id_concesionario', 'id_distintivo_ambiental','combustible','tipo_cambio', 'id_traccion', 'mes_matriculacion'\n",
    "               , 'ano_matriculacion','id_sobrealimentacion', 'id_marca', 'id_modelo']\n",
    "continuous_columns = []\n",
    "\n",
    "for columna in df.columns: \n",
    "    if columna not in categorical_columns: \n",
    "        continuous_columns.append(columna)"
   ]
  },
  {
   "cell_type": "code",
   "execution_count": null,
   "id": "0791aed9-90e4-4085-b20c-76d0cd50b675",
   "metadata": {
    "tags": []
   },
   "outputs": [],
   "source": [
    "def metricas (df, columna):\n",
    "    \n",
    "    if columna in categorical_columns:\n",
    "        \n",
    "        plt.figure(figsize=(15, 6))\n",
    "        \n",
    "        plt.subplot(1, 2, 1)\n",
    "        sns.countplot(data=df, x=columna)\n",
    "        plt.title(f'Distribución de {columna}')\n",
    "        plt.xticks(rotation=45, ha='right')\n",
    "        \n",
    "        plt.subplot(1, 2, 2)\n",
    "        sns.boxplot(data=df, x=columna, y='precio_contado')\n",
    "        plt.title(f'Boxplot de {columna} con precio')\n",
    "        plt.xticks(rotation=90)\n",
    "        plt.tight_layout()\n",
    "        plt.xticks(rotation=45, ha='right')\n",
    "        plt.show()\n",
    "    \n",
    "    elif columna in continuous_columns:\n",
    "\n",
    "        plt.figure(figsize=(15, 6))\n",
    "        \n",
    "        plt.subplot(1, 3, 1)\n",
    "        sns.histplot(df[columna], kde=True)\n",
    "        plt.title(f'Histograma de {columna}')\n",
    "        \n",
    "        \n",
    "        plt.subplot(1, 3, 2)\n",
    "        sns.boxplot(x=df[columna])\n",
    "        plt.title(f'Boxplot de {columna}')\n",
    "        plt.xticks(rotation=45, ha='right')\n",
    "        \n",
    "        plt.subplot(1, 3, 3)\n",
    "        sns.scatterplot(x=df[columna], y=df['precio_contado'])\n",
    "        plt.title(f'Scatterplot de {columna} con precio')\n",
    "        plt.tight_layout()\n",
    "        plt.xticks(rotation=45, ha='right')\n",
    "        plt.show()"
   ]
  },
  {
   "cell_type": "code",
   "execution_count": null,
   "id": "a6cbfb73-fd60-4454-a9fd-2699e3c92903",
   "metadata": {
    "tags": []
   },
   "outputs": [],
   "source": [
    "for columna in continuous_columns:\n",
    "    metricas(df, columna)"
   ]
  },
  {
   "cell_type": "code",
   "execution_count": null,
   "id": "87d54720-4a03-4470-aec2-5a3cb312dce1",
   "metadata": {
    "tags": []
   },
   "outputs": [],
   "source": [
    "for columna in categorical_columns:\n",
    "    metricas(df, columna)"
   ]
  },
  {
   "cell_type": "code",
   "execution_count": null,
   "id": "998bfaf2-fbce-4d81-92f3-5803138e539c",
   "metadata": {
    "tags": []
   },
   "outputs": [],
   "source": [
    "correlation_matrix = df[continuous_columns].corr()\n",
    "\n",
    "plt.figure(figsize=(25, 15))\n",
    "\n",
    "sns.heatmap(correlation_matrix, annot=True)\n",
    "\n",
    "plt.title('Mapa de Calor de Correlaciones')\n",
    "plt.show()"
   ]
  }
 ],
 "metadata": {
  "kernelspec": {
   "display_name": "Python 3 (ipykernel)",
   "language": "python",
   "name": "python3"
  },
  "language_info": {
   "codemirror_mode": {
    "name": "ipython",
    "version": 3
   },
   "file_extension": ".py",
   "mimetype": "text/x-python",
   "name": "python",
   "nbconvert_exporter": "python",
   "pygments_lexer": "ipython3",
   "version": "3.11.7"
  }
 },
 "nbformat": 4,
 "nbformat_minor": 5
}
