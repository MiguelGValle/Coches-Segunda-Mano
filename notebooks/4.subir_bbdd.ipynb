{
 "cells": [
  {
   "cell_type": "code",
   "execution_count": 1,
   "id": "14fe3573-ae56-4535-b534-241ef141e8ee",
   "metadata": {
    "tags": []
   },
   "outputs": [],
   "source": [
    "import pandas as pd\n",
    "import numpy as np\n",
    "import importlib.metadata\n",
    "import mysql.connector\n",
    "import streamlit as st\n",
    "import os\n",
    "\n",
    "from datetime import datetime"
   ]
  },
  {
   "cell_type": "code",
   "execution_count": 2,
   "id": "d58f7cce-525c-4fda-b9ec-a4f57440b642",
   "metadata": {
    "tags": []
   },
   "outputs": [],
   "source": [
    "# Cargar csv\n",
    "df_combustibles = pd.read_csv(\"../bin/listado_combustibles.csv\")\n",
    "df_concesionarios = pd.read_csv(\"../bin/listado_concesionarios.csv\")\n",
    "df_distintivo_ambiental = pd.read_csv(\"../bin/listado_distintivo_ambiental.csv\")\n",
    "df_marcas = pd.read_csv(\"../bin/listado_marcas.csv\")\n",
    "df_modelos = pd.read_csv(\"../bin/listado_modelos.csv\")\n",
    "df_provincias = pd.read_csv(\"../bin/listado_provincias.csv\")\n",
    "df_sobrealimentacion = pd.read_csv(\"../bin/listado_sobrealimentacion.csv\")\n",
    "df_traccion = pd.read_csv(\"../bin/listado_traccion.csv\")\n",
    "df_cambio = pd.read_csv(\"../bin/listado_tipos_cambio.csv\")\n",
    "df_prestaciones = pd.read_csv(\"../bin/prestaciones.csv\")"
   ]
  },
  {
   "cell_type": "code",
   "execution_count": 3,
   "id": "31640276-1818-4a50-9e5e-65d36ebcd9cb",
   "metadata": {
    "tags": []
   },
   "outputs": [],
   "source": [
    "df_prestaciones['fecha_extraccion'] = pd.to_datetime(df_prestaciones['fecha_extraccion'], format='%d/%m/%Y', errors='coerce' )\n",
    "df_prestaciones['fecha_extraccion'] = df_prestaciones['fecha_extraccion'].dt.strftime('%Y-%m-%d %H:%M:%S')"
   ]
  },
  {
   "cell_type": "code",
   "execution_count": 4,
   "id": "01d351e2-4b61-4f98-91d3-3c4ec153a048",
   "metadata": {
    "scrolled": true,
    "tags": []
   },
   "outputs": [
    {
     "data": {
      "text/plain": [
       "id_provincia                  1\n",
       "fecha_extraccion              0\n",
       "kilometraje                 116\n",
       "id_concesionario              0\n",
       "id_distintivo_ambiental     324\n",
       "garantia                    626\n",
       "precio_contado                0\n",
       "precio_nuevo               1096\n",
       "largo                      1143\n",
       "ancho                      1133\n",
       "alto                       1147\n",
       "capacidad_maletero         1281\n",
       "num_plazas                 1129\n",
       "batalla                    1139\n",
       "peso                        896\n",
       "num_puertas                  44\n",
       "consumo_medio              3247\n",
       "consumo_carretera          3614\n",
       "consumo_urbano             3614\n",
       "deposito                   1571\n",
       "cilindrada                 1814\n",
       "id_traccion                1129\n",
       "num_marchas                 935\n",
       "potencia_kw                1119\n",
       "potencia_cv                  46\n",
       "par                        1245\n",
       "velocidad_max              1268\n",
       "aceleracion                1252\n",
       "mes_matriculacion             0\n",
       "ano_matriculacion             0\n",
       "co2                        3617\n",
       "num_cilindros              1513\n",
       "id_sobrealimentacion       2193\n",
       "id_marca                     18\n",
       "id_modelo                    52\n",
       "id_combustible               45\n",
       "id_tipo_cambio                0\n",
       "id_coche                      0\n",
       "dtype: int64"
      ]
     },
     "execution_count": 4,
     "metadata": {},
     "output_type": "execute_result"
    }
   ],
   "source": [
    "#Comprobar si hay nans\n",
    "df_prestaciones.isna().sum()"
   ]
  },
  {
   "cell_type": "code",
   "execution_count": 5,
   "id": "b1f91560-2469-4753-89c5-dd96291069a0",
   "metadata": {
    "tags": []
   },
   "outputs": [],
   "source": [
    "#Convertir a nan a none\n",
    "for columna in df_prestaciones.columns:\n",
    "    df_prestaciones[columna] = df_prestaciones[columna].replace([np.nan, pd.NA], None)"
   ]
  },
  {
   "cell_type": "code",
   "execution_count": 6,
   "id": "e4090a3a-26cf-4d56-bcf0-4fc9e7135745",
   "metadata": {
    "tags": []
   },
   "outputs": [],
   "source": [
    "directorio_pkl = \"../bin/imagenes_coches/\"\n",
    "os.makedirs(directorio_pkl, exist_ok=True)\n",
    "\n",
    "archivos_pkl = sorted([f for f in os.listdir(directorio_pkl) if f.endswith(\".pkl\")])\n",
    "dfs = [pd.read_pickle(os.path.join(directorio_pkl, archivo)) for archivo in archivos_pkl]\n",
    "\n",
    "df_concatenado = pd.concat(dfs, ignore_index=True) if dfs else pd.DataFrame(columns=[\"link_anuncio\", \"foto_binaria\"])\n",
    "\n",
    "df_concatenado = df_concatenado.reset_index(drop=True).reset_index()\n",
    "df_concatenado = df_concatenado.rename(columns={\"index\": \"id_coche\"})\n",
    "df_concatenado[\"id_coche\"] += 1"
   ]
  },
  {
   "cell_type": "code",
   "execution_count": 7,
   "id": "2af8b72c-65ff-4543-bb2d-e4e68db10696",
   "metadata": {
    "tags": []
   },
   "outputs": [],
   "source": [
    "# Conectar a la base de datos usando los valores almacenados en `secrets.toml`\n",
    "def conectar_base_datos():\n",
    "    conn = mysql.connector.connect(\n",
    "        host=st.secrets[\"database\"][\"host\"],\n",
    "        user=st.secrets[\"database\"][\"user\"],\n",
    "        password=st.secrets[\"database\"][\"password\"],\n",
    "        database=st.secrets[\"database\"][\"database\"]\n",
    "    )\n",
    "    return conn"
   ]
  },
  {
   "cell_type": "code",
   "execution_count": 11,
   "id": "d8423e73-e15b-4055-9b65-d6f52fa7d864",
   "metadata": {
    "tags": []
   },
   "outputs": [],
   "source": [
    "contraseña_miguel = \"password\"\n",
    "contraseña_moran = 'Deportivo96'\n",
    "contraseña_carlos = \"Whereisbotus1996\""
   ]
  },
  {
   "cell_type": "code",
   "execution_count": 16,
   "id": "fb5bf321-5268-4056-bbfc-feb797d70eaa",
   "metadata": {},
   "outputs": [],
   "source": [
    "def insertar_datos_en_lotes(df, nombre_tabla, lote=100):\n",
    "    # Conexión a la base de datos MySQL\n",
    "    conn = mysql.connector.connect(\n",
    "        host=\"localhost\",\n",
    "        user=\"root\",\n",
    "        password=contraseña_miguel,\n",
    "        database=\"coches_segunda_mano\"\n",
    "    )\n",
    "    cursor = conn.cursor()\n",
    "\n",
    "    columnas = df.columns.tolist()\n",
    "    query = f\"\"\"\n",
    "        INSERT INTO {nombre_tabla} ({', '.join(columnas)})\n",
    "        VALUES ({', '.join(['%s'] * len(columnas))})\n",
    "    \"\"\"\n",
    "\n",
    "    # Dividir el DataFrame en lotes\n",
    "    for i in range(0, len(df), lote):\n",
    "        valores = [tuple(row) for row in df.iloc[i:i + lote].to_numpy()]\n",
    "        cursor.executemany(query, valores)\n",
    "        conn.commit()\n",
    "\n",
    "    cursor.close()\n",
    "    conn.close()\n",
    "    print(f\"Datos insertados en {nombre_tabla} correctamente.\")"
   ]
  },
  {
   "cell_type": "code",
   "execution_count": 18,
   "id": "5a923c6a-885d-4a8f-8691-5497e673f536",
   "metadata": {
    "tags": []
   },
   "outputs": [
    {
     "name": "stdout",
     "output_type": "stream",
     "text": [
      "Datos insertados en combustibles correctamente.\n",
      "Datos insertados en concesionarios correctamente.\n",
      "Datos insertados en distintivos_ambientales correctamente.\n",
      "Datos insertados en marcas correctamente.\n",
      "Datos insertados en modelos correctamente.\n",
      "Datos insertados en provincias correctamente.\n",
      "Datos insertados en sobrealimentaciones correctamente.\n",
      "Datos insertados en tipo_traccion correctamente.\n",
      "Datos insertados en tipos_cambio correctamente.\n",
      "Datos insertados en links_coches correctamente.\n",
      "Datos insertados en prestaciones correctamente.\n"
     ]
    }
   ],
   "source": [
    "# Llamar a la funcion para insertar los datos en la tabla\n",
    "insertar_datos_en_lotes(df_combustibles, 'combustibles')\n",
    "insertar_datos_en_lotes(df_concesionarios, 'concesionarios')\n",
    "insertar_datos_en_lotes(df_distintivo_ambiental, 'distintivos_ambientales')\n",
    "insertar_datos_en_lotes(df_marcas, 'marcas')\n",
    "insertar_datos_en_lotes(df_modelos, 'modelos')\n",
    "insertar_datos_en_lotes(df_provincias, 'provincias')\n",
    "insertar_datos_en_lotes(df_sobrealimentacion, 'sobrealimentaciones')\n",
    "insertar_datos_en_lotes(df_traccion, 'tipo_traccion')\n",
    "insertar_datos_en_lotes(df_cambio, 'tipos_cambio')\n",
    "insertar_datos_en_lotes(df_concatenado, 'links_coches')\n",
    "insertar_datos_en_lotes(df_prestaciones, 'prestaciones')"
   ]
  },
  {
   "cell_type": "markdown",
   "id": "edeb91e3-ce8e-47a8-851a-c1f34eb37c88",
   "metadata": {
    "tags": []
   },
   "source": [
    "## Función para extraer datos"
   ]
  },
  {
   "cell_type": "code",
   "execution_count": 20,
   "id": "0aabe133-a705-4fc2-a122-a163202dfefb",
   "metadata": {},
   "outputs": [
    {
     "ename": "SyntaxError",
     "evalue": "invalid syntax (2200117266.py, line 2)",
     "output_type": "error",
     "traceback": [
      "\u001b[1;36m  Cell \u001b[1;32mIn[20], line 2\u001b[1;36m\u001b[0m\n\u001b[1;33m    def extraer_datos(nombre_tabla, columna = *):\u001b[0m\n\u001b[1;37m                                              ^\u001b[0m\n\u001b[1;31mSyntaxError\u001b[0m\u001b[1;31m:\u001b[0m invalid syntax\n"
     ]
    }
   ],
   "source": [
    "# Funcion para extraer datos\n",
    "def extraer_datos(nombre_tabla, columna = *):\n",
    "    \n",
    "    try:\n",
    "        # Conexión a la base de datos de MySQL\n",
    "        conn = mysql.connector.connect(\n",
    "            host = \"localhost\",\n",
    "            user = \"root\",\n",
    "            password = contraseña_moran,\n",
    "            database = \"coches_segunda_mano\"\n",
    "        )\n",
    "        # Crear un cursor para ejecutar comandos SQL\n",
    "        cursor = conn.cursor()\n",
    "\n",
    "        # Crear la consulta SQL para seleccionar todos los datos de la tabla\n",
    "        query = f\"SELECT {columna} FROM {nombre_tabla}\"\n",
    "\n",
    "        # Ejecutar la consulta y recuperar los datos\n",
    "        cursor.execute(query)\n",
    "        resultado = cursor.fetchall()\n",
    "\n",
    "        # Obtener los nombres de las columnas de la tabla\n",
    "        columnas = [desc[0] for desc in cursor.description]\n",
    "\n",
    "        # Convertir los resultados a un DataFrame\n",
    "        df = pd.DataFrame(resultado, columns=columnas)\n",
    "\n",
    "        # Cerrar el cursor y la conexión\n",
    "        cursor.close()\n",
    "        conn.close()\n",
    "\n",
    "        # Devolver el DataFrame\n",
    "        print(f\"Datos de {nombre_tabla} extraidos correctamente\")\n",
    "        return df\n",
    "    \n",
    "    except mysql.connector.Error as e:\n",
    "        print(f\"Error al conectar con la base de datos: {e}\")\n",
    "        return pd.DataFrame() \n",
    "    \n",
    "    finally:\n",
    "        # Asegurarse de cerrar la conexión y el cursor\n",
    "        if 'cursor' in locals():\n",
    "            cursor.close()\n",
    "        if 'conn' in locals():\n",
    "            conn.close()"
   ]
  },
  {
   "cell_type": "code",
   "execution_count": null,
   "id": "7b6213ac-ab27-4abf-8ce1-7a7fbfbbfc49",
   "metadata": {},
   "outputs": [],
   "source": [
    "df_prestaciones = extraer_datos(\"prestaciones\")"
   ]
  },
  {
   "cell_type": "code",
   "execution_count": null,
   "id": "c4206b8f-d0d8-4ee5-8368-bbe02893c841",
   "metadata": {
    "tags": []
   },
   "outputs": [],
   "source": [
    "df_prestaciones['fecha_extraccion'] = pd.to_datetime(df_prestaciones['fecha_extraccion']).dt.strftime('%d/%m/%Y')"
   ]
  },
  {
   "cell_type": "markdown",
   "id": "0c61f2e7-c91d-4547-aa0d-0eee29302f9a",
   "metadata": {},
   "source": [
    "## Conexión streamlit"
   ]
  },
  {
   "cell_type": "code",
   "execution_count": null,
   "id": "4d5be3b5-1b05-46c2-8175-6c9865022b26",
   "metadata": {
    "tags": []
   },
   "outputs": [],
   "source": [
    "# Función para conectar a la base de datos y comprobar la conexión con streamlit\n",
    "def comprobar_conexion():\n",
    "    try:\n",
    "        # Intentar conectarse a la base de datos\n",
    "        conn = mysql.connector.connect(\n",
    "            host=\"localhost\",\n",
    "            user=\"root\",\n",
    "            password=\"Whereisbotus1996\",\n",
    "            database=\"coches_segunda_mano\"\n",
    "        )\n",
    "        # Si la conexión es exitosa\n",
    "        conn.close()\n",
    "        return True\n",
    "    except mysql.connector.Error as err:\n",
    "        # Si ocurre un error\n",
    "        return False\n",
    "\n",
    "# Interfaz de Streamlit\n",
    "st.title(\"Conexión a la Base de Datos\")\n",
    "\n",
    "# Botón para comprobar la conexión\n",
    "if st.button(\"Comprobar conexión a la BBDD\"):\n",
    "    if comprobar_conexion():\n",
    "        st.success(\"Conexión exitosa a la base de datos.\")\n",
    "    else:\n",
    "        st.error(\"Error al conectar a la base de datos.\")"
   ]
  }
 ],
 "metadata": {
  "kernelspec": {
   "display_name": "Python 3 (ipykernel)",
   "language": "python",
   "name": "python3"
  },
  "language_info": {
   "codemirror_mode": {
    "name": "ipython",
    "version": 3
   },
   "file_extension": ".py",
   "mimetype": "text/x-python",
   "name": "python",
   "nbconvert_exporter": "python",
   "pygments_lexer": "ipython3",
   "version": "3.11.7"
  }
 },
 "nbformat": 4,
 "nbformat_minor": 5
}
