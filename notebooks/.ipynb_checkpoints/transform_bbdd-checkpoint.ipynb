{
 "cells": [
  {
   "cell_type": "code",
   "execution_count": null,
   "id": "9a0a69f6-7272-43a3-8af0-fd980e298dcd",
   "metadata": {},
   "outputs": [],
   "source": [
    "listado_provincias = {}\n",
    "for index,detalle in enumerate (df['id_provincia'].unique(), start = 1):\n",
    "    detalle = detalle\n",
    "    \n",
    "    listado_provincias[index] = detalle\n",
    "\n",
    "df_provincias = pd.DataFrame.from_dict(listado_provincias, orient='index', columns=['nombre_provincia']).reset_index()\n",
    "df_provincias.rename(columns={'index': 'id_provincia'}, inplace=True)\n",
    "df_provincias.to_csv('../bin/listado_provincias.csv', index=False)\n",
    "\n",
    "conversion_provincias = {v: k for k, v in listado_provincias.items()}\n",
    "df['id_provincia'] = df['id_provincia'].map(conversion_provincias)"
   ]
  },
  {
   "cell_type": "code",
   "execution_count": null,
   "id": "eb04b087-76d9-4210-aec0-7f9c775f0004",
   "metadata": {},
   "outputs": [],
   "source": [
    "listado_concesionarios = {}\n",
    "for index,detalle in enumerate (df['id_concesionario'].unique(), start = 1):\n",
    "    detalle = detalle\n",
    "    \n",
    "    listado_concesionarios[index] = detalle\n",
    "\n",
    "df_concesionarios = pd.DataFrame.from_dict(listado_concesionarios, orient='index', columns=['nombre_concesionario']).reset_index()\n",
    "df_concesionarios.rename(columns={'index': 'id_concesionario'}, inplace=True)\n",
    "df_concesionarios.to_csv('../bin/listado_concesionarios.csv', index=False)\n",
    "\n",
    "conversion = {v: k for k, v in listado_concesionarios.items()}\n",
    "df['id_concesionario'] = df['id_concesionario'].map(conversion)"
   ]
  },
  {
   "cell_type": "code",
   "execution_count": null,
   "id": "6c27da22-b986-47db-a5d8-7fb7d5d4e821",
   "metadata": {},
   "outputs": [],
   "source": [
    "listado_marcas = {}\n",
    "for index,detalle in enumerate (df['id_marca'].unique(), start = 1):\n",
    "    detalle = detalle\n",
    "    \n",
    "    listado_marcas[index] = detalle\n",
    "\n",
    "df_marcas = pd.DataFrame.from_dict(listado_marcas, orient='index', columns=['nombre_marca']).reset_index()\n",
    "df_marcas.rename(columns={'index': 'id_marca'}, inplace=True)\n",
    "df_marcas.to_csv('../bin/listado_modelos.csv', index=False)\n",
    "\n",
    "conversion = {v: k for k, v in listado_marcas.items()}\n",
    "df['id_marca'] = df['id_marca'].map(conversion)"
   ]
  },
  {
   "cell_type": "code",
   "execution_count": null,
   "id": "3f491437-e679-49bc-bd6f-1b00ada84337",
   "metadata": {},
   "outputs": [],
   "source": [
    "listado_modelos = {}\n",
    "for index,detalle in enumerate (df['id_modelo'].unique(), start = 1):\n",
    "    detalle = detalle\n",
    "    \n",
    "    listado_modelos[index] = detalle\n",
    "\n",
    "df_modelos = pd.DataFrame.from_dict(listado_modelos, orient='index', columns=['nombre_modelo']).reset_index()\n",
    "df_modelos.rename(columns={'index': 'id_modelo'}, inplace=True)\n",
    "df_modelos.to_csv('../bin/listado_modelos.csv', index=False)\n",
    "\n",
    "conversion = {v: k for k, v in listado_modelos.items()}\n",
    "df['id_modelo'] = df['id_modelo'].map(conversion)"
   ]
  },
  {
   "cell_type": "code",
   "execution_count": null,
   "id": "e1e42793-00fb-4fb9-bef5-58728d541613",
   "metadata": {},
   "outputs": [],
   "source": [
    "listado_carrocerias = {}\n",
    "for index,detalle in enumerate (df['id_carroceria'].unique(), start = 1):\n",
    "    detalle = detalle\n",
    "    \n",
    "    listado_carrocerias[index] = detalle\n",
    "    \n",
    "df_carrocerias = pd.DataFrame.from_dict(listado_carrocerias, orient='index', columns=['nombre_carroceria']).reset_index()\n",
    "df_carrocerias.rename(columns={'index': 'id_carroceria'}, inplace=True)\n",
    "df_carrocerias.to_csv('../bin/listado_carrocerias.csv', index=False)\n",
    "\n",
    "conversion = {v: k for k, v in listado_carrocerias.items()}\n",
    "df['id_carroceria'] = df['id_carroceria'].map(conversion)"
   ]
  },
  {
   "cell_type": "code",
   "execution_count": null,
   "id": "b2d0a0dc-a6dd-4223-9caf-15a3a1ecea63",
   "metadata": {},
   "outputs": [],
   "source": [
    "listado_distintivo_ambiental = {}\n",
    "for index,detalle in enumerate (df['id_distintivo_ambiental'].unique(), start = 1):\n",
    "    detalle = detalle\n",
    "    \n",
    "    listado_distintivo_ambiental[index] = detalle\n",
    "    \n",
    "df_distintivo_ambiental = pd.DataFrame.from_dict(listado_distintivo_ambiental, orient='index', columns=['nombre_distintivo']).reset_index()\n",
    "df_distintivo_ambiental.rename(columns={'index': 'id_distintivo'}, inplace=True)\n",
    "df_distintivo_ambiental.to_csv('../bin/listado_distintivo_ambiental.csv', index=False)\n",
    "\n",
    "conversion = {v: k for k, v in listado_distintivo_ambiental.items()}\n",
    "df['id_distintivo_ambiental'] = df['id_distintivo_ambiental'].map(conversion)"
   ]
  },
  {
   "cell_type": "code",
   "execution_count": null,
   "id": "30e6b4da-9cd5-4026-9dd8-eee6027ada25",
   "metadata": {},
   "outputs": [],
   "source": [
    "listado_combustibles = {}\n",
    "for index,detalle in enumerate (df['combustible'].unique(), start = 1):\n",
    "    detalle = detalle\n",
    "    \n",
    "    listado_combustibles[index] = detalle\n",
    "    \n",
    "df_combustibles = pd.DataFrame.from_dict(listado_combustibles, orient='index', columns=['nombre_combustible']).reset_index()\n",
    "df_combustibles.rename(columns={'index': 'id_combustible'}, inplace=True)\n",
    "df_combustibles.to_csv('../bin/listado_combustibles.csv', index=False)\n",
    "\n",
    "conversion = {v: k for k, v in listado_combustibles.items()}\n",
    "df['combustible'] = df['combustible'].map(conversion)"
   ]
  },
  {
   "cell_type": "code",
   "execution_count": null,
   "id": "b7849696-feb9-46d7-8940-04803cac0071",
   "metadata": {},
   "outputs": [],
   "source": [
    "listado_tipos_cambio = {}\n",
    "for index,detalle in enumerate (df['tipo_cambio'].unique(), start = 1):\n",
    "    detalle = detalle\n",
    "    \n",
    "    listado_tipos_cambio[index] = detalle\n",
    "    \n",
    "df_tipos_cambio = pd.DataFrame.from_dict(listado_tipos_cambio, orient='index', columns=['nombre_tipo_cambio']).reset_index()\n",
    "df_tipos_cambio.rename(columns={'index': 'id_tipo_cambio'}, inplace=True)\n",
    "df_tipos_cambio.to_csv('../bin/listado_tipos_cambio.csv', index=False)\n",
    "\n",
    "tipos_cambio_to_indices = {v: k for k, v in listado_tipos_cambio.items()}\n",
    "df['id_tipo_cambio'] = df['tipo_cambio'].map(tipos_cambio_to_indices)\n",
    "\n",
    "df = df.drop(columns=['tipo_cambio'])"
   ]
  },
  {
   "cell_type": "code",
   "execution_count": null,
   "id": "0731c9c5-e4f2-4d6a-b5c4-0d660eb2ac0e",
   "metadata": {},
   "outputs": [],
   "source": [
    "listado_sobrealimentacion = {}\n",
    "for index,detalle in enumerate (df['id_sobrealimentacion'].unique(), start = 1):\n",
    "    detalle = detalle\n",
    "    \n",
    "    listado_sobrealimentacion[index] = detalle\n",
    "    \n",
    "df_sobrealimentacion = pd.DataFrame.from_dict(listado_sobrealimentacion, orient='index', columns=['nombre_sobrealimentacion']).reset_index()\n",
    "df_sobrealimentacion.rename(columns={'index': 'id_sobrealimentacion'}, inplace=True)\n",
    "df_sobrealimentacion.to_csv('../bin/listado_sobrealimentacion.csv', index=False)\n",
    "\n",
    "conversion = {v: k for k, v in listado_sobrealimentacion.items()}\n",
    "df['id_sobrealimentacion'] = df['id_sobrealimentacion'].map(conversion)"
   ]
  },
  {
   "cell_type": "code",
   "execution_count": null,
   "id": "31f477b1-b09a-4bd4-a65d-cb69b3ad5f0a",
   "metadata": {},
   "outputs": [],
   "source": [
    "# listado traccion"
   ]
  },
  {
   "cell_type": "code",
   "execution_count": null,
   "id": "aea445f6-0a19-4f06-9ae8-4a4ca5ba6ee6",
   "metadata": {},
   "outputs": [],
   "source": [
    "df.to_csv('../bin/prestaciones.csv', index=False)"
   ]
  }
 ],
 "metadata": {
  "kernelspec": {
   "display_name": "Python 3 (ipykernel)",
   "language": "python",
   "name": "python3"
  },
  "language_info": {
   "codemirror_mode": {
    "name": "ipython",
    "version": 3
   },
   "file_extension": ".py",
   "mimetype": "text/x-python",
   "name": "python",
   "nbconvert_exporter": "python",
   "pygments_lexer": "ipython3",
   "version": "3.11.7"
  }
 },
 "nbformat": 4,
 "nbformat_minor": 5
}
