{
 "cells": [
  {
   "cell_type": "code",
   "execution_count": null,
   "id": "3dc1a3b5-ea3c-4cf8-8735-d73e4a15a847",
   "metadata": {
    "tags": []
   },
   "outputs": [],
   "source": [
    "import pandas as pd\n",
    "import numpy as np\n",
    "import seaborn as sns\n",
    "from datetime import datetime\n",
    "import matplotlib.pyplot as plt\n",
    "import os\n",
    "import pickle\n",
    "\n",
    "from sklearn.impute import KNNImputer, SimpleImputer\n",
    "from sklearn.preprocessing import StandardScaler, MinMaxScaler\n",
    "from sklearn.model_selection import train_test_split\n",
    "from sklearn.preprocessing import LabelEncoder, OneHotEncoder\n",
    "\n",
    "import category_encoders as ce"
   ]
  },
  {
   "cell_type": "code",
   "execution_count": null,
   "id": "b2f095d9-a29e-48c9-a130-68fd368d899c",
   "metadata": {
    "tags": []
   },
   "outputs": [],
   "source": [
    "pd.set_option('display.max_columns', None)"
   ]
  },
  {
   "cell_type": "code",
   "execution_count": null,
   "id": "2b31ce3e-264a-46c7-ac6f-78b185f27d2b",
   "metadata": {
    "tags": []
   },
   "outputs": [],
   "source": [
    "#Cargar el csv\n",
    "df = pd.read_csv(\"../bin/data_preprocess.csv\")"
   ]
  },
  {
   "cell_type": "code",
   "execution_count": null,
   "id": "4162bbc7-092a-40aa-a02d-1e1021a0b1bc",
   "metadata": {
    "scrolled": true,
    "tags": []
   },
   "outputs": [],
   "source": [
    "#Calcular en porcentaje de nulos\n",
    "stats = []\n",
    "for col in df.columns:\n",
    "    stats.append((col, df[col].nunique(), df[col].isnull().sum() * 100 / df.shape[0], df[col].value_counts(normalize=True, dropna=False).values[0] * 100, df[col].dtype))\n",
    "    stats_df = pd.DataFrame(stats, columns=['Columna', 'Valores únicos', '% nulos', '% of values in the biggest category', 'tipo'])\n",
    "stats_df.sort_values('% nulos', ascending=False)"
   ]
  },
  {
   "cell_type": "code",
   "execution_count": null,
   "id": "1dc418f5-1774-459a-b809-478d09ec2cc8",
   "metadata": {
    "tags": []
   },
   "outputs": [],
   "source": [
    "df = df.dropna(subset=['precio_contado'])"
   ]
  },
  {
   "cell_type": "code",
   "execution_count": null,
   "id": "65e62631-bc6b-44d5-a339-df46aac5b489",
   "metadata": {
    "tags": []
   },
   "outputs": [],
   "source": [
    "# Eliminamos las columnas con mayoría de nulos y potencia_kw porque es un cálculo de potencia_cv\n",
    "\n",
    "df = df.drop(columns=['co2', 'consumo_carretera', 'consumo_urbano', 'consumo_medio', 'id_sobrealimentacion', 'potencia_kw'])"
   ]
  },
  {
   "cell_type": "code",
   "execution_count": null,
   "id": "719bb14f-35a7-481d-aff6-17d5a008bdec",
   "metadata": {
    "tags": []
   },
   "outputs": [],
   "source": [
    "columnas_categoricas = ['id_provincia', 'id_concesionario', 'id_distintivo_ambiental','combustible','tipo_cambio', 'id_traccion', 'id_marca', 'id_modelo', 'num_plazas', 'num_puertas']\n",
    "columnas_numericas = []\n",
    "\n",
    "for columna in df.columns: \n",
    "    if columna not in columnas_categoricas: \n",
    "        columnas_numericas.append(columna)"
   ]
  },
  {
   "cell_type": "markdown",
   "id": "9785e234-09c5-48d5-8479-b686dd9dc6b5",
   "metadata": {},
   "source": [
    "for columna in columnas_categoricas:\n",
    "    df[columna] = df[columna].astype('category')"
   ]
  },
  {
   "cell_type": "markdown",
   "id": "203bc9e7-3bda-4fe3-9efe-0a7ae74af108",
   "metadata": {
    "jp-MarkdownHeadingCollapsed": true,
    "tags": []
   },
   "source": [
    "## Eliminación outliers"
   ]
  },
  {
   "cell_type": "code",
   "execution_count": null,
   "id": "65741415-e12a-4f9d-a9e4-a647816911d8",
   "metadata": {
    "tags": []
   },
   "outputs": [],
   "source": [
    "df_sin_outliers = df.copy()"
   ]
  },
  {
   "cell_type": "code",
   "execution_count": null,
   "id": "72207476-dae2-4303-bca6-31f860e09bb1",
   "metadata": {
    "tags": []
   },
   "outputs": [],
   "source": [
    "def prueba_outliers_tukey(col, lado_outliers, k=1.5):\n",
    "    if col not in columnas_numericas:\n",
    "        print(f'La columna {col} no es numérica o no existe')\n",
    "        return\n",
    "    \n",
    "    q1 = df[col].quantile(0.25)\n",
    "    q3 = df[col].quantile(0.75)\n",
    "    ric = q3 - q1\n",
    "\n",
    "    if lado_outliers == 'derecho':\n",
    "        lim_l = df[col].min()\n",
    "        lim_r = q3 + k * ric\n",
    "\n",
    "    elif lado_outliers == 'izquierdo':\n",
    "        lim_l = q1 - k * ric\n",
    "        lim_r = df[col].max()\n",
    "\n",
    "    elif lado_outliers == 'ambos':\n",
    "        lim_l = q1 - k * ric\n",
    "        lim_r = q3 + k * ric\n",
    "\n",
    "    else: \n",
    "        print(f'No has indicado un lado válido para los outliers. Usa \"derecho\", \"izquierdo\", o \"ambos\".')\n",
    "        return\n",
    "    \n",
    "    porcentaje = df[df[col].between(lim_l, lim_r) | df[col].isna()].shape[0] / df.shape[0] * 100\n",
    "    print(lim_l, lim_r)\n",
    "    print(f'Se mantienen el {porcentaje:.2f}% de los datos en la columna {col} después de eliminar los outliers.')\n",
    "    \n",
    "    fig = plt.figure(figsize=(14, 6))\n",
    "    gs = fig.add_gridspec(1, 2)\n",
    "        \n",
    "    ax1 = fig.add_subplot(gs[0, 0])\n",
    "    sns.histplot(df[col], kde=True, ax=ax1)\n",
    "    plt.axvline(lim_l, color='red')\n",
    "    plt.axvline(lim_r, color='red')\n",
    "    ax1.set_title(f'Histograma de {col}')\n",
    "    ax1.set_xlabel(col)\n",
    "        \n",
    "    ax2 = fig.add_subplot(gs[0, 1])\n",
    "    sns.boxplot(x=df[col], ax=ax2)\n",
    "    plt.axvline(lim_l, color='red')\n",
    "    plt.axvline(lim_r, color='red')\n",
    "    ax2.set_title(f'Boxplot de {col}')\n",
    "    ax2.set_xlabel(col)\n",
    "        \n",
    "    plt.tight_layout()\n",
    "    plt.show()"
   ]
  },
  {
   "cell_type": "code",
   "execution_count": null,
   "id": "63762cef-ff2b-496d-83d3-fb38ae101f92",
   "metadata": {
    "tags": []
   },
   "outputs": [],
   "source": [
    "def prueba_outliers_z(col, z=3):\n",
    "    \n",
    "    if col not in columnas_numericas:\n",
    "        print(f'La columna {col} no es numérica o no existe')\n",
    "        \n",
    "    mean = df[col].mean()\n",
    "    std = df[col].std()\n",
    "    \n",
    "    lim_l = mean - z*std\n",
    "    lim_r = mean + z*std\n",
    "    \n",
    "    porcentaje = df[df[col].between(lim_l, lim_r) | df[col].isna()].shape[0] / df.shape[0] * 100\n",
    "    print(f'Se mantienen el {porcentaje:.2f}% de los datos en la columna {col} después de eliminar los outliers.')\n",
    "    \n",
    "    fig = plt.figure(figsize=(14, 6))\n",
    "    gs = fig.add_gridspec(1, 2)\n",
    "        \n",
    "    ax1 = fig.add_subplot(gs[0, 0])\n",
    "    sns.histplot(df[col], kde=True, ax=ax1)\n",
    "    plt.axvline(lim_l, color='red')\n",
    "    plt.axvline(lim_r, color='red')\n",
    "    ax1.set_title(f'Histograma de {col}')\n",
    "    ax1.set_xlabel(col)\n",
    "        \n",
    "    ax2 = fig.add_subplot(gs[0, 1])\n",
    "    sns.boxplot(x=df[col], ax=ax2)\n",
    "    plt.axvline(lim_l, color='red')\n",
    "    plt.axvline(lim_r, color='red')\n",
    "    ax2.set_title(f'Boxplot de {col}')\n",
    "    ax2.set_xlabel(col)\n",
    "        \n",
    "    plt.tight_layout()\n",
    "    plt.show()"
   ]
  },
  {
   "cell_type": "code",
   "execution_count": null,
   "id": "2af5255f-213b-4a96-adc5-b3f53c450ebb",
   "metadata": {
    "tags": []
   },
   "outputs": [],
   "source": [
    "def outliers_tukey(df_sin_outliers, col, lado_outliers, k=1.5):\n",
    "    \n",
    "    if col not in columnas_numericas:\n",
    "        print(f'La columna {col} no es numérica o no existe')\n",
    "\n",
    "    q1 = df_sin_outliers[col].quantile(0.25)\n",
    "    q3 = df_sin_outliers[col].quantile(0.75)\n",
    "    ric = q3 - q1\n",
    "\n",
    "    if lado_outliers == 'derecho':\n",
    "        lim_l = df_sin_outliers[col].min()\n",
    "        lim_r = q3 + k * ric\n",
    "\n",
    "    elif lado_outliers == 'izquierdo':\n",
    "        lim_l = q1 - k * ric\n",
    "        lim_r = df_sin_outliers[col].max()\n",
    "\n",
    "    elif lado_outliers == 'ambos':\n",
    "        lim_l = q1 - k * ric\n",
    "        lim_r = q3 + k * ric\n",
    "\n",
    "    else:\n",
    "        print(f'Lado especificado incorrectamente. Usa \"derecho\", \"izquierdo\" o \"ambos\".')\n",
    "\n",
    "    df_sin_outliers = df_sin_outliers[df_sin_outliers[col].between(lim_l, lim_r) | df_sin_outliers[col].isna()]\n",
    "    porcentaje = df_sin_outliers.shape[0] / df.shape[0] * 100\n",
    "    print(f'Se mantienen el {porcentaje:.2f}% de los datos en la columna {col} después de eliminar los outliers.')\n",
    "\n",
    "    return df_sin_outliers"
   ]
  },
  {
   "cell_type": "code",
   "execution_count": null,
   "id": "0d06943f-6555-4ec0-97ba-9a303d828270",
   "metadata": {
    "tags": []
   },
   "outputs": [],
   "source": [
    "def outliers_z_score(df_sin_outliers, col, z = 3):\n",
    "    if col not in columnas_numericas:\n",
    "        print(f'La columna {col} no es numérica o no existe')\n",
    "        \n",
    "    mean = df_sin_outliers[col].mean()\n",
    "    std = df_sin_outliers[col].std()\n",
    "    \n",
    "    lim_l = mean - z*std\n",
    "    lim_r = mean + z*std\n",
    "    \n",
    "    df_sin_outliers = df_sin_outliers[df_sin_outliers[col].between(lim_l, lim_r) | df_sin_outliers[col].isna()]\n",
    "    porcentaje = df_sin_outliers.shape[0] / df.shape[0] * 100\n",
    "    print(f'Se mantienen el {porcentaje:.2f}% de los datos en la columna {col} después de eliminar los outliers.')\n",
    "    \n",
    "    return df_sin_outliers"
   ]
  },
  {
   "cell_type": "code",
   "execution_count": null,
   "id": "bfc481c9-5cfd-4501-8463-073b0af7f291",
   "metadata": {
    "tags": []
   },
   "outputs": [],
   "source": [
    "prueba_outliers_tukey('cilindrada', 'derecho')"
   ]
  },
  {
   "cell_type": "code",
   "execution_count": null,
   "id": "d639413e-4ec5-469a-af64-37e602d5bc7f",
   "metadata": {
    "tags": []
   },
   "outputs": [],
   "source": [
    "prueba_outliers_z('peso')"
   ]
  },
  {
   "cell_type": "code",
   "execution_count": null,
   "id": "4a3fc523-8688-4c99-9c6a-f58623d01ad7",
   "metadata": {
    "tags": []
   },
   "outputs": [],
   "source": [
    "df_sin_outliers = outliers_tukey(df_sin_outliers,'kilometraje', 'derecho')\n",
    "df_sin_outliers = outliers_tukey(df_sin_outliers,'garantia', 'derecho')\n",
    "df_sin_outliers = outliers_tukey(df_sin_outliers,\"potencia_cv\", 'derecho', 2.5)\n",
    "df_sin_outliers = outliers_tukey(df_sin_outliers,\"cilindrada\", 'derecho')"
   ]
  },
  {
   "cell_type": "code",
   "execution_count": null,
   "id": "28f79a64-0a38-43aa-bb16-d16c5ad575af",
   "metadata": {
    "tags": []
   },
   "outputs": [],
   "source": [
    "df_sin_outliers = outliers_z_score(df_sin_outliers,'precio_contado',3)\n",
    "df_sin_outliers = outliers_z_score(df_sin_outliers,'precio_nuevo',3)\n",
    "df_sin_outliers = outliers_z_score(df_sin_outliers,'batalla',3)\n",
    "df_sin_outliers = outliers_z_score(df_sin_outliers,'capacidad_maletero',3)\n",
    "df_sin_outliers = outliers_z_score(df_sin_outliers,'velocidad_max',3)\n",
    "df_sin_outliers = outliers_z_score(df_sin_outliers,'peso',3)"
   ]
  },
  {
   "cell_type": "markdown",
   "id": "7ff68f5f-e72b-47ed-91d8-d3a96bba1a0d",
   "metadata": {
    "jp-MarkdownHeadingCollapsed": true,
    "tags": []
   },
   "source": [
    "## Imputación de nulos"
   ]
  },
  {
   "cell_type": "code",
   "execution_count": null,
   "id": "2d2fdc59-e59b-4c77-8c99-2c6004f568f0",
   "metadata": {
    "scrolled": true,
    "tags": []
   },
   "outputs": [],
   "source": [
    "#Calcular en porcentaje de nulos\n",
    "stats = []\n",
    "for col in df_sin_outliers.columns:\n",
    "    stats.append((col, df_sin_outliers[col].nunique(), df_sin_outliers[col].isnull().sum() * 100 / df_sin_outliers.shape[0], df_sin_outliers[col].value_counts(normalize=True, dropna=False).values[0] * 100, df_sin_outliers[col].dtype))\n",
    "    stats_df = pd.DataFrame(stats, columns=['Columna', 'Valores únicos', '% nulos', '% of values in the biggest category', 'tipo'])\n",
    "stats_df.sort_values('% nulos', ascending=False)"
   ]
  },
  {
   "cell_type": "code",
   "execution_count": null,
   "id": "d7dcb9af-14f4-4baa-80d3-ed72e07a9afb",
   "metadata": {
    "tags": []
   },
   "outputs": [],
   "source": [
    "#Funcion Imputacion de datos\n",
    "\n",
    "def imputar_datos(df):\n",
    "    \n",
    "    #Inicializar Knn para las columnas numericas\n",
    "    knn_imputer = KNNImputer(n_neighbors=10)\n",
    "    \n",
    "    #Aplicar knn imputer a las columnas numericas\n",
    "    df_numericas = df[columnas_numericas]\n",
    "    df_imputado_numericas = knn_imputer.fit_transform(df_numericas)\n",
    "    \n",
    "    #Convertir los datos imputados a df\n",
    "    df_imputado_numericas = pd.DataFrame(df_imputado_numericas, columns=columnas_numericas)\n",
    "    \n",
    "    #Inicializar SimpleImputer para las columnas categoricas\n",
    "    simple_imputer = SimpleImputer(strategy='most_frequent')\n",
    "    \n",
    "    #Aplicar SimpleImputer para las columnas categoricas\n",
    "    df_categoricas = df[columnas_categoricas]\n",
    "    df_imputado_categoricas = simple_imputer.fit_transform(df_categoricas)\n",
    "    \n",
    "    #Convertir las columnas categoricas imputadas a df\n",
    "    df_imputado_categoricas = pd.DataFrame(df_imputado_categoricas,columns=columnas_categoricas)\n",
    "    \n",
    "    #Combinamos los datos imputados\n",
    "    df_imputado = pd.concat([df_imputado_numericas, df_imputado_categoricas], axis =1)\n",
    "    \n",
    "    #verificamos que no hay valores nulos\n",
    "    print(df_imputado.isnull().sum())\n",
    "    \n",
    "    return df_imputado"
   ]
  },
  {
   "cell_type": "code",
   "execution_count": null,
   "id": "76483d5e-d91c-42d4-81b5-27a2f40153b6",
   "metadata": {
    "scrolled": true,
    "tags": []
   },
   "outputs": [],
   "source": [
    "#Imputacion de datos\n",
    "df_sin_nulos = imputar_datos(df_sin_outliers)\n",
    "\n",
    "#Guardamos el df si es necesario\n",
    "#df_imputado.to_csv('Coches-segunda-mano/bin/df_imputado.csv', index=False)"
   ]
  },
  {
   "cell_type": "markdown",
   "id": "cd5e6262-b73d-43cf-b276-01917e24cb18",
   "metadata": {
    "jp-MarkdownHeadingCollapsed": true,
    "tags": []
   },
   "source": [
    "## Transformaciones"
   ]
  },
  {
   "cell_type": "code",
   "execution_count": null,
   "id": "bed927b5-4605-4f80-b3e8-94753590db4b",
   "metadata": {},
   "outputs": [],
   "source": [
    "df_transformado = df_sin_nulos"
   ]
  },
  {
   "cell_type": "code",
   "execution_count": null,
   "id": "32c99b5a-9298-40ce-870b-51e32d8592dc",
   "metadata": {
    "tags": []
   },
   "outputs": [],
   "source": [
    "plt.figure(figsize=(12, 6))\n",
    "sns.histplot(df_sin_nulos['precio_contado'], kde=True)\n",
    "plt.title('Histograma de precio_contado')\n",
    "plt.xlabel('Precio Contado')\n",
    "plt.xticks(rotation=45, ha='right')\n",
    "plt.show()"
   ]
  },
  {
   "cell_type": "code",
   "execution_count": null,
   "id": "35cf821e-f398-4c3a-99c8-d374c40cc70b",
   "metadata": {
    "tags": []
   },
   "outputs": [],
   "source": [
    "# Aplicamos transformación logarítmica a las siguientes columnas para que no afecte tanto la varianza de los datos\n",
    "\n",
    "df_transformado['log_precio_contado'] = np.log(df_transformado['precio_contado'])\n",
    "df_transformado['log_kilometraje'] = np.log(df_transformado['kilometraje'])\n",
    "df_transformado['log_precio_nuevo'] = np.log(df_transformado['precio_nuevo'])"
   ]
  },
  {
   "cell_type": "code",
   "execution_count": null,
   "id": "e36f7b91-3995-4e9b-a116-205e1c7f4057",
   "metadata": {
    "tags": []
   },
   "outputs": [],
   "source": [
    "# Creamos métricas derivadas de los datos que ya tenemos para reducir el número de columnas\n",
    "\n",
    "df_transformado['volumen'] = df_transformado['largo'] * df_transformado['ancho'] * df_transformado['alto']"
   ]
  },
  {
   "cell_type": "code",
   "execution_count": null,
   "id": "1affe519-f412-47f1-8fd2-0a17574dd211",
   "metadata": {
    "tags": []
   },
   "outputs": [],
   "source": [
    "# Creamos la columna fecha_matriculacion para calcular la antigüedad del coche en años\n",
    "\n",
    "df_transformado['fecha_matriculacion'] = (\n",
    "    '01/' + df_transformado['mes_matriculacion'].astype(int).astype(str) + \n",
    "    '/' + df_transformado['ano_matriculacion'].astype(int).astype(str)\n",
    ")\n",
    "df_transformado['fecha_matriculacion'] = pd.to_datetime(df_transformado['fecha_matriculacion'], format='%d/%m/%Y')\n",
    "current_date = pd.to_datetime(datetime.now())\n",
    "\n",
    "df_transformado['antiguedad_coche'] = ((current_date - df_transformado['fecha_matriculacion']).dt.days / 365.25).round(2)"
   ]
  },
  {
   "cell_type": "code",
   "execution_count": null,
   "id": "e6cb8dad-1501-4ef8-b9be-ba66f07debaf",
   "metadata": {
    "tags": []
   },
   "outputs": [],
   "source": [
    "df_transformado.head()"
   ]
  },
  {
   "cell_type": "code",
   "execution_count": null,
   "id": "abfa43f3-e1ea-4779-854e-f4fb99d95fa1",
   "metadata": {
    "tags": []
   },
   "outputs": [],
   "source": [
    "df_transformado = df_transformado.drop(columns=['largo', 'ancho', 'alto', 'mes_matriculacion', 'fecha_matriculacion', 'precio_contado', 'kilometraje', 'precio_nuevo'])"
   ]
  },
  {
   "cell_type": "markdown",
   "id": "a4ef20bd-c91c-4c60-9aed-a50097be8db9",
   "metadata": {},
   "source": [
    "df['original_precio_contado'] = np.exp(df['log_precio_contado'])"
   ]
  },
  {
   "cell_type": "code",
   "execution_count": null,
   "id": "b5a4e08c-53f9-47b4-b592-1d560af89e40",
   "metadata": {
    "tags": []
   },
   "outputs": [],
   "source": [
    "df_transformado.head()"
   ]
  },
  {
   "cell_type": "markdown",
   "id": "6f0caaf7-0429-4c61-8d85-89d8e77a8495",
   "metadata": {
    "jp-MarkdownHeadingCollapsed": true,
    "tags": []
   },
   "source": [
    "## Encoding"
   ]
  },
  {
   "cell_type": "code",
   "execution_count": null,
   "id": "8422e5b9-df78-4574-9b1e-fc78ab08cd53",
   "metadata": {
    "scrolled": true,
    "tags": []
   },
   "outputs": [],
   "source": [
    "#Calcular en porcentaje de nulos\n",
    "stats = []\n",
    "for col in df_transformado.columns:\n",
    "    stats.append((col, df_transformado[col].nunique(), df_transformado[col].isnull().sum() * 100 / df_transformado.shape[0], df_transformado[col].value_counts(normalize=True, dropna=False).values[0] * 100, df_transformado[col].dtype))\n",
    "    stats_df = pd.DataFrame(stats, columns=['Columna', 'Valores únicos', '% nulos', '% of values in the biggest category', 'tipo'])\n",
    "stats_df.sort_values('% nulos', ascending=False)"
   ]
  },
  {
   "cell_type": "code",
   "execution_count": null,
   "id": "c01a6a11-b3d8-4856-b017-a22e99ff48db",
   "metadata": {
    "tags": []
   },
   "outputs": [],
   "source": [
    "#Aplica los encoders y los guarda en archivos pickle.\n",
    "def aplicar_encoders(df_transformado,col, encoder):\n",
    "    \n",
    "    # Crear la carpeta si no existe \n",
    "    os.makedirs('encoders/', exist_ok=True)  \n",
    "    \n",
    "    if encoder == 'one hot encoder':\n",
    "        \n",
    "        encoder = OneHotEncoder(sparse_output=False, drop='first')\n",
    "        encoded = encoder.fit_transform(df_transformado[[col]])\n",
    "        one_hot_df = pd.DataFrame(encoded, columns=encoder.get_feature_names_out([col]), index=df_transformado.index)\n",
    "        \n",
    "        df_transformado = pd.concat([df_transformado, one_hot_df], axis=1)\n",
    "        df_transformado.drop(columns=[col], inplace=True)\n",
    "        \n",
    "    elif encoder == 'label encoder':\n",
    "        \n",
    "        encoder = LabelEncoder()\n",
    "        df_transformado[col] = encoder.fit_transform(df_transformado[col].values)\n",
    "        \n",
    "    elif encoder == 'target encoder':\n",
    "        encoder = ce.TargetEncoder()\n",
    "        df_transformado[col] = encoder.fit_transform(df_transformado[col], df_transformado['log_precio_contado'])\n",
    "        \n",
    "    elif encoder == 'frequency encoder':\n",
    "        frequency_encoding = df_transformado[col].value_counts().to_dict()\n",
    "        df_transformado[col] = df_transformado[col].map(frequency_encoding)\n",
    "        \n",
    "    else: \n",
    "        print('La columna no existe o no has seleccionado el encoder correctamente. Las opciones son:\\n'\n",
    "              '  - one hot encoder\\n'\n",
    "              '  - label encoder\\n'\n",
    "              '  - target encoder\\n'\n",
    "              '  - frequency encoder')\n",
    "        \n",
    "        # Guardar el encoder en un archivo pickle\n",
    "    with open(os.path.join('encoders/', f\"{col}_encoder.pickle\"), \"wb\") as file:\n",
    "        pickle.dump(encoder, file)\n",
    "        \n",
    "    print(f'Encoder aplicado a {col}')\n",
    "    \n",
    "    return df_transformado"
   ]
  },
  {
   "cell_type": "code",
   "execution_count": null,
   "id": "5155c1ab-5a03-48fb-80cd-bb9ad56973ab",
   "metadata": {
    "tags": []
   },
   "outputs": [],
   "source": [
    "df_encoded = aplicar_encoders(df_transformado, 'id_provincia', 'frequency encoder')\n",
    "\n",
    "df_encoded = aplicar_encoders(df_transformado, 'id_concesionario', 'target encoder')\n",
    "\n",
    "df_encoded = aplicar_encoders(df_transformado, 'tipo_cambio', 'label encoder')\n",
    "\n",
    "df_encoded = aplicar_encoders(df_transformado, 'id_marca', 'target encoder')\n",
    "\n",
    "df_encoded = aplicar_encoders(df_transformado, 'id_modelo', 'target encoder')"
   ]
  },
  {
   "cell_type": "code",
   "execution_count": null,
   "id": "32ba383e-e648-4da9-8e02-f93e33a5f356",
   "metadata": {
    "tags": []
   },
   "outputs": [],
   "source": [
    "encoder = OneHotEncoder(sparse_output=False, drop='first')"
   ]
  },
  {
   "cell_type": "code",
   "execution_count": null,
   "id": "7535f48d-a5fb-43d2-a0ed-747a1b9992e6",
   "metadata": {
    "tags": []
   },
   "outputs": [],
   "source": [
    "encoded_combustible = encoder.fit_transform(df_encoded[['combustible']])\n",
    "encoded_combustible_df = pd.DataFrame(encoded_combustible, columns=encoder.get_feature_names_out(['combustible']), index=df_encoded.index)\n",
    "\n",
    "df_encoded = pd.concat([df_encoded, encoded_combustible_df], axis=1)"
   ]
  },
  {
   "cell_type": "code",
   "execution_count": null,
   "id": "d99dc5cb-a81f-446f-b85e-377e596bc1e5",
   "metadata": {
    "tags": []
   },
   "outputs": [],
   "source": [
    "one_hot_columns = list(encoded_combustible_df.columns)"
   ]
  },
  {
   "cell_type": "code",
   "execution_count": null,
   "id": "5f163783-d310-4497-b072-c9ff2254ba76",
   "metadata": {
    "tags": []
   },
   "outputs": [],
   "source": [
    "encoded_traccion = encoder.fit_transform(df_encoded[['id_traccion']])\n",
    "encoded_traccion_df = pd.DataFrame(encoded_traccion, columns=encoder.get_feature_names_out(['id_traccion']), index=df_encoded.index)\n",
    "\n",
    "df_encoded = pd.concat([df_encoded, encoded_traccion_df], axis=1)"
   ]
  },
  {
   "cell_type": "code",
   "execution_count": null,
   "id": "a060f813-a1dc-459d-a3c7-176d8242b89b",
   "metadata": {
    "tags": []
   },
   "outputs": [],
   "source": [
    "one_hot_columns.extend(list(encoded_traccion_df.columns))"
   ]
  },
  {
   "cell_type": "code",
   "execution_count": null,
   "id": "4031928f-4554-4374-a574-31bd3625f3be",
   "metadata": {
    "tags": []
   },
   "outputs": [],
   "source": [
    "encoded_dist = encoder.fit_transform(df_encoded[['id_distintivo_ambiental']])\n",
    "encoded_dist_df = pd.DataFrame(encoded_dist, columns=encoder.get_feature_names_out(['id_distintivo_ambiental']), index=df_encoded.index)\n",
    "\n",
    "df_encoded = pd.concat([df_encoded, encoded_dist_df], axis=1)"
   ]
  },
  {
   "cell_type": "code",
   "execution_count": null,
   "id": "49ef968f-ad68-485a-93fb-b2b09935c7bf",
   "metadata": {
    "tags": []
   },
   "outputs": [],
   "source": [
    "one_hot_columns.extend(list(encoded_dist_df.columns))"
   ]
  },
  {
   "cell_type": "code",
   "execution_count": null,
   "id": "144f83ca-70d9-4c18-9be0-d57a7f14770a",
   "metadata": {
    "tags": []
   },
   "outputs": [],
   "source": [
    "df_encoded = df_encoded.drop(columns=['id_traccion', 'combustible', 'id_distintivo_ambiental'])"
   ]
  },
  {
   "cell_type": "markdown",
   "id": "de29db56-7643-4dca-9c43-cf8efc59f267",
   "metadata": {
    "jp-MarkdownHeadingCollapsed": true,
    "tags": []
   },
   "source": [
    "## Escalar datos"
   ]
  },
  {
   "cell_type": "code",
   "execution_count": null,
   "id": "e239d3f0-8176-41f1-90c9-6239c8fd499a",
   "metadata": {
    "tags": []
   },
   "outputs": [],
   "source": [
    "#Crear una carpeta para guardar el objeto escalador\n",
    "os.makedirs(\"escaladores\", exist_ok=True)"
   ]
  },
  {
   "cell_type": "code",
   "execution_count": null,
   "id": "d1b834b4-a50b-45df-aa61-cd1b28132b7d",
   "metadata": {},
   "outputs": [],
   "source": [
    "x = df_encoded.drop('log_precio_contado', axis=1)  \n",
    "y = df_encoded['log_precio_contado']"
   ]
  },
  {
   "cell_type": "code",
   "execution_count": null,
   "id": "10bd8927-95b0-4fea-99ff-fc5577e1fae2",
   "metadata": {
    "tags": []
   },
   "outputs": [],
   "source": [
    "cols_x = list(x.columns)\n"
   ]
  },
  {
   "cell_type": "code",
   "execution_count": null,
   "id": "2c364e2b-44e3-4b93-a531-5f37122cd89d",
   "metadata": {},
   "outputs": [],
   "source": [
    "# Creamos los scalers, escalamos los datos y guardamos el scaler en un archivo .pickle\n",
    "\n",
    "x_scaler = StandardScaler()\n",
    "x = x_scaler.fit_transform(x)\n",
    "nombre_pickle_x = \"x_scaler.pickle\"\n",
    "ruta_completa_x = os.path.join(\"escaladores/\", nombre_pickle_x)\n",
    "with open(ruta_completa_x, \"wb\") as file:\n",
    "    pickle.dump(x_scaler, file)\n",
    "\n",
    "y_scaler = StandardScaler()\n",
    "y = y_scaler.fit_transform(y.values.reshape(-1, 1))\n",
    "nombre_pickle_y = \"y_scaler.pickle\"\n",
    "ruta_completa_y = os.path.join(\"escaladores/\", nombre_pickle_y)\n",
    "with open(ruta_completa_y, \"wb\") as file:\n",
    "    pickle.dump(y_scaler, file)\n"
   ]
  },
  {
   "cell_type": "code",
   "execution_count": null,
   "id": "f1000940-d2ce-4ac9-8c26-0c3cd201527b",
   "metadata": {
    "tags": []
   },
   "outputs": [],
   "source": [
    "x_df = pd.DataFrame(x, columns=cols_x) \n",
    "y_df = pd.DataFrame(y, columns=['log_precio_contado'])\n",
    "\n",
    "df_escalado = pd.concat([x_df, y_df], axis=1)"
   ]
  },
  {
   "cell_type": "code",
   "execution_count": null,
   "id": "0d6999fd-f486-42aa-b811-db0080a59184",
   "metadata": {
    "tags": []
   },
   "outputs": [],
   "source": [
    "df_escalado.head()"
   ]
  },
  {
   "cell_type": "code",
   "execution_count": null,
   "id": "1871a317-b2c5-49c7-becd-e795309a46bd",
   "metadata": {
    "tags": []
   },
   "outputs": [],
   "source": [
    "#Guardar el DataFrame con las columnas transformadas\n",
    "df_escalado.to_csv('../bin/data_process.csv', index=False)"
   ]
  }
 ],
 "metadata": {
  "kernelspec": {
   "display_name": "Python 3 (ipykernel)",
   "language": "python",
   "name": "python3"
  },
  "language_info": {
   "codemirror_mode": {
    "name": "ipython",
    "version": 3
   },
   "file_extension": ".py",
   "mimetype": "text/x-python",
   "name": "python",
   "nbconvert_exporter": "python",
   "pygments_lexer": "ipython3",
   "version": "3.11.7"
  }
 },
 "nbformat": 4,
 "nbformat_minor": 5
}
