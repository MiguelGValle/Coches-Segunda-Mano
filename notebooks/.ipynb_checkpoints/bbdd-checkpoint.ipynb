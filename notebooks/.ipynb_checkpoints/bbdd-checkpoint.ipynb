{
 "cells": [
  {
   "cell_type": "code",
   "execution_count": 5,
   "id": "5f8ced48-e284-43be-a6d6-604927d1f7a6",
   "metadata": {
    "tags": []
   },
   "outputs": [
    {
     "name": "stdout",
     "output_type": "stream",
     "text": [
      "Requirement already satisfied: mysql-connector-python in c:\\users\\cmv28\\anaconda3\\lib\\site-packages (9.0.0)\n",
      "Note: you may need to restart the kernel to use updated packages.\n"
     ]
    }
   ],
   "source": [
    "pip install mysql-connector-python"
   ]
  },
  {
   "cell_type": "code",
   "execution_count": 28,
   "id": "14fe3573-ae56-4535-b534-241ef141e8ee",
   "metadata": {
    "tags": []
   },
   "outputs": [],
   "source": [
    "import pandas as pd\n",
    "import numpy as np\n",
    "import importlib.metadata\n",
    "import mysql.connector\n",
    "\n",
    "from datetime import datetime"
   ]
  },
  {
   "cell_type": "code",
   "execution_count": 30,
   "id": "d58f7cce-525c-4fda-b9ec-a4f57440b642",
   "metadata": {
    "tags": []
   },
   "outputs": [],
   "source": []
  },
  {
   "cell_type": "code",
   "execution_count": 15,
   "id": "23ad96d5-40ff-4fbc-8ad9-ff21add6036c",
   "metadata": {
    "tags": []
   },
   "outputs": [],
   "source": [
    "#Funcion para insertar un coche en la bbdd\n",
    "def insertar_coche(df_coches):\n",
    "\n",
    "    #Conexion a la base de datos de MySQL\n",
    "    conn = mysql.connector.connect(\n",
    "    host = \"localhost\",\n",
    "    user = \"root\",\n",
    "    password = \"Whereisbotus1996\",\n",
    "    database = \"coches_segunda_mano\"\n",
    "    )\n",
    "\n",
    "    columnas_prestaciones = [\n",
    "        \"id_marca\", \"id_modelo\", \"mes_matriculacion\", \"ano_matriculacion\", \"kilometraje\", \n",
    "        \"id_distintivo_ambiental\", \"garantia\", \"precio_nuevo\", \"precio_contado\", \"id_concesionario\", \n",
    "        \"id_provincia\", \"id_carroceria\", \"largo\", \"ancho\", \"alto\", \"capacidad_maletero\", \"num_plazas\", \n",
    "        \"num_puertas\", \"batalla\", \"peso\", \"consumo_medio\", \"consumo_carretera\", \"consumo_urbano\", \n",
    "        \"co2\", \"deposito\", \"id_combustible\", \"num_cilindros\", \"cilindrada\", \"id_sobrealimentacion\", \n",
    "        \"id_tipo_cambio\", \"num_marchas\", \"potencia_kw\", \"potencia_cv\", \"par\", \"velocidad_max\", \n",
    "        \"aceleracion\"\n",
    "    ]\n",
    "    cursor = conn.cursor()\n",
    "    \n",
    "    for index, row in df_coches.iterrows():\n",
    "        coche_data = {\n",
    "            'id_marca': row['id_marca'],\n",
    "            'id_modelo': row['id_modelo'],\n",
    "            'mes_matriculacion': row['mes_matriculacion'],\n",
    "            'ano_matriculacion': row['ano_matriculacion'],\n",
    "            'kilometraje': row['kilometraje'],\n",
    "            'id_distintivo_ambiental': row['id_distintivo_ambiental'],\n",
    "            'garantia': row['garantia'],\n",
    "            'precio_nuevo': row['precio_nuevo'],\n",
    "            'precio_contado': row['precio_contado'],\n",
    "            'id_concesionario': row['id_concesionario'],\n",
    "            'id_provincia': row['id_provincia'],\n",
    "            'id_carroceria': row['id_carroceria'],\n",
    "            'largo': row['largo'],\n",
    "            'ancho': row['ancho'],\n",
    "            'alto': row['alto'],\n",
    "            'capacidad_maletero': row['capacidad_maletero'],\n",
    "            'num_plazas': row['num_plazas'],\n",
    "            'num_puertas': row['num_puertas'],\n",
    "            'batalla': row['batalla'],\n",
    "            'peso': row['peso'],\n",
    "            'consumo_medio': row['consumo_medio'],\n",
    "            'consumo_carretera': row['consumo_carretera'],\n",
    "            'consumo_urbano': row['consumo_urbano'],\n",
    "            'co2': row['co2'],\n",
    "            'deposito': row['deposito'],\n",
    "            'id_combustible': row['id_combustible'],\n",
    "            'num_cilindros': row['num_cilindros'],\n",
    "            'cilindrada': row['cilindrada'],\n",
    "            'id_sobrealimentacion': row['id_sobrealimentacion'],\n",
    "            'id_tipo_cambio': row['id_tipo_cambio'],\n",
    "            'num_marchas': row['num_marchas'],\n",
    "            'potencia_kw': row['potencia_kw'],\n",
    "            'potencia_cv': row['potencia_cv'],\n",
    "            'par': row['par'],\n",
    "            'velocidad_max': row['velocidad_max'],\n",
    "            'aceleracion': row['aceleracion'],\n",
    "            'fecha_extraccion': datetime.now()\n",
    "        }\n",
    "        \n",
    "        valores = tuple(coche_data.values())\n",
    "            \n",
    "        query = f\"\"\"\n",
    "            INSERT INTO coches_segunda_mano ({', '.join(columnas_coches)})\n",
    "            VALUES ({', '.join(['%s'] * len(valores))});\n",
    "        \"\"\"\n",
    "            \n",
    "        cursor.execute(query, valores)\n",
    "    \n",
    "    conn.commit()\n",
    "    cursor.close()\n",
    "    conn.close()\n",
    "    print(\"Datos insertados correctamente\")        "
   ]
  },
  {
   "cell_type": "code",
   "execution_count": null,
   "id": "02b9c01a-68ef-4e79-843b-23bab3869f7b",
   "metadata": {},
   "outputs": [],
   "source": [
    "#Probamos la funcion\n",
    "insertar_datos_coches(df_coches)"
   ]
  },
  {
   "cell_type": "code",
   "execution_count": null,
   "id": "e048189a-46fd-4163-bab5-930300d7a003",
   "metadata": {},
   "outputs": [],
   "source": []
  },
  {
   "cell_type": "code",
   "execution_count": 32,
   "id": "ae0dc1d5-dcb4-474a-96eb-8a4bd6e20424",
   "metadata": {
    "tags": []
   },
   "outputs": [],
   "source": [
    "#Cerrar la conexion al final del proceso\n",
    "cursor.close()\n",
    "conn.close()"
   ]
  },
  {
   "cell_type": "code",
   "execution_count": null,
   "id": "aae51c9a-08be-42d6-920b-8c9a74110ce8",
   "metadata": {},
   "outputs": [],
   "source": []
  }
 ],
 "metadata": {
  "kernelspec": {
   "display_name": "Python 3 (ipykernel)",
   "language": "python",
   "name": "python3"
  },
  "language_info": {
   "codemirror_mode": {
    "name": "ipython",
    "version": 3
   },
   "file_extension": ".py",
   "mimetype": "text/x-python",
   "name": "python",
   "nbconvert_exporter": "python",
   "pygments_lexer": "ipython3",
   "version": "3.11.7"
  }
 },
 "nbformat": 4,
 "nbformat_minor": 5
}
