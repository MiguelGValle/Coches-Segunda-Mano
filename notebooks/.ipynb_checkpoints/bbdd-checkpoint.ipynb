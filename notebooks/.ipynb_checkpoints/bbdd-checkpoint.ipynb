{
 "cells": [
  {
   "cell_type": "code",
   "execution_count": 5,
   "id": "5f8ced48-e284-43be-a6d6-604927d1f7a6",
   "metadata": {
    "tags": []
   },
   "outputs": [
    {
     "name": "stdout",
     "output_type": "stream",
     "text": [
      "Requirement already satisfied: mysql-connector-python in c:\\users\\cmv28\\anaconda3\\lib\\site-packages (9.0.0)\n",
      "Note: you may need to restart the kernel to use updated packages.\n"
     ]
    }
   ],
   "source": [
    "pip install mysql-connector-python"
   ]
  },
  {
   "cell_type": "code",
   "execution_count": 41,
   "id": "14fe3573-ae56-4535-b534-241ef141e8ee",
   "metadata": {
    "tags": []
   },
   "outputs": [],
   "source": [
    "import pandas as pd\n",
    "import numpy as np\n",
    "import importlib.metadata\n",
    "import mysql.connector\n",
    "\n",
    "from datetime import datetime"
   ]
  },
  {
   "cell_type": "code",
   "execution_count": 43,
   "id": "d58f7cce-525c-4fda-b9ec-a4f57440b642",
   "metadata": {
    "tags": []
   },
   "outputs": [
    {
     "data": {
      "text/html": [
       "<div>\n",
       "<style scoped>\n",
       "    .dataframe tbody tr th:only-of-type {\n",
       "        vertical-align: middle;\n",
       "    }\n",
       "\n",
       "    .dataframe tbody tr th {\n",
       "        vertical-align: top;\n",
       "    }\n",
       "\n",
       "    .dataframe thead th {\n",
       "        text-align: right;\n",
       "    }\n",
       "</style>\n",
       "<table border=\"1\" class=\"dataframe\">\n",
       "  <thead>\n",
       "    <tr style=\"text-align: right;\">\n",
       "      <th></th>\n",
       "      <th>id_marca</th>\n",
       "      <th>id_modelo</th>\n",
       "      <th>mes_matriculacion</th>\n",
       "      <th>ano_matriculacion</th>\n",
       "      <th>kilometraje</th>\n",
       "      <th>id_distintivo_ambiental</th>\n",
       "      <th>garantia</th>\n",
       "      <th>precio_nuevo</th>\n",
       "      <th>precio_contado</th>\n",
       "      <th>id_concesionario</th>\n",
       "      <th>...</th>\n",
       "      <th>num_cilindros</th>\n",
       "      <th>cilindrada</th>\n",
       "      <th>id_sobrealimentacion</th>\n",
       "      <th>id_tipo_cambio</th>\n",
       "      <th>num_marchas</th>\n",
       "      <th>potencia_kw</th>\n",
       "      <th>potencia_cv</th>\n",
       "      <th>par</th>\n",
       "      <th>velocidad_max</th>\n",
       "      <th>aceleracion</th>\n",
       "    </tr>\n",
       "  </thead>\n",
       "  <tbody>\n",
       "    <tr>\n",
       "      <th>0</th>\n",
       "      <td>1</td>\n",
       "      <td>1</td>\n",
       "      <td>6</td>\n",
       "      <td>2018</td>\n",
       "      <td>50000</td>\n",
       "      <td>1</td>\n",
       "      <td>24</td>\n",
       "      <td>30000.0</td>\n",
       "      <td>27000.0</td>\n",
       "      <td>1</td>\n",
       "      <td>...</td>\n",
       "      <td>4</td>\n",
       "      <td>2000</td>\n",
       "      <td>1</td>\n",
       "      <td>1</td>\n",
       "      <td>6</td>\n",
       "      <td>120</td>\n",
       "      <td>160</td>\n",
       "      <td>200</td>\n",
       "      <td>220</td>\n",
       "      <td>8.5</td>\n",
       "    </tr>\n",
       "  </tbody>\n",
       "</table>\n",
       "<p>1 rows × 36 columns</p>\n",
       "</div>"
      ],
      "text/plain": [
       "   id_marca  id_modelo  mes_matriculacion  ano_matriculacion  kilometraje  \\\n",
       "0         1          1                  6               2018        50000   \n",
       "\n",
       "   id_distintivo_ambiental  garantia  precio_nuevo  precio_contado  \\\n",
       "0                        1        24       30000.0         27000.0   \n",
       "\n",
       "   id_concesionario  ...  num_cilindros  cilindrada  id_sobrealimentacion  \\\n",
       "0                 1  ...              4        2000                     1   \n",
       "\n",
       "   id_tipo_cambio  num_marchas  potencia_kw  potencia_cv  par  velocidad_max  \\\n",
       "0               1            6          120          160  200            220   \n",
       "\n",
       "   aceleracion  \n",
       "0          8.5  \n",
       "\n",
       "[1 rows x 36 columns]"
      ]
     },
     "execution_count": 43,
     "metadata": {},
     "output_type": "execute_result"
    }
   ],
   "source": [
    "# cargar el csv de prueba\n",
    "df_coches = pd.read_csv(\"../bin/coche_prueba.csv\")\n",
    "df_coches"
   ]
  },
  {
   "cell_type": "code",
   "execution_count": 45,
   "id": "23ad96d5-40ff-4fbc-8ad9-ff21add6036c",
   "metadata": {
    "tags": []
   },
   "outputs": [],
   "source": [
    "#Funcion para insertar un coche en la bbdd\n",
    "def insertar_coche(df_coches):\n",
    "\n",
    "    #Conexion a la base de datos de MySQL\n",
    "    conn = mysql.connector.connect(\n",
    "    host = \"localhost\",\n",
    "    user = \"root\",\n",
    "    password = \"Whereisbotus1996\",\n",
    "    database = \"coches_segunda_mano\"\n",
    "    )\n",
    "\n",
    "    columnas_prestaciones = [\n",
    "        \"id_marca\", \"id_modelo\", \"mes_matriculacion\", \"ano_matriculacion\", \"kilometraje\", \n",
    "        \"id_distintivo_ambiental\", \"garantia\", \"precio_nuevo\", \"precio_contado\", \"id_concesionario\", \n",
    "        \"id_provincia\", \"id_carroceria\", \"largo\", \"ancho\", \"alto\", \"capacidad_maletero\", \"num_plazas\", \n",
    "        \"num_puertas\", \"batalla\", \"peso\", \"consumo_medio\", \"consumo_carretera\", \"consumo_urbano\", \n",
    "        \"co2\", \"deposito\", \"id_combustible\", \"num_cilindros\", \"cilindrada\", \"id_sobrealimentacion\", \n",
    "        \"id_tipo_cambio\", \"num_marchas\", \"potencia_kw\", \"potencia_cv\", \"par\", \"velocidad_max\", \n",
    "        \"aceleracion\", 'fecha_extraccion'\n",
    "    ]\n",
    "    cursor = conn.cursor()\n",
    "    \n",
    "    for index, row in df_coches.iterrows():\n",
    "        coche_data = {\n",
    "            'id_marca': row['id_marca'],\n",
    "            'id_modelo': row['id_modelo'],\n",
    "            'mes_matriculacion': row['mes_matriculacion'],\n",
    "            'ano_matriculacion': row['ano_matriculacion'],\n",
    "            'kilometraje': row['kilometraje'],\n",
    "            'id_distintivo_ambiental': row['id_distintivo_ambiental'],\n",
    "            'garantia': row['garantia'],\n",
    "            'precio_nuevo': row['precio_nuevo'],\n",
    "            'precio_contado': row['precio_contado'],\n",
    "            'id_concesionario': row['id_concesionario'],\n",
    "            'id_provincia': row['id_provincia'],\n",
    "            'id_carroceria': row['id_carroceria'],\n",
    "            'largo': row['largo'],\n",
    "            'ancho': row['ancho'],\n",
    "            'alto': row['alto'],\n",
    "            'capacidad_maletero': row['capacidad_maletero'],\n",
    "            'num_plazas': row['num_plazas'],\n",
    "            'num_puertas': row['num_puertas'],\n",
    "            'batalla': row['batalla'],\n",
    "            'peso': row['peso'],\n",
    "            'consumo_medio': row['consumo_medio'],\n",
    "            'consumo_carretera': row['consumo_carretera'],\n",
    "            'consumo_urbano': row['consumo_urbano'],\n",
    "            'co2': row['co2'],\n",
    "            'deposito': row['deposito'],\n",
    "            'id_combustible': row['id_combustible'],\n",
    "            'num_cilindros': row['num_cilindros'],\n",
    "            'cilindrada': row['cilindrada'],\n",
    "            'id_sobrealimentacion': row['id_sobrealimentacion'],\n",
    "            'id_tipo_cambio': row['id_tipo_cambio'],\n",
    "            'num_marchas': row['num_marchas'],\n",
    "            'potencia_kw': row['potencia_kw'],\n",
    "            'potencia_cv': row['potencia_cv'],\n",
    "            'par': row['par'],\n",
    "            'velocidad_max': row['velocidad_max'],\n",
    "            'aceleracion': row['aceleracion'],\n",
    "            'fecha_extraccion': datetime.now()\n",
    "        }\n",
    "        \n",
    "        valores = tuple(coche_data.values())\n",
    "            \n",
    "        query = f\"\"\"\n",
    "            INSERT INTO coches_segunda_mano ({', '.join(columnas_prestaciones)})\n",
    "            VALUES ({', '.join(['%s'] * len(valores))});\n",
    "        \"\"\"\n",
    "            \n",
    "        cursor.execute(query, valores)\n",
    "    \n",
    "    conn.commit()\n",
    "    cursor.close()\n",
    "    conn.close()\n",
    "    print(\"Datos insertados correctamente\")        "
   ]
  },
  {
   "cell_type": "code",
   "execution_count": 47,
   "id": "02b9c01a-68ef-4e79-843b-23bab3869f7b",
   "metadata": {
    "tags": []
   },
   "outputs": [
    {
     "ename": "ProgrammingError",
     "evalue": "1146 (42S02): Table 'coches_segunda_mano.coches_segunda_mano' doesn't exist",
     "output_type": "error",
     "traceback": [
      "\u001b[1;31m---------------------------------------------------------------------------\u001b[0m",
      "\u001b[1;31mMySQLInterfaceError\u001b[0m                       Traceback (most recent call last)",
      "File \u001b[1;32m~\\anaconda3\\Lib\\site-packages\\mysql\\connector\\connection_cext.py:705\u001b[0m, in \u001b[0;36mCMySQLConnection.cmd_query\u001b[1;34m(self, query, raw, buffered, raw_as_string)\u001b[0m\n\u001b[0;32m    704\u001b[0m         query \u001b[38;5;241m=\u001b[39m query\u001b[38;5;241m.\u001b[39mencode(\u001b[38;5;124m\"\u001b[39m\u001b[38;5;124mutf-8\u001b[39m\u001b[38;5;124m\"\u001b[39m)\n\u001b[1;32m--> 705\u001b[0m     \u001b[38;5;28mself\u001b[39m\u001b[38;5;241m.\u001b[39m_cmysql\u001b[38;5;241m.\u001b[39mquery(\n\u001b[0;32m    706\u001b[0m         query,\n\u001b[0;32m    707\u001b[0m         raw\u001b[38;5;241m=\u001b[39mraw,\n\u001b[0;32m    708\u001b[0m         buffered\u001b[38;5;241m=\u001b[39mbuffered,\n\u001b[0;32m    709\u001b[0m         raw_as_string\u001b[38;5;241m=\u001b[39mraw_as_string,\n\u001b[0;32m    710\u001b[0m         query_attrs\u001b[38;5;241m=\u001b[39m\u001b[38;5;28mself\u001b[39m\u001b[38;5;241m.\u001b[39mquery_attrs,\n\u001b[0;32m    711\u001b[0m     )\n\u001b[0;32m    712\u001b[0m \u001b[38;5;28;01mexcept\u001b[39;00m MySQLInterfaceError \u001b[38;5;28;01mas\u001b[39;00m err:\n",
      "\u001b[1;31mMySQLInterfaceError\u001b[0m: Table 'coches_segunda_mano.coches_segunda_mano' doesn't exist",
      "\nThe above exception was the direct cause of the following exception:\n",
      "\u001b[1;31mProgrammingError\u001b[0m                          Traceback (most recent call last)",
      "Cell \u001b[1;32mIn[47], line 2\u001b[0m\n\u001b[0;32m      1\u001b[0m \u001b[38;5;66;03m#Probamos la funcion\u001b[39;00m\n\u001b[1;32m----> 2\u001b[0m insertar_coche(df_coches)\n",
      "Cell \u001b[1;32mIn[45], line 71\u001b[0m, in \u001b[0;36minsertar_coche\u001b[1;34m(df_coches)\u001b[0m\n\u001b[0;32m     64\u001b[0m     valores \u001b[38;5;241m=\u001b[39m \u001b[38;5;28mtuple\u001b[39m(coche_data\u001b[38;5;241m.\u001b[39mvalues())\n\u001b[0;32m     66\u001b[0m     query \u001b[38;5;241m=\u001b[39m \u001b[38;5;124mf\u001b[39m\u001b[38;5;124m\"\"\"\u001b[39m\n\u001b[0;32m     67\u001b[0m \u001b[38;5;124m        INSERT INTO coches_segunda_mano (\u001b[39m\u001b[38;5;132;01m{\u001b[39;00m\u001b[38;5;124m'\u001b[39m\u001b[38;5;124m, \u001b[39m\u001b[38;5;124m'\u001b[39m\u001b[38;5;241m.\u001b[39mjoin(columnas_prestaciones)\u001b[38;5;132;01m}\u001b[39;00m\u001b[38;5;124m)\u001b[39m\n\u001b[0;32m     68\u001b[0m \u001b[38;5;124m        VALUES (\u001b[39m\u001b[38;5;132;01m{\u001b[39;00m\u001b[38;5;124m'\u001b[39m\u001b[38;5;124m, \u001b[39m\u001b[38;5;124m'\u001b[39m\u001b[38;5;241m.\u001b[39mjoin([\u001b[38;5;124m'\u001b[39m\u001b[38;5;132;01m%s\u001b[39;00m\u001b[38;5;124m'\u001b[39m]\u001b[38;5;250m \u001b[39m\u001b[38;5;241m*\u001b[39m\u001b[38;5;250m \u001b[39m\u001b[38;5;28mlen\u001b[39m(valores))\u001b[38;5;132;01m}\u001b[39;00m\u001b[38;5;124m);\u001b[39m\n\u001b[0;32m     69\u001b[0m \u001b[38;5;124m    \u001b[39m\u001b[38;5;124m\"\"\"\u001b[39m\n\u001b[1;32m---> 71\u001b[0m     cursor\u001b[38;5;241m.\u001b[39mexecute(query, valores)\n\u001b[0;32m     73\u001b[0m conn\u001b[38;5;241m.\u001b[39mcommit()\n\u001b[0;32m     74\u001b[0m cursor\u001b[38;5;241m.\u001b[39mclose()\n",
      "File \u001b[1;32m~\\anaconda3\\Lib\\site-packages\\mysql\\connector\\cursor_cext.py:357\u001b[0m, in \u001b[0;36mCMySQLCursor.execute\u001b[1;34m(self, operation, params, multi)\u001b[0m\n\u001b[0;32m    352\u001b[0m             \u001b[38;5;28;01mraise\u001b[39;00m ProgrammingError(\n\u001b[0;32m    353\u001b[0m                 \u001b[38;5;124m\"\u001b[39m\u001b[38;5;124mNot all parameters were used in the SQL statement\u001b[39m\u001b[38;5;124m\"\u001b[39m\n\u001b[0;32m    354\u001b[0m             )\n\u001b[0;32m    356\u001b[0m \u001b[38;5;28;01mtry\u001b[39;00m:\n\u001b[1;32m--> 357\u001b[0m     result \u001b[38;5;241m=\u001b[39m \u001b[38;5;28mself\u001b[39m\u001b[38;5;241m.\u001b[39m_connection\u001b[38;5;241m.\u001b[39mcmd_query(\n\u001b[0;32m    358\u001b[0m         stmt,\n\u001b[0;32m    359\u001b[0m         raw\u001b[38;5;241m=\u001b[39m\u001b[38;5;28mself\u001b[39m\u001b[38;5;241m.\u001b[39m_raw,\n\u001b[0;32m    360\u001b[0m         buffered\u001b[38;5;241m=\u001b[39m\u001b[38;5;28mself\u001b[39m\u001b[38;5;241m.\u001b[39m_buffered,\n\u001b[0;32m    361\u001b[0m         raw_as_string\u001b[38;5;241m=\u001b[39m\u001b[38;5;28mself\u001b[39m\u001b[38;5;241m.\u001b[39m_raw_as_string,\n\u001b[0;32m    362\u001b[0m     )\n\u001b[0;32m    363\u001b[0m \u001b[38;5;28;01mexcept\u001b[39;00m MySQLInterfaceError \u001b[38;5;28;01mas\u001b[39;00m err:\n\u001b[0;32m    364\u001b[0m     \u001b[38;5;28;01mraise\u001b[39;00m get_mysql_exception(\n\u001b[0;32m    365\u001b[0m         msg\u001b[38;5;241m=\u001b[39merr\u001b[38;5;241m.\u001b[39mmsg, errno\u001b[38;5;241m=\u001b[39merr\u001b[38;5;241m.\u001b[39merrno, sqlstate\u001b[38;5;241m=\u001b[39merr\u001b[38;5;241m.\u001b[39msqlstate\n\u001b[0;32m    366\u001b[0m     ) \u001b[38;5;28;01mfrom\u001b[39;00m \u001b[38;5;21;01merr\u001b[39;00m\n",
      "File \u001b[1;32m~\\anaconda3\\Lib\\site-packages\\mysql\\connector\\opentelemetry\\context_propagation.py:97\u001b[0m, in \u001b[0;36mwith_context_propagation.<locals>.wrapper\u001b[1;34m(cnx, *args, **kwargs)\u001b[0m\n\u001b[0;32m     95\u001b[0m \u001b[38;5;66;03m# pylint: disable=possibly-used-before-assignment\u001b[39;00m\n\u001b[0;32m     96\u001b[0m \u001b[38;5;28;01mif\u001b[39;00m \u001b[38;5;129;01mnot\u001b[39;00m OTEL_ENABLED \u001b[38;5;129;01mor\u001b[39;00m \u001b[38;5;129;01mnot\u001b[39;00m cnx\u001b[38;5;241m.\u001b[39motel_context_propagation:\n\u001b[1;32m---> 97\u001b[0m     \u001b[38;5;28;01mreturn\u001b[39;00m method(cnx, \u001b[38;5;241m*\u001b[39margs, \u001b[38;5;241m*\u001b[39m\u001b[38;5;241m*\u001b[39mkwargs)\n\u001b[0;32m     99\u001b[0m current_span \u001b[38;5;241m=\u001b[39m trace\u001b[38;5;241m.\u001b[39mget_current_span()\n\u001b[0;32m    100\u001b[0m tp_header \u001b[38;5;241m=\u001b[39m \u001b[38;5;28;01mNone\u001b[39;00m\n",
      "File \u001b[1;32m~\\anaconda3\\Lib\\site-packages\\mysql\\connector\\connection_cext.py:713\u001b[0m, in \u001b[0;36mCMySQLConnection.cmd_query\u001b[1;34m(self, query, raw, buffered, raw_as_string)\u001b[0m\n\u001b[0;32m    705\u001b[0m     \u001b[38;5;28mself\u001b[39m\u001b[38;5;241m.\u001b[39m_cmysql\u001b[38;5;241m.\u001b[39mquery(\n\u001b[0;32m    706\u001b[0m         query,\n\u001b[0;32m    707\u001b[0m         raw\u001b[38;5;241m=\u001b[39mraw,\n\u001b[1;32m   (...)\u001b[0m\n\u001b[0;32m    710\u001b[0m         query_attrs\u001b[38;5;241m=\u001b[39m\u001b[38;5;28mself\u001b[39m\u001b[38;5;241m.\u001b[39mquery_attrs,\n\u001b[0;32m    711\u001b[0m     )\n\u001b[0;32m    712\u001b[0m \u001b[38;5;28;01mexcept\u001b[39;00m MySQLInterfaceError \u001b[38;5;28;01mas\u001b[39;00m err:\n\u001b[1;32m--> 713\u001b[0m     \u001b[38;5;28;01mraise\u001b[39;00m get_mysql_exception(\n\u001b[0;32m    714\u001b[0m         err\u001b[38;5;241m.\u001b[39merrno, msg\u001b[38;5;241m=\u001b[39merr\u001b[38;5;241m.\u001b[39mmsg, sqlstate\u001b[38;5;241m=\u001b[39merr\u001b[38;5;241m.\u001b[39msqlstate\n\u001b[0;32m    715\u001b[0m     ) \u001b[38;5;28;01mfrom\u001b[39;00m \u001b[38;5;21;01merr\u001b[39;00m\n\u001b[0;32m    716\u001b[0m \u001b[38;5;28;01mexcept\u001b[39;00m \u001b[38;5;167;01mAttributeError\u001b[39;00m \u001b[38;5;28;01mas\u001b[39;00m err:\n\u001b[0;32m    717\u001b[0m     addr \u001b[38;5;241m=\u001b[39m (\n\u001b[0;32m    718\u001b[0m         \u001b[38;5;28mself\u001b[39m\u001b[38;5;241m.\u001b[39m_unix_socket \u001b[38;5;28;01mif\u001b[39;00m \u001b[38;5;28mself\u001b[39m\u001b[38;5;241m.\u001b[39m_unix_socket \u001b[38;5;28;01melse\u001b[39;00m \u001b[38;5;124mf\u001b[39m\u001b[38;5;124m\"\u001b[39m\u001b[38;5;132;01m{\u001b[39;00m\u001b[38;5;28mself\u001b[39m\u001b[38;5;241m.\u001b[39m_host\u001b[38;5;132;01m}\u001b[39;00m\u001b[38;5;124m:\u001b[39m\u001b[38;5;132;01m{\u001b[39;00m\u001b[38;5;28mself\u001b[39m\u001b[38;5;241m.\u001b[39m_port\u001b[38;5;132;01m}\u001b[39;00m\u001b[38;5;124m\"\u001b[39m\n\u001b[0;32m    719\u001b[0m     )\n",
      "\u001b[1;31mProgrammingError\u001b[0m: 1146 (42S02): Table 'coches_segunda_mano.coches_segunda_mano' doesn't exist"
     ]
    }
   ],
   "source": [
    "#Probamos la funcion\n",
    "insertar_coche(df_coches)"
   ]
  },
  {
   "cell_type": "code",
   "execution_count": null,
   "id": "e048189a-46fd-4163-bab5-930300d7a003",
   "metadata": {},
   "outputs": [],
   "source": []
  },
  {
   "cell_type": "code",
   "execution_count": 32,
   "id": "ae0dc1d5-dcb4-474a-96eb-8a4bd6e20424",
   "metadata": {
    "tags": []
   },
   "outputs": [],
   "source": [
    "#Cerrar la conexion al final del proceso\n",
    "cursor.close()\n",
    "conn.close()"
   ]
  },
  {
   "cell_type": "code",
   "execution_count": null,
   "id": "aae51c9a-08be-42d6-920b-8c9a74110ce8",
   "metadata": {},
   "outputs": [],
   "source": []
  }
 ],
 "metadata": {
  "kernelspec": {
   "display_name": "Python 3 (ipykernel)",
   "language": "python",
   "name": "python3"
  },
  "language_info": {
   "codemirror_mode": {
    "name": "ipython",
    "version": 3
   },
   "file_extension": ".py",
   "mimetype": "text/x-python",
   "name": "python",
   "nbconvert_exporter": "python",
   "pygments_lexer": "ipython3",
   "version": "3.11.7"
  }
 },
 "nbformat": 4,
 "nbformat_minor": 5
}
