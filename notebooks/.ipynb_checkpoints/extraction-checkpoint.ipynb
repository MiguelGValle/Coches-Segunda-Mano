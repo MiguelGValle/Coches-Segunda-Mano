{
 "cells": [
  {
   "cell_type": "code",
   "execution_count": 5,
   "id": "1a4832be-5181-49dc-aa58-1f9ab9f00c4c",
   "metadata": {
    "tags": []
   },
   "outputs": [],
   "source": [
    "import numpy as np\n",
    "import pandas as pd\n",
    "import requests\n",
    "import tqdm\n",
    "import time\n",
    "import random\n",
    "import re\n",
    "\n",
    "from bs4 import BeautifulSoup\n",
    "from selenium import webdriver\n",
    "from selenium.webdriver.common.by import By\n",
    "\n",
    "from time import sleep"
   ]
  },
  {
   "cell_type": "code",
   "execution_count": 7,
   "id": "0e5a5766-54e3-47e0-be21-c6619f1da50b",
   "metadata": {
    "tags": []
   },
   "outputs": [],
   "source": [
    "pd.set_option('display.max_columns', None)"
   ]
  },
  {
   "cell_type": "code",
   "execution_count": 9,
   "id": "ea4698de-bb90-4c79-8e4a-d4405f1b6998",
   "metadata": {
    "tags": []
   },
   "outputs": [
    {
     "name": "stdout",
     "output_type": "stream",
     "text": [
      "200\n"
     ]
    }
   ],
   "source": [
    "url = \"https://www.autocasion.com/coches-ocasion\"\n",
    "headers = {\n",
    "    \"User-Agent\": \"Mozilla/5.0 (Windows NT 10.0; Win64; x64) AppleWebKit/537.36 (KHTML, like Gecko) Chrome/58.0.3029.110 Safari/537.3\"\n",
    "}\n",
    "\n",
    "session = requests.Session()\n",
    "\n",
    "response = session.get(url, headers=headers)\n",
    "soup = BeautifulSoup(response.content, \"html.parser\")\n",
    "print(response.status_code)"
   ]
  },
  {
   "cell_type": "code",
   "execution_count": 11,
   "id": "92b0d424-d72c-4e68-a1a6-1a36d8a35933",
   "metadata": {},
   "outputs": [
    {
     "data": {
      "text/plain": [
       "6594"
      ]
     },
     "execution_count": 11,
     "metadata": {},
     "output_type": "execute_result"
    }
   ],
   "source": [
    "anuncios_pagina = soup.find_all(\"article\", class_=\"anuncio\")\n",
    "\n",
    "total_coches = int(soup.find('div', class_=\"container listado\").find('h1').text.strip().split('\\n')[0].replace('.',''))\n",
    "\n",
    "total_paginas = int(total_coches/len(anuncios_pagina)) + (1 if (total_coches/len(anuncios_pagina))%1 else 0)\n",
    "\n",
    "total_paginas"
   ]
  },
  {
   "cell_type": "code",
   "execution_count": 13,
   "id": "e9a34be9-b10f-4a6c-8d32-6a85030bc4fb",
   "metadata": {},
   "outputs": [],
   "source": [
    "def links_coches():\n",
    "    url_base = \"https://www.autocasion.com\"\n",
    "    url_pagina = f\"{url_base}/coches-ocasion?direction=desc&sort=updated_at&page=\"\n",
    "    \n",
    "    headers = {\n",
    "        \"User-Agent\": \"Mozilla/5.0 (Windows NT 10.0; Win64; x64) AppleWebKit/537.36 (KHTML, like Gecko) Chrome/58.0.3029.110 Safari/537.3\"\n",
    "    }\n",
    "    session = requests.Session()\n",
    "    \n",
    "    lista_paginas = []\n",
    "    anuncios_coches = []\n",
    "\n",
    "    for pagina in range(1, total_paginas +1):\n",
    "        lista_paginas.append(f'{url_pagina}{pagina}')\n",
    "        \n",
    "    lista_prueba = lista_paginas[:5]\n",
    "        \n",
    "    for pagina_url in lista_prueba:\n",
    "        response = session.get(pagina_url, headers=headers)\n",
    "        soup = BeautifulSoup(response.content, \"html.parser\")\n",
    "        anuncios = soup.find_all(\"article\", class_=\"anuncio\")\n",
    "        \n",
    "        for anuncio in anuncios:\n",
    "            coche_url = anuncio.find(\"a\")['href']\n",
    "            anuncios_coches.append(f'{url_base}{coche_url}')   \n",
    "    \n",
    "        \n",
    "    return lista_paginas, anuncios_coches"
   ]
  },
  {
   "cell_type": "code",
   "execution_count": 15,
   "id": "14720e43-2304-45e2-916d-8b199884dcdf",
   "metadata": {
    "scrolled": true,
    "tags": []
   },
   "outputs": [
    {
     "data": {
      "text/plain": [
       "['https://www.autocasion.com/coches-segunda-mano/fiat-500-ocasion/500-1-0-hybrid-dolcevita-52kw-ref14697758',\n",
       " 'https://www.autocasion.com/coches-segunda-mano/bmw-serie-1-ocasion/118d-5-ref14636885',\n",
       " 'https://www.autocasion.com/coches-segunda-mano/mercedes-benz-eqc-ocasion/eqc-400-4matic-ref14697751',\n",
       " 'https://www.autocasion.com/coches-segunda-mano/bmw-x1-ocasion/x1-sdrive-16d-business-2-ref14697756',\n",
       " 'https://www.autocasion.com/coches-segunda-mano/honda-civic-ocasion/civic-1-0-vtec-turbo-elegance-navi-1-ref14310581',\n",
       " 'https://www.autocasion.com/coches-km0/km-0/audi-a1-km0/a1-sportback-25-tfsi-adrenalin-black-edition-ref14697752',\n",
       " 'https://www.autocasion.com/coches-km0/km-0/honda-jazz-km0/jazz-1-5-i-mmd-advance-166eaafdad72ca-ref14347648',\n",
       " 'https://www.autocasion.com/coches-segunda-mano/toyota-corolla-ocasion/1-8-125h-active-tech-e-cvt-166a0db4bd069d-ref13894390',\n",
       " 'https://www.autocasion.com/coches-segunda-mano/ford-focus-ocasion/focus-1-0-ecoboost-mhev-92kw-st-line-125-5p-16-ref14436438',\n",
       " 'https://www.autocasion.com/coches-segunda-mano/peugeot-3008-ocasion/3008-1-2-puretech-s-s-style-130-ref14603224',\n",
       " 'https://www.autocasion.com/coches-segunda-mano/peugeot-2008-ocasion/2008-1-5bluehdi-s-s-allure-pack-eat8-130-ref14519514',\n",
       " 'https://www.autocasion.com/coches-segunda-mano/opel-astra-ocasion/opel-astra-berlina-manual-de-5-puertas-24-ref12296861',\n",
       " 'https://www.autocasion.com/coches-km0/km-0/bmw-x2-km0/ix2-edrive20a-ref13431788',\n",
       " 'https://www.autocasion.com/coches-segunda-mano/ford-focus-ocasion/focus-1-5tdci-trend-120-ref14636765',\n",
       " 'https://www.autocasion.com/coches-segunda-mano/bmw-serie-1-ocasion/120i-cabrio-ref13833489',\n",
       " 'https://www.autocasion.com/coches-segunda-mano/renault-captur-ocasion/captur-tce-intens-67kw-ref14298841',\n",
       " 'https://www.autocasion.com/coches-segunda-mano/mercedes-benz-clase-gle-ocasion/clase-gle-400-d-4matic-1668e64b95f497-ref13781270',\n",
       " 'https://www.autocasion.com/coches-segunda-mano/renault-megane-ocasion/megane-1-5dci-blue-limited-70kw-1-ref14636366',\n",
       " 'https://www.autocasion.com/coches-segunda-mano/kia-stonic-ocasion/stonic-1-2-cvvt-62kw-business-84-5p-ref14315063',\n",
       " 'https://www.autocasion.com/coches-segunda-mano/toyota-corolla-ocasion/corolla-1-8-hybrid-active-tech-e-cvt-122-5p-190-ref12358974',\n",
       " 'https://www.autocasion.com/coches-segunda-mano/toyota-corolla-ocasion/corolla-1-8-hev-style-e-cvt-140-4p-ref14646554',\n",
       " 'https://www.autocasion.com/coches-segunda-mano/kia-rio-ocasion/rio-1-2-dpi-concept-84-ref14315004',\n",
       " 'https://www.autocasion.com/coches-segunda-mano/ford-puma-suv-ocasion/puma-1-0-ecoboost-vignale-aut-125-ref14050257',\n",
       " 'https://www.autocasion.com/coches-segunda-mano/mercedes-benz-clase-t-ocasion/clase-t-180-d-style-166269339e91e1-ref12877094',\n",
       " 'https://www.autocasion.com/coches-segunda-mano/land-rover-defender-ocasion/defender-90-sw-e-1-ref12246248',\n",
       " 'https://www.autocasion.com/coches-segunda-mano/jaguar-xe-ocasion/xe-2-0-diesel-pure-aut-180-awd-ref14067699',\n",
       " 'https://www.autocasion.com/coches-segunda-mano/audi-a6-ocasion/a6-3-0tdi-quattro-tiptronic-ref14000470',\n",
       " 'https://www.autocasion.com/coches-segunda-mano/hyundai-kona-ocasion/kona-1-0-tgdi-48v-maxx-4x2-1-ref14633675',\n",
       " 'https://www.autocasion.com/coches-segunda-mano/mercedes-benz-clase-b-ocasion/b-180cdi-1-ref12876722',\n",
       " 'https://www.autocasion.com/coches-segunda-mano/dacia-lodgy-ocasion/lodgy-1-5dci-laureate-7pl-110-ref14693067',\n",
       " 'https://www.autocasion.com/coches-segunda-mano/land-rover-discovery-sport-ocasion/discovery-sport-2-0ed4-s-fwd-163-ref10820134',\n",
       " 'https://www.autocasion.com/coches-segunda-mano/volvo-xc60-ocasion/xc60-b4-plus-dark-fwd-aut-ref11451936',\n",
       " 'https://www.autocasion.com/coches-segunda-mano/skoda-kodiaq-ocasion/kodiaq-2-0tdi-style-dsg-150-ref14641744',\n",
       " 'https://www.autocasion.com/coches-segunda-mano/nissan-note-ocasion/note-1-5dci-acenta-2-ref14653501',\n",
       " 'https://www.autocasion.com/coches-segunda-mano/mercedes-benz-clase-a-ocasion/a-180d-7g-dct-ref14659498',\n",
       " 'https://www.autocasion.com/coches-segunda-mano/volkswagen-golf-ocasion/1-4-tsi-ehybrid-150kw-16710eeedda2c0-ref14605093',\n",
       " 'https://www.autocasion.com/coches-segunda-mano/kia-ceed-ocasion/ceed-1-4-cvvt-concept-1-ref14605101',\n",
       " 'https://www.autocasion.com/coches-segunda-mano/land-rover-range-rover-ocasion/range-rover-3-0d-i6-mhev-hse-swb-awd-aut-350-ref9972190',\n",
       " 'https://www.autocasion.com/coches-segunda-mano/hyundai-i20-ocasion/i20-1-2-mpi-nline-30-aniversario-ref14659493',\n",
       " 'https://www.autocasion.com/coches-segunda-mano/cupra-len-ocasion/cupra-leon-2-0-tsi-dsg-140kw-ref14697749',\n",
       " 'https://www.autocasion.com/coches-segunda-mano/citroen-c-elysee-ocasion/c-elysee-1-2-puretech-shine-82-ref14659512',\n",
       " 'https://www.autocasion.com/coches-segunda-mano/volvo-xc40-ocasion/b3-momentum-pro-aut-1671bd3c02e6d0-ref14673940',\n",
       " 'https://www.autocasion.com/coches-segunda-mano/land-rover-range-rover-sport-ocasion/range-rover-sport-3-0sdv6-autobiography-306-ref13029667',\n",
       " 'https://www.autocasion.com/coches-segunda-mano/bmw-i8-ocasion/i8-ref14693449',\n",
       " 'https://www.autocasion.com/coches-segunda-mano/land-rover-defender-ocasion/defender-110-sw-e-1-ref6330075',\n",
       " 'https://www.autocasion.com/coches-segunda-mano/mazda-mazda2-ocasion/2-mazda-hybrid-1-5-agile-cvt-85kw-1671a22b9f0f2c-ref14659495',\n",
       " 'https://www.autocasion.com/coches-segunda-mano/opel-insignia-ocasion/1-5d-busine-ed-122cv-1671a22bd94d5d-ref14659529',\n",
       " 'https://www.autocasion.com/coches-km0/km-0/fiat-tipo-km0/tipo-1-0-gse-ref8043444',\n",
       " 'https://www.autocasion.com/coches-segunda-mano/opel-insignia-ocasion/1-5d-busine-ed-122cv-1671a22bd94d5d-ref14659529',\n",
       " 'https://www.autocasion.com/coches-km0/km-0/fiat-tipo-km0/tipo-1-0-gse-ref8043444',\n",
       " 'https://www.autocasion.com/coches-segunda-mano/nissan-micra-ocasion/micra-ig-t-s-s-acenta-90-ref14659491',\n",
       " 'https://www.autocasion.com/coches-segunda-mano/mercedes-benz-clase-a-ocasion/a-250e-8g-dct-1671a22b85e4ea-ref14659483',\n",
       " 'https://www.autocasion.com/coches-segunda-mano/mazda-mx-30-ocasion/mx-30-e-skyactiv-1st-edition-modern-105kw-ref14686979',\n",
       " 'https://www.autocasion.com/coches-km0/km-0/land-rover-range-rover-km0/range-rover-4-4-v8-autobiography-swb-awd-aut-530-ref11583716',\n",
       " 'https://www.autocasion.com/coches-segunda-mano/audi-a3-ocasion/a3-sportback-30-tfsi-s-tronic-ref14605102',\n",
       " 'https://www.autocasion.com/coches-segunda-mano/volkswagen-tiguan-ocasion/tiguan-2-0tdi-r-line-dsg-110kw-ref14673939',\n",
       " 'https://www.autocasion.com/coches-segunda-mano/nissan-qashqai-ocasion/qashqai-1-3-dig-t-103kw-acenta-4x2-ref14617328',\n",
       " 'https://www.autocasion.com/coches-segunda-mano/cupra-formentor-ocasion/cupra-formentor-1-5-tsi-150-ref14670187',\n",
       " 'https://www.autocasion.com/coches-segunda-mano/nissan-qashqai-ocasion/1-3mhev-103kw-tekna4x2-1671a22b706c5a-ref14659477',\n",
       " 'https://www.autocasion.com/coches-km0/km-0/mitsubishi-colt-km0/colt-100t-kaiteki-ref14242844',\n",
       " 'https://www.autocasion.com/coches-segunda-mano/land-rover-range-rover-evoque-ocasion/evoque-2-2l-td4-prestige-4x4-1-ref14651649',\n",
       " 'https://www.autocasion.com/coches-segunda-mano/land-rover-range-rover-velar-ocasion/velar-3-0d-se-4wd-aut-ref8383269',\n",
       " 'https://www.autocasion.com/coches-km0/km-0/audi-q3-km0/q3-35-tdi-s-line-s-tronic-110kw-ref14686087',\n",
       " 'https://www.autocasion.com/coches-segunda-mano/audi-a1-ocasion/a1-sportback-25-tfsi-s-line-ref12651147',\n",
       " 'https://www.autocasion.com/coches-segunda-mano/audi-a3-ocasion/a3-sportback-1-6tdi-cd-advanced-ref14646260',\n",
       " 'https://www.autocasion.com/coches-segunda-mano/audi-q2-ocasion/q2-30-tdi-advanced-s-tronic-85kw-ref14291043',\n",
       " 'https://www.autocasion.com/coches-segunda-mano/mercedes-benz-clase-b-ocasion/b-180d-7g-dct-1-ref14291461',\n",
       " 'https://www.autocasion.com/coches-segunda-mano/mg-4-ocasion/mg4-standard-ref14512710',\n",
       " 'https://www.autocasion.com/coches-segunda-mano/maserati-ghibli-ocasion/v6-275-hp-d-rwd-16703f1c2530e2-ref14512703',\n",
       " 'https://www.autocasion.com/coches-segunda-mano/bmw-serie-5-ocasion/520da-gran-turismo-1-ref14512746',\n",
       " 'https://www.autocasion.com/coches-segunda-mano/land-rover-range-rover-evoque-ocasion/2-0-d150-s-auto-4wd-mhev-16703f1c783115-ref14512750',\n",
       " 'https://www.autocasion.com/coches-segunda-mano/toyota-corolla-ocasion/125h-active-tech-16703f1c3186e9-ref14512719',\n",
       " 'https://www.autocasion.com/coches-segunda-mano/land-rover-range-rover-sport-ocasion/rr-sport-5-0-v8-sc-autobiography-dynamic-aut-ref12543680',\n",
       " 'https://www.autocasion.com/coches-segunda-mano/volkswagen-passat-ocasion/passat-2-0tdi-cr-advance-plus-110-ref14697757',\n",
       " 'https://www.autocasion.com/coches-segunda-mano/volvo-v90-cross-country-ocasion/2-0-b4-d-awd-auto-16703f1c8607d6-ref14512756',\n",
       " 'https://www.autocasion.com/coches-segunda-mano/volvo-v90-ocasion/2-0-t6-awd-recharge-inscription-exp-auto-16703f1c6ad9d5-ref14512748',\n",
       " 'https://www.autocasion.com/coches-segunda-mano/land-rover-range-rover-ocasion/range-rover-2-0-si4-phev-vogue-4wd-aut-ref12470520',\n",
       " 'https://www.autocasion.com/coches-segunda-mano/volkswagen-tiguan-ocasion/tiguan-2-0tdi-r-line-dsg-110kw-ref14512761',\n",
       " 'https://www.autocasion.com/coches-segunda-mano/mercedes-benz-clase-glc-ocasion/glc-mercedes-benz-mercedesamg-glc-43-4matic-16703f1c9c4860-ref14512764',\n",
       " 'https://www.autocasion.com/coches-segunda-mano/citroen-c3-aircross-ocasion/c3-aircross-puretech-s-s-plus-110-ref14382157']"
      ]
     },
     "execution_count": 15,
     "metadata": {},
     "output_type": "execute_result"
    }
   ],
   "source": [
    "lista_paginas,anuncios_coches = links_coches()\n",
    "anuncios_coches"
   ]
  },
  {
   "cell_type": "code",
   "execution_count": 17,
   "id": "4c79d371-88c8-485b-beb2-9fb93b2c8d04",
   "metadata": {
    "tags": []
   },
   "outputs": [],
   "source": [
    "headers = {\n",
    "           \"User-Agent\": \"Mozilla/5.0 (Windows NT 10.0; Win64; x64) AppleWebKit/537.36 (KHTML, like Gecko) Chrome/58.0.3029.110 Safari/537.3\"\n",
    "            }\n",
    "session = requests.Session()"
   ]
  },
  {
   "cell_type": "code",
   "execution_count": 19,
   "id": "c9375e9c-3fb5-4673-85dc-d0477da9397d",
   "metadata": {
    "tags": []
   },
   "outputs": [],
   "source": [
    "# Función para buscar y extraer un valor específico de cada cadena\n",
    "def buscar_detalle(texto, campo):\n",
    "    # Usamos expresiones regulares para capturar el campo deseado seguido de su valor\n",
    "    pattern = rf\"{campo}\\s*:\\s*([^\\n]+)\"\n",
    "    match = re.search(pattern, texto)\n",
    "    return match.group(1).strip() if match else None"
   ]
  },
  {
   "cell_type": "code",
   "execution_count": 21,
   "id": "97f2a0c8-763a-4408-8abf-ea94b6d84a17",
   "metadata": {
    "scrolled": true,
    "tags": []
   },
   "outputs": [
    {
     "name": "stderr",
     "output_type": "stream",
     "text": [
      "  0%|          | 0/80 [00:00<?, ?it/s]"
     ]
    },
    {
     "name": "stdout",
     "output_type": "stream",
     "text": [
      "https://www.autocasion.com/coches-segunda-mano/fiat-500-ocasion/500-1-0-hybrid-dolcevita-52kw-ref14697758\n"
     ]
    },
    {
     "name": "stderr",
     "output_type": "stream",
     "text": [
      "  1%|▏         | 1/80 [00:03<05:10,  3.93s/it]"
     ]
    },
    {
     "name": "stdout",
     "output_type": "stream",
     "text": [
      "https://www.autocasion.com/coches-segunda-mano/bmw-serie-1-ocasion/118d-5-ref14636885\n"
     ]
    },
    {
     "name": "stderr",
     "output_type": "stream",
     "text": [
      "  2%|▎         | 2/80 [00:07<04:32,  3.50s/it]"
     ]
    },
    {
     "name": "stdout",
     "output_type": "stream",
     "text": [
      "https://www.autocasion.com/coches-segunda-mano/mercedes-benz-eqc-ocasion/eqc-400-4matic-ref14697751\n"
     ]
    },
    {
     "name": "stderr",
     "output_type": "stream",
     "text": [
      "  4%|▍         | 3/80 [00:09<03:39,  2.85s/it]"
     ]
    },
    {
     "name": "stdout",
     "output_type": "stream",
     "text": [
      "https://www.autocasion.com/coches-segunda-mano/bmw-x1-ocasion/x1-sdrive-16d-business-2-ref14697756\n"
     ]
    },
    {
     "name": "stderr",
     "output_type": "stream",
     "text": [
      "  5%|▌         | 4/80 [00:11<03:30,  2.77s/it]"
     ]
    },
    {
     "name": "stdout",
     "output_type": "stream",
     "text": [
      "https://www.autocasion.com/coches-segunda-mano/honda-civic-ocasion/civic-1-0-vtec-turbo-elegance-navi-1-ref14310581\n"
     ]
    },
    {
     "name": "stderr",
     "output_type": "stream",
     "text": [
      "  6%|▋         | 5/80 [00:14<03:27,  2.77s/it]"
     ]
    },
    {
     "name": "stdout",
     "output_type": "stream",
     "text": [
      "https://www.autocasion.com/coches-km0/km-0/audi-a1-km0/a1-sportback-25-tfsi-adrenalin-black-edition-ref14697752\n"
     ]
    },
    {
     "name": "stderr",
     "output_type": "stream",
     "text": [
      "  8%|▊         | 6/80 [00:16<03:05,  2.51s/it]"
     ]
    },
    {
     "name": "stdout",
     "output_type": "stream",
     "text": [
      "https://www.autocasion.com/coches-km0/km-0/honda-jazz-km0/jazz-1-5-i-mmd-advance-166eaafdad72ca-ref14347648\n"
     ]
    },
    {
     "name": "stderr",
     "output_type": "stream",
     "text": [
      "  9%|▉         | 7/80 [00:18<02:50,  2.33s/it]"
     ]
    },
    {
     "name": "stdout",
     "output_type": "stream",
     "text": [
      "https://www.autocasion.com/coches-segunda-mano/toyota-corolla-ocasion/1-8-125h-active-tech-e-cvt-166a0db4bd069d-ref13894390\n"
     ]
    },
    {
     "name": "stderr",
     "output_type": "stream",
     "text": [
      " 10%|█         | 8/80 [00:21<03:09,  2.63s/it]"
     ]
    },
    {
     "name": "stdout",
     "output_type": "stream",
     "text": [
      "https://www.autocasion.com/coches-segunda-mano/ford-focus-ocasion/focus-1-0-ecoboost-mhev-92kw-st-line-125-5p-16-ref14436438\n"
     ]
    },
    {
     "name": "stderr",
     "output_type": "stream",
     "text": [
      " 11%|█▏        | 9/80 [00:24<03:16,  2.76s/it]"
     ]
    },
    {
     "name": "stdout",
     "output_type": "stream",
     "text": [
      "https://www.autocasion.com/coches-segunda-mano/peugeot-3008-ocasion/3008-1-2-puretech-s-s-style-130-ref14603224\n"
     ]
    },
    {
     "name": "stderr",
     "output_type": "stream",
     "text": [
      " 12%|█▎        | 10/80 [00:28<03:29,  2.99s/it]"
     ]
    },
    {
     "name": "stdout",
     "output_type": "stream",
     "text": [
      "https://www.autocasion.com/coches-segunda-mano/peugeot-2008-ocasion/2008-1-5bluehdi-s-s-allure-pack-eat8-130-ref14519514\n"
     ]
    },
    {
     "name": "stderr",
     "output_type": "stream",
     "text": [
      " 14%|█▍        | 11/80 [00:31<03:36,  3.14s/it]"
     ]
    },
    {
     "name": "stdout",
     "output_type": "stream",
     "text": [
      "https://www.autocasion.com/coches-segunda-mano/opel-astra-ocasion/opel-astra-berlina-manual-de-5-puertas-24-ref12296861\n"
     ]
    },
    {
     "name": "stderr",
     "output_type": "stream",
     "text": [
      " 15%|█▌        | 12/80 [00:34<03:25,  3.02s/it]"
     ]
    },
    {
     "name": "stdout",
     "output_type": "stream",
     "text": [
      "https://www.autocasion.com/coches-km0/km-0/bmw-x2-km0/ix2-edrive20a-ref13431788\n"
     ]
    },
    {
     "name": "stderr",
     "output_type": "stream",
     "text": [
      " 16%|█▋        | 13/80 [00:36<02:55,  2.61s/it]"
     ]
    },
    {
     "name": "stdout",
     "output_type": "stream",
     "text": [
      "https://www.autocasion.com/coches-segunda-mano/ford-focus-ocasion/focus-1-5tdci-trend-120-ref14636765\n"
     ]
    },
    {
     "name": "stderr",
     "output_type": "stream",
     "text": [
      " 18%|█▊        | 14/80 [00:39<02:56,  2.67s/it]"
     ]
    },
    {
     "name": "stdout",
     "output_type": "stream",
     "text": [
      "https://www.autocasion.com/coches-segunda-mano/bmw-serie-1-ocasion/120i-cabrio-ref13833489\n"
     ]
    },
    {
     "name": "stderr",
     "output_type": "stream",
     "text": [
      " 19%|█▉        | 15/80 [00:42<03:06,  2.86s/it]"
     ]
    },
    {
     "name": "stdout",
     "output_type": "stream",
     "text": [
      "https://www.autocasion.com/coches-segunda-mano/renault-captur-ocasion/captur-tce-intens-67kw-ref14298841\n"
     ]
    },
    {
     "name": "stderr",
     "output_type": "stream",
     "text": [
      " 20%|██        | 16/80 [00:44<02:53,  2.71s/it]"
     ]
    },
    {
     "name": "stdout",
     "output_type": "stream",
     "text": [
      "https://www.autocasion.com/coches-segunda-mano/mercedes-benz-clase-gle-ocasion/clase-gle-400-d-4matic-1668e64b95f497-ref13781270\n"
     ]
    },
    {
     "name": "stderr",
     "output_type": "stream",
     "text": [
      " 21%|██▏       | 17/80 [00:46<02:32,  2.42s/it]"
     ]
    },
    {
     "name": "stdout",
     "output_type": "stream",
     "text": [
      "https://www.autocasion.com/coches-segunda-mano/renault-megane-ocasion/megane-1-5dci-blue-limited-70kw-1-ref14636366\n"
     ]
    },
    {
     "name": "stderr",
     "output_type": "stream",
     "text": [
      " 22%|██▎       | 18/80 [00:48<02:28,  2.40s/it]"
     ]
    },
    {
     "name": "stdout",
     "output_type": "stream",
     "text": [
      "https://www.autocasion.com/coches-segunda-mano/kia-stonic-ocasion/stonic-1-2-cvvt-62kw-business-84-5p-ref14315063\n"
     ]
    },
    {
     "name": "stderr",
     "output_type": "stream",
     "text": [
      " 24%|██▍       | 19/80 [00:51<02:28,  2.43s/it]"
     ]
    },
    {
     "name": "stdout",
     "output_type": "stream",
     "text": [
      "https://www.autocasion.com/coches-segunda-mano/toyota-corolla-ocasion/corolla-1-8-hybrid-active-tech-e-cvt-122-5p-190-ref12358974\n"
     ]
    },
    {
     "name": "stderr",
     "output_type": "stream",
     "text": [
      " 25%|██▌       | 20/80 [00:53<02:21,  2.36s/it]"
     ]
    },
    {
     "name": "stdout",
     "output_type": "stream",
     "text": [
      "https://www.autocasion.com/coches-segunda-mano/toyota-corolla-ocasion/corolla-1-8-hev-style-e-cvt-140-4p-ref14646554\n"
     ]
    },
    {
     "name": "stderr",
     "output_type": "stream",
     "text": [
      " 26%|██▋       | 21/80 [00:56<02:34,  2.62s/it]"
     ]
    },
    {
     "name": "stdout",
     "output_type": "stream",
     "text": [
      "https://www.autocasion.com/coches-segunda-mano/kia-rio-ocasion/rio-1-2-dpi-concept-84-ref14315004\n"
     ]
    },
    {
     "name": "stderr",
     "output_type": "stream",
     "text": [
      " 28%|██▊       | 22/80 [00:59<02:27,  2.55s/it]"
     ]
    },
    {
     "name": "stdout",
     "output_type": "stream",
     "text": [
      "https://www.autocasion.com/coches-segunda-mano/ford-puma-suv-ocasion/puma-1-0-ecoboost-vignale-aut-125-ref14050257\n"
     ]
    },
    {
     "name": "stderr",
     "output_type": "stream",
     "text": [
      " 29%|██▉       | 23/80 [01:01<02:24,  2.53s/it]"
     ]
    },
    {
     "name": "stdout",
     "output_type": "stream",
     "text": [
      "https://www.autocasion.com/coches-segunda-mano/mercedes-benz-clase-t-ocasion/clase-t-180-d-style-166269339e91e1-ref12877094\n"
     ]
    },
    {
     "name": "stderr",
     "output_type": "stream",
     "text": [
      " 30%|███       | 24/80 [01:04<02:33,  2.73s/it]"
     ]
    },
    {
     "name": "stdout",
     "output_type": "stream",
     "text": [
      "https://www.autocasion.com/coches-segunda-mano/land-rover-defender-ocasion/defender-90-sw-e-1-ref12246248\n"
     ]
    },
    {
     "name": "stderr",
     "output_type": "stream",
     "text": [
      " 31%|███▏      | 25/80 [01:06<02:18,  2.51s/it]"
     ]
    },
    {
     "name": "stdout",
     "output_type": "stream",
     "text": [
      "https://www.autocasion.com/coches-segunda-mano/jaguar-xe-ocasion/xe-2-0-diesel-pure-aut-180-awd-ref14067699\n"
     ]
    },
    {
     "name": "stderr",
     "output_type": "stream",
     "text": [
      " 32%|███▎      | 26/80 [01:09<02:18,  2.56s/it]"
     ]
    },
    {
     "name": "stdout",
     "output_type": "stream",
     "text": [
      "https://www.autocasion.com/coches-segunda-mano/audi-a6-ocasion/a6-3-0tdi-quattro-tiptronic-ref14000470\n"
     ]
    },
    {
     "name": "stderr",
     "output_type": "stream",
     "text": [
      " 34%|███▍      | 27/80 [01:11<02:05,  2.36s/it]"
     ]
    },
    {
     "name": "stdout",
     "output_type": "stream",
     "text": [
      "https://www.autocasion.com/coches-segunda-mano/hyundai-kona-ocasion/kona-1-0-tgdi-48v-maxx-4x2-1-ref14633675\n"
     ]
    },
    {
     "name": "stderr",
     "output_type": "stream",
     "text": [
      " 35%|███▌      | 28/80 [01:13<01:54,  2.20s/it]"
     ]
    },
    {
     "name": "stdout",
     "output_type": "stream",
     "text": [
      "https://www.autocasion.com/coches-segunda-mano/mercedes-benz-clase-b-ocasion/b-180cdi-1-ref12876722\n"
     ]
    },
    {
     "name": "stderr",
     "output_type": "stream",
     "text": [
      " 36%|███▋      | 29/80 [01:14<01:41,  1.99s/it]"
     ]
    },
    {
     "name": "stdout",
     "output_type": "stream",
     "text": [
      "https://www.autocasion.com/coches-segunda-mano/dacia-lodgy-ocasion/lodgy-1-5dci-laureate-7pl-110-ref14693067\n"
     ]
    },
    {
     "name": "stderr",
     "output_type": "stream",
     "text": [
      " 38%|███▊      | 30/80 [01:16<01:36,  1.94s/it]"
     ]
    },
    {
     "name": "stdout",
     "output_type": "stream",
     "text": [
      "https://www.autocasion.com/coches-segunda-mano/land-rover-discovery-sport-ocasion/discovery-sport-2-0ed4-s-fwd-163-ref10820134\n"
     ]
    },
    {
     "name": "stderr",
     "output_type": "stream",
     "text": [
      " 39%|███▉      | 31/80 [01:19<01:44,  2.14s/it]"
     ]
    },
    {
     "name": "stdout",
     "output_type": "stream",
     "text": [
      "https://www.autocasion.com/coches-segunda-mano/volvo-xc60-ocasion/xc60-b4-plus-dark-fwd-aut-ref11451936\n"
     ]
    },
    {
     "name": "stderr",
     "output_type": "stream",
     "text": [
      " 40%|████      | 32/80 [01:22<01:53,  2.36s/it]"
     ]
    },
    {
     "name": "stdout",
     "output_type": "stream",
     "text": [
      "https://www.autocasion.com/coches-segunda-mano/skoda-kodiaq-ocasion/kodiaq-2-0tdi-style-dsg-150-ref14641744\n"
     ]
    },
    {
     "name": "stderr",
     "output_type": "stream",
     "text": [
      " 41%|████▏     | 33/80 [01:24<01:54,  2.44s/it]"
     ]
    },
    {
     "name": "stdout",
     "output_type": "stream",
     "text": [
      "https://www.autocasion.com/coches-segunda-mano/nissan-note-ocasion/note-1-5dci-acenta-2-ref14653501\n"
     ]
    },
    {
     "name": "stderr",
     "output_type": "stream",
     "text": [
      " 42%|████▎     | 34/80 [01:27<01:55,  2.50s/it]"
     ]
    },
    {
     "name": "stdout",
     "output_type": "stream",
     "text": [
      "https://www.autocasion.com/coches-segunda-mano/mercedes-benz-clase-a-ocasion/a-180d-7g-dct-ref14659498\n"
     ]
    },
    {
     "name": "stderr",
     "output_type": "stream",
     "text": [
      " 44%|████▍     | 35/80 [01:30<02:03,  2.74s/it]"
     ]
    },
    {
     "name": "stdout",
     "output_type": "stream",
     "text": [
      "https://www.autocasion.com/coches-segunda-mano/volkswagen-golf-ocasion/1-4-tsi-ehybrid-150kw-16710eeedda2c0-ref14605093\n"
     ]
    },
    {
     "name": "stderr",
     "output_type": "stream",
     "text": [
      " 45%|████▌     | 36/80 [01:32<01:49,  2.48s/it]"
     ]
    },
    {
     "name": "stdout",
     "output_type": "stream",
     "text": [
      "https://www.autocasion.com/coches-segunda-mano/kia-ceed-ocasion/ceed-1-4-cvvt-concept-1-ref14605101\n"
     ]
    },
    {
     "name": "stderr",
     "output_type": "stream",
     "text": [
      " 46%|████▋     | 37/80 [01:34<01:42,  2.40s/it]"
     ]
    },
    {
     "name": "stdout",
     "output_type": "stream",
     "text": [
      "https://www.autocasion.com/coches-segunda-mano/land-rover-range-rover-ocasion/range-rover-3-0d-i6-mhev-hse-swb-awd-aut-350-ref9972190\n"
     ]
    },
    {
     "name": "stderr",
     "output_type": "stream",
     "text": [
      " 48%|████▊     | 38/80 [01:38<01:57,  2.81s/it]"
     ]
    },
    {
     "name": "stdout",
     "output_type": "stream",
     "text": [
      "https://www.autocasion.com/coches-segunda-mano/hyundai-i20-ocasion/i20-1-2-mpi-nline-30-aniversario-ref14659493\n"
     ]
    },
    {
     "name": "stderr",
     "output_type": "stream",
     "text": [
      " 49%|████▉     | 39/80 [01:41<02:02,  2.98s/it]"
     ]
    },
    {
     "name": "stdout",
     "output_type": "stream",
     "text": [
      "https://www.autocasion.com/coches-segunda-mano/cupra-len-ocasion/cupra-leon-2-0-tsi-dsg-140kw-ref14697749\n"
     ]
    },
    {
     "name": "stderr",
     "output_type": "stream",
     "text": [
      " 50%|█████     | 40/80 [01:44<01:49,  2.73s/it]"
     ]
    },
    {
     "name": "stdout",
     "output_type": "stream",
     "text": [
      "https://www.autocasion.com/coches-segunda-mano/citroen-c-elysee-ocasion/c-elysee-1-2-puretech-shine-82-ref14659512\n"
     ]
    },
    {
     "name": "stderr",
     "output_type": "stream",
     "text": [
      " 51%|█████▏    | 41/80 [01:46<01:41,  2.61s/it]"
     ]
    },
    {
     "name": "stdout",
     "output_type": "stream",
     "text": [
      "https://www.autocasion.com/coches-segunda-mano/volvo-xc40-ocasion/b3-momentum-pro-aut-1671bd3c02e6d0-ref14673940\n"
     ]
    },
    {
     "name": "stderr",
     "output_type": "stream",
     "text": [
      " 52%|█████▎    | 42/80 [01:48<01:35,  2.51s/it]"
     ]
    },
    {
     "name": "stdout",
     "output_type": "stream",
     "text": [
      "https://www.autocasion.com/coches-segunda-mano/land-rover-range-rover-sport-ocasion/range-rover-sport-3-0sdv6-autobiography-306-ref13029667\n"
     ]
    },
    {
     "name": "stderr",
     "output_type": "stream",
     "text": [
      " 54%|█████▍    | 43/80 [01:52<01:44,  2.84s/it]"
     ]
    },
    {
     "name": "stdout",
     "output_type": "stream",
     "text": [
      "https://www.autocasion.com/coches-segunda-mano/bmw-i8-ocasion/i8-ref14693449\n"
     ]
    },
    {
     "name": "stderr",
     "output_type": "stream",
     "text": [
      " 55%|█████▌    | 44/80 [01:54<01:36,  2.67s/it]"
     ]
    },
    {
     "name": "stdout",
     "output_type": "stream",
     "text": [
      "https://www.autocasion.com/coches-segunda-mano/land-rover-defender-ocasion/defender-110-sw-e-1-ref6330075\n"
     ]
    },
    {
     "name": "stderr",
     "output_type": "stream",
     "text": [
      " 56%|█████▋    | 45/80 [01:57<01:39,  2.84s/it]"
     ]
    },
    {
     "name": "stdout",
     "output_type": "stream",
     "text": [
      "https://www.autocasion.com/coches-segunda-mano/mazda-mazda2-ocasion/2-mazda-hybrid-1-5-agile-cvt-85kw-1671a22b9f0f2c-ref14659495\n"
     ]
    },
    {
     "name": "stderr",
     "output_type": "stream",
     "text": [
      " 57%|█████▊    | 46/80 [02:00<01:36,  2.83s/it]"
     ]
    },
    {
     "name": "stdout",
     "output_type": "stream",
     "text": [
      "https://www.autocasion.com/coches-segunda-mano/opel-insignia-ocasion/1-5d-busine-ed-122cv-1671a22bd94d5d-ref14659529\n"
     ]
    },
    {
     "name": "stderr",
     "output_type": "stream",
     "text": [
      " 59%|█████▉    | 47/80 [02:02<01:24,  2.56s/it]"
     ]
    },
    {
     "name": "stdout",
     "output_type": "stream",
     "text": [
      "https://www.autocasion.com/coches-km0/km-0/fiat-tipo-km0/tipo-1-0-gse-ref8043444\n"
     ]
    },
    {
     "name": "stderr",
     "output_type": "stream",
     "text": [
      " 60%|██████    | 48/80 [02:04<01:21,  2.53s/it]"
     ]
    },
    {
     "name": "stdout",
     "output_type": "stream",
     "text": [
      "https://www.autocasion.com/coches-segunda-mano/opel-insignia-ocasion/1-5d-busine-ed-122cv-1671a22bd94d5d-ref14659529\n"
     ]
    },
    {
     "name": "stderr",
     "output_type": "stream",
     "text": [
      " 61%|██████▏   | 49/80 [02:07<01:15,  2.45s/it]"
     ]
    },
    {
     "name": "stdout",
     "output_type": "stream",
     "text": [
      "https://www.autocasion.com/coches-km0/km-0/fiat-tipo-km0/tipo-1-0-gse-ref8043444\n"
     ]
    },
    {
     "name": "stderr",
     "output_type": "stream",
     "text": [
      " 62%|██████▎   | 50/80 [02:09<01:07,  2.26s/it]"
     ]
    },
    {
     "name": "stdout",
     "output_type": "stream",
     "text": [
      "https://www.autocasion.com/coches-segunda-mano/nissan-micra-ocasion/micra-ig-t-s-s-acenta-90-ref14659491\n"
     ]
    },
    {
     "name": "stderr",
     "output_type": "stream",
     "text": [
      " 64%|██████▍   | 51/80 [02:12<01:16,  2.64s/it]"
     ]
    },
    {
     "name": "stdout",
     "output_type": "stream",
     "text": [
      "https://www.autocasion.com/coches-segunda-mano/mercedes-benz-clase-a-ocasion/a-250e-8g-dct-1671a22b85e4ea-ref14659483\n"
     ]
    },
    {
     "name": "stderr",
     "output_type": "stream",
     "text": [
      " 65%|██████▌   | 52/80 [02:14<01:09,  2.47s/it]"
     ]
    },
    {
     "name": "stdout",
     "output_type": "stream",
     "text": [
      "https://www.autocasion.com/coches-segunda-mano/mazda-mx-30-ocasion/mx-30-e-skyactiv-1st-edition-modern-105kw-ref14686979\n"
     ]
    },
    {
     "name": "stderr",
     "output_type": "stream",
     "text": [
      " 66%|██████▋   | 53/80 [02:16<01:00,  2.25s/it]"
     ]
    },
    {
     "name": "stdout",
     "output_type": "stream",
     "text": [
      "https://www.autocasion.com/coches-km0/km-0/land-rover-range-rover-km0/range-rover-4-4-v8-autobiography-swb-awd-aut-530-ref11583716\n"
     ]
    },
    {
     "name": "stderr",
     "output_type": "stream",
     "text": [
      " 68%|██████▊   | 54/80 [02:18<00:59,  2.28s/it]"
     ]
    },
    {
     "name": "stdout",
     "output_type": "stream",
     "text": [
      "https://www.autocasion.com/coches-segunda-mano/audi-a3-ocasion/a3-sportback-30-tfsi-s-tronic-ref14605102\n"
     ]
    },
    {
     "name": "stderr",
     "output_type": "stream",
     "text": [
      " 69%|██████▉   | 55/80 [02:20<00:52,  2.09s/it]"
     ]
    },
    {
     "name": "stdout",
     "output_type": "stream",
     "text": [
      "https://www.autocasion.com/coches-segunda-mano/volkswagen-tiguan-ocasion/tiguan-2-0tdi-r-line-dsg-110kw-ref14673939\n"
     ]
    },
    {
     "name": "stderr",
     "output_type": "stream",
     "text": [
      " 70%|███████   | 56/80 [02:23<00:55,  2.31s/it]"
     ]
    },
    {
     "name": "stdout",
     "output_type": "stream",
     "text": [
      "https://www.autocasion.com/coches-segunda-mano/nissan-qashqai-ocasion/qashqai-1-3-dig-t-103kw-acenta-4x2-ref14617328\n"
     ]
    },
    {
     "name": "stderr",
     "output_type": "stream",
     "text": [
      " 71%|███████▏  | 57/80 [02:25<00:55,  2.39s/it]"
     ]
    },
    {
     "name": "stdout",
     "output_type": "stream",
     "text": [
      "https://www.autocasion.com/coches-segunda-mano/cupra-formentor-ocasion/cupra-formentor-1-5-tsi-150-ref14670187\n"
     ]
    },
    {
     "name": "stderr",
     "output_type": "stream",
     "text": [
      " 72%|███████▎  | 58/80 [02:27<00:48,  2.20s/it]"
     ]
    },
    {
     "name": "stdout",
     "output_type": "stream",
     "text": [
      "https://www.autocasion.com/coches-segunda-mano/nissan-qashqai-ocasion/1-3mhev-103kw-tekna4x2-1671a22b706c5a-ref14659477\n"
     ]
    },
    {
     "name": "stderr",
     "output_type": "stream",
     "text": [
      " 74%|███████▍  | 59/80 [02:29<00:44,  2.14s/it]"
     ]
    },
    {
     "name": "stdout",
     "output_type": "stream",
     "text": [
      "https://www.autocasion.com/coches-km0/km-0/mitsubishi-colt-km0/colt-100t-kaiteki-ref14242844\n"
     ]
    },
    {
     "name": "stderr",
     "output_type": "stream",
     "text": [
      " 75%|███████▌  | 60/80 [02:32<00:45,  2.26s/it]"
     ]
    },
    {
     "name": "stdout",
     "output_type": "stream",
     "text": [
      "https://www.autocasion.com/coches-segunda-mano/land-rover-range-rover-evoque-ocasion/evoque-2-2l-td4-prestige-4x4-1-ref14651649\n"
     ]
    },
    {
     "name": "stderr",
     "output_type": "stream",
     "text": [
      " 76%|███████▋  | 61/80 [02:34<00:42,  2.25s/it]"
     ]
    },
    {
     "name": "stdout",
     "output_type": "stream",
     "text": [
      "https://www.autocasion.com/coches-segunda-mano/land-rover-range-rover-velar-ocasion/velar-3-0d-se-4wd-aut-ref8383269\n"
     ]
    },
    {
     "name": "stderr",
     "output_type": "stream",
     "text": [
      " 78%|███████▊  | 62/80 [02:37<00:46,  2.61s/it]"
     ]
    },
    {
     "name": "stdout",
     "output_type": "stream",
     "text": [
      "https://www.autocasion.com/coches-km0/km-0/audi-q3-km0/q3-35-tdi-s-line-s-tronic-110kw-ref14686087\n"
     ]
    },
    {
     "name": "stderr",
     "output_type": "stream",
     "text": [
      " 79%|███████▉  | 63/80 [02:39<00:41,  2.43s/it]"
     ]
    },
    {
     "name": "stdout",
     "output_type": "stream",
     "text": [
      "https://www.autocasion.com/coches-segunda-mano/audi-a1-ocasion/a1-sportback-25-tfsi-s-line-ref12651147\n"
     ]
    },
    {
     "name": "stderr",
     "output_type": "stream",
     "text": [
      " 80%|████████  | 64/80 [02:41<00:37,  2.36s/it]"
     ]
    },
    {
     "name": "stdout",
     "output_type": "stream",
     "text": [
      "https://www.autocasion.com/coches-segunda-mano/audi-a3-ocasion/a3-sportback-1-6tdi-cd-advanced-ref14646260\n"
     ]
    },
    {
     "name": "stderr",
     "output_type": "stream",
     "text": [
      " 81%|████████▏ | 65/80 [02:45<00:39,  2.60s/it]"
     ]
    },
    {
     "name": "stdout",
     "output_type": "stream",
     "text": [
      "https://www.autocasion.com/coches-segunda-mano/audi-q2-ocasion/q2-30-tdi-advanced-s-tronic-85kw-ref14291043\n"
     ]
    },
    {
     "name": "stderr",
     "output_type": "stream",
     "text": [
      " 82%|████████▎ | 66/80 [02:47<00:34,  2.45s/it]"
     ]
    },
    {
     "name": "stdout",
     "output_type": "stream",
     "text": [
      "https://www.autocasion.com/coches-segunda-mano/mercedes-benz-clase-b-ocasion/b-180d-7g-dct-1-ref14291461\n"
     ]
    },
    {
     "name": "stderr",
     "output_type": "stream",
     "text": [
      " 84%|████████▍ | 67/80 [02:49<00:32,  2.50s/it]"
     ]
    },
    {
     "name": "stdout",
     "output_type": "stream",
     "text": [
      "https://www.autocasion.com/coches-segunda-mano/mg-4-ocasion/mg4-standard-ref14512710\n"
     ]
    },
    {
     "name": "stderr",
     "output_type": "stream",
     "text": [
      " 85%|████████▌ | 68/80 [02:52<00:30,  2.53s/it]"
     ]
    },
    {
     "name": "stdout",
     "output_type": "stream",
     "text": [
      "https://www.autocasion.com/coches-segunda-mano/maserati-ghibli-ocasion/v6-275-hp-d-rwd-16703f1c2530e2-ref14512703\n"
     ]
    },
    {
     "name": "stderr",
     "output_type": "stream",
     "text": [
      " 86%|████████▋ | 69/80 [02:55<00:30,  2.78s/it]"
     ]
    },
    {
     "name": "stdout",
     "output_type": "stream",
     "text": [
      "https://www.autocasion.com/coches-segunda-mano/bmw-serie-5-ocasion/520da-gran-turismo-1-ref14512746\n"
     ]
    },
    {
     "name": "stderr",
     "output_type": "stream",
     "text": [
      " 88%|████████▊ | 70/80 [02:57<00:24,  2.45s/it]"
     ]
    },
    {
     "name": "stdout",
     "output_type": "stream",
     "text": [
      "https://www.autocasion.com/coches-segunda-mano/land-rover-range-rover-evoque-ocasion/2-0-d150-s-auto-4wd-mhev-16703f1c783115-ref14512750\n"
     ]
    },
    {
     "name": "stderr",
     "output_type": "stream",
     "text": [
      " 89%|████████▉ | 71/80 [03:00<00:23,  2.57s/it]"
     ]
    },
    {
     "name": "stdout",
     "output_type": "stream",
     "text": [
      "https://www.autocasion.com/coches-segunda-mano/toyota-corolla-ocasion/125h-active-tech-16703f1c3186e9-ref14512719\n"
     ]
    },
    {
     "name": "stderr",
     "output_type": "stream",
     "text": [
      " 90%|█████████ | 72/80 [03:02<00:19,  2.40s/it]"
     ]
    },
    {
     "name": "stdout",
     "output_type": "stream",
     "text": [
      "https://www.autocasion.com/coches-segunda-mano/land-rover-range-rover-sport-ocasion/rr-sport-5-0-v8-sc-autobiography-dynamic-aut-ref12543680\n"
     ]
    },
    {
     "name": "stderr",
     "output_type": "stream",
     "text": [
      " 91%|█████████▏| 73/80 [03:04<00:16,  2.42s/it]"
     ]
    },
    {
     "name": "stdout",
     "output_type": "stream",
     "text": [
      "https://www.autocasion.com/coches-segunda-mano/volkswagen-passat-ocasion/passat-2-0tdi-cr-advance-plus-110-ref14697757\n"
     ]
    },
    {
     "name": "stderr",
     "output_type": "stream",
     "text": [
      " 92%|█████████▎| 74/80 [03:06<00:13,  2.24s/it]"
     ]
    },
    {
     "name": "stdout",
     "output_type": "stream",
     "text": [
      "https://www.autocasion.com/coches-segunda-mano/volvo-v90-cross-country-ocasion/2-0-b4-d-awd-auto-16703f1c8607d6-ref14512756\n"
     ]
    },
    {
     "name": "stderr",
     "output_type": "stream",
     "text": [
      " 94%|█████████▍| 75/80 [03:08<00:10,  2.12s/it]"
     ]
    },
    {
     "name": "stdout",
     "output_type": "stream",
     "text": [
      "https://www.autocasion.com/coches-segunda-mano/volvo-v90-ocasion/2-0-t6-awd-recharge-inscription-exp-auto-16703f1c6ad9d5-ref14512748\n"
     ]
    },
    {
     "name": "stderr",
     "output_type": "stream",
     "text": [
      " 95%|█████████▌| 76/80 [03:11<00:09,  2.42s/it]"
     ]
    },
    {
     "name": "stdout",
     "output_type": "stream",
     "text": [
      "https://www.autocasion.com/coches-segunda-mano/land-rover-range-rover-ocasion/range-rover-2-0-si4-phev-vogue-4wd-aut-ref12470520\n"
     ]
    },
    {
     "name": "stderr",
     "output_type": "stream",
     "text": [
      " 96%|█████████▋| 77/80 [03:13<00:06,  2.28s/it]"
     ]
    },
    {
     "name": "stdout",
     "output_type": "stream",
     "text": [
      "https://www.autocasion.com/coches-segunda-mano/volkswagen-tiguan-ocasion/tiguan-2-0tdi-r-line-dsg-110kw-ref14512761\n"
     ]
    },
    {
     "name": "stderr",
     "output_type": "stream",
     "text": [
      " 98%|█████████▊| 78/80 [03:15<00:04,  2.06s/it]"
     ]
    },
    {
     "name": "stdout",
     "output_type": "stream",
     "text": [
      "https://www.autocasion.com/coches-segunda-mano/mercedes-benz-clase-glc-ocasion/glc-mercedes-benz-mercedesamg-glc-43-4matic-16703f1c9c4860-ref14512764\n"
     ]
    },
    {
     "name": "stderr",
     "output_type": "stream",
     "text": [
      " 99%|█████████▉| 79/80 [03:17<00:02,  2.31s/it]"
     ]
    },
    {
     "name": "stdout",
     "output_type": "stream",
     "text": [
      "https://www.autocasion.com/coches-segunda-mano/citroen-c3-aircross-ocasion/c3-aircross-puretech-s-s-plus-110-ref14382157\n"
     ]
    },
    {
     "name": "stderr",
     "output_type": "stream",
     "text": [
      "100%|██████████| 80/80 [03:20<00:00,  2.50s/it]\n"
     ]
    }
   ],
   "source": [
    "coches_df = dict()\n",
    "\n",
    "for coche in tqdm.tqdm(anuncios_coches):\n",
    "    print(coche)\n",
    "    url_coche = coche\n",
    "    response = session.get(url_coche, headers=headers)\n",
    "    \n",
    "    #Verificamos que la respuesta es exitosa\n",
    "    if response.status_code != 200:\n",
    "        print(f\"Error al acceder a {url_coche}, Código de estado: {response.status_code}\")\n",
    "        continue\n",
    "    \n",
    "    soup = BeautifulSoup(response.content, \"html.parser\")\n",
    "    info_coche = {}\n",
    "        \n",
    "    info_coche['provincia'] = soup.find_all('div', class_= 'etiquetas')[1].find_all('span')[-1].text\n",
    "    info_coche['marca_modelo'] = soup.find('h2').text\n",
    "    info_coche['fecha_matriculacion'] = soup.find('ul', class_= 'datos-basicos-ficha').find('span', class_= 'icon icon-calendario').find_previous().text.strip()\n",
    "    info_coche['kilometraje'] = soup.find('ul', class_= 'datos-basicos-ficha').find('span', class_= 'icon icon-velocimetro').find_previous().text.replace('.','').replace('km','').strip()\n",
    "    \n",
    "    lista_detalles_vendedor = soup.find('div', class_= 'datos-concesionario').find('p').text.strip().split('\\n')\n",
    "    info_coche['nombre_vendedor'] = lista_detalles_vendedor[0]\n",
    "    info_coche['tipo_vendedor'] = lista_detalles_vendedor[1].strip()\n",
    "    try:\n",
    "        #puede haber o no\n",
    "        info_coche['distintivo_ambiental'] = soup.find_all('div', class_= 'etiquetas')[1].find('img')['alt']\n",
    "        \n",
    "    except:\n",
    "        info_coche['distintivo_ambiental'] = 'no disponible'\n",
    "    try:\n",
    "        #puede haber o no\n",
    "        info_coche['garantia'] = soup.find('ul', class_= 'datos-basicos-ficha').find('span', class_= 'icon icon-file').find_previous().text.replace('Garantía: ', '').strip()\n",
    "        \n",
    "    except:\n",
    "        info_coche['garantia'] = 'sin garantía'\n",
    "    \n",
    "    \n",
    "    detalles_precio = soup.find('ul', class_= 'tabla-precio').find_all('li')\n",
    "\n",
    "    for detalle in detalles_precio:\n",
    "        detalle = detalle.text.replace('\\n','').strip()\n",
    "\n",
    "        if 'Precio al contado' in detalle: \n",
    "            info_coche['precio_contado'] = detalle.replace('\\n', '').split(':')[1].replace('.', '').replace('€','').strip()\n",
    "        elif 'Precio de venta nuevo' in detalle: \n",
    "            info_coche['precio_nuevo'] = detalle.replace('\\n', '').split('*')[1].strip().replace('.','').split()[0]\n",
    "            \n",
    "    if 'precio_nuevo' not in info_coche:\n",
    "        info_coche['precio_nuevo'] = 'no disponible'\n",
    "    \n",
    "    div_ficha_tecnica = soup.find('div', class_='bloque ficha-tecnica') \n",
    "    div_no_eurotax = soup.find('div', class_= 'bloque no-eurotax')\n",
    "    \n",
    "    if div_ficha_tecnica:\n",
    "        \n",
    "        detalles_carroceria = div_ficha_tecnica.find('ul', class_= 'tab-spec-1 active').find_all('li')\n",
    "        for detalle in detalles_carroceria:\n",
    "            detalle = detalle.text.replace('Medidas','').strip()\n",
    "            \n",
    "            if 'Largo' in detalle: \n",
    "                info_coche['largo'] = detalle\n",
    "            elif 'Ancho' in detalle: \n",
    "                info_coche['ancho'] = detalle\n",
    "            elif 'Alto' in detalle: \n",
    "                info_coche['alto'] = detalle\n",
    "            #el primer número es la capacidad del maletero normal, el segundo la capacidad del maletero con los asientos abatidos\n",
    "            elif 'Capacidad del maletero' in detalle: \n",
    "                info_coche['capacidad_maletero'] = detalle\n",
    "            elif 'Carrocería' in detalle: \n",
    "                info_coche['carrocería'] = detalle\n",
    "            elif 'Número de plazas' in detalle: \n",
    "                info_coche['num_plazas'] = detalle\n",
    "            elif 'Número de puertas' in detalle: \n",
    "                info_coche['num_puertas'] = detalle\n",
    "            elif 'Carrocería' in detalle: \n",
    "                info_coche['carrocería'] = detalle\n",
    "            elif 'Batalla' in detalle: \n",
    "                info_coche['batalla'] = detalle\n",
    "            elif 'Carrocería' in detalle: \n",
    "                info_coche['carrocería'] = detalle\n",
    "            #supongo que si hay dos pesos el segundo será la masa max. autorizada\n",
    "            elif 'Peso' in detalle: \n",
    "                info_coche['peso'] = detalle\n",
    "           \n",
    "        detalles_consumos = div_ficha_tecnica.find('ul', class_= 'tab-spec-2').find_all('li')\n",
    "        for detalle in detalles_consumos:\n",
    "            detalle = ' '.join(detalle.text.replace('\\n','').split())\n",
    "            \n",
    "            if 'Consumo medio' in detalle: \n",
    "                info_coche['consumo_medio'] = detalle\n",
    "            elif 'Consumo en carretera' in detalle: \n",
    "                info_coche['consumo_carretera'] = detalle\n",
    "            elif 'Consumo urbano' in detalle: \n",
    "                info_coche['consumo_urbano'] = detalle\n",
    "            elif 'CO2' in detalle: \n",
    "                info_coche['CO2'] = detalle\n",
    "            elif 'Depósito' in detalle: \n",
    "                info_coche['deposito'] = detalle\n",
    "\n",
    "        detalles_motor = div_ficha_tecnica.find('ul', class_= 'tab-spec-3').find_all('li')\n",
    "        for detalle in detalles_motor:\n",
    "            detalle = detalle.text.replace('\\n', ' ').strip()\n",
    "            \n",
    "            if 'Combustible' in detalle: \n",
    "                info_coche['combustible'] = detalle\n",
    "            elif 'Nº de cilindros' in detalle: \n",
    "                info_coche['cilindros'] = detalle\n",
    "            elif 'Cilindrada' in detalle: \n",
    "                info_coche['cilindrada'] = detalle\n",
    "            elif 'Sobrealimentación' in detalle: \n",
    "                info_coche['sobrealimentacion'] = detalle\n",
    "\n",
    "        detalles_transmision = div_ficha_tecnica.find('ul', class_= 'tab-spec-4').find_all('li')\n",
    "        for detalle in detalles_transmision:\n",
    "            detalle = detalle.text.replace('\\n', ' ').strip()\n",
    "            \n",
    "            if 'Tipo de transmisión' in detalle: \n",
    "                info_coche['tipo_cambio'] = detalle\n",
    "            elif 'Tracción' in detalle: \n",
    "                info_coche['traccion'] = detalle\n",
    "            elif 'Número de marchas' in detalle: \n",
    "                info_coche['num_marchas'] = detalle\n",
    "\n",
    "        detalles_prestaciones = div_ficha_tecnica.find('ul', class_= 'tab-spec-5').find_all('li')\n",
    "        for detalle in detalles_prestaciones:\n",
    "            detalle = detalle.text\n",
    "            \n",
    "            if 'Potencia (KW)' in detalle: \n",
    "                info_coche['potencia_kw'] = detalle\n",
    "            elif 'Potencia (CV)' in detalle: \n",
    "                info_coche['potencia_cv'] = detalle\n",
    "            elif 'Par' in detalle: \n",
    "                info_coche['par'] = detalle\n",
    "            elif 'Velocidad' in detalle: \n",
    "                info_coche['velocidad_max'] = detalle\n",
    "            elif 'Aceleración' in detalle: \n",
    "                info_coche['aceleracion'] = detalle\n",
    "                \n",
    "    elif div_no_eurotax: \n",
    "        \n",
    "        ficha_no_eurotax = div_no_eurotax.find_all('ul')\n",
    "        lista_ficha_no_eurotax = []\n",
    "        for elemento in range(0,len(ficha_no_eurotax)):\n",
    "            detalle = div_no_eurotax.find_all('ul')[elemento].text\n",
    "    \n",
    "            if \"Carrocería\" in detalle:\n",
    "                info_coche['carroceria'] = buscar_detalle(detalle, \"Carrocería\")\n",
    "                info_coche['num_puertas'] = buscar_detalle(detalle, \"Número de puertas\")\n",
    "                info_coche['num_plazas'] = buscar_detalle(detalle, \"Número de plazas\")\n",
    "                info_coche['peso'] = buscar_detalle(detalle, \"Peso\")\n",
    "\n",
    "            elif \"Consumo y emisiones\" in detalle: \n",
    "                info_coche['consumo_medio']= buscar_detalle(detalle, \"Medio \\(l/100 km\\)\")\n",
    "                info_coche['consumo_carretera']= buscar_detalle(detalle, \"Carretera \\(l/100 km\\)\")\n",
    "                info_coche['consumo_urbano']= buscar_detalle(detalle, \"Urbano \\(l/100 km\\)\")\n",
    "\n",
    "            elif \"Motor\" in detalle:\n",
    "                info_coche['combustible'] = buscar_detalle(detalle, \"Combustible\")\n",
    "                info_coche['potencia_cv'] = buscar_detalle(detalle, \"Potencia\")\n",
    "                info_coche['cilindrada'] = buscar_detalle(detalle, \"Cilindrada\")\n",
    "            elif \"Transmisión\" in detalle:\n",
    "                info_coche['tipo_cambio'] = buscar_detalle(detalle, \"Tipo de cambio\")\n",
    "                info_coche['num_marchas'] = buscar_detalle(detalle, \"Marchas\")\n",
    "                \n",
    "    coches_df[(len(coches_df))] = info_coche\n",
    "    \n",
    "    time.sleep(random.uniform(1, 3))\n"
   ]
  },
  {
   "cell_type": "code",
   "execution_count": 23,
   "id": "4a797aaf-3b31-45f6-8181-afaae2cfaf8d",
   "metadata": {
    "scrolled": true,
    "tags": []
   },
   "outputs": [
    {
     "data": {
      "text/plain": [
       "provincia                                                      Madrid\n",
       "marca_modelo              Detalles LAND-ROVER Discovery Sport (2021) \n",
       "fecha_matriculacion                              Matriculado: 06/2021\n",
       "kilometraje                                                     61740\n",
       "nombre_vendedor                MOVILCAR, concesionario oficial Jaguar\n",
       "tipo_vendedor                                             Profesional\n",
       "distintivo_ambiental                                                C\n",
       "garantia                                                     24 meses\n",
       "precio_contado                                         31900 32490 2%\n",
       "precio_nuevo                                                    50100\n",
       "largo                                                   4597 mm Largo\n",
       "ancho                                                   2069 mm Ancho\n",
       "alto                                                     1727 mm Alto\n",
       "capacidad_maletero                Capacidad del maletero (l)780/1.574\n",
       "carrocería                                     CarroceríaTodo Terreno\n",
       "num_plazas                                          Número de plazas5\n",
       "batalla                                           Batalla (mm)\\n2.741\n",
       "peso                              Peso/Masa max. autorizado (kg)2.590\n",
       "num_puertas                                        Número de puertas5\n",
       "consumo_medio                        Consumo medio 5,30 litros/100 km\n",
       "consumo_carretera             Consumo en carretera 3,70 litros/100 km\n",
       "consumo_urbano                      Consumo urbano 6,80 litros/100 km\n",
       "CO2                                               CO2 (g/km) 132 g/km\n",
       "deposito                     Depósito de combustible (l) 65,00 litros\n",
       "combustible                                        Combustible Diesel\n",
       "cilindros                                 Nº de cilindros 4 cilindros\n",
       "cilindrada                                     Cilindrada (cm3) 1.997\n",
       "sobrealimentacion       Sobrealimentación Turbo de geometría variable\n",
       "tipo_cambio                                Tipo de transmisión Manual\n",
       "traccion                                   TracciónTracción delantera\n",
       "num_marchas                                        Número de marchas6\n",
       "potencia_kw                                          Potencia (KW)120\n",
       "potencia_cv                                          Potencia (CV)163\n",
       "par                                                       Par (Nm)380\n",
       "velocidad_max                              Velocidad máxima (km/h)195\n",
       "aceleracion                           Aceleración 0-100 km/h (s)10,20\n",
       "carroceria                                                        NaN\n",
       "Name: 30, dtype: object"
      ]
     },
     "execution_count": 23,
     "metadata": {},
     "output_type": "execute_result"
    }
   ],
   "source": [
    "df = pd.DataFrame.from_dict(coches_df).T\n",
    "\n",
    "df.iloc[30]"
   ]
  },
  {
   "cell_type": "code",
   "execution_count": 25,
   "id": "a14b7682-700f-445f-9577-11d43ae606c0",
   "metadata": {
    "scrolled": true,
    "tags": []
   },
   "outputs": [
    {
     "data": {
      "text/html": [
       "<div>\n",
       "<style scoped>\n",
       "    .dataframe tbody tr th:only-of-type {\n",
       "        vertical-align: middle;\n",
       "    }\n",
       "\n",
       "    .dataframe tbody tr th {\n",
       "        vertical-align: top;\n",
       "    }\n",
       "\n",
       "    .dataframe thead th {\n",
       "        text-align: right;\n",
       "    }\n",
       "</style>\n",
       "<table border=\"1\" class=\"dataframe\">\n",
       "  <thead>\n",
       "    <tr style=\"text-align: right;\">\n",
       "      <th></th>\n",
       "      <th>provincia</th>\n",
       "      <th>marca_modelo</th>\n",
       "      <th>fecha_matriculacion</th>\n",
       "      <th>kilometraje</th>\n",
       "      <th>nombre_vendedor</th>\n",
       "      <th>tipo_vendedor</th>\n",
       "      <th>distintivo_ambiental</th>\n",
       "      <th>garantia</th>\n",
       "      <th>precio_contado</th>\n",
       "      <th>precio_nuevo</th>\n",
       "      <th>largo</th>\n",
       "      <th>ancho</th>\n",
       "      <th>alto</th>\n",
       "      <th>capacidad_maletero</th>\n",
       "      <th>carrocería</th>\n",
       "      <th>num_plazas</th>\n",
       "      <th>batalla</th>\n",
       "      <th>peso</th>\n",
       "      <th>num_puertas</th>\n",
       "      <th>consumo_medio</th>\n",
       "      <th>consumo_carretera</th>\n",
       "      <th>consumo_urbano</th>\n",
       "      <th>CO2</th>\n",
       "      <th>deposito</th>\n",
       "      <th>combustible</th>\n",
       "      <th>cilindros</th>\n",
       "      <th>cilindrada</th>\n",
       "      <th>sobrealimentacion</th>\n",
       "      <th>tipo_cambio</th>\n",
       "      <th>traccion</th>\n",
       "      <th>num_marchas</th>\n",
       "      <th>potencia_kw</th>\n",
       "      <th>potencia_cv</th>\n",
       "      <th>par</th>\n",
       "      <th>velocidad_max</th>\n",
       "      <th>aceleracion</th>\n",
       "      <th>carroceria</th>\n",
       "    </tr>\n",
       "  </thead>\n",
       "  <tbody>\n",
       "    <tr>\n",
       "      <th>0</th>\n",
       "      <td>Málaga</td>\n",
       "      <td>Detalles FIAT 500 (2022)</td>\n",
       "      <td>Matriculado: 06/2022</td>\n",
       "      <td>25000</td>\n",
       "      <td>AUTOGEST MALAGA</td>\n",
       "      <td>Profesional</td>\n",
       "      <td>ECO</td>\n",
       "      <td>12 meses</td>\n",
       "      <td>13995</td>\n",
       "      <td>19300</td>\n",
       "      <td>3571 mm Largo</td>\n",
       "      <td>1627 mm Ancho</td>\n",
       "      <td>1488 mm Alto</td>\n",
       "      <td>Capacidad del maletero (l)185/0</td>\n",
       "      <td>CarroceríaBerlina</td>\n",
       "      <td>Número de plazas4</td>\n",
       "      <td>Batalla (mm)\\n2.300</td>\n",
       "      <td>Peso/Masa max. autorizado (kg)1.055</td>\n",
       "      <td>Número de puertas3</td>\n",
       "      <td>Consumo medio 0,00 litros/100 km</td>\n",
       "      <td>Consumo en carretera 0,00 litros/100 km</td>\n",
       "      <td>Consumo urbano 0,00 litros/100 km</td>\n",
       "      <td>CO2 (g/km) - g/km</td>\n",
       "      <td>Depósito de combustible (l) 35,00 litros</td>\n",
       "      <td>Combustible Gasolina</td>\n",
       "      <td>Nº de cilindros 3 cilindros</td>\n",
       "      <td>Cilindrada (cm3) 999</td>\n",
       "      <td>Sobrealimentación Turbo</td>\n",
       "      <td>Tipo de transmisión Manual</td>\n",
       "      <td>TracciónTracción delantera</td>\n",
       "      <td>Número de marchas6</td>\n",
       "      <td>Potencia (KW)52</td>\n",
       "      <td>Potencia (CV)70</td>\n",
       "      <td>Par (Nm)92</td>\n",
       "      <td>Velocidad máxima (km/h)167</td>\n",
       "      <td>Aceleración 0-100 km/h (s)13,80</td>\n",
       "      <td>NaN</td>\n",
       "    </tr>\n",
       "    <tr>\n",
       "      <th>1</th>\n",
       "      <td>Madrid</td>\n",
       "      <td>Detalles BMW Serie 1 (2016)</td>\n",
       "      <td>Matriculado: 10/2016</td>\n",
       "      <td>191824</td>\n",
       "      <td>GANGACARS</td>\n",
       "      <td>Profesional</td>\n",
       "      <td>C</td>\n",
       "      <td>12 meses</td>\n",
       "      <td>14990</td>\n",
       "      <td>29550</td>\n",
       "      <td>4329 mm Largo</td>\n",
       "      <td>1765 mm Ancho</td>\n",
       "      <td>1421 mm Alto</td>\n",
       "      <td>Capacidad del maletero (l)360/1.200</td>\n",
       "      <td>CarroceríaBerlina</td>\n",
       "      <td>Número de plazas5</td>\n",
       "      <td>Batalla (mm)\\n2.690</td>\n",
       "      <td>Peso/Masa max. autorizado (kg)1.915</td>\n",
       "      <td>Número de puertas5</td>\n",
       "      <td>Consumo medio 4,00 litros/100 km</td>\n",
       "      <td>Consumo en carretera 3,50 litros/100 km</td>\n",
       "      <td>Consumo urbano 4,80 litros/100 km</td>\n",
       "      <td>CO2 (g/km) 104 g/km</td>\n",
       "      <td>Depósito de combustible (l) 52,00 litros</td>\n",
       "      <td>Combustible Diesel</td>\n",
       "      <td>Nº de cilindros 4 cilindros</td>\n",
       "      <td>Cilindrada (cm3) 1.995</td>\n",
       "      <td>Sobrealimentación Turbo de geometría variable</td>\n",
       "      <td>Tipo de transmisión Manual</td>\n",
       "      <td>TracciónTracción trasera</td>\n",
       "      <td>Número de marchas6</td>\n",
       "      <td>Potencia (KW)110</td>\n",
       "      <td>Potencia (CV)150</td>\n",
       "      <td>Par (Nm)320</td>\n",
       "      <td>Velocidad máxima (km/h)212</td>\n",
       "      <td>Aceleración 0-100 km/h (s)8,30</td>\n",
       "      <td>NaN</td>\n",
       "    </tr>\n",
       "    <tr>\n",
       "      <th>2</th>\n",
       "      <td>Ubicación:</td>\n",
       "      <td>Detalles MERCEDES-BENZ EQC (2022)</td>\n",
       "      <td>Matriculado: 01/2022</td>\n",
       "      <td>28900</td>\n",
       "      <td>GT CARS PREMIUM LAS PALMAS</td>\n",
       "      <td>Profesional</td>\n",
       "      <td>0 EMISIONES</td>\n",
       "      <td>12 meses</td>\n",
       "      <td>54900</td>\n",
       "      <td>85429</td>\n",
       "      <td>4761 mm Largo</td>\n",
       "      <td>1884 mm Ancho</td>\n",
       "      <td>1623 mm Alto</td>\n",
       "      <td>Capacidad del maletero (l)500/0</td>\n",
       "      <td>CarroceríaTodo Terreno</td>\n",
       "      <td>Número de plazas5</td>\n",
       "      <td>Batalla (mm)\\n2.873</td>\n",
       "      <td>Peso/Masa max. autorizado (kg)2.940</td>\n",
       "      <td>Número de puertas5</td>\n",
       "      <td>Consumo medio 0,00 litros/100 km</td>\n",
       "      <td>Consumo en carretera 0,00 litros/100 km</td>\n",
       "      <td>Consumo urbano 0,00 litros/100 km</td>\n",
       "      <td>CO2 (g/km) - g/km</td>\n",
       "      <td>Depósito de combustible (l) 0,00 litros</td>\n",
       "      <td>Combustible Corriente eléctrica</td>\n",
       "      <td>Nº de cilindros - cilindros</td>\n",
       "      <td>Cilindrada (cm3) 0</td>\n",
       "      <td>Sobrealimentación -</td>\n",
       "      <td>Tipo de transmisión Directo, sin caja de cambios</td>\n",
       "      <td>TracciónTodo terreno tracción total permanente</td>\n",
       "      <td>Número de marchas1</td>\n",
       "      <td>Potencia (KW)300</td>\n",
       "      <td>Potencia (CV)408</td>\n",
       "      <td>Par (Nm)760</td>\n",
       "      <td>Velocidad máxima (km/h)180</td>\n",
       "      <td>Aceleración 0-100 km/h (s)5,10</td>\n",
       "      <td>NaN</td>\n",
       "    </tr>\n",
       "    <tr>\n",
       "      <th>3</th>\n",
       "      <td>Málaga</td>\n",
       "      <td>Detalles BMW X1 (2019)</td>\n",
       "      <td>Matriculado: 10/2019</td>\n",
       "      <td>32000</td>\n",
       "      <td>AUTOGEST MALAGA</td>\n",
       "      <td>Profesional</td>\n",
       "      <td>C</td>\n",
       "      <td>12 meses</td>\n",
       "      <td>23900</td>\n",
       "      <td>36479</td>\n",
       "      <td>4447 mm Largo</td>\n",
       "      <td>1821 mm Ancho</td>\n",
       "      <td>1598 mm Alto</td>\n",
       "      <td>Capacidad del maletero (l)505/1.550</td>\n",
       "      <td>CarroceríaTodo Terreno</td>\n",
       "      <td>Número de plazas5</td>\n",
       "      <td>Batalla (mm)\\n2.670</td>\n",
       "      <td>Peso/Masa max. autorizado (kg)2.040</td>\n",
       "      <td>Número de puertas5</td>\n",
       "      <td>Consumo medio 4,10 litros/100 km</td>\n",
       "      <td>Consumo en carretera 3,70 litros/100 km</td>\n",
       "      <td>Consumo urbano 4,70 litros/100 km</td>\n",
       "      <td>CO2 (g/km) 107 g/km</td>\n",
       "      <td>Depósito de combustible (l) 51,00 litros</td>\n",
       "      <td>Combustible Diesel</td>\n",
       "      <td>Nº de cilindros 3 cilindros</td>\n",
       "      <td>Cilindrada (cm3) 1.496</td>\n",
       "      <td>Sobrealimentación Turbo de geometría variable</td>\n",
       "      <td>Tipo de transmisión Manual</td>\n",
       "      <td>TracciónTracción delantera</td>\n",
       "      <td>Número de marchas6</td>\n",
       "      <td>Potencia (KW)85</td>\n",
       "      <td>Potencia (CV)116</td>\n",
       "      <td>Par (Nm)270</td>\n",
       "      <td>Velocidad máxima (km/h)190</td>\n",
       "      <td>Aceleración 0-100 km/h (s)11,50</td>\n",
       "      <td>NaN</td>\n",
       "    </tr>\n",
       "    <tr>\n",
       "      <th>4</th>\n",
       "      <td>Valencia</td>\n",
       "      <td>Detalles HONDA Civic (2021)</td>\n",
       "      <td>Matriculado: 08/2021</td>\n",
       "      <td>44818</td>\n",
       "      <td>HONDA QUADIS IBERTECNO VALENCIA</td>\n",
       "      <td>Profesional</td>\n",
       "      <td>C</td>\n",
       "      <td>24 meses</td>\n",
       "      <td>26490</td>\n",
       "      <td>27644</td>\n",
       "      <td>4518 mm Largo</td>\n",
       "      <td>1799 mm Ancho</td>\n",
       "      <td>1434 mm Alto</td>\n",
       "      <td>Capacidad del maletero (l)478/1.267</td>\n",
       "      <td>CarroceríaBerlina</td>\n",
       "      <td>Número de plazas5</td>\n",
       "      <td>Batalla (mm)\\n2.697</td>\n",
       "      <td>Peso/Masa max. autorizado (kg)1.775</td>\n",
       "      <td>Número de puertas5</td>\n",
       "      <td>Consumo medio 4,80 litros/100 km</td>\n",
       "      <td>Consumo en carretera 4,10 litros/100 km</td>\n",
       "      <td>Consumo urbano 6,10 litros/100 km</td>\n",
       "      <td>CO2 (g/km) 110 g/km</td>\n",
       "      <td>Depósito de combustible (l) 46,00 litros</td>\n",
       "      <td>Combustible Gasolina</td>\n",
       "      <td>Nº de cilindros 3 cilindros</td>\n",
       "      <td>Cilindrada (cm3) 988</td>\n",
       "      <td>Sobrealimentación Turbo de geometría variable</td>\n",
       "      <td>Tipo de transmisión Manual</td>\n",
       "      <td>TracciónTracción delantera</td>\n",
       "      <td>Número de marchas6</td>\n",
       "      <td>Potencia (KW)93</td>\n",
       "      <td>Potencia (CV)126</td>\n",
       "      <td>Par (Nm)200</td>\n",
       "      <td>Velocidad máxima (km/h)-</td>\n",
       "      <td>Aceleración 0-100 km/h (s)10,90</td>\n",
       "      <td>NaN</td>\n",
       "    </tr>\n",
       "    <tr>\n",
       "      <th>...</th>\n",
       "      <td>...</td>\n",
       "      <td>...</td>\n",
       "      <td>...</td>\n",
       "      <td>...</td>\n",
       "      <td>...</td>\n",
       "      <td>...</td>\n",
       "      <td>...</td>\n",
       "      <td>...</td>\n",
       "      <td>...</td>\n",
       "      <td>...</td>\n",
       "      <td>...</td>\n",
       "      <td>...</td>\n",
       "      <td>...</td>\n",
       "      <td>...</td>\n",
       "      <td>...</td>\n",
       "      <td>...</td>\n",
       "      <td>...</td>\n",
       "      <td>...</td>\n",
       "      <td>...</td>\n",
       "      <td>...</td>\n",
       "      <td>...</td>\n",
       "      <td>...</td>\n",
       "      <td>...</td>\n",
       "      <td>...</td>\n",
       "      <td>...</td>\n",
       "      <td>...</td>\n",
       "      <td>...</td>\n",
       "      <td>...</td>\n",
       "      <td>...</td>\n",
       "      <td>...</td>\n",
       "      <td>...</td>\n",
       "      <td>...</td>\n",
       "      <td>...</td>\n",
       "      <td>...</td>\n",
       "      <td>...</td>\n",
       "      <td>...</td>\n",
       "      <td>...</td>\n",
       "    </tr>\n",
       "    <tr>\n",
       "      <th>75</th>\n",
       "      <td>Madrid</td>\n",
       "      <td>Detalles VOLVO V90 (2022)</td>\n",
       "      <td>Matriculado: 05/2022</td>\n",
       "      <td>30051</td>\n",
       "      <td>AUTOMOTOR DURSAN</td>\n",
       "      <td>Profesional</td>\n",
       "      <td>ECO</td>\n",
       "      <td>12 meses</td>\n",
       "      <td>49490</td>\n",
       "      <td>no disponible</td>\n",
       "      <td>NaN</td>\n",
       "      <td>NaN</td>\n",
       "      <td>NaN</td>\n",
       "      <td>NaN</td>\n",
       "      <td>NaN</td>\n",
       "      <td>None</td>\n",
       "      <td>NaN</td>\n",
       "      <td>None</td>\n",
       "      <td>5 Puertas</td>\n",
       "      <td>NaN</td>\n",
       "      <td>NaN</td>\n",
       "      <td>NaN</td>\n",
       "      <td>NaN</td>\n",
       "      <td>NaN</td>\n",
       "      <td>Gasolina y corriente eléctrica</td>\n",
       "      <td>NaN</td>\n",
       "      <td>1.969</td>\n",
       "      <td>NaN</td>\n",
       "      <td>Automático</td>\n",
       "      <td>NaN</td>\n",
       "      <td>None</td>\n",
       "      <td>NaN</td>\n",
       "      <td>253</td>\n",
       "      <td>NaN</td>\n",
       "      <td>NaN</td>\n",
       "      <td>NaN</td>\n",
       "      <td>Familiar</td>\n",
       "    </tr>\n",
       "    <tr>\n",
       "      <th>76</th>\n",
       "      <td>Madrid</td>\n",
       "      <td>Detalles LAND-ROVER Range Rover (2020)</td>\n",
       "      <td>Matriculado: 02/2020</td>\n",
       "      <td>90841</td>\n",
       "      <td>MOVILCAR, concesionario oficial Jaguar</td>\n",
       "      <td>Profesional</td>\n",
       "      <td>0 EMISIONES</td>\n",
       "      <td>24 meses</td>\n",
       "      <td>71900</td>\n",
       "      <td>126800</td>\n",
       "      <td>5000 mm Largo</td>\n",
       "      <td>1983 mm Ancho</td>\n",
       "      <td>1869 mm Alto</td>\n",
       "      <td>Capacidad del maletero (l)550/2.030</td>\n",
       "      <td>CarroceríaTodo Terreno</td>\n",
       "      <td>Número de plazas5</td>\n",
       "      <td>Batalla (mm)\\n2.922</td>\n",
       "      <td>Peso/Masa max. autorizado (kg)2.209</td>\n",
       "      <td>Número de puertas5</td>\n",
       "      <td>Consumo medio 2,80 litros/100 km</td>\n",
       "      <td>Consumo en carretera 0,00 litros/100 km</td>\n",
       "      <td>Consumo urbano 0,00 litros/100 km</td>\n",
       "      <td>CO2 (g/km) 75 g/km</td>\n",
       "      <td>Depósito de combustible (l) 90,00 litros</td>\n",
       "      <td>Combustible Gasolina y corriente eléctrica</td>\n",
       "      <td>Nº de cilindros 4 cilindros</td>\n",
       "      <td>Cilindrada (cm3) 2.000</td>\n",
       "      <td>Sobrealimentación Turbo</td>\n",
       "      <td>Tipo de transmisión Automática secuencial</td>\n",
       "      <td>TracciónTodo terreno tracción total permanente</td>\n",
       "      <td>Número de marchas8</td>\n",
       "      <td>Potencia (KW)297</td>\n",
       "      <td>Potencia (CV)404</td>\n",
       "      <td>Par (Nm)640</td>\n",
       "      <td>Velocidad máxima (km/h)220</td>\n",
       "      <td>Aceleración 0-100 km/h (s)6,80</td>\n",
       "      <td>NaN</td>\n",
       "    </tr>\n",
       "    <tr>\n",
       "      <th>77</th>\n",
       "      <td>Madrid</td>\n",
       "      <td>Detalles VOLKSWAGEN Tiguan (2022)</td>\n",
       "      <td>Matriculado: 05/2022</td>\n",
       "      <td>132649</td>\n",
       "      <td>AUTOMOTOR DURSAN</td>\n",
       "      <td>Profesional</td>\n",
       "      <td>C</td>\n",
       "      <td>12 meses</td>\n",
       "      <td>29990</td>\n",
       "      <td>50459</td>\n",
       "      <td>4509 mm Largo</td>\n",
       "      <td>1839 mm Ancho</td>\n",
       "      <td>1675 mm Alto</td>\n",
       "      <td>Capacidad del maletero (l)615/1.510</td>\n",
       "      <td>CarroceríaTodo Terreno</td>\n",
       "      <td>Número de plazas5</td>\n",
       "      <td>Batalla (mm)\\n2.677</td>\n",
       "      <td>Peso/Masa max. autorizado (kg)2.170</td>\n",
       "      <td>Número de puertas5</td>\n",
       "      <td>Consumo medio 0,00 litros/100 km</td>\n",
       "      <td>Consumo en carretera 0,00 litros/100 km</td>\n",
       "      <td>Consumo urbano 0,00 litros/100 km</td>\n",
       "      <td>CO2 (g/km) - g/km</td>\n",
       "      <td>Depósito de combustible (l) 58,00 litros</td>\n",
       "      <td>Combustible Diesel</td>\n",
       "      <td>Nº de cilindros 4 cilindros</td>\n",
       "      <td>Cilindrada (cm3) 1.968</td>\n",
       "      <td>Sobrealimentación Turbo de geometría variable</td>\n",
       "      <td>Tipo de transmisión Automática secuencial</td>\n",
       "      <td>TracciónTracción delantera</td>\n",
       "      <td>Número de marchas7</td>\n",
       "      <td>Potencia (KW)110</td>\n",
       "      <td>Potencia (CV)150</td>\n",
       "      <td>Par (Nm)360</td>\n",
       "      <td>Velocidad máxima (km/h)200</td>\n",
       "      <td>Aceleración 0-100 km/h (s)9,30</td>\n",
       "      <td>NaN</td>\n",
       "    </tr>\n",
       "    <tr>\n",
       "      <th>78</th>\n",
       "      <td>Madrid</td>\n",
       "      <td>Detalles MERCEDES-BENZ Clase GLC (2019)</td>\n",
       "      <td>Matriculado: 04/2019</td>\n",
       "      <td>83355</td>\n",
       "      <td>AUTOMOTOR DURSAN</td>\n",
       "      <td>Profesional</td>\n",
       "      <td>C</td>\n",
       "      <td>12 meses</td>\n",
       "      <td>47990</td>\n",
       "      <td>no disponible</td>\n",
       "      <td>NaN</td>\n",
       "      <td>NaN</td>\n",
       "      <td>NaN</td>\n",
       "      <td>NaN</td>\n",
       "      <td>NaN</td>\n",
       "      <td>None</td>\n",
       "      <td>NaN</td>\n",
       "      <td>None</td>\n",
       "      <td>5 Puertas</td>\n",
       "      <td>NaN</td>\n",
       "      <td>NaN</td>\n",
       "      <td>NaN</td>\n",
       "      <td>NaN</td>\n",
       "      <td>NaN</td>\n",
       "      <td>Gasolina</td>\n",
       "      <td>NaN</td>\n",
       "      <td>2.996</td>\n",
       "      <td>NaN</td>\n",
       "      <td>Automático</td>\n",
       "      <td>NaN</td>\n",
       "      <td>None</td>\n",
       "      <td>NaN</td>\n",
       "      <td>367</td>\n",
       "      <td>NaN</td>\n",
       "      <td>NaN</td>\n",
       "      <td>NaN</td>\n",
       "      <td>4x4, SUV o pickup</td>\n",
       "    </tr>\n",
       "    <tr>\n",
       "      <th>79</th>\n",
       "      <td>Madrid</td>\n",
       "      <td>Detalles CITROEN C3 Aircross (2024)</td>\n",
       "      <td>Matriculado: 01/2024</td>\n",
       "      <td>13457</td>\n",
       "      <td>CLICARS MADRID</td>\n",
       "      <td>Profesional</td>\n",
       "      <td>C</td>\n",
       "      <td>12 meses</td>\n",
       "      <td>15390 15990 4%</td>\n",
       "      <td>24920</td>\n",
       "      <td>4160 mm Largo</td>\n",
       "      <td>1824 mm Ancho</td>\n",
       "      <td>1597 mm Alto</td>\n",
       "      <td>Capacidad del maletero (l)410/520</td>\n",
       "      <td>CarroceríaTodo Terreno</td>\n",
       "      <td>Número de plazas5</td>\n",
       "      <td>Batalla (mm)\\n2.604</td>\n",
       "      <td>Peso/Masa max. autorizado (kg)1.795</td>\n",
       "      <td>Número de puertas5</td>\n",
       "      <td>Consumo medio 0,00 litros/100 km</td>\n",
       "      <td>Consumo en carretera 0,00 litros/100 km</td>\n",
       "      <td>Consumo urbano 0,00 litros/100 km</td>\n",
       "      <td>CO2 (g/km) - g/km</td>\n",
       "      <td>Depósito de combustible (l) 45,00 litros</td>\n",
       "      <td>Combustible Gasolina</td>\n",
       "      <td>Nº de cilindros 3 cilindros</td>\n",
       "      <td>Cilindrada (cm3) 1.199</td>\n",
       "      <td>Sobrealimentación Turbo</td>\n",
       "      <td>Tipo de transmisión Manual</td>\n",
       "      <td>TracciónTracción delantera</td>\n",
       "      <td>Número de marchas6</td>\n",
       "      <td>Potencia (KW)81</td>\n",
       "      <td>Potencia (CV)110</td>\n",
       "      <td>Par (Nm)205</td>\n",
       "      <td>Velocidad máxima (km/h)195</td>\n",
       "      <td>Aceleración 0-100 km/h (s)8,80</td>\n",
       "      <td>NaN</td>\n",
       "    </tr>\n",
       "  </tbody>\n",
       "</table>\n",
       "<p>80 rows × 37 columns</p>\n",
       "</div>"
      ],
      "text/plain": [
       "     provincia                              marca_modelo  \\\n",
       "0       Málaga                 Detalles FIAT 500 (2022)    \n",
       "1       Madrid              Detalles BMW Serie 1 (2016)    \n",
       "2   Ubicación:        Detalles MERCEDES-BENZ EQC (2022)    \n",
       "3       Málaga                   Detalles BMW X1 (2019)    \n",
       "4     Valencia              Detalles HONDA Civic (2021)    \n",
       "..         ...                                       ...   \n",
       "75      Madrid                Detalles VOLVO V90 (2022)    \n",
       "76      Madrid   Detalles LAND-ROVER Range Rover (2020)    \n",
       "77      Madrid        Detalles VOLKSWAGEN Tiguan (2022)    \n",
       "78      Madrid  Detalles MERCEDES-BENZ Clase GLC (2019)    \n",
       "79      Madrid      Detalles CITROEN C3 Aircross (2024)    \n",
       "\n",
       "     fecha_matriculacion kilometraje                         nombre_vendedor  \\\n",
       "0   Matriculado: 06/2022       25000                         AUTOGEST MALAGA   \n",
       "1   Matriculado: 10/2016      191824                               GANGACARS   \n",
       "2   Matriculado: 01/2022       28900              GT CARS PREMIUM LAS PALMAS   \n",
       "3   Matriculado: 10/2019       32000                         AUTOGEST MALAGA   \n",
       "4   Matriculado: 08/2021       44818         HONDA QUADIS IBERTECNO VALENCIA   \n",
       "..                   ...         ...                                     ...   \n",
       "75  Matriculado: 05/2022       30051                        AUTOMOTOR DURSAN   \n",
       "76  Matriculado: 02/2020       90841  MOVILCAR, concesionario oficial Jaguar   \n",
       "77  Matriculado: 05/2022      132649                        AUTOMOTOR DURSAN   \n",
       "78  Matriculado: 04/2019       83355                        AUTOMOTOR DURSAN   \n",
       "79  Matriculado: 01/2024       13457                          CLICARS MADRID   \n",
       "\n",
       "   tipo_vendedor distintivo_ambiental  garantia  precio_contado  \\\n",
       "0    Profesional                  ECO  12 meses           13995   \n",
       "1    Profesional                    C  12 meses           14990   \n",
       "2    Profesional          0 EMISIONES  12 meses           54900   \n",
       "3    Profesional                    C  12 meses           23900   \n",
       "4    Profesional                    C  24 meses           26490   \n",
       "..           ...                  ...       ...             ...   \n",
       "75   Profesional                  ECO  12 meses           49490   \n",
       "76   Profesional          0 EMISIONES  24 meses           71900   \n",
       "77   Profesional                    C  12 meses           29990   \n",
       "78   Profesional                    C  12 meses           47990   \n",
       "79   Profesional                    C  12 meses  15390 15990 4%   \n",
       "\n",
       "     precio_nuevo          largo          ancho          alto  \\\n",
       "0           19300  3571 mm Largo  1627 mm Ancho  1488 mm Alto   \n",
       "1           29550  4329 mm Largo  1765 mm Ancho  1421 mm Alto   \n",
       "2           85429  4761 mm Largo  1884 mm Ancho  1623 mm Alto   \n",
       "3           36479  4447 mm Largo  1821 mm Ancho  1598 mm Alto   \n",
       "4           27644  4518 mm Largo  1799 mm Ancho  1434 mm Alto   \n",
       "..            ...            ...            ...           ...   \n",
       "75  no disponible            NaN            NaN           NaN   \n",
       "76         126800  5000 mm Largo  1983 mm Ancho  1869 mm Alto   \n",
       "77          50459  4509 mm Largo  1839 mm Ancho  1675 mm Alto   \n",
       "78  no disponible            NaN            NaN           NaN   \n",
       "79          24920  4160 mm Largo  1824 mm Ancho  1597 mm Alto   \n",
       "\n",
       "                     capacidad_maletero              carrocería  \\\n",
       "0       Capacidad del maletero (l)185/0       CarroceríaBerlina   \n",
       "1   Capacidad del maletero (l)360/1.200       CarroceríaBerlina   \n",
       "2       Capacidad del maletero (l)500/0  CarroceríaTodo Terreno   \n",
       "3   Capacidad del maletero (l)505/1.550  CarroceríaTodo Terreno   \n",
       "4   Capacidad del maletero (l)478/1.267       CarroceríaBerlina   \n",
       "..                                  ...                     ...   \n",
       "75                                  NaN                     NaN   \n",
       "76  Capacidad del maletero (l)550/2.030  CarroceríaTodo Terreno   \n",
       "77  Capacidad del maletero (l)615/1.510  CarroceríaTodo Terreno   \n",
       "78                                  NaN                     NaN   \n",
       "79    Capacidad del maletero (l)410/520  CarroceríaTodo Terreno   \n",
       "\n",
       "           num_plazas              batalla  \\\n",
       "0   Número de plazas4  Batalla (mm)\\n2.300   \n",
       "1   Número de plazas5  Batalla (mm)\\n2.690   \n",
       "2   Número de plazas5  Batalla (mm)\\n2.873   \n",
       "3   Número de plazas5  Batalla (mm)\\n2.670   \n",
       "4   Número de plazas5  Batalla (mm)\\n2.697   \n",
       "..                ...                  ...   \n",
       "75               None                  NaN   \n",
       "76  Número de plazas5  Batalla (mm)\\n2.922   \n",
       "77  Número de plazas5  Batalla (mm)\\n2.677   \n",
       "78               None                  NaN   \n",
       "79  Número de plazas5  Batalla (mm)\\n2.604   \n",
       "\n",
       "                                   peso         num_puertas  \\\n",
       "0   Peso/Masa max. autorizado (kg)1.055  Número de puertas3   \n",
       "1   Peso/Masa max. autorizado (kg)1.915  Número de puertas5   \n",
       "2   Peso/Masa max. autorizado (kg)2.940  Número de puertas5   \n",
       "3   Peso/Masa max. autorizado (kg)2.040  Número de puertas5   \n",
       "4   Peso/Masa max. autorizado (kg)1.775  Número de puertas5   \n",
       "..                                  ...                 ...   \n",
       "75                                 None           5 Puertas   \n",
       "76  Peso/Masa max. autorizado (kg)2.209  Número de puertas5   \n",
       "77  Peso/Masa max. autorizado (kg)2.170  Número de puertas5   \n",
       "78                                 None           5 Puertas   \n",
       "79  Peso/Masa max. autorizado (kg)1.795  Número de puertas5   \n",
       "\n",
       "                       consumo_medio                        consumo_carretera  \\\n",
       "0   Consumo medio 0,00 litros/100 km  Consumo en carretera 0,00 litros/100 km   \n",
       "1   Consumo medio 4,00 litros/100 km  Consumo en carretera 3,50 litros/100 km   \n",
       "2   Consumo medio 0,00 litros/100 km  Consumo en carretera 0,00 litros/100 km   \n",
       "3   Consumo medio 4,10 litros/100 km  Consumo en carretera 3,70 litros/100 km   \n",
       "4   Consumo medio 4,80 litros/100 km  Consumo en carretera 4,10 litros/100 km   \n",
       "..                               ...                                      ...   \n",
       "75                               NaN                                      NaN   \n",
       "76  Consumo medio 2,80 litros/100 km  Consumo en carretera 0,00 litros/100 km   \n",
       "77  Consumo medio 0,00 litros/100 km  Consumo en carretera 0,00 litros/100 km   \n",
       "78                               NaN                                      NaN   \n",
       "79  Consumo medio 0,00 litros/100 km  Consumo en carretera 0,00 litros/100 km   \n",
       "\n",
       "                       consumo_urbano                  CO2  \\\n",
       "0   Consumo urbano 0,00 litros/100 km    CO2 (g/km) - g/km   \n",
       "1   Consumo urbano 4,80 litros/100 km  CO2 (g/km) 104 g/km   \n",
       "2   Consumo urbano 0,00 litros/100 km    CO2 (g/km) - g/km   \n",
       "3   Consumo urbano 4,70 litros/100 km  CO2 (g/km) 107 g/km   \n",
       "4   Consumo urbano 6,10 litros/100 km  CO2 (g/km) 110 g/km   \n",
       "..                                ...                  ...   \n",
       "75                                NaN                  NaN   \n",
       "76  Consumo urbano 0,00 litros/100 km   CO2 (g/km) 75 g/km   \n",
       "77  Consumo urbano 0,00 litros/100 km    CO2 (g/km) - g/km   \n",
       "78                                NaN                  NaN   \n",
       "79  Consumo urbano 0,00 litros/100 km    CO2 (g/km) - g/km   \n",
       "\n",
       "                                    deposito  \\\n",
       "0   Depósito de combustible (l) 35,00 litros   \n",
       "1   Depósito de combustible (l) 52,00 litros   \n",
       "2    Depósito de combustible (l) 0,00 litros   \n",
       "3   Depósito de combustible (l) 51,00 litros   \n",
       "4   Depósito de combustible (l) 46,00 litros   \n",
       "..                                       ...   \n",
       "75                                       NaN   \n",
       "76  Depósito de combustible (l) 90,00 litros   \n",
       "77  Depósito de combustible (l) 58,00 litros   \n",
       "78                                       NaN   \n",
       "79  Depósito de combustible (l) 45,00 litros   \n",
       "\n",
       "                                   combustible                    cilindros  \\\n",
       "0                         Combustible Gasolina  Nº de cilindros 3 cilindros   \n",
       "1                           Combustible Diesel  Nº de cilindros 4 cilindros   \n",
       "2              Combustible Corriente eléctrica  Nº de cilindros - cilindros   \n",
       "3                           Combustible Diesel  Nº de cilindros 3 cilindros   \n",
       "4                         Combustible Gasolina  Nº de cilindros 3 cilindros   \n",
       "..                                         ...                          ...   \n",
       "75              Gasolina y corriente eléctrica                          NaN   \n",
       "76  Combustible Gasolina y corriente eléctrica  Nº de cilindros 4 cilindros   \n",
       "77                          Combustible Diesel  Nº de cilindros 4 cilindros   \n",
       "78                                    Gasolina                          NaN   \n",
       "79                        Combustible Gasolina  Nº de cilindros 3 cilindros   \n",
       "\n",
       "                cilindrada                              sobrealimentacion  \\\n",
       "0     Cilindrada (cm3) 999                        Sobrealimentación Turbo   \n",
       "1   Cilindrada (cm3) 1.995  Sobrealimentación Turbo de geometría variable   \n",
       "2       Cilindrada (cm3) 0                            Sobrealimentación -   \n",
       "3   Cilindrada (cm3) 1.496  Sobrealimentación Turbo de geometría variable   \n",
       "4     Cilindrada (cm3) 988  Sobrealimentación Turbo de geometría variable   \n",
       "..                     ...                                            ...   \n",
       "75                   1.969                                            NaN   \n",
       "76  Cilindrada (cm3) 2.000                        Sobrealimentación Turbo   \n",
       "77  Cilindrada (cm3) 1.968  Sobrealimentación Turbo de geometría variable   \n",
       "78                   2.996                                            NaN   \n",
       "79  Cilindrada (cm3) 1.199                        Sobrealimentación Turbo   \n",
       "\n",
       "                                         tipo_cambio  \\\n",
       "0                         Tipo de transmisión Manual   \n",
       "1                         Tipo de transmisión Manual   \n",
       "2   Tipo de transmisión Directo, sin caja de cambios   \n",
       "3                         Tipo de transmisión Manual   \n",
       "4                         Tipo de transmisión Manual   \n",
       "..                                               ...   \n",
       "75                                        Automático   \n",
       "76         Tipo de transmisión Automática secuencial   \n",
       "77         Tipo de transmisión Automática secuencial   \n",
       "78                                        Automático   \n",
       "79                        Tipo de transmisión Manual   \n",
       "\n",
       "                                          traccion         num_marchas  \\\n",
       "0                       TracciónTracción delantera  Número de marchas6   \n",
       "1                         TracciónTracción trasera  Número de marchas6   \n",
       "2   TracciónTodo terreno tracción total permanente  Número de marchas1   \n",
       "3                       TracciónTracción delantera  Número de marchas6   \n",
       "4                       TracciónTracción delantera  Número de marchas6   \n",
       "..                                             ...                 ...   \n",
       "75                                             NaN                None   \n",
       "76  TracciónTodo terreno tracción total permanente  Número de marchas8   \n",
       "77                      TracciónTracción delantera  Número de marchas7   \n",
       "78                                             NaN                None   \n",
       "79                      TracciónTracción delantera  Número de marchas6   \n",
       "\n",
       "         potencia_kw       potencia_cv          par  \\\n",
       "0    Potencia (KW)52   Potencia (CV)70   Par (Nm)92   \n",
       "1   Potencia (KW)110  Potencia (CV)150  Par (Nm)320   \n",
       "2   Potencia (KW)300  Potencia (CV)408  Par (Nm)760   \n",
       "3    Potencia (KW)85  Potencia (CV)116  Par (Nm)270   \n",
       "4    Potencia (KW)93  Potencia (CV)126  Par (Nm)200   \n",
       "..               ...               ...          ...   \n",
       "75               NaN               253          NaN   \n",
       "76  Potencia (KW)297  Potencia (CV)404  Par (Nm)640   \n",
       "77  Potencia (KW)110  Potencia (CV)150  Par (Nm)360   \n",
       "78               NaN               367          NaN   \n",
       "79   Potencia (KW)81  Potencia (CV)110  Par (Nm)205   \n",
       "\n",
       "                 velocidad_max                      aceleracion  \\\n",
       "0   Velocidad máxima (km/h)167  Aceleración 0-100 km/h (s)13,80   \n",
       "1   Velocidad máxima (km/h)212   Aceleración 0-100 km/h (s)8,30   \n",
       "2   Velocidad máxima (km/h)180   Aceleración 0-100 km/h (s)5,10   \n",
       "3   Velocidad máxima (km/h)190  Aceleración 0-100 km/h (s)11,50   \n",
       "4     Velocidad máxima (km/h)-  Aceleración 0-100 km/h (s)10,90   \n",
       "..                         ...                              ...   \n",
       "75                         NaN                              NaN   \n",
       "76  Velocidad máxima (km/h)220   Aceleración 0-100 km/h (s)6,80   \n",
       "77  Velocidad máxima (km/h)200   Aceleración 0-100 km/h (s)9,30   \n",
       "78                         NaN                              NaN   \n",
       "79  Velocidad máxima (km/h)195   Aceleración 0-100 km/h (s)8,80   \n",
       "\n",
       "           carroceria  \n",
       "0                 NaN  \n",
       "1                 NaN  \n",
       "2                 NaN  \n",
       "3                 NaN  \n",
       "4                 NaN  \n",
       "..                ...  \n",
       "75           Familiar  \n",
       "76                NaN  \n",
       "77                NaN  \n",
       "78  4x4, SUV o pickup  \n",
       "79                NaN  \n",
       "\n",
       "[80 rows x 37 columns]"
      ]
     },
     "execution_count": 25,
     "metadata": {},
     "output_type": "execute_result"
    }
   ],
   "source": [
    "df"
   ]
  },
  {
   "cell_type": "code",
   "execution_count": 29,
   "id": "b2c90bd1-c3ba-4189-9711-669fac3b736c",
   "metadata": {
    "tags": []
   },
   "outputs": [],
   "source": [
    "df.to_csv('../bin/data.csv', index=False)"
   ]
  },
  {
   "cell_type": "markdown",
   "id": "8d7f6d2e-c271-4df0-8ba7-a9a4100d7c43",
   "metadata": {},
   "source": [
    "## Pruebas fallos"
   ]
  },
  {
   "cell_type": "code",
   "execution_count": 31,
   "id": "9a5144c7-207e-4a48-a2a6-831b829feaf1",
   "metadata": {
    "tags": []
   },
   "outputs": [
    {
     "name": "stdout",
     "output_type": "stream",
     "text": [
      "200\n"
     ]
    }
   ],
   "source": [
    "url = 'https://www.autocasion.com/coches-segunda-mano/mercedes-benz-eqc-ocasion/eqc-400-4matic-ref14697751'\n",
    "headers = {\n",
    "    \"User-Agent\": \"Mozilla/5.0 (Windows NT 10.0; Win64; x64) AppleWebKit/537.36 (KHTML, like Gecko) Chrome/58.0.3029.110 Safari/537.3\"\n",
    "}\n",
    "\n",
    "session = requests.Session()\n",
    "\n",
    "response = session.get(url, headers=headers)\n",
    "soup = BeautifulSoup(response.content, \"html.parser\")\n",
    "print(response.status_code)"
   ]
  },
  {
   "cell_type": "code",
   "execution_count": 39,
   "id": "79a1d4ea-3d37-47c0-97a4-8c4f299b83a6",
   "metadata": {},
   "outputs": [
    {
     "data": {
      "text/plain": [
       "'Ubicación:'"
      ]
     },
     "execution_count": 39,
     "metadata": {},
     "output_type": "execute_result"
    }
   ],
   "source": [
    " soup.find_all('div', class_= 'etiquetas')[1].find_all('span')[-1].text"
   ]
  },
  {
   "cell_type": "code",
   "execution_count": null,
   "id": "1a31d72f-99d1-42c2-bac9-ecdb80551d1b",
   "metadata": {},
   "outputs": [],
   "source": []
  }
 ],
 "metadata": {
  "kernelspec": {
   "display_name": "Python 3 (ipykernel)",
   "language": "python",
   "name": "python3"
  },
  "language_info": {
   "codemirror_mode": {
    "name": "ipython",
    "version": 3
   },
   "file_extension": ".py",
   "mimetype": "text/x-python",
   "name": "python",
   "nbconvert_exporter": "python",
   "pygments_lexer": "ipython3",
   "version": "3.11.7"
  }
 },
 "nbformat": 4,
 "nbformat_minor": 5
}
