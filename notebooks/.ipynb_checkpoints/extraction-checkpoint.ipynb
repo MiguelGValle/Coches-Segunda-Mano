{
 "cells": [
  {
   "cell_type": "code",
   "execution_count": 148,
   "id": "1a4832be-5181-49dc-aa58-1f9ab9f00c4c",
   "metadata": {
    "tags": []
   },
   "outputs": [],
   "source": [
    "import numpy as np\n",
    "import pandas as pd\n",
    "import requests\n",
    "import tqdm\n",
    "import time\n",
    "import random\n",
    "import re\n",
    "\n",
    "from bs4 import BeautifulSoup\n",
    "from selenium import webdriver\n",
    "from selenium.webdriver.common.by import By\n",
    "\n",
    "from time import sleep"
   ]
  },
  {
   "cell_type": "code",
   "execution_count": 4,
   "id": "ea4698de-bb90-4c79-8e4a-d4405f1b6998",
   "metadata": {
    "tags": []
   },
   "outputs": [
    {
     "name": "stdout",
     "output_type": "stream",
     "text": [
      "200\n"
     ]
    }
   ],
   "source": [
    "url = \"https://www.autocasion.com/coches-ocasion\"\n",
    "headers = {\n",
    "    \"User-Agent\": \"Mozilla/5.0 (Windows NT 10.0; Win64; x64) AppleWebKit/537.36 (KHTML, like Gecko) Chrome/58.0.3029.110 Safari/537.3\"\n",
    "}\n",
    "\n",
    "session = requests.Session()\n",
    "\n",
    "response = session.get(url, headers=headers)\n",
    "soup = BeautifulSoup(response.content, \"html.parser\")\n",
    "print(response.status_code)"
   ]
  },
  {
   "cell_type": "code",
   "execution_count": 6,
   "id": "92b0d424-d72c-4e68-a1a6-1a36d8a35933",
   "metadata": {},
   "outputs": [
    {
     "data": {
      "text/plain": [
       "6566"
      ]
     },
     "execution_count": 6,
     "metadata": {},
     "output_type": "execute_result"
    }
   ],
   "source": [
    "anuncios_pagina = soup.find_all(\"article\", class_=\"anuncio\")\n",
    "\n",
    "total_coches = int(soup.find('div', class_=\"container listado\").find('h1').text.strip().split('\\n')[0].replace('.',''))\n",
    "\n",
    "total_paginas = int(total_coches/len(anuncios_pagina)) + (1 if (total_coches/len(anuncios_pagina))%1 else 0)\n",
    "\n",
    "total_paginas"
   ]
  },
  {
   "cell_type": "code",
   "execution_count": 26,
   "id": "e9a34be9-b10f-4a6c-8d32-6a85030bc4fb",
   "metadata": {},
   "outputs": [],
   "source": [
    "def links_coches():\n",
    "    url_base = \"https://www.autocasion.com\"\n",
    "    url_pagina = f\"{url_base}/coches-ocasion?direction=desc&sort=updated_at&page=\"\n",
    "    \n",
    "    headers = {\n",
    "        \"User-Agent\": \"Mozilla/5.0 (Windows NT 10.0; Win64; x64) AppleWebKit/537.36 (KHTML, like Gecko) Chrome/58.0.3029.110 Safari/537.3\"\n",
    "    }\n",
    "    session = requests.Session()\n",
    "    \n",
    "    lista_paginas = []\n",
    "    anuncios_coches = []\n",
    "\n",
    "    for pagina in range(1, total_paginas +1):\n",
    "        lista_paginas.append(f'{url_pagina}{pagina}')\n",
    "        \n",
    "    lista_prueba = lista_paginas[:1]\n",
    "        \n",
    "    for pagina_url in lista_prueba:\n",
    "        response = session.get(pagina_url, headers=headers)\n",
    "        soup = BeautifulSoup(response.content, \"html.parser\")\n",
    "        anuncios = soup.find_all(\"article\", class_=\"anuncio\")\n",
    "        \n",
    "        for anuncio in anuncios:\n",
    "            coche_url = anuncio.find(\"a\")['href']\n",
    "            anuncios_coches.append(f'{url_base}{coche_url}')   \n",
    "    \n",
    "        \n",
    "    return lista_paginas, anuncios_coches"
   ]
  },
  {
   "cell_type": "code",
   "execution_count": 28,
   "id": "14720e43-2304-45e2-916d-8b199884dcdf",
   "metadata": {
    "scrolled": true,
    "tags": []
   },
   "outputs": [
    {
     "data": {
      "text/plain": [
       "['https://www.autocasion.com/coches-segunda-mano/bmw-x3-ocasion/m-sport-166deeef668fdd-ref14271418',\n",
       " 'https://www.autocasion.com/coches-segunda-mano/dacia-sandero-ocasion/sandero-stepway-tce-expresion-67kw-ref13404343',\n",
       " 'https://www.autocasion.com/coches-segunda-mano/renault-austral-ocasion/austral-1-3-tce-mild-hybrid-techno-esprit-alpine-cvt-117kw-ref13214707',\n",
       " 'https://www.autocasion.com/coches-segunda-mano/ford-ecosport-ocasion/ecosport-1-0-ecoboost-active-125-ref12458481',\n",
       " 'https://www.autocasion.com/coches-segunda-mano/renault-captur-ocasion/captur-blue-dci-zen-edc-85kw-ref13188893',\n",
       " 'https://www.autocasion.com/coches-segunda-mano/renault-megane-ocasion/megane-1-3-tce-gpf-business-85kw-ref12927462',\n",
       " 'https://www.autocasion.com/coches-segunda-mano/ford-kuga-ocasion/kuga-1-5tdci-titanium-4x2-120-ref14436080',\n",
       " 'https://www.autocasion.com/coches-segunda-mano/bmw-serie-6-ocasion/m6-coupe-ref14560922',\n",
       " 'https://www.autocasion.com/coches-segunda-mano/renault-clio-ocasion/limited-tce-66kw-90cv-18-16648312852cb5-ref13139779',\n",
       " 'https://www.autocasion.com/coches-segunda-mano/renault-clio-ocasion/clio-tce-glp-techno-74kw-1-ref13139770',\n",
       " 'https://www.autocasion.com/coches-segunda-mano/renault-megane-ocasion/megane-s-t-1-5dci-blue-business-85kw-ref14497518',\n",
       " 'https://www.autocasion.com/coches-km0/km-0/opel-mokka-km0/mokka-e-gs-business-elegance-e-ref8484122',\n",
       " 'https://www.autocasion.com/coches-segunda-mano/peugeot-208-ocasion/208-1-2-puretech-style-82-2-ref13752033',\n",
       " 'https://www.autocasion.com/coches-segunda-mano/mercedes-benz-clase-a-ocasion/a-250e-8g-dct-1-ref14462749',\n",
       " 'https://www.autocasion.com/coches-segunda-mano/mercedes-benz-clase-a-ocasion/a-200d-8g-dct-1-ref13371404',\n",
       " 'https://www.autocasion.com/coches-segunda-mano/ferrari-296-gtb-ocasion/296-gtb-ref14636498']"
      ]
     },
     "execution_count": 28,
     "metadata": {},
     "output_type": "execute_result"
    }
   ],
   "source": [
    "lista_paginas,anuncios_coches = links_coches()\n",
    "anuncios_coches"
   ]
  },
  {
   "cell_type": "code",
   "execution_count": 74,
   "id": "4c79d371-88c8-485b-beb2-9fb93b2c8d04",
   "metadata": {
    "tags": []
   },
   "outputs": [],
   "source": [
    "url_coche = 'https://www.autocasion.com/coches-segunda-mano/citroen-c4-cactus-ocasion/citroen-c4-cactus-monovolumen-82cv-manual-de-5-puertas-ref14463163'\n",
    "headers = {\n",
    "       \"User-Agent\": \"Mozilla/5.0 (Windows NT 10.0; Win64; x64) AppleWebKit/537.36 (KHTML, like Gecko) Chrome/58.0.3029.110 Safari/537.3\"\n",
    "        }\n",
    "session = requests.Session()\n",
    "response = session.get(url_coche, headers=headers)\n",
    "soup = BeautifulSoup(response.content, \"html.parser\")"
   ]
  },
  {
   "cell_type": "code",
   "execution_count": 78,
   "id": "96e80480-b043-417c-b4bc-af98ef3047ca",
   "metadata": {
    "tags": []
   },
   "outputs": [],
   "source": [
    "provincia = soup.find_all('div', class_= 'etiquetas')[1].find_all('span')[-1].text\n",
    "\n",
    "distintivo_ambiental = soup.find_all('div', class_= 'etiquetas')[1].find('img')['alt']\n",
    "\n",
    "marca_modelo = soup.find('h2').text\n",
    "\n",
    "detalles_basicos = soup.find('ul', class_= 'datos-basicos-ficha').find_all('li')\n",
    "\n",
    "lista_detalles_basicos = []\n",
    "\n",
    "for detalle in detalles_basicos:\n",
    "    lista_detalles_basicos.append(detalle.text.strip())\n",
    "    \n",
    "precio_contado = soup.find('ul', class_= 'tabla-precio').find_all('li')[0].text.replace('\\n', '').split(':')[1].replace('.', '').replace('€','').strip()\n",
    "#precio_nuevo = soup.find('ul', class_= 'tabla-precio').find_all('li')[1].text.replace('\\n', '').split('*')[1].strip().replace('.','').split()[0]\n",
    "\n"
   ]
  },
  {
   "cell_type": "code",
   "execution_count": 162,
   "id": "5b4579fc-b2fd-4124-89fe-e5b3b403d009",
   "metadata": {
    "tags": []
   },
   "outputs": [
    {
     "data": {
      "text/plain": [
       "['Matriculado: 04/2017',\n",
       " '89.000 km',\n",
       " 'Manual',\n",
       " 'Gasolina',\n",
       " 'Monovolumen',\n",
       " '5 asientos',\n",
       " '82 cv',\n",
       " '5 Puertas',\n",
       " 'Violeta']"
      ]
     },
     "execution_count": 162,
     "metadata": {},
     "output_type": "execute_result"
    }
   ],
   "source": [
    "lista_detalles_basicos"
   ]
  },
  {
   "cell_type": "code",
   "execution_count": 82,
   "id": "96a10e54-1e63-4516-9787-3a1656ab8ecf",
   "metadata": {},
   "outputs": [
    {
     "ename": "AttributeError",
     "evalue": "'NoneType' object has no attribute 'find'",
     "output_type": "error",
     "traceback": [
      "\u001b[1;31m---------------------------------------------------------------------------\u001b[0m",
      "\u001b[1;31mAttributeError\u001b[0m                            Traceback (most recent call last)",
      "Cell \u001b[1;32mIn[82], line 1\u001b[0m\n\u001b[1;32m----> 1\u001b[0m detalles_carroceria \u001b[38;5;241m=\u001b[39m soup\u001b[38;5;241m.\u001b[39mfind(\u001b[38;5;124m'\u001b[39m\u001b[38;5;124mdiv\u001b[39m\u001b[38;5;124m'\u001b[39m, class_\u001b[38;5;241m=\u001b[39m \u001b[38;5;124m'\u001b[39m\u001b[38;5;124mbloque ficha-tecnica\u001b[39m\u001b[38;5;124m'\u001b[39m)\u001b[38;5;241m.\u001b[39mfind(\u001b[38;5;124m'\u001b[39m\u001b[38;5;124mul\u001b[39m\u001b[38;5;124m'\u001b[39m, class_\u001b[38;5;241m=\u001b[39m \u001b[38;5;124m'\u001b[39m\u001b[38;5;124mtab-spec-1 active\u001b[39m\u001b[38;5;124m'\u001b[39m)\u001b[38;5;241m.\u001b[39mfind_all(\u001b[38;5;124m'\u001b[39m\u001b[38;5;124mli\u001b[39m\u001b[38;5;124m'\u001b[39m)\n\u001b[0;32m      2\u001b[0m lista_detalles_carroceria \u001b[38;5;241m=\u001b[39m []\n\u001b[0;32m      3\u001b[0m \u001b[38;5;28;01mfor\u001b[39;00m detalle \u001b[38;5;129;01min\u001b[39;00m detalles_carroceria:\n",
      "\u001b[1;31mAttributeError\u001b[0m: 'NoneType' object has no attribute 'find'"
     ]
    }
   ],
   "source": [
    "detalles_carroceria = soup.find('div', class_= 'bloque ficha-tecnica').find('ul', class_= 'tab-spec-1 active').find_all('li')\n",
    "lista_detalles_carroceria = []\n",
    "for detalle in detalles_carroceria:\n",
    "    lista_detalles_carroceria.append(detalle.text.strip().replace('Medidas','').strip())\n",
    "                                     \n",
    "lista_detalles_carroceria"
   ]
  },
  {
   "cell_type": "code",
   "execution_count": 60,
   "id": "aeab2274-55d9-4841-9b0c-876e01d2fdc9",
   "metadata": {
    "tags": []
   },
   "outputs": [
    {
     "data": {
      "text/plain": [
       "['Consumo medio 0,00 litros/100 km',\n",
       " 'Consumo en carretera 0,00 litros/100 km',\n",
       " 'Consumo urbano 0,00 litros/100 km',\n",
       " 'CO2 (g/km) - g/km',\n",
       " 'Depósito de combustible (l) 0,00 litros']"
      ]
     },
     "execution_count": 60,
     "metadata": {},
     "output_type": "execute_result"
    }
   ],
   "source": [
    "detalles_consumos = soup.find('div', class_= 'bloque ficha-tecnica').find('ul', class_= 'tab-spec-2').find_all('li')\n",
    "lista_detalles_consumo = []\n",
    "\n",
    "for detalle in detalles_consumos:\n",
    "    lista_detalles_consumo.append(' '.join(detalle.text.replace('\\n','').split()))\n",
    "     \n",
    "    \n",
    "                                     \n",
    "lista_detalles_consumo"
   ]
  },
  {
   "cell_type": "code",
   "execution_count": 62,
   "id": "e9b7f28e-58d6-49a4-a836-c193e351710a",
   "metadata": {
    "tags": []
   },
   "outputs": [
    {
     "data": {
      "text/plain": [
       "['Combustible Corriente eléctrica',\n",
       " 'Nº de cilindros - cilindros',\n",
       " 'Cilindrada (cm3) 0',\n",
       " 'Sobrealimentación -']"
      ]
     },
     "execution_count": 62,
     "metadata": {},
     "output_type": "execute_result"
    }
   ],
   "source": [
    "detalles_motor = soup.find('div', class_= 'bloque ficha-tecnica').find('ul', class_= 'tab-spec-3').find_all('li')\n",
    "lista_detalles_motor = []\n",
    "\n",
    "for detalle in detalles_motor:\n",
    "    lista_detalles_motor.append(detalle.text.replace('\\n', ' ').strip())\n",
    "    \n",
    "lista_detalles_motor"
   ]
  },
  {
   "cell_type": "code",
   "execution_count": 64,
   "id": "2051d51e-bcf3-4156-8a65-92e7c73f7656",
   "metadata": {
    "tags": []
   },
   "outputs": [
    {
     "data": {
      "text/plain": [
       "['Tipo de transmisión Directo, sin caja de cambios',\n",
       " 'TracciónTracción delantera',\n",
       " 'Número de marchas1']"
      ]
     },
     "execution_count": 64,
     "metadata": {},
     "output_type": "execute_result"
    }
   ],
   "source": [
    "detalles_transmision = soup.find('div', class_= 'bloque ficha-tecnica').find('ul', class_= 'tab-spec-4').find_all('li')\n",
    "lista_detalles_transmision = []\n",
    "\n",
    "for detalle in detalles_transmision:\n",
    "    lista_detalles_transmision.append(detalle.text.replace('\\n', ' ').strip())\n",
    "    \n",
    "lista_detalles_transmision"
   ]
  },
  {
   "cell_type": "code",
   "execution_count": 66,
   "id": "f0cd953d-e89c-4419-bb5b-dcafd42bfc5b",
   "metadata": {
    "tags": []
   },
   "outputs": [
    {
     "data": {
      "text/plain": [
       "['Potencia (KW)140',\n",
       " 'Potencia (CV)190',\n",
       " 'Par (Nm)375',\n",
       " 'Velocidad máxima (km/h)160',\n",
       " 'Aceleración 0-100 km/h (s)9,20']"
      ]
     },
     "execution_count": 66,
     "metadata": {},
     "output_type": "execute_result"
    }
   ],
   "source": [
    "detalles_prestaciones = soup.find('div', class_= 'bloque ficha-tecnica').find('ul', class_= 'tab-spec-5').find_all('li')\n",
    "lista_detalles_prestaciones = []\n",
    "\n",
    "for detalle in detalles_prestaciones:\n",
    "    lista_detalles_prestaciones.append(detalle.text)\n",
    "    \n",
    "lista_detalles_prestaciones"
   ]
  },
  {
   "cell_type": "code",
   "execution_count": 84,
   "id": "9e4a24ea-367a-45e9-8d00-b8d5e3cafa53",
   "metadata": {
    "tags": []
   },
   "outputs": [],
   "source": [
    "lista_detalles_vendedor = soup.find('div', class_= 'datos-concesionario').find('p').text.strip().split('\\n')\n",
    "\n",
    "nombre_vendedor = lista_detalles_vendedor[0]\n",
    "tipo_vendedor = lista_detalles_vendedor[1].strip()"
   ]
  },
  {
   "cell_type": "code",
   "execution_count": 86,
   "id": "4a797aaf-3b31-45f6-8181-afaae2cfaf8d",
   "metadata": {
    "tags": []
   },
   "outputs": [
    {
     "data": {
      "text/plain": [
       "'Dalida'"
      ]
     },
     "execution_count": 86,
     "metadata": {},
     "output_type": "execute_result"
    }
   ],
   "source": [
    "nombre_vendedor"
   ]
  },
  {
   "cell_type": "code",
   "execution_count": 88,
   "id": "30ebf3e4-058c-4d2e-a1ad-d6c66ff0b319",
   "metadata": {
    "tags": []
   },
   "outputs": [
    {
     "data": {
      "text/plain": [
       "'Particular - Málaga'"
      ]
     },
     "execution_count": 88,
     "metadata": {},
     "output_type": "execute_result"
    }
   ],
   "source": [
    "tipo_vendedor"
   ]
  },
  {
   "cell_type": "code",
   "execution_count": 146,
   "id": "58fa922c-8d11-4ae7-a626-0fb003863c69",
   "metadata": {
    "tags": []
   },
   "outputs": [
    {
     "data": {
      "text/plain": [
       "['\\nCarrocería\\nCarrocería:  Monovolumen\\nNúmero de puertas:  5 Puertas\\nNúmero de plazas:              \\n                                                    5\\n                                    \\n     Plazas\\n',\n",
       " '\\nMotor\\n\\n                    Combustible: \\n                    \\n                                                                            Gasolina\\n                                            \\n\\nPotencia:              \\n                                        82\\n                                                \\n    \\n',\n",
       " '\\nTransmisión\\nTipo de cambio:  Manual\\n']"
      ]
     },
     "execution_count": 146,
     "metadata": {},
     "output_type": "execute_result"
    }
   ],
   "source": [
    "ficha_tecnica = soup.find('div', class_= 'bloque no-eurotax').find_all('ul')\n",
    "lista_ficha_tecnica = []\n",
    "\n",
    "for detalle in range(0,len(ficha_tecnica)):\n",
    "    lista_ficha_tecnica.append(soup.find('div', class_= 'bloque no-eurotax').find_all('ul')[detalle].text)\n",
    "    \n",
    "    \n",
    "lista_ficha_tecnica    "
   ]
  },
  {
   "cell_type": "code",
   "execution_count": 150,
   "id": "6da268d5-bc0b-4e8e-afd7-87aef0c29568",
   "metadata": {
    "tags": []
   },
   "outputs": [],
   "source": [
    "info_coche = {}\n",
    "\n",
    "# Función para buscar y extraer un valor específico de cada cadena\n",
    "def buscar_detalle(texto, campo):\n",
    "    # Usamos expresiones regulares para capturar el campo deseado seguido de su valor\n",
    "    pattern = rf\"{campo}:?\\s+([^\\n]+)\"\n",
    "    match = re.search(pattern, texto)\n",
    "    return match.group(1).strip() if match else None\n"
   ]
  },
  {
   "cell_type": "code",
   "execution_count": 158,
   "id": "8936c8b3-ec30-42b4-8c29-5a194516ec99",
   "metadata": {
    "tags": []
   },
   "outputs": [
    {
     "name": "stdout",
     "output_type": "stream",
     "text": [
      "{'carroceria': 'Monovolumen', 'numero_puertas': '5 Puertas', 'numero_plazas': '5', 'combustible': 'Gasolina', 'potencia': '82', 'tipo_cambio': 'Manual'}\n"
     ]
    }
   ],
   "source": [
    "for detalle in lista_ficha_tecnica:\n",
    "    if \"Carrocería\" in detalle:\n",
    "        info_coche['carroceria'] = buscar_detalle(detalle, \"Carrocería:\")\n",
    "        info_coche['numero_puertas'] = buscar_detalle(detalle, \"Número de puertas:\")\n",
    "        info_coche['numero_plazas'] = buscar_detalle(detalle, \"Número de plazas:\")\n",
    "        info_coche['peso'] = buscar_detalle(detalle, \"Peso:\")\n",
    "        \n",
    "    elif \"Motor\" in detalle:\n",
    "        info_coche['combustible'] = buscar_detalle(detalle, \"Combustible:\")\n",
    "        info_coche['potencia'] = buscar_detalle(detalle, \"Potencia:\")\n",
    "        info_coche['cilindrada'] = buscar_detalle(detalle, \"Cilindrada:\")\n",
    "    elif \"Transmisión\" in detalle:\n",
    "        info_coche['tipo_cambio'] = buscar_detalle(detalle, \"Tipo de cambio:\")\n",
    "        info_coche['marchas'] = buscar_detalle(detalle, \"Marchas:\")\n",
    "        \n",
    "        \n",
    "print(info_coche)"
   ]
  },
  {
   "cell_type": "code",
   "execution_count": 154,
   "id": "461bc394-0277-4f02-ad56-e42595e7fc13",
   "metadata": {
    "tags": []
   },
   "outputs": [
    {
     "data": {
      "text/plain": [
       "'5 Puertas'"
      ]
     },
     "execution_count": 154,
     "metadata": {},
     "output_type": "execute_result"
    }
   ],
   "source": [
    "info_coche['numero_puertas']"
   ]
  },
  {
   "cell_type": "code",
   "execution_count": null,
   "id": "3b812e7b-fc27-4bff-b035-387c78e72ae6",
   "metadata": {},
   "outputs": [],
   "source": [
    ".strip()\n",
    "                               .replace('Carrocería\\n','').replace('Consumos y emisiones\\n','').replace('Motor\\n','').replace('Transmisión\\n','').replace('Prestaciones\\n','').replace(' \\n ','')\n",
    "                               .replace('  \\n','').replace(' \\n ','')\n",
    "                              .strip())"
   ]
  }
 ],
 "metadata": {
  "kernelspec": {
   "display_name": "Python 3 (ipykernel)",
   "language": "python",
   "name": "python3"
  },
  "language_info": {
   "codemirror_mode": {
    "name": "ipython",
    "version": 3
   },
   "file_extension": ".py",
   "mimetype": "text/x-python",
   "name": "python",
   "nbconvert_exporter": "python",
   "pygments_lexer": "ipython3",
   "version": "3.11.7"
  }
 },
 "nbformat": 4,
 "nbformat_minor": 5
}
