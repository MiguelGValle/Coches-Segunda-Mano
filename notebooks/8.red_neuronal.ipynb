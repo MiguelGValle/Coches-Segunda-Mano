{
 "cells": [
  {
   "cell_type": "code",
   "execution_count": 53,
   "id": "340cb7b2-d6a6-4155-9ab1-0e0f7ccc1464",
   "metadata": {
    "tags": []
   },
   "outputs": [],
   "source": [
    "import numpy as np\n",
    "import pandas as pd\n",
    "import seaborn as sns\n",
    "import pickle\n",
    "import os\n",
    "\n",
    "import matplotlib \n",
    "import matplotlib.pyplot as plt\n",
    "\n",
    "import tensorflow as tf \n",
    "import keras \n",
    "from tensorflow.keras.callbacks import EarlyStopping\n",
    "\n",
    "\n",
    "from keras.datasets import mnist\n",
    "\n",
    "from keras.models import Sequential\n",
    "from keras.layers import Dense, Flatten, Dropout, Input, BatchNormalization\n",
    "from tensorflow.keras.layers import LeakyReLU\n",
    "from tensorflow.keras.optimizers import RMSprop\n",
    "from keras.utils import to_categorical \n",
    "\n",
    "import sklearn \n",
    "from sklearn.model_selection import train_test_split\n",
    "from sklearn.preprocessing import StandardScaler\n",
    "from sklearn.metrics import mean_absolute_error\n",
    "from sklearn.metrics import mean_squared_error\n",
    "from sklearn.metrics import r2_score\n",
    "from sklearn.metrics import make_scorer\n",
    "from sklearn.metrics import confusion_matrix"
   ]
  },
  {
   "cell_type": "code",
   "execution_count": 5,
   "id": "9e77ff4c-8dc3-4083-a29d-3669dee40474",
   "metadata": {
    "tags": []
   },
   "outputs": [],
   "source": [
    "pd.set_option('display.max_columns', None)"
   ]
  },
  {
   "cell_type": "code",
   "execution_count": 48,
   "id": "73baf9ac-56a9-41ae-ab65-630db989f711",
   "metadata": {
    "tags": []
   },
   "outputs": [],
   "source": [
    "# Cargamos el scaler que usamos para escalar los datos previamente\n",
    "\n",
    "with open('escaladores/x_scaler.pickle', 'rb') as file:\n",
    "    x_scaler = pickle.load(file)\n",
    "    \n",
    "with open('escaladores/y_scaler.pickle', 'rb') as file:\n",
    "    y_scaler = pickle.load(file)"
   ]
  },
  {
   "cell_type": "code",
   "execution_count": 9,
   "id": "9166d49d-00ca-4194-8ace-910cc3ab4ddd",
   "metadata": {
    "tags": []
   },
   "outputs": [],
   "source": [
    "df = pd.read_csv(\"../bin/data_process.csv\")"
   ]
  },
  {
   "cell_type": "code",
   "execution_count": 13,
   "id": "2e7b8860-af1b-4ee0-8375-282766a90cf0",
   "metadata": {
    "tags": []
   },
   "outputs": [],
   "source": [
    "# Quitamos el precio nuevo porque a Miguel le parece que es hacer trampa\n",
    "\n",
    "x = df.drop(columns = ['log_precio_contado', 'log_precio_nuevo'], axis=1)  \n",
    "y = df['log_precio_contado']  \n",
    "\n",
    "x_train, x_test, y_train, y_test = train_test_split(x, y, test_size=0.2, random_state=33)"
   ]
  },
  {
   "cell_type": "code",
   "execution_count": 99,
   "id": "703e36d1-fab3-4dd4-9b27-ee8b4c8f4156",
   "metadata": {
    "tags": []
   },
   "outputs": [],
   "source": [
    "# Definir un EarlyStopping para detener el entrenamiento si la pérdida no mejora\n",
    "\n",
    "early_stopping = EarlyStopping(monitor='val_loss', patience=10, restore_best_weights=True)"
   ]
  },
  {
   "cell_type": "code",
   "execution_count": null,
   "id": "dd366649-9a53-40b0-b845-cbf88a931236",
   "metadata": {},
   "outputs": [],
   "source": [
    "def crear_modelo(input_dim = x_train.shape[1] , learning_rate=0.001, func_loss = 'mse'):\n",
    "    \"\"\"\n",
    "    Crea una red neuronal para regresión.\n",
    "\n",
    "    Parámetros:\n",
    "    - input_dim (int): Número de características de entrada.\n",
    "    - learning_rate (float): Tasa de aprendizaje para el optimizador Adam.\n",
    "    - func_loss (str): Función de pérdida ('mse' o 'mae').\n",
    "\n",
    "    Retorno:\n",
    "    - model (keras.Sequential): Modelo compilado.\n",
    "    \"\"\"\n",
    "    \n",
    "    model = Sequential()\n",
    "    \n",
    "    model.add(Dense(64, input_dim=input_dim, activation='relu'))\n",
    "    model.add(Dropout(0.2))\n",
    "    \n",
    "    model.add(Dense(32, activation='relu'))\n",
    "    model.add(Dropout(0.2))  \n",
    "    \n",
    "    model.add(Dense(16, activation='relu'))\n",
    "    model.add(Dropout(0.2)) \n",
    "    \n",
    "    model.add(Dense(1, activation='linear')) \n",
    "    \n",
    "    optimizer = Adam(learning_rate=learning_rate)\n",
    "    \n",
    "    if func_loss == 'mse':\n",
    "        model.compile(optimizer=optimizer, loss= 'mse' , metrics=['mean_absolute_error'])\n",
    "        \n",
    "    else:\n",
    "        model.compile(optimizer=optimizer, loss= 'mae' , metrics=['mean_squared_error'])\n",
    "    \n",
    "    return model\n"
   ]
  },
  {
   "cell_type": "code",
   "execution_count": null,
   "id": "20e7c69b-97a0-4a79-894d-e66fcb48d66b",
   "metadata": {},
   "outputs": [],
   "source": [
    "def entrenamiento(modelo):\n",
    "    \"\"\"\n",
    "    Entrena el modelo y devuelve un DataFrame con las métricas finales.\n",
    "    También grafica la evolución de la pérdida durante el entrenamiento.\n",
    "\n",
    "    Parámetros:\n",
    "    - modelo: El modelo de red neuronal a entrenar.\n",
    "\n",
    "    Retorna:\n",
    "    - resultados: DataFrame con el número de épocas y las métricas finales (MSE y MAE).\n",
    "    \"\"\"\n",
    "    \n",
    "    history = modelo.fit(x_train, y_train, validation_data=(x_test, y_test), \n",
    "                    epochs=100, batch_size=32, callbacks=[early_stopping], verbose=1)\n",
    "\n",
    "    # Obtener el número de épocas que ha tardado en llegar al plateau\n",
    "    epochs_run = len(history.history['loss'])\n",
    "    \n",
    "    y_pred = modelo.predict(x_test)\n",
    "    y_pred_unscaled = y_scaler.inverse_transform(np.array(y_pred).reshape(-1, 1)).ravel()\n",
    "    y_test_unscaled = y_scaler.inverse_transform(np.array(y_test).reshape(-1, 1)).ravel()\n",
    "\n",
    "    # Obtener las métricas finales\n",
    "    metrics = modelo.evaluate(x_test, y_test)\n",
    "\n",
    "    resultados = pd.DataFrame({\n",
    "        'Número de épocas': [epochs_run],\n",
    "        'Pérdida final (MSE)': [metrics[0]],\n",
    "        'MAE final': [metrics[1]]\n",
    "    })\n",
    "    \n",
    "    loss_name = modelo.loss.upper()\n",
    "    \n",
    "    plt.plot(history.history['loss'], label=f'{loss_name} (Training)')\n",
    "    plt.plot(history.history['val_loss'], label=f'{loss_name} (Validation)')\n",
    "    plt.xlabel('Épocas')\n",
    "    plt.ylabel('Pérdida')\n",
    "    plt.legend()\n",
    "    plt.title('Evolución de la pérdida durante el entrenamiento')\n",
    "    plt.show()\n",
    "    \n",
    "    return resultados"
   ]
  },
  {
   "cell_type": "markdown",
   "id": "80b7080e-ceb8-491c-8bbf-1383f04a0729",
   "metadata": {},
   "source": [
    "## Predicciones para streamlit"
   ]
  },
  {
   "cell_type": "code",
   "execution_count": null,
   "id": "2254ac9f-9f20-42c7-a1be-b3e3347df83d",
   "metadata": {},
   "outputs": [],
   "source": [
    "# Suponiendo que `x_new` son los datos nuevos para los que quieres predecir\n",
    "x_new_scaled = x_scaler.transform(x_new)  # Escalar los datos de entrada\n",
    "\n",
    "# Hacer la predicción\n",
    "y_pred_scaled = modelo.predict(x_new_scaled)\n",
    "\n",
    "# Desescalar la predicción\n",
    "y_pred = y_scaler.inverse_transform(y_pred_scaled.reshape(-1, 1)).ravel()\n",
    "\n",
    "print(\"Predicción en escala original:\", y_pred)"
   ]
  },
  {
   "cell_type": "markdown",
   "id": "2b9f6f9d-43ec-4103-aadb-c59279497257",
   "metadata": {
    "jp-MarkdownHeadingCollapsed": true,
    "tags": []
   },
   "source": [
    "## Pruebas"
   ]
  },
  {
   "cell_type": "code",
   "execution_count": 101,
   "id": "ff68f399-302a-4157-8abf-53afc1a448eb",
   "metadata": {
    "tags": []
   },
   "outputs": [],
   "source": [
    "model_mse = Sequential()\n",
    "model.add(Dense(64, input_dim=x_train.shape[1], activation='relu'))\n",
    "model.add(Dropout(0.2))\n",
    "model.add(Dense(32, activation='relu'))\n",
    "model.add(Dropout(0.2))\n",
    "model.add(Dense(16, activation='relu'))\n",
    "model.add(Dropout(0.2))\n",
    "model.add(Dense(1, activation='linear'))\n",
    "\n",
    "optimizer = Adam(learning_rate=0.001)\n",
    "model_mse.compile(optimizer='adam', loss='mean_squared_error', metrics=['mean_absolute_error'])"
   ]
  },
  {
   "cell_type": "code",
   "execution_count": 103,
   "id": "ba574b24-d4c5-45ac-87ab-103996bbeb38",
   "metadata": {
    "scrolled": true,
    "tags": []
   },
   "outputs": [
    {
     "name": "stdout",
     "output_type": "stream",
     "text": [
      "Epoch 1/100\n",
      "\u001b[1m760/760\u001b[0m \u001b[32m━━━━━━━━━━━━━━━━━━━━\u001b[0m\u001b[37m\u001b[0m \u001b[1m2s\u001b[0m 1ms/step - loss: 16542309206196224.0000 - mean_absolute_error: 45484524.0000 - val_loss: 631466.1250 - val_mean_absolute_error: 761.3967\n",
      "Epoch 2/100\n",
      "\u001b[1m760/760\u001b[0m \u001b[32m━━━━━━━━━━━━━━━━━━━━\u001b[0m\u001b[37m\u001b[0m \u001b[1m1s\u001b[0m 1ms/step - loss: 632544.5000 - mean_absolute_error: 756.8943 - val_loss: 617849.5000 - val_mean_absolute_error: 748.9711\n",
      "Epoch 3/100\n",
      "\u001b[1m760/760\u001b[0m \u001b[32m━━━━━━━━━━━━━━━━━━━━\u001b[0m\u001b[37m\u001b[0m \u001b[1m1s\u001b[0m 1ms/step - loss: 627081.9375 - mean_absolute_error: 747.2271 - val_loss: 612672.2500 - val_mean_absolute_error: 748.1154\n",
      "Epoch 4/100\n",
      "\u001b[1m760/760\u001b[0m \u001b[32m━━━━━━━━━━━━━━━━━━━━\u001b[0m\u001b[37m\u001b[0m \u001b[1m1s\u001b[0m 1ms/step - loss: 700053.6875 - mean_absolute_error: 766.5193 - val_loss: 641954.4375 - val_mean_absolute_error: 766.0994\n",
      "Epoch 5/100\n",
      "\u001b[1m760/760\u001b[0m \u001b[32m━━━━━━━━━━━━━━━━━━━━\u001b[0m\u001b[37m\u001b[0m \u001b[1m1s\u001b[0m 1ms/step - loss: 777398.1875 - mean_absolute_error: 791.0446 - val_loss: 833823.8125 - val_mean_absolute_error: 773.0881\n",
      "Epoch 6/100\n",
      "\u001b[1m760/760\u001b[0m \u001b[32m━━━━━━━━━━━━━━━━━━━━\u001b[0m\u001b[37m\u001b[0m \u001b[1m1s\u001b[0m 1ms/step - loss: 1347914.5000 - mean_absolute_error: 942.8879 - val_loss: 1931687.2500 - val_mean_absolute_error: 1139.6841\n",
      "Epoch 7/100\n",
      "\u001b[1m760/760\u001b[0m \u001b[32m━━━━━━━━━━━━━━━━━━━━\u001b[0m\u001b[37m\u001b[0m \u001b[1m1s\u001b[0m 1ms/step - loss: 2189117.2500 - mean_absolute_error: 1154.4080 - val_loss: 9577672.0000 - val_mean_absolute_error: 2965.0894\n",
      "Epoch 8/100\n",
      "\u001b[1m760/760\u001b[0m \u001b[32m━━━━━━━━━━━━━━━━━━━━\u001b[0m\u001b[37m\u001b[0m \u001b[1m1s\u001b[0m 1ms/step - loss: 8445190733824.0000 - mean_absolute_error: 722040.4375 - val_loss: 338235284783104.0000 - val_mean_absolute_error: 18266742.0000\n",
      "Epoch 9/100\n",
      "\u001b[1m760/760\u001b[0m \u001b[32m━━━━━━━━━━━━━━━━━━━━\u001b[0m\u001b[37m\u001b[0m \u001b[1m1s\u001b[0m 1ms/step - loss: 27533691060224.0000 - mean_absolute_error: 2228497.7500 - val_loss: 15027920.0000 - val_mean_absolute_error: 3814.3911\n",
      "Epoch 10/100\n",
      "\u001b[1m760/760\u001b[0m \u001b[32m━━━━━━━━━━━━━━━━━━━━\u001b[0m\u001b[37m\u001b[0m \u001b[1m1s\u001b[0m 1ms/step - loss: 13435874050048.0000 - mean_absolute_error: 1487162.3750 - val_loss: 1659613216768.0000 - val_mean_absolute_error: 1279543.2500\n",
      "Epoch 11/100\n",
      "\u001b[1m760/760\u001b[0m \u001b[32m━━━━━━━━━━━━━━━━━━━━\u001b[0m\u001b[37m\u001b[0m \u001b[1m1s\u001b[0m 1ms/step - loss: 30878352801792.0000 - mean_absolute_error: 2135018.5000 - val_loss: 570191.5000 - val_mean_absolute_error: 666.9599\n",
      "Epoch 12/100\n",
      "\u001b[1m760/760\u001b[0m \u001b[32m━━━━━━━━━━━━━━━━━━━━\u001b[0m\u001b[37m\u001b[0m \u001b[1m1s\u001b[0m 1ms/step - loss: 15325330407424.0000 - mean_absolute_error: 915929.1875 - val_loss: 958799.3750 - val_mean_absolute_error: 733.4268\n",
      "Epoch 13/100\n",
      "\u001b[1m760/760\u001b[0m \u001b[32m━━━━━━━━━━━━━━━━━━━━\u001b[0m\u001b[37m\u001b[0m \u001b[1m1s\u001b[0m 1ms/step - loss: 2273159413760.0000 - mean_absolute_error: 318116.0625 - val_loss: 533679180873728.0000 - val_mean_absolute_error: 22945192.0000\n",
      "Epoch 14/100\n",
      "\u001b[1m760/760\u001b[0m \u001b[32m━━━━━━━━━━━━━━━━━━━━\u001b[0m\u001b[37m\u001b[0m \u001b[1m1s\u001b[0m 1ms/step - loss: 19963265941504.0000 - mean_absolute_error: 1711045.2500 - val_loss: 1614017200128.0000 - val_mean_absolute_error: 1261846.8750\n",
      "Epoch 15/100\n",
      "\u001b[1m760/760\u001b[0m \u001b[32m━━━━━━━━━━━━━━━━━━━━\u001b[0m\u001b[37m\u001b[0m \u001b[1m1s\u001b[0m 1ms/step - loss: 22510988951552.0000 - mean_absolute_error: 2525416.0000 - val_loss: 49655084.0000 - val_mean_absolute_error: 6942.5322\n",
      "Epoch 16/100\n",
      "\u001b[1m760/760\u001b[0m \u001b[32m━━━━━━━━━━━━━━━━━━━━\u001b[0m\u001b[37m\u001b[0m \u001b[1m1s\u001b[0m 1ms/step - loss: 5092911087616.0000 - mean_absolute_error: 1158344.8750 - val_loss: 36611165257728.0000 - val_mean_absolute_error: 6009776.5000\n",
      "Epoch 17/100\n",
      "\u001b[1m760/760\u001b[0m \u001b[32m━━━━━━━━━━━━━━━━━━━━\u001b[0m\u001b[37m\u001b[0m \u001b[1m1s\u001b[0m 1ms/step - loss: 6628393353216.0000 - mean_absolute_error: 1259644.0000 - val_loss: 954059.3750 - val_mean_absolute_error: 774.9992\n",
      "Epoch 18/100\n",
      "\u001b[1m760/760\u001b[0m \u001b[32m━━━━━━━━━━━━━━━━━━━━\u001b[0m\u001b[37m\u001b[0m \u001b[1m1s\u001b[0m 1ms/step - loss: 9310081908736.0000 - mean_absolute_error: 1593150.3750 - val_loss: 3943164672.0000 - val_mean_absolute_error: 62362.8320\n",
      "Epoch 19/100\n",
      "\u001b[1m760/760\u001b[0m \u001b[32m━━━━━━━━━━━━━━━━━━━━\u001b[0m\u001b[37m\u001b[0m \u001b[1m1s\u001b[0m 1ms/step - loss: 2939627241472.0000 - mean_absolute_error: 286483.5000 - val_loss: 869759582208.0000 - val_mean_absolute_error: 926303.1250\n",
      "Epoch 20/100\n",
      "\u001b[1m760/760\u001b[0m \u001b[32m━━━━━━━━━━━━━━━━━━━━\u001b[0m\u001b[37m\u001b[0m \u001b[1m1s\u001b[0m 1ms/step - loss: 18286517420032.0000 - mean_absolute_error: 2044183.8750 - val_loss: 336849.5625 - val_mean_absolute_error: 530.9002\n",
      "Epoch 21/100\n",
      "\u001b[1m760/760\u001b[0m \u001b[32m━━━━━━━━━━━━━━━━━━━━\u001b[0m\u001b[37m\u001b[0m \u001b[1m1s\u001b[0m 1ms/step - loss: 1582077444096.0000 - mean_absolute_error: 175565.2031 - val_loss: 290442.9688 - val_mean_absolute_error: 483.2301\n",
      "Epoch 22/100\n",
      "\u001b[1m760/760\u001b[0m \u001b[32m━━━━━━━━━━━━━━━━━━━━\u001b[0m\u001b[37m\u001b[0m \u001b[1m1s\u001b[0m 1ms/step - loss: 10740270366720.0000 - mean_absolute_error: 1208039.1250 - val_loss: 58370433024.0000 - val_mean_absolute_error: 239966.4531\n",
      "Epoch 23/100\n",
      "\u001b[1m760/760\u001b[0m \u001b[32m━━━━━━━━━━━━━━━━━━━━\u001b[0m\u001b[37m\u001b[0m \u001b[1m1s\u001b[0m 1ms/step - loss: 20530746884096.0000 - mean_absolute_error: 2134765.0000 - val_loss: 27792801792.0000 - val_mean_absolute_error: 165581.4688\n",
      "Epoch 24/100\n",
      "\u001b[1m760/760\u001b[0m \u001b[32m━━━━━━━━━━━━━━━━━━━━\u001b[0m\u001b[37m\u001b[0m \u001b[1m1s\u001b[0m 1ms/step - loss: 12935100366848.0000 - mean_absolute_error: 1505885.8750 - val_loss: 8019943424.0000 - val_mean_absolute_error: 88947.2812\n",
      "Epoch 25/100\n",
      "\u001b[1m760/760\u001b[0m \u001b[32m━━━━━━━━━━━━━━━━━━━━\u001b[0m\u001b[37m\u001b[0m \u001b[1m1s\u001b[0m 1ms/step - loss: 5124113039360.0000 - mean_absolute_error: 852864.8750 - val_loss: 515339936.0000 - val_mean_absolute_error: 22542.4785\n",
      "Epoch 26/100\n",
      "\u001b[1m760/760\u001b[0m \u001b[32m━━━━━━━━━━━━━━━━━━━━\u001b[0m\u001b[37m\u001b[0m \u001b[1m1s\u001b[0m 1ms/step - loss: 9436919758848.0000 - mean_absolute_error: 759876.1250 - val_loss: 5597370515456.0000 - val_mean_absolute_error: 2349865.5000\n",
      "Epoch 27/100\n",
      "\u001b[1m760/760\u001b[0m \u001b[32m━━━━━━━━━━━━━━━━━━━━\u001b[0m\u001b[37m\u001b[0m \u001b[1m1s\u001b[0m 1ms/step - loss: 16054753427456.0000 - mean_absolute_error: 2332771.0000 - val_loss: 52920860672.0000 - val_mean_absolute_error: 228488.3281\n",
      "Epoch 28/100\n",
      "\u001b[1m760/760\u001b[0m \u001b[32m━━━━━━━━━━━━━━━━━━━━\u001b[0m\u001b[37m\u001b[0m \u001b[1m1s\u001b[0m 1ms/step - loss: 1654827909120.0000 - mean_absolute_error: 356569.9375 - val_loss: 78278720.0000 - val_mean_absolute_error: 8780.4883\n",
      "Epoch 29/100\n",
      "\u001b[1m760/760\u001b[0m \u001b[32m━━━━━━━━━━━━━━━━━━━━\u001b[0m\u001b[37m\u001b[0m \u001b[1m1s\u001b[0m 1ms/step - loss: 8100633378816.0000 - mean_absolute_error: 568208.4375 - val_loss: 122158.0781 - val_mean_absolute_error: 278.4007\n",
      "Epoch 30/100\n",
      "\u001b[1m760/760\u001b[0m \u001b[32m━━━━━━━━━━━━━━━━━━━━\u001b[0m\u001b[37m\u001b[0m \u001b[1m1s\u001b[0m 1ms/step - loss: 4031476137984.0000 - mean_absolute_error: 639697.4375 - val_loss: 228184592.0000 - val_mean_absolute_error: 14997.4971\n",
      "Epoch 31/100\n",
      "\u001b[1m760/760\u001b[0m \u001b[32m━━━━━━━━━━━━━━━━━━━━\u001b[0m\u001b[37m\u001b[0m \u001b[1m1s\u001b[0m 1ms/step - loss: 11031433707520.0000 - mean_absolute_error: 1002699.8125 - val_loss: 1502892523520.0000 - val_mean_absolute_error: 1217633.6250\n",
      "Epoch 32/100\n",
      "\u001b[1m760/760\u001b[0m \u001b[32m━━━━━━━━━━━━━━━━━━━━\u001b[0m\u001b[37m\u001b[0m \u001b[1m1s\u001b[0m 1ms/step - loss: 4826406060032.0000 - mean_absolute_error: 637382.8125 - val_loss: 393696000.0000 - val_mean_absolute_error: 19708.3438\n",
      "Epoch 33/100\n",
      "\u001b[1m760/760\u001b[0m \u001b[32m━━━━━━━━━━━━━━━━━━━━\u001b[0m\u001b[37m\u001b[0m \u001b[1m1s\u001b[0m 1ms/step - loss: 2194637586432.0000 - mean_absolute_error: 264590.9688 - val_loss: 6944020480.0000 - val_mean_absolute_error: 82770.3203\n",
      "Epoch 34/100\n",
      "\u001b[1m760/760\u001b[0m \u001b[32m━━━━━━━━━━━━━━━━━━━━\u001b[0m\u001b[37m\u001b[0m \u001b[1m1s\u001b[0m 1ms/step - loss: 15397241749504.0000 - mean_absolute_error: 1843528.8750 - val_loss: 13149168640.0000 - val_mean_absolute_error: 113889.2266\n",
      "Epoch 35/100\n",
      "\u001b[1m760/760\u001b[0m \u001b[32m━━━━━━━━━━━━━━━━━━━━\u001b[0m\u001b[37m\u001b[0m \u001b[1m1s\u001b[0m 1ms/step - loss: 2589833822208.0000 - mean_absolute_error: 402305.8750 - val_loss: 58844946432.0000 - val_mean_absolute_error: 240936.6094\n",
      "Epoch 36/100\n",
      "\u001b[1m760/760\u001b[0m \u001b[32m━━━━━━━━━━━━━━━━━━━━\u001b[0m\u001b[37m\u001b[0m \u001b[1m1s\u001b[0m 1ms/step - loss: 1595821916160.0000 - mean_absolute_error: 300262.5000 - val_loss: 554740154368.0000 - val_mean_absolute_error: 739767.2500\n",
      "Epoch 37/100\n",
      "\u001b[1m760/760\u001b[0m \u001b[32m━━━━━━━━━━━━━━━━━━━━\u001b[0m\u001b[37m\u001b[0m \u001b[1m1s\u001b[0m 1ms/step - loss: 7437811187712.0000 - mean_absolute_error: 952778.3125 - val_loss: 6059554.5000 - val_mean_absolute_error: 2428.7375\n",
      "Epoch 38/100\n",
      "\u001b[1m760/760\u001b[0m \u001b[32m━━━━━━━━━━━━━━━━━━━━\u001b[0m\u001b[37m\u001b[0m \u001b[1m1s\u001b[0m 1ms/step - loss: 6859223728128.0000 - mean_absolute_error: 737221.3750 - val_loss: 67658216.0000 - val_mean_absolute_error: 8164.7900\n",
      "Epoch 39/100\n",
      "\u001b[1m760/760\u001b[0m \u001b[32m━━━━━━━━━━━━━━━━━━━━\u001b[0m\u001b[37m\u001b[0m \u001b[1m1s\u001b[0m 1ms/step - loss: 5396788936704.0000 - mean_absolute_error: 568244.8750 - val_loss: 10909085859840.0000 - val_mean_absolute_error: 3280546.0000\n",
      "\u001b[1m190/190\u001b[0m \u001b[32m━━━━━━━━━━━━━━━━━━━━\u001b[0m\u001b[37m\u001b[0m \u001b[1m0s\u001b[0m 687us/step - loss: 122882.3672 - mean_absolute_error: 278.9403\n"
     ]
    }
   ],
   "source": [
    "history_mse = model_mse.fit(x_train, y_train, validation_data=(x_test, y_test), \n",
    "                    epochs=100, batch_size=32, callbacks=[early_stopping], verbose=1)\n",
    "\n",
    "# Obtener el número de épocas que ha tardado en llegar al plateau\n",
    "epochs_run = len(history_mse.history['loss'])\n",
    "\n",
    "# Obtener las métricas finales\n",
    "metrics_mse = model_mse.evaluate(x_test, y_test)\n",
    "\n",
    "resultados_mse = pd.DataFrame({\n",
    "    'Número de épocas': [epochs_run],\n",
    "    'Pérdida final (MSE)': [metrics_mse[0]],\n",
    "    'MAE final': [metrics_mse[1]]\n",
    "})"
   ]
  },
  {
   "cell_type": "code",
   "execution_count": 104,
   "id": "e3610e13-4652-4f64-9fee-be65cc1fe5a4",
   "metadata": {
    "tags": []
   },
   "outputs": [
    {
     "data": {
      "text/html": [
       "<div>\n",
       "<style scoped>\n",
       "    .dataframe tbody tr th:only-of-type {\n",
       "        vertical-align: middle;\n",
       "    }\n",
       "\n",
       "    .dataframe tbody tr th {\n",
       "        vertical-align: top;\n",
       "    }\n",
       "\n",
       "    .dataframe thead th {\n",
       "        text-align: right;\n",
       "    }\n",
       "</style>\n",
       "<table border=\"1\" class=\"dataframe\">\n",
       "  <thead>\n",
       "    <tr style=\"text-align: right;\">\n",
       "      <th></th>\n",
       "      <th>Número de épocas</th>\n",
       "      <th>Pérdida final (MSE)</th>\n",
       "      <th>MAE final</th>\n",
       "    </tr>\n",
       "  </thead>\n",
       "  <tbody>\n",
       "    <tr>\n",
       "      <th>0</th>\n",
       "      <td>39</td>\n",
       "      <td>122158.078125</td>\n",
       "      <td>278.400726</td>\n",
       "    </tr>\n",
       "  </tbody>\n",
       "</table>\n",
       "</div>"
      ],
      "text/plain": [
       "   Número de épocas  Pérdida final (MSE)   MAE final\n",
       "0                39        122158.078125  278.400726"
      ]
     },
     "execution_count": 104,
     "metadata": {},
     "output_type": "execute_result"
    }
   ],
   "source": [
    "resultados_mse"
   ]
  },
  {
   "cell_type": "code",
   "execution_count": 97,
   "id": "81552e6f-fef7-4803-97b0-e0b22d654bcf",
   "metadata": {
    "tags": []
   },
   "outputs": [
    {
     "data": {
      "image/png": "[encoded data removed]",
      "text/plain": [
       "<Figure size 640x480 with 1 Axes>"
      ]
     },
     "metadata": {},
     "output_type": "display_data"
    }
   ],
   "source": [
    "plt.plot(history_mse.history['loss'], label='MSE (Training)')\n",
    "plt.plot(history_mse.history['val_loss'], label='MSE (Validation)')\n",
    "plt.xlabel('Épocas')\n",
    "plt.ylabel('Pérdida')\n",
    "plt.legend()\n",
    "plt.show()"
   ]
  },
  {
   "cell_type": "code",
   "execution_count": 83,
   "id": "8a71daa9-9990-4566-94cd-6b9c5276ac92",
   "metadata": {
    "tags": []
   },
   "outputs": [
    {
     "name": "stdout",
     "output_type": "stream",
     "text": [
      "Epoch 1/100\n",
      "\u001b[1m760/760\u001b[0m \u001b[32m━━━━━━━━━━━━━━━━━━━━\u001b[0m\u001b[37m\u001b[0m \u001b[1m2s\u001b[0m 1ms/step - loss: 96911096.0000 - mean_squared_error: 70857455621373952.0000 - val_loss: 21568416.0000 - val_mean_squared_error: 471555968598016.0000\n",
      "Epoch 2/100\n",
      "\u001b[1m760/760\u001b[0m \u001b[32m━━━━━━━━━━━━━━━━━━━━\u001b[0m\u001b[37m\u001b[0m \u001b[1m1s\u001b[0m 1ms/step - loss: 16937180.0000 - mean_squared_error: 511001518669824.0000 - val_loss: 16192176.0000 - val_mean_squared_error: 265770982440960.0000\n",
      "Epoch 3/100\n",
      "\u001b[1m760/760\u001b[0m \u001b[32m━━━━━━━━━━━━━━━━━━━━\u001b[0m\u001b[37m\u001b[0m \u001b[1m1s\u001b[0m 1ms/step - loss: 16356486.0000 - mean_squared_error: 435278225342464.0000 - val_loss: 18563278.0000 - val_mean_squared_error: 349305663651840.0000\n",
      "Epoch 4/100\n",
      "\u001b[1m760/760\u001b[0m \u001b[32m━━━━━━━━━━━━━━━━━━━━\u001b[0m\u001b[37m\u001b[0m \u001b[1m1s\u001b[0m 1ms/step - loss: 18366304.0000 - mean_squared_error: 526132118028288.0000 - val_loss: 3160053.5000 - val_mean_squared_error: 10122399055872.0000\n",
      "Epoch 5/100\n",
      "\u001b[1m760/760\u001b[0m \u001b[32m━━━━━━━━━━━━━━━━━━━━\u001b[0m\u001b[37m\u001b[0m \u001b[1m1s\u001b[0m 1ms/step - loss: 20595250.0000 - mean_squared_error: 707995293974528.0000 - val_loss: 182841.6250 - val_mean_squared_error: 33887074304.0000\n",
      "Epoch 6/100\n",
      "\u001b[1m760/760\u001b[0m \u001b[32m━━━━━━━━━━━━━━━━━━━━\u001b[0m\u001b[37m\u001b[0m \u001b[1m1s\u001b[0m 1ms/step - loss: 14922604.0000 - mean_squared_error: 383333951340544.0000 - val_loss: 1289895.0000 - val_mean_squared_error: 1686583246848.0000\n",
      "Epoch 7/100\n",
      "\u001b[1m760/760\u001b[0m \u001b[32m━━━━━━━━━━━━━━━━━━━━\u001b[0m\u001b[37m\u001b[0m \u001b[1m1s\u001b[0m 1ms/step - loss: 22923526.0000 - mean_squared_error: 831129858867200.0000 - val_loss: 10739574.0000 - val_mean_squared_error: 116915385139200.0000\n",
      "Epoch 8/100\n",
      "\u001b[1m760/760\u001b[0m \u001b[32m━━━━━━━━━━━━━━━━━━━━\u001b[0m\u001b[37m\u001b[0m \u001b[1m1s\u001b[0m 1ms/step - loss: 20085902.0000 - mean_squared_error: 656050080448512.0000 - val_loss: 23005174.0000 - val_mean_squared_error: 536472520228864.0000\n",
      "Epoch 9/100\n",
      "\u001b[1m760/760\u001b[0m \u001b[32m━━━━━━━━━━━━━━━━━━━━\u001b[0m\u001b[37m\u001b[0m \u001b[1m1s\u001b[0m 1ms/step - loss: 13205093.0000 - mean_squared_error: 284943733227520.0000 - val_loss: 27720654.0000 - val_mean_squared_error: 778938624245760.0000\n",
      "Epoch 10/100\n",
      "\u001b[1m760/760\u001b[0m \u001b[32m━━━━━━━━━━━━━━━━━━━━\u001b[0m\u001b[37m\u001b[0m \u001b[1m1s\u001b[0m 1ms/step - loss: 18283038.0000 - mean_squared_error: 540174345830400.0000 - val_loss: 40956832.0000 - val_mean_squared_error: 1700393390178304.0000\n",
      "Epoch 11/100\n",
      "\u001b[1m760/760\u001b[0m \u001b[32m━━━━━━━━━━━━━━━━━━━━\u001b[0m\u001b[37m\u001b[0m \u001b[1m1s\u001b[0m 1ms/step - loss: 17440944.0000 - mean_squared_error: 527401817735168.0000 - val_loss: 11513862.0000 - val_mean_squared_error: 134381465239552.0000\n",
      "Epoch 12/100\n",
      "\u001b[1m760/760\u001b[0m \u001b[32m━━━━━━━━━━━━━━━━━━━━\u001b[0m\u001b[37m\u001b[0m \u001b[1m1s\u001b[0m 1ms/step - loss: 17617972.0000 - mean_squared_error: 486956244926464.0000 - val_loss: 8575168.0000 - val_mean_squared_error: 74538628939776.0000\n",
      "Epoch 13/100\n",
      "\u001b[1m760/760\u001b[0m \u001b[32m━━━━━━━━━━━━━━━━━━━━\u001b[0m\u001b[37m\u001b[0m \u001b[1m1s\u001b[0m 1ms/step - loss: 14507502.0000 - mean_squared_error: 335515429634048.0000 - val_loss: 26825878.0000 - val_mean_squared_error: 729465567051776.0000\n",
      "Epoch 14/100\n",
      "\u001b[1m760/760\u001b[0m \u001b[32m━━━━━━━━━━━━━━━━━━━━\u001b[0m\u001b[37m\u001b[0m \u001b[1m1s\u001b[0m 1ms/step - loss: 15360859.0000 - mean_squared_error: 416260781244416.0000 - val_loss: 14177992.0000 - val_mean_squared_error: 203762996084736.0000\n",
      "Epoch 15/100\n",
      "\u001b[1m760/760\u001b[0m \u001b[32m━━━━━━━━━━━━━━━━━━━━\u001b[0m\u001b[37m\u001b[0m \u001b[1m1s\u001b[0m 1ms/step - loss: 12909771.0000 - mean_squared_error: 306557149511680.0000 - val_loss: 9465911.0000 - val_mean_squared_error: 90828508758016.0000\n",
      "Epoch 16/100\n",
      "\u001b[1m760/760\u001b[0m \u001b[32m━━━━━━━━━━━━━━━━━━━━\u001b[0m\u001b[37m\u001b[0m \u001b[1m1s\u001b[0m 1ms/step - loss: 17554534.0000 - mean_squared_error: 473124403412992.0000 - val_loss: 12373632.0000 - val_mean_squared_error: 155199968641024.0000\n",
      "Epoch 17/100\n",
      "\u001b[1m760/760\u001b[0m \u001b[32m━━━━━━━━━━━━━━━━━━━━\u001b[0m\u001b[37m\u001b[0m \u001b[1m1s\u001b[0m 1ms/step - loss: 16798806.0000 - mean_squared_error: 459519289196544.0000 - val_loss: 35092356.0000 - val_mean_squared_error: 1248308353826816.0000\n",
      "Epoch 18/100\n",
      "\u001b[1m760/760\u001b[0m \u001b[32m━━━━━━━━━━━━━━━━━━━━\u001b[0m\u001b[37m\u001b[0m \u001b[1m1s\u001b[0m 1ms/step - loss: 19094288.0000 - mean_squared_error: 539505807327232.0000 - val_loss: 6776324.5000 - val_mean_squared_error: 46546154422272.0000\n",
      "Epoch 19/100\n",
      "\u001b[1m760/760\u001b[0m \u001b[32m━━━━━━━━━━━━━━━━━━━━\u001b[0m\u001b[37m\u001b[0m \u001b[1m1s\u001b[0m 1ms/step - loss: 16604290.0000 - mean_squared_error: 435807714279424.0000 - val_loss: 2526392.0000 - val_mean_squared_error: 6469943558144.0000\n",
      "Epoch 20/100\n",
      "\u001b[1m760/760\u001b[0m \u001b[32m━━━━━━━━━━━━━━━━━━━━\u001b[0m\u001b[37m\u001b[0m \u001b[1m1s\u001b[0m 1ms/step - loss: 16301920.0000 - mean_squared_error: 429187223519232.0000 - val_loss: 8051941.5000 - val_mean_squared_error: 65719890870272.0000\n",
      "\u001b[1m190/190\u001b[0m \u001b[32m━━━━━━━━━━━━━━━━━━━━\u001b[0m\u001b[37m\u001b[0m \u001b[1m0s\u001b[0m 693us/step - loss: 183140.3438 - mean_squared_error: 34002771968.0000\n"
     ]
    }
   ],
   "source": [
    "model_mae = Sequential()\n",
    "model_mae.add(Input(shape=(x_train.shape[1],)))\n",
    "model_mae.add(Dense(64, activation='relu'))\n",
    "model_mae.add(Dense(1))\n",
    "model_mae.compile(optimizer='adam', loss='mean_absolute_error', metrics=['mean_squared_error'])\n",
    "\n",
    "# Configurar EarlyStopping\n",
    "early_stopping = EarlyStopping(monitor='val_loss', patience=15, restore_best_weights=True)\n",
    "\n",
    "# Entrenar el modelo con la pérdida MAE\n",
    "history_mae = model_mae.fit(\n",
    "    x_train, y_train,\n",
    "    validation_data=(x_test, y_test),\n",
    "    epochs=100, batch_size=32,\n",
    "    callbacks=[early_stopping], verbose=1\n",
    ")\n",
    "\n",
    "# Obtener el número de épocas que ha tardado en llegar al plateau\n",
    "epochs_run_mae = len(history_mae.history['loss'])\n",
    "\n",
    "# Obtener las métricas finales\n",
    "metrics_mae = model_mae.evaluate(x_test, y_test)\n",
    "\n",
    "# Guardar los resultados en un DataFrame\n",
    "resultados_mae = pd.DataFrame({\n",
    "    'Número de épocas': [epochs_run_mae],\n",
    "    'Pérdida final (MAE)': [metrics_mae[0]],\n",
    "    'MSE final': [metrics_mae[1]]\n",
    "})"
   ]
  },
  {
   "cell_type": "code",
   "execution_count": 85,
   "id": "73bda3f8-0c28-4634-b8fc-83a55f6694b4",
   "metadata": {
    "tags": []
   },
   "outputs": [
    {
     "data": {
      "text/html": [
       "<div>\n",
       "<style scoped>\n",
       "    .dataframe tbody tr th:only-of-type {\n",
       "        vertical-align: middle;\n",
       "    }\n",
       "\n",
       "    .dataframe tbody tr th {\n",
       "        vertical-align: top;\n",
       "    }\n",
       "\n",
       "    .dataframe thead th {\n",
       "        text-align: right;\n",
       "    }\n",
       "</style>\n",
       "<table border=\"1\" class=\"dataframe\">\n",
       "  <thead>\n",
       "    <tr style=\"text-align: right;\">\n",
       "      <th></th>\n",
       "      <th>Número de épocas</th>\n",
       "      <th>Pérdida final (MAE)</th>\n",
       "      <th>MSE final</th>\n",
       "    </tr>\n",
       "  </thead>\n",
       "  <tbody>\n",
       "    <tr>\n",
       "      <th>0</th>\n",
       "      <td>20</td>\n",
       "      <td>182841.625</td>\n",
       "      <td>3.388707e+10</td>\n",
       "    </tr>\n",
       "  </tbody>\n",
       "</table>\n",
       "</div>"
      ],
      "text/plain": [
       "   Número de épocas  Pérdida final (MAE)     MSE final\n",
       "0                20           182841.625  3.388707e+10"
      ]
     },
     "execution_count": 85,
     "metadata": {},
     "output_type": "execute_result"
    }
   ],
   "source": [
    "resultados_mae"
   ]
  },
  {
   "cell_type": "code",
   "execution_count": 87,
   "id": "cbdd6695-a375-406b-a9c6-a088b35639d7",
   "metadata": {
    "tags": []
   },
   "outputs": [
    {
     "data": {
      "image/png": "[encoded data removed]",
      "text/plain": [
       "<Figure size 640x480 with 1 Axes>"
      ]
     },
     "metadata": {},
     "output_type": "display_data"
    }
   ],
   "source": [
    "plt.plot(history_mae.history['loss'], label='MSE (Training)')\n",
    "plt.plot(history_mae.history['val_loss'], label='MSE (Validation)')\n",
    "plt.xlabel('Épocas')\n",
    "plt.ylabel('Pérdida')\n",
    "plt.legend()\n",
    "plt.show()"
   ]
  },
  {
   "cell_type": "code",
   "execution_count": null,
   "id": "d7fcdc31-5d81-422f-9cc3-fdd186ed7f7f",
   "metadata": {},
   "outputs": [],
   "source": [
    "model_mae = Sequential()\n",
    "model_mae.add(Input(shape=(x_train.shape[1],)))\n",
    "model_mae.add(Dense(64, activation='relu'))\n",
    "model_mae.add(Dense(1))\n",
    "model_mae.compile(optimizer='adam', loss='mean_absolute_error', metrics=['mean_squared_error'])\n",
    "\n",
    "# Configurar EarlyStopping\n",
    "early_stopping = EarlyStopping(monitor='val_loss', patience=10, restore_best_weights=True)\n",
    "\n",
    "# Entrenar el modelo con la pérdida MAE\n",
    "history_mae = model_mae.fit(\n",
    "    x_train, y_train,\n",
    "    validation_data=(x_test, y_test),\n",
    "    epochs=100, batch_size=32,\n",
    "    callbacks=[early_stopping], verbose=1\n",
    ")\n",
    "\n",
    "# Obtener el número de épocas que ha tardado en llegar al plateau\n",
    "epochs_run_mae = len(history_mae.history['loss'])\n",
    "\n",
    "y_pred_mae = model_mae.predict(x_test)\n",
    "y_pred_unscaled_mae = y_scaler.inverse_transform(np.array(y_pred_mae).reshape(-1, 1)).ravel()\n",
    "y_test_unscaled_mae = y_scaler.inverse_transform(np.array(y_test).reshape(-1, 1)).ravel()\n",
    "    \n",
    "y_pred_original_mae = np.exp(y_pred_unscaled_mae)\n",
    "y_test_original_mae = np.exp(y_test_unscaled_mae)\n",
    "    \n",
    "mae = mean_absolute_error(y_test_original_mae, y_pred_original_mae)\n",
    "mse = mean_squared_error(y_test_original_mae, y_pred_original_mae)\n",
    "r2 = r2_score(y_test_original_mae, y_pred_original_mae)\n",
    "\n",
    "resultados_mae = pd.DataFrame({\n",
    "    'Número de épocas': [epochs_run_mae],\n",
    "    'Pérdida final (MAE)': [mae],\n",
    "    'MSE final': [mse],\n",
    "    'R² final': [r2]\n",
    "})"
   ]
  }
 ],
 "metadata": {
  "kernelspec": {
   "display_name": "Python 3 (ipykernel)",
   "language": "python",
   "name": "python3"
  },
  "language_info": {
   "codemirror_mode": {
    "name": "ipython",
    "version": 3
   },
   "file_extension": ".py",
   "mimetype": "text/x-python",
   "name": "python",
   "nbconvert_exporter": "python",
   "pygments_lexer": "ipython3",
   "version": "3.11.7"
  }
 },
 "nbformat": 4,
 "nbformat_minor": 5
}
