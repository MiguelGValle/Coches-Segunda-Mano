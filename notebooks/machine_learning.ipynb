{
 "cells": [
  {
   "cell_type": "code",
   "execution_count": null,
   "id": "667a63ba-ab24-47c2-aaa3-b37dbea01a39",
   "metadata": {
    "tags": []
   },
   "outputs": [],
   "source": [
    "import numpy as np\n",
    "import pandas as pd\n",
    "import matplotlib.pyplot as plt\n",
    "import seaborn as sns\n",
    "import pickle\n",
    "import os\n",
    "\n",
    "# Train, Test\n",
    "from sklearn.model_selection import train_test_split\n",
    "\n",
    "# Modelos\n",
    "from sklearn.linear_model import LinearRegression\n",
    "from sklearn.neighbors import KNeighborsRegressor\n",
    "from sklearn.tree import DecisionTreeRegressor\n",
    "from sklearn.ensemble import RandomForestRegressor\n",
    "from sklearn.svm import SVR\n",
    "from sklearn.ensemble import AdaBoostRegressor\n",
    "from sklearn.ensemble import GradientBoostingRegressor\n",
    "\n",
    "# Métricas\n",
    "from sklearn.metrics import mean_absolute_error\n",
    "from sklearn.metrics import mean_squared_error\n",
    "from sklearn.metrics import r2_score\n",
    "from sklearn.metrics import make_scorer\n",
    "from sklearn.model_selection import GridSearchCV"
   ]
  },
  {
   "cell_type": "code",
   "execution_count": null,
   "id": "42fefe86-d81b-4235-8277-9d8fcba474c2",
   "metadata": {
    "tags": []
   },
   "outputs": [],
   "source": [
    "pd.set_option('display.max_columns', None)"
   ]
  },
  {
   "cell_type": "code",
   "execution_count": null,
   "id": "034e1a17-7ac9-4efa-a23a-147decc3de8b",
   "metadata": {
    "tags": []
   },
   "outputs": [],
   "source": [
    "# Cargamos el scaler que usamos para escalar los datos previamente\n",
    "\n",
    "with open('escaladores/x_scaler.pickle', 'rb') as file:\n",
    "    x_scaler = pickle.load(file)\n",
    "    \n",
    "with open('escaladores/y_scaler.pickle', 'rb') as file:\n",
    "    y_scaler = pickle.load(file)"
   ]
  },
  {
   "cell_type": "code",
   "execution_count": null,
   "id": "f13569cc-7270-46a1-983d-a5db63daae4c",
   "metadata": {
    "tags": []
   },
   "outputs": [],
   "source": [
    "df = pd.read_csv(\"../bin/data_process.csv\")"
   ]
  },
  {
   "cell_type": "code",
   "execution_count": null,
   "id": "d06ba73d-e3d3-473c-a406-bb805505ef95",
   "metadata": {
    "tags": []
   },
   "outputs": [],
   "source": [
    "# Quitamos el precio nuevo porque a Miguel le parece que es hacer trampa\n",
    "\n",
    "x = df.drop(columns = ['log_precio_contado', 'log_precio_nuevo'], axis=1)  \n",
    "y = df['log_precio_contado']  \n",
    "\n",
    "x_train, x_test, y_train, y_test = train_test_split(x, y, test_size=0.2, random_state=33)"
   ]
  },
  {
   "cell_type": "code",
   "execution_count": null,
   "id": "50bd5ab4-8a0e-4366-af20-44f75f84c709",
   "metadata": {
    "tags": []
   },
   "outputs": [],
   "source": [
    "modelos = {\n",
    "    \"random_forest\": RandomForestRegressor(),\n",
    "    \"decision_tree\": DecisionTreeRegressor(),\n",
    "    \"gradient_boosting\": GradientBoostingRegressor(),\n",
    "    \"adaboost\": AdaBoostRegressor(),\n",
    "    \"kneighbors\": KNeighborsRegressor(),\n",
    "    \"linear_regressor\": LinearRegression(),\n",
    "    \"svr\": SVR()\n",
    "}"
   ]
  },
  {
   "cell_type": "code",
   "execution_count": null,
   "id": "bc70343d-0e56-4670-ac0f-cd939b86bfb0",
   "metadata": {
    "tags": []
   },
   "outputs": [],
   "source": [
    "%%time\n",
    "resultados = []\n",
    "\n",
    "for regresor, modelo in modelos.items():\n",
    "    modelo.fit(x_train, y_train)\n",
    "    \n",
    "    y_pred = modelo.predict(x_test)\n",
    "    y_pred_unscaled = y_scaler.inverse_transform(np.array(y_pred).reshape(-1, 1)).ravel()\n",
    "    y_test_unscaled = y_scaler.inverse_transform(np.array(y_test).reshape(-1, 1)).ravel()\n",
    "    \n",
    "    y_pred_original = np.exp(y_pred_unscaled)\n",
    "    y_test_original = np.exp(y_test_unscaled)\n",
    "    \n",
    "    mae = mean_absolute_error(y_test_original, y_pred_original)\n",
    "    mse = mean_squared_error(y_test_original, y_pred_original)\n",
    "    r2 = r2_score(y_test_original, y_pred_original)\n",
    "    \n",
    "    resultados.append({'Nombre_modelo': regresor, 'MAE': mae, 'MSE': mse, 'R2_score': r2})\n",
    "    \n",
    "df_resultados = pd.DataFrame(resultados)\n",
    "df_resultados = df_resultados.sort_values(by = \"R2_score\", ascending = False)"
   ]
  },
  {
   "cell_type": "code",
   "execution_count": null,
   "id": "8c20924d-46ca-4a53-a0cb-d18ca6583b83",
   "metadata": {
    "tags": []
   },
   "outputs": [],
   "source": [
    "df_resultados"
   ]
  },
  {
   "cell_type": "code",
   "execution_count": null,
   "id": "b0b49ac5-8e1b-4fb4-8004-d2d9a869572a",
   "metadata": {
    "tags": []
   },
   "outputs": [],
   "source": [
    "%%time\n",
    "# Modelo de RandomForest para obtener Feature Importance\n",
    "model = RandomForestRegressor(n_estimators = 250,\n",
    "                               random_state = 33)\n",
    "# Entrenamos el modelo\n",
    "model.fit(x, y)\n",
    "\n",
    "# Calculamos Feature Importance\n",
    "importances = model.feature_importances_\n",
    "\n",
    "df_importances = pd.DataFrame(data = zip(x.columns, importances),\n",
    "                              columns = [\"Columnas\", \"Importancia\"])\n",
    "\n",
    "df_importances = df_importances.sort_values(\"Importancia\", ascending = False)\n",
    "\n",
    "for index, (feature, importance) in enumerate(df_importances.values):\n",
    "    \n",
    "    print(f\"{feature}: ({importance:3}) \")\n",
    "\n",
    "plt.figure(figsize = (12, 8))\n",
    "\n",
    "plt.title(\"Feature Importances\")\n",
    "sns.barplot(x = df_importances[\"Importancia\"], y = df_importances[\"Columnas\"], color = \"red\")\n",
    "\n",
    "plt.grid()\n",
    "plt.show()"
   ]
  },
  {
   "cell_type": "code",
   "execution_count": null,
   "id": "4ea09070-389c-45da-bb98-dbdeea120212",
   "metadata": {},
   "outputs": [],
   "source": [
    "%%time\n",
    "\n",
    "scorers = {\n",
    "    'MAE': make_scorer(mean_absolute_error, greater_is_better=False),\n",
    "    'MSE': make_scorer(mean_squared_error, greater_is_better=False),\n",
    "    'R2': make_scorer(r2_score)}\n",
    "\n",
    "\n",
    "\n",
    "params = {\"n_estimators\"           : [100, 150],\n",
    "          \"criterion\"              : [\"squared_error\", \"absolute_error\"], \n",
    "          \"max_depth\"              : [10, 15],\n",
    "          \"max_leaf_nodes\"         : [90, 120],\n",
    "          \"min_samples_split\"      : [2, 10],\n",
    "          \"random_state\"           : [33]} \n",
    "\n",
    "grid_solver = GridSearchCV(estimator  = modelo     , \n",
    "                           param_grid = params    , \n",
    "                           scoring    = scorers   ,\n",
    "                           cv         = 5         ,\n",
    "                           refit      = \"R2\",\n",
    "                           n_jobs     = -1        ,\n",
    "                           verbose    = 3)\n",
    "\n",
    "model_result = grid_solver.fit(x, y)\n",
    "\n",
    "print(model_result.cv_results_[\"mean_test_MAE\"].mean())\n",
    "print(model_result.cv_results_[\"mean_test_MSE\"].mean())\n",
    "print(model_result.cv_results_[\"mean_test_R2\"].mean())\n",
    "\n",
    "print(\"*\" * 100)\n",
    "\n",
    "print(model_result.best_score_)\n",
    "print(model_result.best_params_)"
   ]
  },
  {
   "cell_type": "code",
   "execution_count": null,
   "id": "4de39d07-e588-47ca-bd88-6030b5e6ca37",
   "metadata": {},
   "outputs": [],
   "source": [
    "mejor_modelo = RandomForestRegressor(params)\n",
    "\n",
    "mejor_modelo.fit(x, y)"
   ]
  },
  {
   "cell_type": "code",
   "execution_count": null,
   "id": "5c8b8253-7de7-4520-8aa3-adfc1189b761",
   "metadata": {
    "tags": []
   },
   "outputs": [],
   "source": [
    "#Crear una carpeta para guardar el objeto escalador\n",
    "\n",
    "os.makedirs(\"modelo\", exist_ok=True)\n",
    "\n",
    "with open(\"modelo/mejor_modelo.pkl\", \"bw\") as file:\n",
    "    pickle.dump(mejor_modelo, file)"
   ]
  },
  {
   "cell_type": "code",
   "execution_count": null,
   "id": "227f6b26-5afd-4ca1-8331-7a53842fc9ba",
   "metadata": {},
   "outputs": [],
   "source": []
  }
 ],
 "metadata": {
  "kernelspec": {
   "display_name": "Python 3 (ipykernel)",
   "language": "python",
   "name": "python3"
  },
  "language_info": {
   "codemirror_mode": {
    "name": "ipython",
    "version": 3
   },
   "file_extension": ".py",
   "mimetype": "text/x-python",
   "name": "python",
   "nbconvert_exporter": "python",
   "pygments_lexer": "ipython3",
   "version": "3.11.7"
  }
 },
 "nbformat": 4,
 "nbformat_minor": 5
}
