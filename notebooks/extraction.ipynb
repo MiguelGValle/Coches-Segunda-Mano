{
 "cells": [
  {
   "cell_type": "code",
   "execution_count": 2,
   "id": "1a4832be-5181-49dc-aa58-1f9ab9f00c4c",
   "metadata": {
    "tags": []
   },
   "outputs": [],
   "source": [
    "import numpy as np\n",
    "import pandas as pd\n",
    "import requests\n",
    "import tqdm\n",
    "import time\n",
    "import random\n",
    "\n",
    "from bs4 import BeautifulSoup\n",
    "from selenium import webdriver\n",
    "from selenium.webdriver.common.by import By\n",
    "\n",
    "from time import sleep"
   ]
  },
  {
   "cell_type": "code",
   "execution_count": 3,
   "id": "ea4698de-bb90-4c79-8e4a-d4405f1b6998",
   "metadata": {
    "tags": []
   },
   "outputs": [
    {
     "name": "stdout",
     "output_type": "stream",
     "text": [
      "200\n"
     ]
    }
   ],
   "source": [
    "url = \"https://www.autocasion.com/coches-ocasion\"\n",
    "headers = {\n",
    "    \"User-Agent\": \"Mozilla/5.0 (Windows NT 10.0; Win64; x64) AppleWebKit/537.36 (KHTML, like Gecko) Chrome/58.0.3029.110 Safari/537.3\"\n",
    "}\n",
    "\n",
    "session = requests.Session()\n",
    "\n",
    "response = session.get(url, headers=headers)\n",
    "soup = BeautifulSoup(response.content, \"html.parser\")\n",
    "print(response.status_code)"
   ]
  },
  {
   "cell_type": "code",
   "execution_count": 6,
   "id": "92b0d424-d72c-4e68-a1a6-1a36d8a35933",
   "metadata": {},
   "outputs": [
    {
     "data": {
      "text/plain": [
       "6541"
      ]
     },
     "execution_count": 6,
     "metadata": {},
     "output_type": "execute_result"
    }
   ],
   "source": [
    "anuncios_pagina = soup.find_all(\"article\", class_=\"anuncio\")\n",
    "\n",
    "total_coches = int(soup.find('div', class_=\"container listado\").find('h1').text.strip().split('\\n')[0].replace('.',''))\n",
    "\n",
    "total_paginas = int(total_coches/len(anuncios_pagina)) + (1 if (total_coches/len(anuncios_pagina))%1 else 0)\n",
    "\n",
    "total_paginas"
   ]
  },
  {
   "cell_type": "code",
   "execution_count": 8,
   "id": "e9a34be9-b10f-4a6c-8d32-6a85030bc4fb",
   "metadata": {},
   "outputs": [],
   "source": [
    "def links_coches():\n",
    "    url_base = \"https://www.autocasion.com\"\n",
    "    url_pagina = f\"{url_base}/coches-ocasion?page=\"\n",
    "    headers = {\n",
    "        \"User-Agent\": \"Mozilla/5.0 (Windows NT 10.0; Win64; x64) AppleWebKit/537.36 (KHTML, like Gecko) Chrome/58.0.3029.110 Safari/537.3\"\n",
    "    }\n",
    "    session = requests.Session()\n",
    "    \n",
    "    lista_paginas = []\n",
    "    anuncios_coches = []\n",
    "\n",
    "    for pagina in range(0, total_paginas +1):\n",
    "        lista_paginas.append(f'{url_pagina}{pagina}')\n",
    "        \n",
    "    lista_prueba = lista_paginas[:5]\n",
    "        \n",
    "    for pagina_url in lista_prueba:\n",
    "        response = session.get(pagina_url, headers=headers)\n",
    "        soup = BeautifulSoup(response.content, \"html.parser\")\n",
    "        anuncios = soup.find_all(\"article\", class_=\"anuncio\")\n",
    "        \n",
    "        for anuncio in anuncios:\n",
    "            coche_url = anuncio.find(\"a\")['href']\n",
    "            anuncios_coches.append(f'{url_base}{coche_url}')   \n",
    "    \n",
    "        \n",
    "    return anuncios_coches"
   ]
  },
  {
   "cell_type": "code",
   "execution_count": 22,
   "id": "14720e43-2304-45e2-916d-8b199884dcdf",
   "metadata": {
    "scrolled": true,
    "tags": []
   },
   "outputs": [
    {
     "data": {
      "text/plain": [
       "['https://www.autocasion.com/coches-segunda-mano/tesla-model-x-ocasion/model-x-long-range-awd-ref11307969',\n",
       " 'https://www.autocasion.com/coches-segunda-mano/land-rover-range-rover-evoque-ocasion/2-0-d-150cc-s-awd-bva-166f7173ae2560-ref14438493',\n",
       " 'https://www.autocasion.com/coches-segunda-mano/volkswagen-tiguan-ocasion/tiguan-todoterreno-2-0-tdi-110kw-dsg-4wd-sport-150-5p-ref14609369',\n",
       " 'https://www.autocasion.com/coches-segunda-mano/peugeot-3008-suv-ocasion/3008-1-5bluehdi-gt-line-s-s-eat8-130-ref14604063',\n",
       " 'https://www.autocasion.com/coches-segunda-mano/volkswagen-golf-ocasion/golf-1-5-tsi-evo-bm-last-edition-96kw-ref14609023',\n",
       " 'https://www.autocasion.com/coches-segunda-mano/hyundai-tucson-ocasion/tucson-1-6crdi-48v-sle-4x2-ref14610747',\n",
       " 'https://www.autocasion.com/coches-segunda-mano/bmw-x3-ocasion/x3-xdrive-30e-1-ref14604035',\n",
       " 'https://www.autocasion.com/coches-segunda-mano/skoda-kodiaq-ocasion/kodiaq-2-0-tsi-style-4x4-dsg-140kw-1-ref13972064',\n",
       " 'https://www.autocasion.com/coches-segunda-mano/citroen-c4-cactus-ocasion/c4-cactus-1-2-puretech-s-s-feel-edition-110-ref14576768',\n",
       " 'https://www.autocasion.com/coches-segunda-mano/bmw-x5-ocasion/x5-xdrive45e-ref9045820',\n",
       " 'https://www.autocasion.com/coches-segunda-mano/land-rover-defender-ocasion/defender-130-3-0d-l6-mhev-se-awd-aut-250-ref14452532',\n",
       " 'https://www.autocasion.com/coches-segunda-mano/mercedes-benz-clase-a-ocasion/a-35-amg-4matic-7g-dct-ref14583066',\n",
       " 'https://www.autocasion.com/coches-segunda-mano/seat-tarraco-ocasion/tarraco-2-0tdi-s-s-style-dsg-7-150-ref13942666',\n",
       " 'https://www.autocasion.com/coches-segunda-mano/lexus-nx-ocasion/nx-300h-f-sport-panoramico-4wd-ref14616546',\n",
       " 'https://www.autocasion.com/coches-segunda-mano/skoda-kodiaq-ocasion/kodiaq-1-5tsi-m-hev-selection-4x2-dsg-110kw-ref14374226',\n",
       " 'https://www.autocasion.com/coches-segunda-mano/bmw-serie-1-ocasion/118da-business-ref14614138',\n",
       " 'https://www.autocasion.com/coches-km0/km-0/bmw-x5-km0/xdrive50e-xline-360-kw-489-cv-16711e496e91ca-ref14614140',\n",
       " 'https://www.autocasion.com/coches-km0/km-0/mercedes-benz-clase-cla-km0/cla-shooting-brake-200-7g-dct-3-ref14288059',\n",
       " 'https://www.autocasion.com/coches-segunda-mano/land-rover-range-rover-sport-ocasion/rr-sport-2-0-si4-phev-hse-dynamic-404-ref14627117',\n",
       " 'https://www.autocasion.com/coches-segunda-mano/nissan-micra-ocasion/micra-ig-t-acenta-92-ref14453943',\n",
       " 'https://www.autocasion.com/coches-segunda-mano/mercedes-benz-clase-e-ocasion/e-200-3-ref14604048',\n",
       " 'https://www.autocasion.com/coches-segunda-mano/renault-arkana-ocasion/arkana-1-6-e-tech-engineered-105kw-ref14609020',\n",
       " 'https://www.autocasion.com/coches-segunda-mano/citroen-c4-ocasion/c4-berlina-con-porton-1-5-bluehdi-130-s-s-feel-pack-auto-1-ref14609364',\n",
       " 'https://www.autocasion.com/coches-segunda-mano/peugeot-5008-suv-ocasion/5008-1-2-puretech-s-s-gt-130-ref14604058',\n",
       " 'https://www.autocasion.com/coches-segunda-mano/mini-countryman-ocasion/mini-countryman-cooper-se-all4-aut-ref14604702',\n",
       " 'https://www.autocasion.com/coches-segunda-mano/ford-focus-ocasion/focus-1-0-ecoboost-mhev-st-line-125-1-ref14609010',\n",
       " 'https://www.autocasion.com/coches-segunda-mano/peugeot-208-ocasion/208-1-2-puretech-s-s-tech-edition-eat6-110-ref14604070',\n",
       " 'https://www.autocasion.com/coches-km0/km-0/toyota-corolla-km0/corolla-140h-style-edition-ref14610754',\n",
       " 'https://www.autocasion.com/coches-segunda-mano/volvo-xc60-ocasion/xc60-d4-r-design-aut-2-ref14512938',\n",
       " 'https://www.autocasion.com/coches-segunda-mano/toyota-rav-4-ocasion/rav4-2-5-vvt-i-160kw-advance-auto-218-5pt-32-ref14476650',\n",
       " 'https://www.autocasion.com/coches-segunda-mano/mazda-cx-30-ocasion/cx-30-2-0-skyactiv-x-homura-2wd-aut-137kw-ref14352226',\n",
       " 'https://www.autocasion.com/coches-segunda-mano/tesla-model-x-ocasion/model-x-long-range-awd-ref11307969',\n",
       " 'https://www.autocasion.com/coches-segunda-mano/peugeot-208-ocasion/208-1-5-bluehdi-s-s-business-line-100-ref14513333',\n",
       " 'https://www.autocasion.com/coches-segunda-mano/land-rover-range-rover-evoque-ocasion/2-0-d-150cc-s-awd-bva-166f7173ae2560-ref14438493',\n",
       " 'https://www.autocasion.com/coches-segunda-mano/volkswagen-tiguan-ocasion/tiguan-todoterreno-2-0-tdi-110kw-dsg-4wd-sport-150-5p-ref14609369',\n",
       " 'https://www.autocasion.com/coches-segunda-mano/hyundai-tucson-ocasion/tucson-1-6crdi-48v-sle-4x2-ref14610747',\n",
       " 'https://www.autocasion.com/coches-segunda-mano/volkswagen-golf-ocasion/golf-1-5-tsi-evo-bm-last-edition-96kw-ref14609023',\n",
       " 'https://www.autocasion.com/coches-segunda-mano/bmw-x3-ocasion/x3-xdrive-30e-1-ref14604035',\n",
       " 'https://www.autocasion.com/coches-segunda-mano/peugeot-3008-suv-ocasion/3008-1-5bluehdi-gt-line-s-s-eat8-130-ref14604063',\n",
       " 'https://www.autocasion.com/coches-segunda-mano/land-rover-defender-ocasion/defender-130-3-0d-l6-mhev-se-awd-aut-250-ref14452532',\n",
       " 'https://www.autocasion.com/coches-segunda-mano/skoda-kodiaq-ocasion/kodiaq-2-0-tsi-style-4x4-dsg-140kw-1-ref13972064',\n",
       " 'https://www.autocasion.com/coches-segunda-mano/citroen-c4-cactus-ocasion/c4-cactus-1-2-puretech-s-s-feel-edition-110-ref14576768',\n",
       " 'https://www.autocasion.com/coches-segunda-mano/bmw-x5-ocasion/x5-xdrive45e-ref9045820',\n",
       " 'https://www.autocasion.com/coches-segunda-mano/seat-tarraco-ocasion/tarraco-2-0tdi-s-s-style-dsg-7-150-ref13942666',\n",
       " 'https://www.autocasion.com/coches-segunda-mano/skoda-kodiaq-ocasion/kodiaq-1-5tsi-m-hev-selection-4x2-dsg-110kw-ref14374226',\n",
       " 'https://www.autocasion.com/coches-segunda-mano/lexus-nx-ocasion/nx-300h-f-sport-panoramico-4wd-ref14616546',\n",
       " 'https://www.autocasion.com/coches-segunda-mano/opel-crossland-x-ocasion/crossland-1-2-s-s-edition-110-ref14616562',\n",
       " 'https://www.autocasion.com/coches-segunda-mano/bmw-serie-1-ocasion/118da-business-ref14614138',\n",
       " 'https://www.autocasion.com/coches-segunda-mano/rolls-royce-cullinan-ocasion/cullinan-v12-ref12042334',\n",
       " 'https://www.autocasion.com/coches-segunda-mano/opel-crossland-x-ocasion/crossland-1-2-s-s-edition-110-ref14616562',\n",
       " 'https://www.autocasion.com/coches-segunda-mano/citroen-c4-ocasion/grand-c4-spacetourer-1-5bluehdi-s-s-c-series-130-ref14368594',\n",
       " 'https://www.autocasion.com/coches-segunda-mano/volkswagen-t-roc-ocasion/t-roc-1-0-tsi-advance-ref14618362',\n",
       " 'https://www.autocasion.com/coches-segunda-mano/renault-arkana-ocasion/arkana-1-6-e-tech-engineered-105kw-ref14618338',\n",
       " 'https://www.autocasion.com/coches-segunda-mano/hyundai-i30-ocasion/i30-fb-1-0-tgdi-tecno-48v-120-ref14638005',\n",
       " 'https://www.autocasion.com/coches-segunda-mano/skoda-citigo-ocasion/citigoe-iv-ambition-aut-ref13535445',\n",
       " 'https://www.autocasion.com/coches-segunda-mano/volkswagen-t-cross-ocasion/t-cross-1-0-tsi-advance-dsg7-81kw-ref14086861',\n",
       " 'https://www.autocasion.com/coches-segunda-mano/nissan-leaf-ocasion/leaf-40-kwh-n-connecta-ref14638009',\n",
       " 'https://www.autocasion.com/coches-segunda-mano/bmw-serie-3-ocasion/318da-m-sport-ref14608737',\n",
       " 'https://www.autocasion.com/coches-km0/km-0/skoda-superb-km0/superb-1-4-tsi-p-hev-sportline-dsg-ref11720381',\n",
       " 'https://www.autocasion.com/coches-segunda-mano/mercedes-benz-clase-gla-ocasion/clase-gla-200-d-amg-line-euro-6d-16704a45f18eba-ref14519177',\n",
       " 'https://www.autocasion.com/coches-segunda-mano/nissan-micra-ocasion/micra-1-5dci-acenta-90-ref14630493',\n",
       " 'https://www.autocasion.com/coches-segunda-mano/peugeot-2008-ocasion/2008-1-2-puretech-s-s-allure-100-1-ref14617269',\n",
       " 'https://www.autocasion.com/coches-segunda-mano/seat-ateca-ocasion/ateca-1-0-tsi-85kw-s-64-ref11387655',\n",
       " 'https://www.autocasion.com/coches-segunda-mano/bmw-serie-6-ocasion/620da-gran-turismo-xdrive-ref14585239',\n",
       " 'https://www.autocasion.com/coches-segunda-mano/peugeot-2008-ocasion/2008-1-2-puretech-s-s-signature-110-ref14616563',\n",
       " 'https://www.autocasion.com/coches-segunda-mano/skoda-superb-ocasion/superb-combi-1-5-tsi-selection-dsg-mhev-ref14476387',\n",
       " 'https://www.autocasion.com/coches-segunda-mano/ford-ecosport-ocasion/ecosport-1-0-ecoboost-active-125-ref14616539',\n",
       " 'https://www.autocasion.com/coches-segunda-mano/seat-ateca-ocasion/ateca-1-0-tsi-s-s-style-xm-ref14618347',\n",
       " 'https://www.autocasion.com/coches-segunda-mano/peugeot-5008-suv-ocasion/5008-1-2-puretech-s-s-allure-pack-130-ref14617275',\n",
       " 'https://www.autocasion.com/coches-segunda-mano/mercedes-benz-clase-cla-ocasion/cla-180-7g-dct-2-ref14120511',\n",
       " 'https://www.autocasion.com/coches-segunda-mano/opel-corsa-ocasion/corsa-1-2t-xhl-s-s-gs-100-1-ref14637947',\n",
       " 'https://www.autocasion.com/coches-segunda-mano/skoda-fabia-ocasion/fabia-1-0-tsi-sport-dsg-81kw-ref12944079',\n",
       " 'https://www.autocasion.com/coches-segunda-mano/mercedes-benz-clase-c-ocasion/clase-c-220-d-berlina-1670dd5141bba1-ref14582803',\n",
       " 'https://www.autocasion.com/coches-segunda-mano/toyota-corolla-ocasion/corolla-touring-sports-200h-gr-sport-ref14534323',\n",
       " 'https://www.autocasion.com/coches-segunda-mano/audi-q7-ocasion/q7-60-tfsie-black-line-plus-quattro-tiptronic-ref14386869',\n",
       " 'https://www.autocasion.com/coches-segunda-mano/ferrari-296-gtb-ocasion/296-gtb-ref13050768',\n",
       " 'https://www.autocasion.com/coches-km0/km-0/jaguar-i-pace-km0/i-pace-hse-ref7208566',\n",
       " 'https://www.autocasion.com/coches-segunda-mano/kia-sorento-ocasion/1-6-t-gdi-phev-black-edition-4x4-7pl-167128d38a3633-ref14616834',\n",
       " 'https://www.autocasion.com/coches-km0/km-0/seat-arona-km0/arona-1-0-tsi-s-s-fr-110-1-ref10999881',\n",
       " 'https://www.autocasion.com/coches-segunda-mano/porsche-taycan-ocasion/taycan-turbo-s-ref11300946']"
      ]
     },
     "execution_count": 22,
     "metadata": {},
     "output_type": "execute_result"
    }
   ],
   "source": [
    "anuncios_coches = links_coches()\n",
    "anuncios_coches"
   ]
  },
  {
   "cell_type": "code",
   "execution_count": 32,
   "id": "4c79d371-88c8-485b-beb2-9fb93b2c8d04",
   "metadata": {
    "tags": []
   },
   "outputs": [],
   "source": [
    "url_coche = anuncios_coches[0]\n",
    "headers = {\n",
    "       \"User-Agent\": \"Mozilla/5.0 (Windows NT 10.0; Win64; x64) AppleWebKit/537.36 (KHTML, like Gecko) Chrome/58.0.3029.110 Safari/537.3\"\n",
    "        }\n",
    "session = requests.Session()\n",
    "response = session.get(url_coche, headers=headers)\n",
    "soup = BeautifulSoup(response.content, \"html.parser\")"
   ]
  },
  {
   "cell_type": "code",
   "execution_count": 156,
   "id": "96e80480-b043-417c-b4bc-af98ef3047ca",
   "metadata": {
    "tags": []
   },
   "outputs": [],
   "source": [
    "provincia = soup.find_all('div', class_= 'etiquetas')[1].find_all('span')[-1].text\n",
    "\n",
    "distintivo_ambiental = soup.find_all('div', class_= 'etiquetas')[1].find('img')['alt']\n",
    "\n",
    "marca_modelo = soup.find('h2').text\n",
    "\n",
    "detalles = soup.find('ul', class_= 'datos-basicos-ficha').find_all('li')\n",
    "lista_detalles = []\n",
    "\n",
    "for detalle in detalles:\n",
    "    lista_detalles.append(detalle.text.strip())\n",
    "    \n",
    "    "
   ]
  },
  {
   "cell_type": "code",
   "execution_count": 158,
   "id": "24158f23-32f8-4ad8-bfb4-69fea280b6bd",
   "metadata": {
    "tags": []
   },
   "outputs": [
    {
     "data": {
      "text/plain": [
       "['Matriculado: 12/2019',\n",
       " '170.000 km',\n",
       " 'Garantía: 48 meses',\n",
       " 'Automático',\n",
       " 'Corriente eléctrica',\n",
       " 'Todo Terreno',\n",
       " '5 asientos',\n",
       " '525 cv',\n",
       " '5 Puertas',\n",
       " 'Blanco']"
      ]
     },
     "execution_count": 158,
     "metadata": {},
     "output_type": "execute_result"
    }
   ],
   "source": [
    "lista_detalles"
   ]
  },
  {
   "cell_type": "code",
   "execution_count": null,
   "id": "96a10e54-1e63-4516-9787-3a1656ab8ecf",
   "metadata": {},
   "outputs": [],
   "source": []
  }
 ],
 "metadata": {
  "kernelspec": {
   "display_name": "Python 3 (ipykernel)",
   "language": "python",
   "name": "python3"
  },
  "language_info": {
   "codemirror_mode": {
    "name": "ipython",
    "version": 3
   },
   "file_extension": ".py",
   "mimetype": "text/x-python",
   "name": "python",
   "nbconvert_exporter": "python",
   "pygments_lexer": "ipython3",
   "version": "3.11.7"
  }
 },
 "nbformat": 4,
 "nbformat_minor": 5
}
