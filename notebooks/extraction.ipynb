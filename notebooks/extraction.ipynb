{
 "cells": [
  {
   "cell_type": "code",
   "execution_count": 2,
   "id": "1a4832be-5181-49dc-aa58-1f9ab9f00c4c",
   "metadata": {
    "tags": []
   },
   "outputs": [],
   "source": [
    "import numpy as np\n",
    "import pandas as pd\n",
    "import requests\n",
    "import tqdm\n",
    "import time\n",
    "import random\n",
    "import re\n",
    "\n",
    "from bs4 import BeautifulSoup\n",
    "from selenium import webdriver\n",
    "from selenium.webdriver.common.by import By\n",
    "\n",
    "from time import sleep"
   ]
  },
  {
   "cell_type": "code",
   "execution_count": 3,
   "id": "0e5a5766-54e3-47e0-be21-c6619f1da50b",
   "metadata": {
    "tags": []
   },
   "outputs": [],
   "source": [
    "pd.set_option('display.max_columns', None)\n",
    "pd.set_option('display.max_rows', None)\n",
    "\n",
    "#pd.reset_option('display.max_rows')"
   ]
  },
  {
   "cell_type": "markdown",
   "id": "f56224a7-c3c4-4ecb-9438-bd65e2183875",
   "metadata": {
    "jp-MarkdownHeadingCollapsed": true,
    "tags": []
   },
   "source": [
    "## Sacar links"
   ]
  },
  {
   "cell_type": "code",
   "execution_count": 4,
   "id": "ea4698de-bb90-4c79-8e4a-d4405f1b6998",
   "metadata": {
    "tags": []
   },
   "outputs": [
    {
     "name": "stdout",
     "output_type": "stream",
     "text": [
      "200\n"
     ]
    }
   ],
   "source": [
    "url = \"https://www.autocasion.com/coches-ocasion\"\n",
    "headers = {\n",
    "    \"User-Agent\": \"Mozilla/5.0 (Windows NT 10.0; Win64; x64) AppleWebKit/537.36 (KHTML, like Gecko) Chrome/58.0.3029.110 Safari/537.3\"\n",
    "}\n",
    "\n",
    "session = requests.Session()\n",
    "\n",
    "response = session.get(url, headers=headers)\n",
    "soup = BeautifulSoup(response.content, \"html.parser\")\n",
    "print(response.status_code)"
   ]
  },
  {
   "cell_type": "code",
   "execution_count": 7,
   "id": "92b0d424-d72c-4e68-a1a6-1a36d8a35933",
   "metadata": {},
   "outputs": [
    {
     "data": {
      "text/plain": [
       "6531"
      ]
     },
     "execution_count": 7,
     "metadata": {},
     "output_type": "execute_result"
    }
   ],
   "source": [
    "anuncios_pagina = soup.find_all(\"article\", class_=\"anuncio\")\n",
    "\n",
    "total_coches = int(soup.find('div', class_=\"container listado\").find('h1').text.strip().split('\\n')[0].replace('.',''))\n",
    "\n",
    "total_paginas = int(total_coches/len(anuncios_pagina)) + (1 if (total_coches/len(anuncios_pagina))%1 else 0)\n",
    "\n",
    "total_paginas"
   ]
  },
  {
   "cell_type": "code",
   "execution_count": 9,
   "id": "e9a34be9-b10f-4a6c-8d32-6a85030bc4fb",
   "metadata": {},
   "outputs": [],
   "source": [
    "def links_coches():\n",
    "    url_base = \"https://www.autocasion.com\"\n",
    "    url_pagina = f\"{url_base}/coches-ocasion?direction=desc&sort=updated_at&page=\"\n",
    "    \n",
    "    headers = {\n",
    "        \"User-Agent\": \"Mozilla/5.0 (Windows NT 10.0; Win64; x64) AppleWebKit/537.36 (KHTML, like Gecko) Chrome/58.0.3029.110 Safari/537.3\"\n",
    "    }\n",
    "    session = requests.Session()\n",
    "    \n",
    "    lista_paginas = []\n",
    "    anuncios_coches = []\n",
    "\n",
    "    for pagina in range(1, total_paginas +1):\n",
    "        lista_paginas.append(f'{url_pagina}{pagina}')\n",
    "        \n",
    "    lista_prueba = lista_paginas[:5]\n",
    "        \n",
    "    for pagina_url in tqdm.tqdm(lista_paginas):\n",
    "        response = session.get(pagina_url, headers=headers)\n",
    "        soup = BeautifulSoup(response.content, \"html.parser\")\n",
    "        anuncios = soup.find_all(\"div\", class_=\"contenido-anuncio\")\n",
    "        \n",
    "        for anuncio in anuncios:\n",
    "            coche_url = anuncio.find(\"a\")['href']\n",
    "            anuncios_coches.append(f'{url_base}{coche_url}')\n",
    "            \n",
    "        time.sleep(random.uniform(1,3))\n",
    "    \n",
    "        \n",
    "    return lista_paginas, anuncios_coches"
   ]
  },
  {
   "cell_type": "code",
   "execution_count": 11,
   "id": "14720e43-2304-45e2-916d-8b199884dcdf",
   "metadata": {
    "scrolled": true,
    "tags": []
   },
   "outputs": [
    {
     "name": "stderr",
     "output_type": "stream",
     "text": [
      "100%|██████████| 6531/6531 [5:49:42<00:00,  3.21s/it]  \n"
     ]
    }
   ],
   "source": [
    "lista_paginas,anuncios_coches = links_coches()"
   ]
  },
  {
   "cell_type": "code",
   "execution_count": 12,
   "id": "b4d0d515-df9a-431a-9508-5a53f0c4bf9d",
   "metadata": {
    "tags": []
   },
   "outputs": [],
   "source": [
    "df_lista_coches = pd.DataFrame(anuncios_coches)\n",
    "df_lista_coches.to_csv('../bin/anuncios_coches.csv', index = False)"
   ]
  },
  {
   "cell_type": "code",
   "execution_count": 13,
   "id": "231ee6f0-a777-40c5-bca0-f7085c6ed468",
   "metadata": {
    "tags": []
   },
   "outputs": [
    {
     "data": {
      "text/plain": [
       "45436"
      ]
     },
     "execution_count": 13,
     "metadata": {},
     "output_type": "execute_result"
    }
   ],
   "source": [
    "len(anuncios_coches)"
   ]
  },
  {
   "cell_type": "markdown",
   "id": "6e39c3f0-694b-4863-a4dc-725f6a435209",
   "metadata": {
    "tags": []
   },
   "source": [
    "## Sacar coches"
   ]
  },
  {
   "cell_type": "code",
   "execution_count": 5,
   "id": "18c9539f-56ec-4d9e-b6e6-b725f2a4ca55",
   "metadata": {
    "tags": []
   },
   "outputs": [],
   "source": [
    "df_lista_coches = pd.read_csv('../bin/anuncios_coches.csv')"
   ]
  },
  {
   "cell_type": "code",
   "execution_count": 9,
   "id": "88e93792-7e65-4c7a-a605-b0a9fb5d02be",
   "metadata": {
    "tags": []
   },
   "outputs": [],
   "source": [
    "lista_jorge = df_lista_coches.iloc[:15147]\n",
    "lista_miguel = df_lista_coches.iloc[15147:30294]\n",
    "lista_carlos = df_lista_coches.iloc[30294:]"
   ]
  },
  {
   "cell_type": "code",
   "execution_count": 11,
   "id": "4c79d371-88c8-485b-beb2-9fb93b2c8d04",
   "metadata": {
    "tags": []
   },
   "outputs": [],
   "source": [
    "headers = {\n",
    "           \"User-Agent\": \"Mozilla/5.0 (Windows NT 10.0; Win64; x64) AppleWebKit/537.36 (KHTML, like Gecko) Chrome/58.0.3029.110 Safari/537.3\"\n",
    "            }\n",
    "session = requests.Session()"
   ]
  },
  {
   "cell_type": "code",
   "execution_count": 13,
   "id": "c9375e9c-3fb5-4673-85dc-d0477da9397d",
   "metadata": {
    "tags": []
   },
   "outputs": [],
   "source": [
    "# Función para buscar y extraer un valor específico de cada cadena\n",
    "def buscar_detalle(texto, campo):\n",
    "    # Usamos expresiones regulares para capturar el campo deseado seguido de su valor\n",
    "    pattern = rf\"{campo}\\s*:\\s*([^\\n]+)\"\n",
    "    match = re.search(pattern, texto)\n",
    "    return match.group(1).strip() if match else None"
   ]
  },
  {
   "cell_type": "code",
   "execution_count": 17,
   "id": "97f2a0c8-763a-4408-8abf-ea94b6d84a17",
   "metadata": {
    "scrolled": true,
    "tags": []
   },
   "outputs": [
    {
     "name": "stderr",
     "output_type": "stream",
     "text": [
      "  0%|          | 0/15147 [00:00<?, ?it/s]"
     ]
    },
    {
     "name": "stdout",
     "output_type": "stream",
     "text": [
      "https://www.autocasion.com/coches-segunda-mano/bmw-serie-3-ocasion/318d-7-ref14633654\n"
     ]
    },
    {
     "name": "stderr",
     "output_type": "stream",
     "text": [
      "  0%|          | 1/15147 [00:05<21:50:19,  5.19s/it]"
     ]
    },
    {
     "name": "stdout",
     "output_type": "stream",
     "text": [
      "https://www.autocasion.com/coches-segunda-mano/fiat-500-ocasion/500-1-0-hybrid-dolcevita-52kw-ref14498767\n"
     ]
    },
    {
     "name": "stderr",
     "output_type": "stream",
     "text": [
      "  0%|          | 2/15147 [00:12<26:07:54,  6.21s/it]"
     ]
    },
    {
     "name": "stdout",
     "output_type": "stream",
     "text": [
      "https://www.autocasion.com/coches-segunda-mano/nissan-qashqai-ocasion/qashqai-1-5dci-n-connecta-4x2-ref14512790\n"
     ]
    },
    {
     "name": "stderr",
     "output_type": "stream",
     "text": [
      "  0%|          | 2/15147 [00:16<35:22:01,  8.41s/it]\n"
     ]
    },
    {
     "ename": "KeyboardInterrupt",
     "evalue": "",
     "output_type": "error",
     "traceback": [
      "\u001b[1;31m---------------------------------------------------------------------------\u001b[0m",
      "\u001b[1;31mKeyboardInterrupt\u001b[0m                         Traceback (most recent call last)",
      "Cell \u001b[1;32mIn[17], line 224\u001b[0m\n\u001b[0;32m    220\u001b[0m             info_coche[\u001b[38;5;124m'\u001b[39m\u001b[38;5;124mnum_marchas\u001b[39m\u001b[38;5;124m'\u001b[39m] \u001b[38;5;241m=\u001b[39m buscar_detalle(detalle, \u001b[38;5;124m\"\u001b[39m\u001b[38;5;124mMarchas\u001b[39m\u001b[38;5;124m\"\u001b[39m)\n\u001b[0;32m    222\u001b[0m coches_df[(\u001b[38;5;28mlen\u001b[39m(coches_df))] \u001b[38;5;241m=\u001b[39m info_coche\n\u001b[1;32m--> 224\u001b[0m time\u001b[38;5;241m.\u001b[39msleep(random\u001b[38;5;241m.\u001b[39muniform(\u001b[38;5;241m3\u001b[39m, \u001b[38;5;241m7\u001b[39m))\n",
      "\u001b[1;31mKeyboardInterrupt\u001b[0m: "
     ]
    }
   ],
   "source": [
    "coches_df = dict()\n",
    "\n",
    "for coche in tqdm.tqdm(lista_jorge.iloc[:, 0]):\n",
    "    print(coche)\n",
    "    \n",
    "    try: \n",
    "        url_coche = coche\n",
    "        response = session.get(url_coche, headers=headers)\n",
    "        \n",
    "    except: \n",
    "        continue\n",
    "        \n",
    "    #Verificamos que la respuesta es exitosa\n",
    "    if response.status_code != 200:\n",
    "        print(f\"Error al acceder a {url_coche}, Código de estado: {response.status_code}\")\n",
    "        continue\n",
    "    \n",
    "    soup = BeautifulSoup(response.content, \"html.parser\")\n",
    "    info_coche = {}\n",
    "    \n",
    "    try:\n",
    "        if 'Vehículo vendido' in soup.find('div', class_= 'img-ficha').find('p').text.replace('X',''):\n",
    "            continue\n",
    "            \n",
    "    except: \n",
    "        \n",
    "        pass\n",
    "            \n",
    "    try: \n",
    "        info_coche['provincia'] = soup.find_all('div', class_= 'etiquetas')[1].find_all('span')[4].text\n",
    "        \n",
    "    except: \n",
    "        info_coche['provincia'] = 'no disponible'\n",
    "        \n",
    "    info_coche['marca_modelo'] = soup.find('h2').text\n",
    "    info_coche['fecha_matriculacion'] = soup.find('ul', class_= 'datos-basicos-ficha').find('span', class_= 'icon icon-calendario').find_previous().text.strip()\n",
    "    info_coche['kilometraje'] = soup.find('ul', class_= 'datos-basicos-ficha').find('span', class_= 'icon icon-velocimetro').find_previous().text.replace('.','').replace('km','').strip()\n",
    "    \n",
    "    lista_detalles_vendedor = soup.find('div', class_= 'datos-concesionario').find('p').text.strip().split('\\n')\n",
    "    info_coche['nombre_vendedor'] = lista_detalles_vendedor[0]\n",
    "    info_coche['tipo_vendedor'] = lista_detalles_vendedor[1].strip()\n",
    "        \n",
    "    try:\n",
    "        #puede haber o no\n",
    "        info_coche['distintivo_ambiental'] = soup.find_all('div', class_= 'etiquetas')[1].find('img')['alt']\n",
    "        \n",
    "    except:\n",
    "        info_coche['distintivo_ambiental'] = 'no disponible'\n",
    "    try:\n",
    "        #puede haber o no\n",
    "        info_coche['garantia'] = soup.find('ul', class_= 'datos-basicos-ficha').find('span', class_= 'icon icon-file').find_previous().text.replace('Garantía: ', '').strip()\n",
    "        \n",
    "    except:\n",
    "        info_coche['garantia'] = 'sin garantía'\n",
    "    \n",
    "    \n",
    "    detalles_precio = soup.find('ul', class_= 'tabla-precio').find_all('li')\n",
    "\n",
    "    for detalle in detalles_precio:\n",
    "        detalle = detalle.text.replace('\\n','').strip()\n",
    "\n",
    "        if 'Precio al contado' in detalle: \n",
    "            info_coche['precio_contado'] = detalle.replace('\\n', '').split(':')[1].replace('.', '').replace('€','').strip()\n",
    "        elif 'Precio de venta nuevo' in detalle: \n",
    "            info_coche['precio_nuevo'] = detalle.replace('\\n', '').split('*')[1].strip().replace('.','').split()[0]\n",
    "            \n",
    "    if 'precio_nuevo' not in info_coche:\n",
    "        info_coche['precio_nuevo'] = 'no disponible'\n",
    "    \n",
    "    div_ficha_tecnica = soup.find('div', class_='bloque ficha-tecnica') \n",
    "    div_no_eurotax = soup.find('div', class_= 'bloque no-eurotax')\n",
    "    \n",
    "    if div_ficha_tecnica:\n",
    "        \n",
    "        try: \n",
    "            detalles_carroceria = div_ficha_tecnica.find('ul', class_= 'tab-spec-1 active').find_all('li')\n",
    "            for detalle in detalles_carroceria:\n",
    "                detalle = detalle.text.replace('Medidas','').strip()\n",
    "\n",
    "                if 'Largo' in detalle: \n",
    "                    info_coche['largo'] = detalle\n",
    "                elif 'Ancho' in detalle: \n",
    "                    info_coche['ancho'] = detalle\n",
    "                elif 'Alto' in detalle: \n",
    "                    info_coche['alto'] = detalle\n",
    "                #el primer número es la capacidad del maletero normal, el segundo la capacidad del maletero con los asientos abatidos\n",
    "                elif 'Capacidad del maletero' in detalle: \n",
    "                    info_coche['capacidad_maletero'] = detalle\n",
    "                elif 'Carrocería' in detalle: \n",
    "                    info_coche['carroceria'] = detalle\n",
    "                elif 'Número de plazas' in detalle: \n",
    "                    info_coche['num_plazas'] = detalle\n",
    "                elif 'Número de puertas' in detalle: \n",
    "                    info_coche['num_puertas'] = detalle\n",
    "                elif 'Batalla' in detalle: \n",
    "                    info_coche['batalla'] = detalle\n",
    "                #supongo que si hay dos pesos el segundo será la masa max. autorizada\n",
    "                elif 'Peso' in detalle: \n",
    "                    info_coche['peso'] = detalle\n",
    "                    \n",
    "        except:   \n",
    "            info_coche['largo'] = 'no disponible'\n",
    "            info_coche['ancho'] = 'no disponible'\n",
    "            info_coche['alto'] = 'no disponible'\n",
    "            info_coche['capacidad_maletero'] = 'no disponible'\n",
    "            info_coche['carroceria'] = 'no disponible'\n",
    "            info_coche['num_plazas'] = 'no disponible'\n",
    "            info_coche['num_puertas'] = 'no disponible'\n",
    "            info_coche['batalla'] = 'no disponible'\n",
    "            info_coche['peso'] = 'no disponible'\n",
    "                \n",
    "           \n",
    "        try:\n",
    "            detalles_consumos = div_ficha_tecnica.find('ul', class_= 'tab-spec-2').find_all('li')\n",
    "            for detalle in detalles_consumos:\n",
    "                detalle = ' '.join(detalle.text.replace('\\n','').split())\n",
    "\n",
    "                if 'Consumo medio' in detalle: \n",
    "                    info_coche['consumo_medio'] = detalle\n",
    "                elif 'Consumo en carretera' in detalle: \n",
    "                    info_coche['consumo_carretera'] = detalle\n",
    "                elif 'Consumo urbano' in detalle: \n",
    "                    info_coche['consumo_urbano'] = detalle\n",
    "                elif 'CO2' in detalle: \n",
    "                    info_coche['CO2'] = detalle\n",
    "                elif 'Depósito' in detalle: \n",
    "                    info_coche['deposito'] = detalle\n",
    "                    \n",
    "        except: \n",
    "            info_coche['consumo_medio'] = 'no disponible'\n",
    "            info_coche['consumo_carretera'] = 'no disponible'\n",
    "            info_coche['consumo_urbano'] = 'no disponible'\n",
    "            info_coche['CO2'] = 'no disponible'\n",
    "            info_coche['deposito'] = 'no disponible'        \n",
    "        \n",
    "        try:\n",
    "            detalles_motor = div_ficha_tecnica.find('ul', class_= 'tab-spec-3').find_all('li')\n",
    "            for detalle in detalles_motor:\n",
    "                detalle = detalle.text.replace('\\n', ' ').strip()\n",
    "\n",
    "                if 'Combustible' in detalle: \n",
    "                    info_coche['combustible'] = detalle\n",
    "                elif 'Nº de cilindros' in detalle: \n",
    "                    info_coche['cilindros'] = detalle\n",
    "                elif 'Cilindrada' in detalle: \n",
    "                    info_coche['cilindrada'] = detalle\n",
    "                elif 'Sobrealimentación' in detalle: \n",
    "                    info_coche['sobrealimentacion'] = detalle\n",
    "                    \n",
    "        except: \n",
    "            info_coche['combustible'] = 'no disponible'\n",
    "            info_coche['cilindros'] = 'no disponible'\n",
    "            info_coche['cilindrada'] = 'no disponible'\n",
    "            info_coche['sobrealimentacion'] = 'no disponible'\n",
    "\n",
    "        try:\n",
    "            detalles_transmision = div_ficha_tecnica.find('ul', class_= 'tab-spec-4').find_all('li')\n",
    "            for detalle in detalles_transmision:\n",
    "                detalle = detalle.text.replace('\\n', ' ').strip()\n",
    "\n",
    "                if 'Tipo de transmisión' in detalle: \n",
    "                    info_coche['tipo_cambio'] = detalle\n",
    "                elif 'Tracción' in detalle: \n",
    "                    info_coche['traccion'] = detalle\n",
    "                elif 'Número de marchas' in detalle: \n",
    "                    info_coche['num_marchas'] = detalle\n",
    "                    \n",
    "        except: \n",
    "            info_coche['tipo_cambio'] = 'no disponible'\n",
    "            info_coche['traccion'] = 'no disponible'\n",
    "            info_coche['num_marchas'] = 'no disponible'\n",
    "\n",
    "        try:\n",
    "            detalles_prestaciones = div_ficha_tecnica.find('ul', class_= 'tab-spec-5').find_all('li')\n",
    "            for detalle in detalles_prestaciones:\n",
    "                detalle = detalle.text\n",
    "\n",
    "                if 'Potencia (KW)' in detalle: \n",
    "                    info_coche['potencia_kw'] = detalle\n",
    "                elif 'Potencia (CV)' in detalle: \n",
    "                    info_coche['potencia_cv'] = detalle\n",
    "                elif 'Par' in detalle: \n",
    "                    info_coche['par'] = detalle\n",
    "                elif 'Velocidad' in detalle: \n",
    "                    info_coche['velocidad_max'] = detalle\n",
    "                elif 'Aceleración' in detalle: \n",
    "                    info_coche['aceleracion'] = detalle\n",
    "                    \n",
    "        except: \n",
    "            info_coche['potencia_kw'] = 'no disponible'\n",
    "            info_coche['potencia_cv'] = 'no disponible'\n",
    "            info_coche['par'] = 'no disponible'\n",
    "            info_coche['velocidad_max'] = 'no disponible'\n",
    "            info_coche['aceleracion'] = 'no disponible'\n",
    "                \n",
    "    elif div_no_eurotax: \n",
    "        \n",
    "        ficha_no_eurotax = div_no_eurotax.find_all('ul')\n",
    "        lista_ficha_no_eurotax = []\n",
    "        for elemento in range(0,len(ficha_no_eurotax)):\n",
    "            detalle = div_no_eurotax.find_all('ul')[elemento].text\n",
    "    \n",
    "            if \"Carrocería\" in detalle:\n",
    "                info_coche['carroceria'] = buscar_detalle(detalle, \"Carrocería\")\n",
    "                info_coche['num_puertas'] = buscar_detalle(detalle, \"Número de puertas\")\n",
    "                info_coche['num_plazas'] = buscar_detalle(detalle, \"Número de plazas\")\n",
    "                info_coche['peso'] = buscar_detalle(detalle, \"Peso\")\n",
    "\n",
    "            elif \"Consumo y emisiones\" in detalle: \n",
    "                info_coche['consumo_medio']= buscar_detalle(detalle, \"Medio \\(l/100 km\\)\")\n",
    "                info_coche['consumo_carretera']= buscar_detalle(detalle, \"Carretera \\(l/100 km\\)\")\n",
    "                info_coche['consumo_urbano']= buscar_detalle(detalle, \"Urbano \\(l/100 km\\)\")\n",
    "\n",
    "            elif \"Motor\" in detalle:\n",
    "                info_coche['combustible'] = buscar_detalle(detalle, \"Combustible\")\n",
    "                info_coche['potencia_cv'] = buscar_detalle(detalle, \"Potencia\")\n",
    "                info_coche['cilindrada'] = buscar_detalle(detalle, \"Cilindrada\")\n",
    "            elif \"Transmisión\" in detalle:\n",
    "                info_coche['tipo_cambio'] = buscar_detalle(detalle, \"Tipo de cambio\")\n",
    "                info_coche['num_marchas'] = buscar_detalle(detalle, \"Marchas\")\n",
    "                \n",
    "    coches_df[(len(coches_df))] = info_coche\n",
    "    \n",
    "    time.sleep(random.uniform(3, 7))\n"
   ]
  },
  {
   "cell_type": "code",
   "execution_count": null,
   "id": "4a797aaf-3b31-45f6-8181-afaae2cfaf8d",
   "metadata": {
    "scrolled": true,
    "tags": []
   },
   "outputs": [],
   "source": [
    "df = pd.DataFrame.from_dict(coches_df).T"
   ]
  },
  {
   "cell_type": "code",
   "execution_count": null,
   "id": "a14b7682-700f-445f-9577-11d43ae606c0",
   "metadata": {
    "scrolled": true,
    "tags": []
   },
   "outputs": [],
   "source": [
    "df"
   ]
  },
  {
   "cell_type": "code",
   "execution_count": null,
   "id": "b2c90bd1-c3ba-4189-9711-669fac3b736c",
   "metadata": {
    "tags": []
   },
   "outputs": [],
   "source": [
    "df.to_csv('../bin/data.csv', index=False)"
   ]
  },
  {
   "cell_type": "markdown",
   "id": "8d7f6d2e-c271-4df0-8ba7-a9a4100d7c43",
   "metadata": {
    "jp-MarkdownHeadingCollapsed": true,
    "tags": []
   },
   "source": [
    "## Extracción listado marcas"
   ]
  },
  {
   "cell_type": "code",
   "execution_count": 44,
   "id": "9a5144c7-207e-4a48-a2a6-831b829feaf1",
   "metadata": {
    "tags": []
   },
   "outputs": [
    {
     "name": "stdout",
     "output_type": "stream",
     "text": [
      "200\n"
     ]
    }
   ],
   "source": [
    "url = 'https://www.autocasion.com/marcas'\n",
    "headers = {\n",
    "    \"User-Agent\": \"Mozilla/5.0 (Windows NT 10.0; Win64; x64) AppleWebKit/537.36 (KHTML, like Gecko) Chrome/58.0.3029.110 Safari/537.3\"\n",
    "}\n",
    "\n",
    "session = requests.Session()\n",
    "\n",
    "response = session.get(url, headers=headers)\n",
    "soup = BeautifulSoup(response.content, \"html.parser\")\n",
    "print(response.status_code)"
   ]
  },
  {
   "cell_type": "code",
   "execution_count": 66,
   "id": "4d153b3a-51dd-4765-a01c-2009320301aa",
   "metadata": {},
   "outputs": [],
   "source": [
    "marcas = soup.find('ul', class_= 'marcas').find_all('span')\n",
    "\n",
    "\n",
    "listado_marcas = {}\n",
    "for index,detalle in enumerate (marcas, start = 1):\n",
    "    detalle = detalle.text.strip()\n",
    "    \n",
    "    listado_marcas[index] = detalle\n",
    "    "
   ]
  },
  {
   "cell_type": "code",
   "execution_count": 68,
   "id": "c2134ab1-8544-4f5a-b08f-e2ad1d889833",
   "metadata": {
    "scrolled": true,
    "tags": []
   },
   "outputs": [
    {
     "data": {
      "text/plain": [
       "{1: 'Abarth',\n",
       " 2: 'Aiways',\n",
       " 3: 'Alfa romeo',\n",
       " 4: 'Alpine',\n",
       " 5: 'Aston martin',\n",
       " 6: 'Audi',\n",
       " 7: 'Bentley',\n",
       " 8: 'Bmw',\n",
       " 9: 'Byd',\n",
       " 10: 'Citroen',\n",
       " 11: 'Cupra',\n",
       " 12: 'Dacia',\n",
       " 13: 'Dfsk',\n",
       " 14: 'Dongfeng',\n",
       " 15: 'Dr',\n",
       " 16: 'Ds',\n",
       " 17: 'Evo',\n",
       " 18: 'Ferrari',\n",
       " 19: 'Fiat',\n",
       " 20: 'Ford',\n",
       " 21: 'Honda',\n",
       " 22: 'Hyundai',\n",
       " 23: 'Ineos',\n",
       " 24: 'Invicta',\n",
       " 25: 'Isuzu',\n",
       " 26: 'Jaecoo',\n",
       " 27: 'Jaguar',\n",
       " 28: 'Jeep',\n",
       " 29: 'Jiayuan',\n",
       " 30: 'Kgm / ssangyong',\n",
       " 31: 'Kia',\n",
       " 32: 'Lamborghini',\n",
       " 33: 'Lancia',\n",
       " 34: 'Land-rover',\n",
       " 35: 'Leapmotor',\n",
       " 36: 'Levc',\n",
       " 37: 'Lexus',\n",
       " 38: 'Livan',\n",
       " 39: 'Lotus',\n",
       " 40: 'Lynk & co',\n",
       " 41: 'Maserati',\n",
       " 42: 'Maxus',\n",
       " 43: 'Mazda',\n",
       " 44: 'Mercedes-benz',\n",
       " 45: 'Mg',\n",
       " 46: 'Mhero',\n",
       " 47: 'Mini',\n",
       " 48: 'Mitsubishi',\n",
       " 49: 'Morgan',\n",
       " 50: 'Nissan',\n",
       " 51: 'Omoda',\n",
       " 52: 'Opel',\n",
       " 53: 'Peugeot',\n",
       " 54: 'Polestar',\n",
       " 55: 'Porsche',\n",
       " 56: 'Renault',\n",
       " 57: 'Seat',\n",
       " 58: 'Seres',\n",
       " 59: 'Skoda',\n",
       " 60: 'Smart',\n",
       " 61: 'Subaru',\n",
       " 62: 'Suzuki',\n",
       " 63: 'Swm',\n",
       " 64: 'Tesla',\n",
       " 65: 'Toyota',\n",
       " 66: 'Volkswagen',\n",
       " 67: 'Volvo',\n",
       " 68: 'Voyah',\n",
       " 69: 'Xpeng',\n",
       " 70: 'Yudo'}"
      ]
     },
     "execution_count": 68,
     "metadata": {},
     "output_type": "execute_result"
    }
   ],
   "source": [
    "listado_marcas"
   ]
  },
  {
   "cell_type": "code",
   "execution_count": 70,
   "id": "010b129f-2627-452b-9436-f9596b3586fe",
   "metadata": {
    "tags": []
   },
   "outputs": [],
   "source": [
    "df_marcas = pd.DataFrame(list(listado_marcas.items()), columns=['id_marca', 'nombre_marca'])"
   ]
  },
  {
   "cell_type": "code",
   "execution_count": 72,
   "id": "67dbcc60-8808-4e2d-bd04-81da803477a9",
   "metadata": {
    "tags": []
   },
   "outputs": [],
   "source": [
    "df_marcas.to_csv('../bin/listado_marcas.csv', index=False)"
   ]
  },
  {
   "cell_type": "code",
   "execution_count": null,
   "id": "38874c8d-1811-4881-91f6-5e76c304a912",
   "metadata": {},
   "outputs": [],
   "source": []
  },
  {
   "cell_type": "markdown",
   "id": "447ec084-9b25-4ced-905e-d9ce24f5f3c8",
   "metadata": {
    "jp-MarkdownHeadingCollapsed": true,
    "tags": []
   },
   "source": [
    "## Pruebas"
   ]
  },
  {
   "cell_type": "code",
   "execution_count": 21,
   "id": "b5e098ce-fa40-4c64-a732-55b3555d4a6f",
   "metadata": {
    "tags": []
   },
   "outputs": [],
   "source": [
    "url = 'https://www.autocasion.com/coches-ocasion?direction=desc&sort=updated_at&page=1'\n",
    "headers = {\n",
    "    \"User-Agent\": \"Mozilla/5.0 (Windows NT 10.0; Win64; x64) AppleWebKit/537.36 (KHTML, like Gecko) Chrome/58.0.3029.110 Safari/537.3\"\n",
    "}\n",
    "\n",
    "session = requests.Session()\n",
    "\n",
    "response = session.get(url, headers=headers)\n",
    "soup = BeautifulSoup(response.content, \"html.parser\")"
   ]
  },
  {
   "cell_type": "code",
   "execution_count": 23,
   "id": "7c176eb2-50fa-4fc7-b1af-4593dc42a3bd",
   "metadata": {
    "scrolled": true,
    "tags": []
   },
   "outputs": [
    {
     "data": {
      "text/plain": [
       "[]"
      ]
     },
     "execution_count": 23,
     "metadata": {},
     "output_type": "execute_result"
    }
   ],
   "source": [
    "soup.find_all(\"article\", class_=\"anuncio destacado\")"
   ]
  },
  {
   "cell_type": "code",
   "execution_count": 25,
   "id": "856790f9-326b-456b-b2c6-0a223f95f6c2",
   "metadata": {
    "scrolled": true,
    "tags": []
   },
   "outputs": [
    {
     "ename": "AttributeError",
     "evalue": "ResultSet object has no attribute 'find'. You're probably treating a list of elements like a single element. Did you call find_all() when you meant to call find()?",
     "output_type": "error",
     "traceback": [
      "\u001b[1;31m---------------------------------------------------------------------------\u001b[0m",
      "\u001b[1;31mAttributeError\u001b[0m                            Traceback (most recent call last)",
      "Cell \u001b[1;32mIn[25], line 1\u001b[0m\n\u001b[1;32m----> 1\u001b[0m soup\u001b[38;5;241m.\u001b[39mfind_all(\u001b[38;5;124m\"\u001b[39m\u001b[38;5;124marticle\u001b[39m\u001b[38;5;124m\"\u001b[39m, class_\u001b[38;5;241m=\u001b[39m\u001b[38;5;124m\"\u001b[39m\u001b[38;5;124manuncio\u001b[39m\u001b[38;5;124m\"\u001b[39m)\u001b[38;5;241m.\u001b[39mfind(\u001b[38;5;124m'\u001b[39m\u001b[38;5;124ma\u001b[39m\u001b[38;5;124m'\u001b[39m)\n",
      "File \u001b[1;32m~\\anaconda3\\Lib\\site-packages\\bs4\\element.py:2428\u001b[0m, in \u001b[0;36mResultSet.__getattr__\u001b[1;34m(self, key)\u001b[0m\n\u001b[0;32m   2426\u001b[0m \u001b[38;5;28;01mdef\u001b[39;00m \u001b[38;5;21m__getattr__\u001b[39m(\u001b[38;5;28mself\u001b[39m, key):\n\u001b[0;32m   2427\u001b[0m \u001b[38;5;250m    \u001b[39m\u001b[38;5;124;03m\"\"\"Raise a helpful exception to explain a common code fix.\"\"\"\u001b[39;00m\n\u001b[1;32m-> 2428\u001b[0m     \u001b[38;5;28;01mraise\u001b[39;00m \u001b[38;5;167;01mAttributeError\u001b[39;00m(\n\u001b[0;32m   2429\u001b[0m         \u001b[38;5;124m\"\u001b[39m\u001b[38;5;124mResultSet object has no attribute \u001b[39m\u001b[38;5;124m'\u001b[39m\u001b[38;5;132;01m%s\u001b[39;00m\u001b[38;5;124m'\u001b[39m\u001b[38;5;124m. You\u001b[39m\u001b[38;5;124m'\u001b[39m\u001b[38;5;124mre probably treating a list of elements like a single element. Did you call find_all() when you meant to call find()?\u001b[39m\u001b[38;5;124m\"\u001b[39m \u001b[38;5;241m%\u001b[39m key\n\u001b[0;32m   2430\u001b[0m     )\n",
      "\u001b[1;31mAttributeError\u001b[0m: ResultSet object has no attribute 'find'. You're probably treating a list of elements like a single element. Did you call find_all() when you meant to call find()?"
     ]
    }
   ],
   "source": [
    "soup.find_all(\"article\", class_=\"anuncio\").find('a')"
   ]
  },
  {
   "cell_type": "code",
   "execution_count": 123,
   "id": "9adc4114-0a8d-4621-810b-759a3782341f",
   "metadata": {
    "scrolled": true,
    "tags": []
   },
   "outputs": [
    {
     "data": {
      "text/plain": [
       "[<div class=\"contenido-anuncio\">\n",
       " <a href=\"/coches-segunda-mano/peugeot-508-ocasion/508-sw-1-6bluehdi-active-eat6-120-ref12543549\"><h2 itemprop=\"name\">  PEUGEOT 508 SW 1.6BlueHDI Active EAT6 120  </h2></a>\n",
       " <p class=\"precio\">\n",
       " <span>Al contado</span>\n",
       "                     11.500 €\n",
       "                                     </p>\n",
       " <ul>\n",
       " <li>2017</li>\n",
       " <li>Diésel</li>\n",
       " <li>189.000 km</li>\n",
       " <li>\n",
       "                         Madrid\n",
       "                     </li>\n",
       " </ul>\n",
       " </div>,\n",
       " <div class=\"contenido-anuncio\">\n",
       " <a href=\"/coches-segunda-mano/mercedes-benz-clase-glc-ocasion/glc-250-4matic-aut-ref14656275\"><h2 itemprop=\"name\">  MERCEDES-BENZ Clase GLC 250 4Matic Aut.  </h2></a>\n",
       " <p class=\"precio\">\n",
       " <span>Al contado</span>\n",
       "                     35.900 €\n",
       "                                     </p>\n",
       " <ul>\n",
       " <li>2019</li>\n",
       " <li>Gasolina</li>\n",
       " <li>95.300 km</li>\n",
       " <li>\n",
       "                         Madrid\n",
       "                     </li>\n",
       " </ul>\n",
       " </div>,\n",
       " <div class=\"contenido-anuncio\">\n",
       " <a href=\"/coches-km0/km-0/toyota-c-hr-km0/2-0-220ph-advance-166ec03a82b7f4-ref14357410\"><h2 itemprop=\"name\">  TOYOTA C-HR 2.0 220PH Advance  </h2></a>\n",
       " <p class=\"precio\">\n",
       " <span>Al contado</span>\n",
       "                     39.990 €\n",
       "                                     </p>\n",
       " <p class=\"precio financiado\">\n",
       " <span>Financiado</span>\n",
       "                         38.490 €\n",
       "                     </p>\n",
       " <ul>\n",
       " <li>2024</li>\n",
       " <li>Híbrido</li>\n",
       " <li>3.099 km</li>\n",
       " <li>\n",
       "                         Sevilla\n",
       "                     </li>\n",
       " </ul>\n",
       " </div>,\n",
       " <div class=\"contenido-anuncio\">\n",
       " <a href=\"/coches-segunda-mano/lexus-ux-ocasion/ux-250h-premium-4wd-ref14298408\"><h2 itemprop=\"name\">  LEXUS UX 250h Premium 4WD  </h2></a>\n",
       " <p class=\"precio\">\n",
       " <span>Al contado</span>\n",
       "                     35.990 €\n",
       "                                     </p>\n",
       " <p class=\"precio financiado\">\n",
       " <span>Financiado</span>\n",
       "                         33.990 €\n",
       "                     </p>\n",
       " <ul>\n",
       " <li>2023</li>\n",
       " <li>Híbrido</li>\n",
       " <li>6.192 km</li>\n",
       " <li>\n",
       "                         Sevilla\n",
       "                     </li>\n",
       " </ul>\n",
       " </div>,\n",
       " <div class=\"contenido-anuncio\">\n",
       " <a href=\"/coches-segunda-mano/alfa-romeo-tonale-ocasion/tonale-1-5-mhev-veloce-fwd-160-ref14699070\"><h2 itemprop=\"name\">  ALFA ROMEO Tonale 1.5 MHEV Veloce FWD 160  </h2></a>\n",
       " <p class=\"precio\">\n",
       " <span>Al contado</span>\n",
       "                     33.800 €\n",
       "                                     </p>\n",
       " <p class=\"precio financiado\">\n",
       " <span>Financiado</span>\n",
       "                         31.800 €\n",
       "                     </p>\n",
       " <ul>\n",
       " <li>2023</li>\n",
       " <li>Gasolina</li>\n",
       " <li>20.000 km</li>\n",
       " <li>\n",
       "                         Madrid\n",
       "                     </li>\n",
       " </ul>\n",
       " </div>,\n",
       " <div class=\"contenido-anuncio\">\n",
       " <a href=\"/coches-segunda-mano/peugeot-3008-ocasion/gt-1-5-blue-hdi-130-cv-eat8-1671c1f74543e4-ref14676183\"><h2 itemprop=\"name\">  PEUGEOT 3008 GT 1.5 BLUE HDI 130 CV EAT8  </h2></a>\n",
       " <p class=\"precio\">\n",
       " <span>Al contado</span>\n",
       "                     23.500 €\n",
       "                                     </p>\n",
       " <p class=\"precio financiado\">\n",
       " <span>Financiado</span>\n",
       "                         23.500 €\n",
       "                     </p>\n",
       " <ul>\n",
       " <li>2021</li>\n",
       " <li>Diésel</li>\n",
       " <li>52.844 km</li>\n",
       " <li>\n",
       "                         Pontevedra\n",
       "                     </li>\n",
       " </ul>\n",
       " </div>,\n",
       " <div class=\"contenido-anuncio\">\n",
       " <a href=\"/coches-segunda-mano/renault-clio-ocasion/sl-e-tech-edition-hibrido-140cv-166fd794653edc-ref14471400\"><h2 itemprop=\"name\">  RENAULT Clio SL E-Tech Edition Hibrido 140cv  </h2></a>\n",
       " <p class=\"precio\">\n",
       " <span>Al contado</span>\n",
       "                     19.000 €\n",
       "                                     </p>\n",
       " <p class=\"precio financiado\">\n",
       " <span>Financiado</span>\n",
       "                         18.500 €\n",
       "                     </p>\n",
       " <ul>\n",
       " <li>2021</li>\n",
       " <li>Híbrido</li>\n",
       " <li>67.911 km</li>\n",
       " <li>\n",
       "                         Madrid\n",
       "                     </li>\n",
       " </ul>\n",
       " </div>,\n",
       " <div class=\"contenido-anuncio\">\n",
       " <a href=\"/coches-segunda-mano/ds-ds7-crossback-ocasion/ds7-crossback-1-5bluehdi-performance-line-aut-130-ref14727720\"><h2 itemprop=\"name\">  DS 7 Crossback 1.5BlueHDi Performance Line Aut.  </h2></a>\n",
       " <p class=\"precio\">\n",
       " <span>Al contado</span>\n",
       "                     18.950 €\n",
       "                                     </p>\n",
       " <p class=\"precio financiado\">\n",
       " <span>Financiado</span>\n",
       "                         18.950 €\n",
       "                     </p>\n",
       " <ul>\n",
       " <li>2021</li>\n",
       " <li>Diésel</li>\n",
       " <li>140.780 km</li>\n",
       " <li>\n",
       "                         Pontevedra\n",
       "                     </li>\n",
       " </ul>\n",
       " </div>,\n",
       " <div class=\"contenido-anuncio\">\n",
       " <a href=\"/coches-segunda-mano/toyota-land-cruiser-ocasion/gx-166f3e8b92b2f3-ref14408189\"><h2 itemprop=\"name\">  TOYOTA Land Cruiser GX  </h2></a>\n",
       " <p class=\"precio\">\n",
       " <span>Al contado</span>\n",
       "                     34.500 €\n",
       "                                     </p>\n",
       " <p class=\"precio financiado\">\n",
       " <span>Financiado</span>\n",
       "                         33.500 €\n",
       "                     </p>\n",
       " <ul>\n",
       " <li>2020</li>\n",
       " <li>Diésel</li>\n",
       " <li>161.143 km</li>\n",
       " <li>\n",
       "                         Madrid\n",
       "                     </li>\n",
       " </ul>\n",
       " </div>,\n",
       " <div class=\"contenido-anuncio\">\n",
       " <a href=\"/coches-segunda-mano/opel-corsa-ocasion/corsa-1-5d-dt-s-s-gs-100-ref14656644\"><h2 itemprop=\"name\">  OPEL Corsa 1.5D DT S/S GS 100  </h2></a>\n",
       " <p class=\"precio\">\n",
       " <span>Al contado</span>\n",
       "                     15.350 €\n",
       "                                     </p>\n",
       " <p class=\"precio financiado\">\n",
       " <span>Financiado</span>\n",
       "                         15.350 €\n",
       "                     </p>\n",
       " <ul>\n",
       " <li>2023</li>\n",
       " <li>Diésel</li>\n",
       " <li>20.366 km</li>\n",
       " <li>\n",
       "                         Pontevedra\n",
       "                     </li>\n",
       " </ul>\n",
       " </div>,\n",
       " <div class=\"contenido-anuncio\">\n",
       " <a href=\"/coches-segunda-mano/alfa-romeo-tonale-ocasion/tonale-1-6-ds-sprint-fwd-ref14741009\"><h2 itemprop=\"name\">  ALFA ROMEO Tonale 1.6 DS Sprint FWD  </h2></a>\n",
       " <p class=\"precio\">\n",
       " <span>Al contado</span>\n",
       "                     31.500 €\n",
       "                                     </p>\n",
       " <p class=\"precio financiado\">\n",
       " <span>Financiado</span>\n",
       "                         29.500 €\n",
       "                     </p>\n",
       " <ul>\n",
       " <li>2023</li>\n",
       " <li>Diésel</li>\n",
       " <li>7.086 km</li>\n",
       " <li>\n",
       "                         Sevilla\n",
       "                     </li>\n",
       " </ul>\n",
       " </div>,\n",
       " <div class=\"contenido-anuncio\">\n",
       " <a href=\"/coches-segunda-mano/hyundai-i20-ocasion/1-2-mpi-klass-166fc029808886-ref14460731\"><h2 itemprop=\"name\">  HYUNDAI i20 1.2 MPI Klass  </h2></a>\n",
       " <p class=\"precio\">\n",
       " <span>Al contado</span>\n",
       "                     10.600 €\n",
       "                                     </p>\n",
       " <p class=\"precio financiado\">\n",
       " <span>Financiado</span>\n",
       "                         10.100 €\n",
       "                     </p>\n",
       " <ul>\n",
       " <li>2019</li>\n",
       " <li>Gasolina</li>\n",
       " <li>75.764 km</li>\n",
       " <li>\n",
       "                         Barcelona\n",
       "                     </li>\n",
       " </ul>\n",
       " </div>,\n",
       " <div class=\"contenido-anuncio\">\n",
       " <a href=\"/coches-segunda-mano/opel-crossland-x-ocasion/crossland-1-2-81kw-110cv-gs-166fbae2e513b0-ref14457677\"><h2 itemprop=\"name\">  OPEL Crossland 1.2 81kW (110CV) GS  </h2></a>\n",
       " <p class=\"precio\">\n",
       " <span>Al contado</span>\n",
       "                     16.970 €\n",
       "                                     </p>\n",
       " <p class=\"precio financiado\">\n",
       " <span>Financiado</span>\n",
       "                         15.970 €\n",
       "                     </p>\n",
       " <ul>\n",
       " <li>2023</li>\n",
       " <li>Gasolina</li>\n",
       " <li>10.386 km</li>\n",
       " <li>\n",
       "                         Barcelona\n",
       "                     </li>\n",
       " </ul>\n",
       " </div>,\n",
       " <div class=\"contenido-anuncio\">\n",
       " <a href=\"/coches-segunda-mano/citroen-c5-x-ocasion/hybrid-225-e-eat8-feel-pack-166fbae2d5aa14-ref14457669\"><h2 itemprop=\"name\">  CITROEN C5 X Hybrid 225 e-EAT8 Feel Pack  </h2></a>\n",
       " <p class=\"precio\">\n",
       " <span>Al contado</span>\n",
       "                     29.450 €\n",
       "                                     </p>\n",
       " <p class=\"precio financiado\">\n",
       " <span>Financiado</span>\n",
       "                         27.450 €\n",
       "                     </p>\n",
       " <ul>\n",
       " <li>2023</li>\n",
       " <li>Híbrido</li>\n",
       " <li>27.500 km</li>\n",
       " <li>\n",
       "                         Barcelona\n",
       "                     </li>\n",
       " </ul>\n",
       " </div>,\n",
       " <div class=\"contenido-anuncio\">\n",
       " <a href=\"/coches-segunda-mano/peugeot-508-ocasion/508-1-5bluehdi-s-s-allure-pack-eat8-130-ref14699111\"><h2 itemprop=\"name\">  PEUGEOT 508 1.5BlueHDi S&amp;S Allure Pack EAT8 130  </h2></a>\n",
       " <p class=\"precio\">\n",
       " <span>Al contado</span>\n",
       "                     24.500 €\n",
       "                                     </p>\n",
       " <p class=\"precio financiado\">\n",
       " <span>Financiado</span>\n",
       "                         24.500 €\n",
       "                     </p>\n",
       " <ul>\n",
       " <li>2022</li>\n",
       " <li>Diésel</li>\n",
       " <li>3.039 km</li>\n",
       " <li>\n",
       "                         Pontevedra\n",
       "                     </li>\n",
       " </ul>\n",
       " </div>,\n",
       " <div class=\"contenido-anuncio\">\n",
       " <a href=\"/coches-segunda-mano/peugeot-208-ocasion/bluehdi-73kw-100cv-gt-16729e118026d1-ref14741029\"><h2 itemprop=\"name\">  PEUGEOT 208 BlueHDi 73kW (100CV) GT  </h2></a>\n",
       " <p class=\"precio\">\n",
       " <span>Al contado</span>\n",
       "                     18.900 €\n",
       "                                     </p>\n",
       " <p class=\"precio financiado\">\n",
       " <span>Financiado</span>\n",
       "                         17.900 €\n",
       "                     </p>\n",
       " <ul>\n",
       " <li>2022</li>\n",
       " <li>Diésel</li>\n",
       " <li>16.820 km</li>\n",
       " <li>\n",
       "                         La Coruña\n",
       "                     </li>\n",
       " </ul>\n",
       " </div>]"
      ]
     },
     "execution_count": 123,
     "metadata": {},
     "output_type": "execute_result"
    }
   ],
   "source": [
    "soup.find_all(\"div\", class_=\"contenido-anuncio\")"
   ]
  },
  {
   "cell_type": "code",
   "execution_count": null,
   "id": "f0787d43-abcc-465c-a249-24138867c4da",
   "metadata": {},
   "outputs": [],
   "source": []
  }
 ],
 "metadata": {
  "kernelspec": {
   "display_name": "Python 3 (ipykernel)",
   "language": "python",
   "name": "python3"
  },
  "language_info": {
   "codemirror_mode": {
    "name": "ipython",
    "version": 3
   },
   "file_extension": ".py",
   "mimetype": "text/x-python",
   "name": "python",
   "nbconvert_exporter": "python",
   "pygments_lexer": "ipython3",
   "version": "3.11.7"
  }
 },
 "nbformat": 4,
 "nbformat_minor": 5
}
