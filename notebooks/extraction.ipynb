{
 "cells": [
  {
   "cell_type": "code",
   "execution_count": 9,
   "id": "1a4832be-5181-49dc-aa58-1f9ab9f00c4c",
   "metadata": {
    "tags": []
   },
   "outputs": [],
   "source": [
    "import numpy as np\n",
    "import pandas as pd\n",
    "import requests\n",
    "import tqdm\n",
    "import time\n",
    "import random\n",
    "\n",
    "from bs4 import BeautifulSoup\n",
    "from selenium import webdriver\n",
    "from selenium.webdriver.common.by import By\n",
    "\n",
    "from time import sleep"
   ]
  },
  {
   "cell_type": "code",
   "execution_count": 11,
   "id": "ea4698de-bb90-4c79-8e4a-d4405f1b6998",
   "metadata": {
    "tags": []
   },
   "outputs": [
    {
     "name": "stdout",
     "output_type": "stream",
     "text": [
      "200\n"
     ]
    }
   ],
   "source": [
    "url = \"https://www.autocasion.com/coches-ocasion\"\n",
    "headers = {\n",
    "    \"User-Agent\": \"Mozilla/5.0 (Windows NT 10.0; Win64; x64) AppleWebKit/537.36 (KHTML, like Gecko) Chrome/58.0.3029.110 Safari/537.3\"\n",
    "}\n",
    "\n",
    "# Crear una sesión\n",
    "session = requests.Session()\n",
    "\n",
    "# Hacer la solicitud con la sesión\n",
    "response = session.get(url, headers=headers)\n",
    "soup = BeautifulSoup(response.content, \"html.parser\")\n",
    "print(response.status_code)"
   ]
  },
  {
   "cell_type": "code",
   "execution_count": 119,
   "id": "303892b2-66c6-431b-ba2f-1a9cec4166cb",
   "metadata": {
    "tags": []
   },
   "outputs": [],
   "source": [
    "total_coches = int(soup.find('div', class_=\"container listado\").find('h1').text.strip().split('\\n')[0].replace('.',''))\n",
    "\n",
    "total_paginas = int(total_coches/len(anuncios)) + (1 if (total_coches/len(anuncios))%1 else 0)"
   ]
  },
  {
   "cell_type": "code",
   "execution_count": 25,
   "id": "22d0d811-2a8c-4c3e-9ae2-aea9fad92530",
   "metadata": {},
   "outputs": [],
   "source": [
    "anuncios = soup.find_all(\"article\", class_=\"anuncio\")\n",
    "\n",
    "anuncio = soup.find(\"article\", class_=\"anuncio\")\n",
    "anuncio.find(\"a\")['href']"
   ]
  },
  {
   "cell_type": "code",
   "execution_count": 129,
   "id": "9a99d989-9461-4a8a-bf81-5d839dca1a88",
   "metadata": {
    "tags": []
   },
   "outputs": [],
   "source": [
    "def links_paginas():\n",
    "    url = \"https://www.autocasion.com/coches-ocasion\"\n",
    "    headers = {\n",
    "        \"User-Agent\": \"Mozilla/5.0 (Windows NT 10.0; Win64; x64) AppleWebKit/537.36 (KHTML, like Gecko) Chrome/58.0.3029.110 Safari/537.3\"\n",
    "        }\n",
    "    session = requests.Session()\n",
    "    soup = BeautifulSoup(response.content, \"html.parser\")\n",
    "    url_pagina = 'https://www.autocasion.com/coches-ocasion?page='\n",
    "    lista_urls = []\n",
    "    for pagina in range(0, total_paginas +1):\n",
    "        lista_urls.append(f'{url_pagina}{pagina}')\n",
    "        \n",
    "    return lista_urls"
   ]
  },
  {
   "cell_type": "code",
   "execution_count": 137,
   "id": "6621db83-839b-4b0f-a43e-d5d36c63ce33",
   "metadata": {
    "scrolled": true,
    "tags": []
   },
   "outputs": [
    {
     "data": {
      "text/plain": [
       "'https://www.autocasion.com/coches-ocasion?page=6538'"
      ]
     },
     "execution_count": 137,
     "metadata": {},
     "output_type": "execute_result"
    }
   ],
   "source": [
    "lista_urls = links_paginas()\n",
    "lista_urls[-1]"
   ]
  },
  {
   "cell_type": "code",
   "execution_count": 32,
   "id": "58aebe58-7b22-471d-ac46-e29a78cf7994",
   "metadata": {
    "tags": []
   },
   "outputs": [
    {
     "name": "stdout",
     "output_type": "stream",
     "text": [
      "https://www.autocasion.com/coches-ocasion/coches-segunda-mano/mercedes-benz-clase-a-ocasion/a-180-166b59d7759ecc-ref14036367\n",
      "https://www.autocasion.com/coches-ocasion/coches-segunda-mano/bmw-serie-5-ocasion/520da-xdrive-3-ref11961816\n",
      "https://www.autocasion.com/coches-ocasion/coches-segunda-mano/bmw-x4-ocasion/x4-xdrive-30da-10-ref13069571\n",
      "https://www.autocasion.com/coches-ocasion/coches-segunda-mano/bmw-x1-ocasion/x1-sdrive-18da-5-ref14614142\n",
      "https://www.autocasion.com/coches-ocasion/coches-segunda-mano/mercedes-benz-eqc-ocasion/eqc-400-4matic-ref8610727\n",
      "https://www.autocasion.com/coches-ocasion/coches-segunda-mano/fiat-tipo-ocasion/tipo-1-4-pop-95-ref14401473\n",
      "https://www.autocasion.com/coches-ocasion/coches-segunda-mano/bmw-i8-ocasion/i8-ref14199673\n",
      "https://www.autocasion.com/coches-ocasion/coches-segunda-mano/fiat-500-ocasion/500-1-0-hybrid-connect-52kw-ref14593999\n",
      "https://www.autocasion.com/coches-ocasion/coches-segunda-mano/audi-q3-ocasion/q3-sportback-45-tfsi-black-line-quattro-ref14603859\n",
      "https://www.autocasion.com/coches-ocasion/coches-segunda-mano/renault-clio-ocasion/clio-1-5dci-energy-zen-90-ref14400645\n",
      "https://www.autocasion.com/coches-ocasion/coches-segunda-mano/skoda-octavia-ocasion/octavia-2-0tdi-cr-ambition-ref14160947\n",
      "https://www.autocasion.com/coches-ocasion/coches-segunda-mano/volkswagen-tiguan-ocasion/tiguan-2-0tdi-bmt-t1-4x2-110-ref14494639\n",
      "https://www.autocasion.com/coches-ocasion/coches-segunda-mano/ds-ds7-crossback-ocasion/ds7-crossback-2-0bluehdi-performance-line-aut-1-ref14617304\n",
      "https://www.autocasion.com/coches-ocasion/coches-segunda-mano/volkswagen-polo-ocasion/polo-1-6tdi-edition-80-ref14011720\n",
      "https://www.autocasion.com/coches-ocasion/coches-km0/km-0/ford-ecosport-km0/ecosport-1-0-ecoboost-st-line-125-ref12394676\n",
      "https://www.autocasion.com/coches-ocasion/coches-segunda-mano/volvo-s90-ocasion/s90-t8-momentum-twin-awd-1-ref14589730\n"
     ]
    }
   ],
   "source": [
    "# sacar los links de todos los anuncios, guardarlos en una lista y luego sacar los datos de cada coche\n",
    "\n",
    "for coche in anuncios:\n",
    "    venta = coche.find(\"a\")['href']\n",
    "    print(f'{url}{venta}')"
   ]
  },
  {
   "cell_type": "code",
   "execution_count": null,
   "id": "ebb0cf07-a6c6-4a45-b14e-1e2c2623178a",
   "metadata": {},
   "outputs": [],
   "source": []
  },
  {
   "cell_type": "code",
   "execution_count": null,
   "id": "e663e8a5-7922-41a5-9a45-2084dbee5129",
   "metadata": {},
   "outputs": [],
   "source": []
  },
  {
   "cell_type": "code",
   "execution_count": null,
   "id": "e9a34be9-b10f-4a6c-8d32-6a85030bc4fb",
   "metadata": {},
   "outputs": [],
   "source": []
  }
 ],
 "metadata": {
  "kernelspec": {
   "display_name": "Python 3 (ipykernel)",
   "language": "python",
   "name": "python3"
  },
  "language_info": {
   "codemirror_mode": {
    "name": "ipython",
    "version": 3
   },
   "file_extension": ".py",
   "mimetype": "text/x-python",
   "name": "python",
   "nbconvert_exporter": "python",
   "pygments_lexer": "ipython3",
   "version": "3.11.7"
  }
 },
 "nbformat": 4,
 "nbformat_minor": 5
}
