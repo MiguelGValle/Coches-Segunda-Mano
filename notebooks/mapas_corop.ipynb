{
 "cells": [
  {
   "cell_type": "code",
   "execution_count": 1,
   "id": "454ac7ca-deba-4369-8ea8-e1ca5953d5f9",
   "metadata": {
    "tags": []
   },
   "outputs": [],
   "source": [
    "import numpy as np\n",
    "import pandas as pd\n",
    "import matplotlib.pyplot as plt\n",
    "import seaborn as sns\n",
    "\n",
    "import folium\n",
    "from folium import Choropleth\n",
    "\n",
    "from sklearn.preprocessing import LabelEncoder\n",
    "from sklearn.preprocessing import OneHotEncoder\n",
    "from sklearn.impute import KNNImputer\n",
    "\n",
    "from sklearn.ensemble import RandomForestRegressor"
   ]
  },
  {
   "cell_type": "code",
   "execution_count": 2,
   "id": "7a2a64f7-f782-4d20-a877-033b40fed99b",
   "metadata": {
    "tags": []
   },
   "outputs": [
    {
     "ename": "NameError",
     "evalue": "name 'conversion_provincias' is not defined",
     "output_type": "error",
     "traceback": [
      "\u001b[1;31m---------------------------------------------------------------------------\u001b[0m",
      "\u001b[1;31mNameError\u001b[0m                                 Traceback (most recent call last)",
      "Cell \u001b[1;32mIn[2], line 1\u001b[0m\n\u001b[1;32m----> 1\u001b[0m conversion_inversa \u001b[38;5;241m=\u001b[39m {v: k \u001b[38;5;28;01mfor\u001b[39;00m k, v \u001b[38;5;129;01min\u001b[39;00m conversion_provincias\u001b[38;5;241m.\u001b[39mitems()}\n\u001b[0;32m      3\u001b[0m \u001b[38;5;66;03m#Más adelante hay que droppear esta columna. Es la conversión inversa a nombres de provincia\u001b[39;00m\n\u001b[0;32m      4\u001b[0m df[\u001b[38;5;124m'\u001b[39m\u001b[38;5;124mnombre_provincia\u001b[39m\u001b[38;5;124m'\u001b[39m] \u001b[38;5;241m=\u001b[39m df[\u001b[38;5;124m'\u001b[39m\u001b[38;5;124mid_provincia\u001b[39m\u001b[38;5;124m'\u001b[39m]\u001b[38;5;241m.\u001b[39mmap(conversion_inversa)\n",
      "\u001b[1;31mNameError\u001b[0m: name 'conversion_provincias' is not defined"
     ]
    }
   ],
   "source": [
    "conversion_inversa = {v: k for k, v in conversion_provincias.items()}\n",
    "\n",
    "#Más adelante hay que droppear esta columna. Es la conversión inversa a nombres de provincia\n",
    "df['nombre_provincia'] = df['id_provincia'].map(conversion_inversa)\n",
    "\n",
    "datos_agrupados = df.groupby('id_provincia').agg(\n",
    "    cantidad_coches=('id_provincia', 'size'),\n",
    "    media_precio=('precio_contado', 'mean')\n",
    ").reset_index()\n",
    "\n",
    "datos_agrupados['nombre_provincia'] = datos_agrupados['id_provincia'].map(conversion_inversa)\n",
    "\n",
    "cantidad_coches_dict = dict(zip(datos_agrupados['nombre_provincia'], datos_agrupados['cantidad_coches']))\n",
    "media_precio_dict = dict(zip(datos_agrupados['nombre_provincia'], datos_agrupados['media_precio']))"
   ]
  },
  {
   "cell_type": "code",
   "execution_count": null,
   "id": "35584bee-de4c-43f9-b9ee-4f33e74f76ec",
   "metadata": {},
   "outputs": [],
   "source": [
    "coordenadas = {\n",
    "    \"Álava\": (42.8467, -2.6716),\n",
    "    \"Albacete\": (38.9943, -1.8564),\n",
    "    \"Alicante\": (38.3452, -0.4810),\n",
    "    \"Almería\": (36.8340, -2.4637),\n",
    "    \"Asturias\": (43.3619, -5.8494),\n",
    "    \"Ávila\": (40.6565, -4.7003),\n",
    "    \"Badajoz\": (38.8794, -6.9706),\n",
    "    \"Islas Baleares\": (39.5696, 2.6502),\n",
    "    \"Barcelona\": (41.3851, 2.1734),\n",
    "    \"Burgos\": (42.3439, -3.6969),\n",
    "    \"Cáceres\": (39.4763, -6.3722),\n",
    "    \"Cádiz\": (36.5271, -6.2886),\n",
    "    \"Cantabria\": (43.4623, -3.8099),\n",
    "    \"Castellón\": (39.9864, -0.0513),\n",
    "    \"Ciudad Real\": (38.9848, -3.9270),\n",
    "    \"Córdoba\": (37.8882, -4.7794),\n",
    "    \"La Coruña\": (43.3623, -8.4115),\n",
    "    \"Cuenca\": (40.0704, -2.1374),\n",
    "    \"Girona\": (41.9794, 2.8214),\n",
    "    \"Granada\": (37.1773, -3.5986),\n",
    "    \"Guadalajara\": (40.6333, -3.1669),\n",
    "    \"Guipúzcoa\": (43.3183, -1.9812),\n",
    "    \"Huelva\": (37.2614, -6.9447),\n",
    "    \"Huesca\": (42.1401, -0.4089),\n",
    "    \"Jaén\": (37.7796, -3.7849),\n",
    "    \"León\": (42.5987, -5.5671),\n",
    "    \"Lleida\": (41.6176, 0.6200),\n",
    "    \"La Rioja\": (42.4627, -2.4449),\n",
    "    \"Lugo\": (43.0120, -7.5559),\n",
    "    \"Madrid\": (40.4168, -3.7038),\n",
    "    \"Málaga\": (36.7213, -4.4214),\n",
    "    \"Murcia\": (37.9922, -1.1307),\n",
    "    \"Navarra\": (42.8125, -1.6458),\n",
    "    \"Orense\": (42.3358, -7.8639),\n",
    "    \"Palencia\": (42.0095, -4.5270),\n",
    "    \"Las Palmas\": (28.1235, -15.4363),\n",
    "    \"Pontevedra\": (42.4310, -8.6444),\n",
    "    \"Salamanca\": (40.9701, -5.6635),\n",
    "    \"Santa Cruz de Tenerife\": (28.4636, -16.2518),\n",
    "    \"Segovia\": (40.9429, -4.1088),\n",
    "    \"Sevilla\": (37.3891, -5.9845),\n",
    "    \"Soria\": (41.7636, -2.4645),\n",
    "    \"Tarragona\": (41.1189, 1.2445),\n",
    "    \"Teruel\": (40.3440, -1.1069),\n",
    "    \"Toledo\": (39.8628, -4.0273),\n",
    "    \"Valencia\": (39.4699, -0.3763),\n",
    "    \"Valladolid\": (41.6523, -4.7245),\n",
    "    \"Vizcaya\": (43.2630, -2.9350),\n",
    "    \"Zamora\": (41.5033, -5.7446),\n",
    "    \"Zaragoza\": (41.6488, -0.8891),\n",
    "    \"Ceuta\": (35.8894, -5.3198),\n",
    "    \"Melilla\": (35.2923, -2.9381)}"
   ]
  },
  {
   "cell_type": "code",
   "execution_count": null,
   "id": "27b26922-bb6b-44c8-b502-4cabfe104e67",
   "metadata": {},
   "outputs": [],
   "source": [
    "datos_agrupados.head()"
   ]
  },
  {
   "cell_type": "code",
   "execution_count": null,
   "id": "8dd27233-9fad-49b8-99ea-5b381c6f9d42",
   "metadata": {},
   "outputs": [],
   "source": [
    "lista_provincias = [provincia for provincia in datos_agrupados['nombre_provincia'].unique()]"
   ]
  },
  {
   "cell_type": "code",
   "execution_count": null,
   "id": "dc127133-44ec-425a-97e8-ab7067b303bd",
   "metadata": {},
   "outputs": [],
   "source": [
    "m_cantidad_coches = folium.Map(location=[40.4168, -3.7038], zoom_start=6)\n",
    "\n",
    "for i, row in datos_agrupados.iterrows():\n",
    "    provincia = row['nombre_provincia']\n",
    "    cantidad = row['cantidad_coches']\n",
    "    \n",
    "    if provincia in coordenadas:\n",
    "        folium.Circle(\n",
    "            location=coordenadas[provincia],\n",
    "            radius=cantidad * 10,\n",
    "            color='blue',\n",
    "            fill=True,\n",
    "            fill_color='YlGnBu',\n",
    "            fill_opacity=0.7,\n",
    "            popup=f\"{provincia}: {cantidad} coches\"\n",
    "        ).add_to(m_cantidad_coches)\n",
    "\n",
    "m_cantidad_coches"
   ]
  }
 ],
 "metadata": {
  "kernelspec": {
   "display_name": "Python 3 (ipykernel)",
   "language": "python",
   "name": "python3"
  },
  "language_info": {
   "codemirror_mode": {
    "name": "ipython",
    "version": 3
   },
   "file_extension": ".py",
   "mimetype": "text/x-python",
   "name": "python",
   "nbconvert_exporter": "python",
   "pygments_lexer": "ipython3",
   "version": "3.11.7"
  }
 },
 "nbformat": 4,
 "nbformat_minor": 5
}
