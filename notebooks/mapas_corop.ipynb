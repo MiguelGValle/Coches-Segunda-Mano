{
 "cells": [
  {
   "cell_type": "code",
   "execution_count": null,
   "id": "454ac7ca-deba-4369-8ea8-e1ca5953d5f9",
   "metadata": {
    "tags": []
   },
   "outputs": [],
   "source": [
    "import numpy as np\n",
    "import pandas as pd\n",
    "import matplotlib.pyplot as plt\n",
    "import seaborn as sns\n",
    "import re\n",
    "\n",
    "import folium\n",
    "from folium import Choropleth\n",
    "from folium import GeoJson\n",
    "import geopandas as gpd\n",
    "\n",
    "import plotly.express as px\n",
    "\n",
    "from selenium import webdriver\n",
    "from selenium.webdriver.chrome.service import Service\n",
    "from webdriver_manager.chrome import ChromeDriverManager\n",
    "import os"
   ]
  },
  {
   "cell_type": "code",
   "execution_count": null,
   "id": "2c178293-d22c-4907-97c0-16c793a94c60",
   "metadata": {},
   "outputs": [],
   "source": [
    "df = pd.read_csv('../bin/data_preprocess.csv')"
   ]
  },
  {
   "cell_type": "code",
   "execution_count": null,
   "id": "70b6a63e-44f9-4982-bf2f-a7d96a81084d",
   "metadata": {
    "tags": []
   },
   "outputs": [],
   "source": [
    "mapa_provincias = gpd.read_file('../bin/limites provinciales/recintos_provinciales_inspire_peninbal_etrs89.shp')"
   ]
  },
  {
   "cell_type": "code",
   "execution_count": null,
   "id": "dc7835dd-a347-495a-8524-b18a44123c41",
   "metadata": {
    "tags": []
   },
   "outputs": [],
   "source": [
    "coches_por_provincia = df['id_provincia'].value_counts().reset_index()\n",
    "coches_por_provincia.columns = ['provincia', 'cantidad']"
   ]
  },
  {
   "cell_type": "code",
   "execution_count": null,
   "id": "5e9f3399-e8a4-4949-aeb4-6bacb54e498f",
   "metadata": {
    "tags": []
   },
   "outputs": [],
   "source": [
    "def extraer_segundo_nombre(provincia):\n",
    "    if '/' in provincia:\n",
    "        return provincia.split('/')[1].strip()\n",
    "    return provincia\n",
    "\n",
    "# Aplicar la función al GeoDataFrame para modificar la columna de las provincias\n",
    "mapa_provincias['NAMEUNIT'] = mapa_provincias['NAMEUNIT'].apply(extraer_segundo_nombre)"
   ]
  },
  {
   "cell_type": "code",
   "execution_count": null,
   "id": "8248b915-c544-445e-aa29-f5ff8de40b8b",
   "metadata": {
    "tags": []
   },
   "outputs": [],
   "source": [
    "mapa_provincias['NAMEUNIT'] = mapa_provincias['NAMEUNIT'].replace({\n",
    "    'A Coruña': 'La Coruña',\n",
    "    'Bizkaia': 'Vizcaya',\n",
    "    'Ourense': 'Orense',\n",
    "    'Illes Balears': 'Islas Baleares',\n",
    "    'Gipuzkoa': 'Guipúzcoa'\n",
    "})"
   ]
  },
  {
   "cell_type": "code",
   "execution_count": null,
   "id": "67a5f09e-ece1-4bdd-a74b-eda793b61b29",
   "metadata": {
    "tags": []
   },
   "outputs": [],
   "source": [
    "nombres_listado = set(df['id_provincia'].unique())\n",
    "nombres_mapa_actualizados = set(mapa_provincias['NAMEUNIT'].unique())\n",
    "nombres_unicos_actualizados = nombres_mapa_actualizados - nombres_listado\n",
    "\n",
    "nombres_unicos_actualizados"
   ]
  },
  {
   "cell_type": "code",
   "execution_count": null,
   "id": "1d2d0a77-91ce-4773-839e-220f74a0430e",
   "metadata": {
    "tags": []
   },
   "outputs": [],
   "source": [
    "mapa_provincias = mapa_provincias.merge(coches_por_provincia, left_on='NAMEUNIT', right_on='provincia', how='left')"
   ]
  },
  {
   "cell_type": "code",
   "execution_count": null,
   "id": "0710c508-205a-407d-a4db-6d26dced15f4",
   "metadata": {
    "tags": []
   },
   "outputs": [],
   "source": [
    "plt.figure(figsize=(20, 15))\n",
    "mapa_provincias.plot(column='cantidad', cmap='Oranges', legend=True, edgecolor='black')\n",
    "plt.title('Cantidad de Coches por Provincia en España')\n",
    "plt.show()"
   ]
  },
  {
   "cell_type": "code",
   "execution_count": null,
   "id": "1ec62c94-cbfe-475a-aab9-b28aefc2b29c",
   "metadata": {
    "tags": []
   },
   "outputs": [],
   "source": [
    "mapa_provincias_geojson = mapa_provincias.to_crs(\"EPSG:4326\").to_json()\n",
    "cantidad_dict = coches_por_provincia.set_index('provincia')['cantidad'].to_dict()\n",
    "\n",
    "mapa_provincias['cantidad'] = mapa_provincias['NAMEUNIT'].map(cantidad_dict).fillna(0).astype(int)\n",
    "mapa_provincias['cantidad_log'] = np.log1p(mapa_provincias['cantidad'])\n",
    "mapa_provincias_geojson = gpd.GeoDataFrame(mapa_provincias).to_crs(\"EPSG:4326\").to_json()\n",
    "\n",
    "mapa = folium.Map(location=[40.4168, -3.7038], zoom_start=6)\n",
    "\n",
    "Choropleth(\n",
    "    geo_data=mapa_provincias_geojson,\n",
    "    data=mapa_provincias,\n",
    "    columns=['provincia', 'cantidad_log'],\n",
    "    key_on='feature.properties.NAMEUNIT',\n",
    "    fill_color='Oranges',\n",
    "    fill_opacity=1,\n",
    "    line_opacity=0.2,\n",
    "    legend_name='Cantidad de Coches',\n",
    "    nan_fill_color='white'\n",
    ").add_to(mapa)\n",
    "\n",
    "GeoJson(\n",
    "    data=mapa_provincias,\n",
    "    tooltip=folium.GeoJsonTooltip(\n",
    "        fields=['NAMEUNIT', 'cantidad'],\n",
    "        aliases=['Provincia:', 'Cantidad de Coches:']\n",
    "    )\n",
    ").add_to(mapa)\n",
    "\n",
    "\n",
    "#Guardamos el mapa en html y luego en png\n",
    "#El proceso tiene varios pasos\n",
    "\n",
    "mapa.save(\"../bin/mapa_cantidad.html\")\n",
    "\n",
    "ruta_salida = \"../bin/mapa_cantidad.png\"\n",
    "\n",
    "os.makedirs(\"../bin\", exist_ok=True)\n",
    "\n",
    "options = webdriver.ChromeOptions()\n",
    "options.add_argument(\"--headless\")  # Ejecutar sin abrir navegador\n",
    "options.add_argument(\"--window-size=1024x768\")  # Tamaño de ventana\n",
    "driver = webdriver.Chrome(service=Service(ChromeDriverManager().install()), options=options)\n",
    "\n",
    "driver.get(f\"file://{os.path.abspath('../bin/mapa_cantidad.html')}\")\n",
    "\n",
    "driver.save_screenshot(ruta_salida)\n",
    "\n",
    "driver.quit()\n",
    "\n",
    "mapa"
   ]
  },
  {
   "cell_type": "code",
   "execution_count": null,
   "id": "fa779b54-8f16-45ca-a2de-d3d95bd2cd83",
   "metadata": {
    "tags": []
   },
   "outputs": [],
   "source": [
    "precio_medio_por_provincia = df.groupby('id_provincia')['precio_contado'].mean().reset_index()\n",
    "precio_medio_por_provincia.columns = ['provincia', 'precio_medio']\n",
    "#precio_medio_por_provincia['precio_medio'] = precio_medio_por_provincia['precio_medio'].round(2)\n",
    "\n",
    "precio_medio_dict = precio_medio_por_provincia.set_index('provincia')['precio_medio'].to_dict()\n",
    "\n",
    "# Añadir el precio medio al GeoDataFrame\n",
    "mapa_provincias['precio_medio'] = np.round(mapa_provincias['NAMEUNIT'].map(precio_medio_dict).fillna(0), 2)\n",
    "\n",
    "mapa = folium.Map(location=[40.4168, -3.7038], zoom_start=6)\n",
    "\n",
    "Choropleth(\n",
    "    geo_data=mapa_provincias_geojson,\n",
    "    data=mapa_provincias,\n",
    "    columns=['NAMEUNIT', 'precio_medio'],\n",
    "    key_on='feature.properties.NAMEUNIT',\n",
    "    fill_color='Oranges',\n",
    "    fill_opacity=1,\n",
    "    line_opacity=0.2,\n",
    "    legend_name='Precio Medio por Provincia',\n",
    "    nan_fill_color='white'\n",
    ").add_to(mapa)\n",
    "\n",
    "GeoJson(\n",
    "    data=mapa_provincias,\n",
    "    tooltip=folium.GeoJsonTooltip(\n",
    "        fields=['NAMEUNIT', 'precio_medio'],\n",
    "        aliases=['Provincia:', 'Precio Medio:']\n",
    "    )\n",
    ").add_to(mapa)\n",
    "\n",
    "mapa.save(\"../bin/mapa_precio.html\")\n",
    "\n",
    "ruta_salida = \"../bin/mapa_precio.png\"\n",
    "\n",
    "os.makedirs(\"../bin\", exist_ok=True)\n",
    "\n",
    "options = webdriver.ChromeOptions()\n",
    "options.add_argument(\"--headless\")\n",
    "options.add_argument(\"--window-size=1024x768\")\n",
    "driver = webdriver.Chrome(service=Service(ChromeDriverManager().install()), options=options)\n",
    "\n",
    "driver.get(f\"file://{os.path.abspath('../bin/mapa_precio.html')}\")\n",
    "\n",
    "driver.save_screenshot(ruta_salida)\n",
    "\n",
    "driver.quit()\n",
    "\n",
    "mapa"
   ]
  },
  {
   "cell_type": "code",
   "execution_count": null,
   "id": "f8052b60-1afa-4797-bef1-c52dde979f9b",
   "metadata": {},
   "outputs": [],
   "source": []
  },
  {
   "cell_type": "code",
   "execution_count": null,
   "id": "c904549a-ffaf-4405-9464-d72703ff41f7",
   "metadata": {},
   "outputs": [],
   "source": []
  }
 ],
 "metadata": {
  "kernelspec": {
   "display_name": "Python 3 (ipykernel)",
   "language": "python",
   "name": "python3"
  },
  "language_info": {
   "codemirror_mode": {
    "name": "ipython",
    "version": 3
   },
   "file_extension": ".py",
   "mimetype": "text/x-python",
   "name": "python",
   "nbconvert_exporter": "python",
   "pygments_lexer": "ipython3",
   "version": "3.11.7"
  }
 },
 "nbformat": 4,
 "nbformat_minor": 5
}
