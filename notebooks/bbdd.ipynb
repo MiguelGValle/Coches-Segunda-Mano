{
 "cells": [
  {
   "cell_type": "code",
   "execution_count": null,
   "id": "5f8ced48-e284-43be-a6d6-604927d1f7a6",
   "metadata": {
    "tags": []
   },
   "outputs": [],
   "source": [
    "pip install mysql-connector-python"
   ]
  },
  {
   "cell_type": "code",
   "execution_count": null,
   "id": "14fe3573-ae56-4535-b534-241ef141e8ee",
   "metadata": {
    "tags": []
   },
   "outputs": [],
   "source": [
    "import pandas as pd\n",
    "import numpy as np\n",
    "import importlib.metadata\n",
    "import mysql.connector\n",
    "import streamlit as st\n",
    "\n",
    "from datetime import datetime"
   ]
  },
  {
   "cell_type": "code",
   "execution_count": 128,
   "id": "d58f7cce-525c-4fda-b9ec-a4f57440b642",
   "metadata": {
    "tags": []
   },
   "outputs": [
    {
     "data": {
      "text/html": [
       "<div>\n",
       "<style scoped>\n",
       "    .dataframe tbody tr th:only-of-type {\n",
       "        vertical-align: middle;\n",
       "    }\n",
       "\n",
       "    .dataframe tbody tr th {\n",
       "        vertical-align: top;\n",
       "    }\n",
       "\n",
       "    .dataframe thead th {\n",
       "        text-align: right;\n",
       "    }\n",
       "</style>\n",
       "<table border=\"1\" class=\"dataframe\">\n",
       "  <thead>\n",
       "    <tr style=\"text-align: right;\">\n",
       "      <th></th>\n",
       "      <th>id_combustible</th>\n",
       "      <th>nombre_combustible</th>\n",
       "    </tr>\n",
       "  </thead>\n",
       "  <tbody>\n",
       "    <tr>\n",
       "      <th>0</th>\n",
       "      <td>1</td>\n",
       "      <td>Diesel</td>\n",
       "    </tr>\n",
       "    <tr>\n",
       "      <th>1</th>\n",
       "      <td>2</td>\n",
       "      <td>Gasolina</td>\n",
       "    </tr>\n",
       "    <tr>\n",
       "      <th>2</th>\n",
       "      <td>3</td>\n",
       "      <td>Híbrido Enchufable</td>\n",
       "    </tr>\n",
       "    <tr>\n",
       "      <th>3</th>\n",
       "      <td>4</td>\n",
       "      <td>Eléctrico</td>\n",
       "    </tr>\n",
       "    <tr>\n",
       "      <th>4</th>\n",
       "      <td>5</td>\n",
       "      <td>Gasolina/gas</td>\n",
       "    </tr>\n",
       "    <tr>\n",
       "      <th>5</th>\n",
       "      <td>6</td>\n",
       "      <td>NaN</td>\n",
       "    </tr>\n",
       "    <tr>\n",
       "      <th>6</th>\n",
       "      <td>7</td>\n",
       "      <td>Gas</td>\n",
       "    </tr>\n",
       "  </tbody>\n",
       "</table>\n",
       "</div>"
      ],
      "text/plain": [
       "   id_combustible  nombre_combustible\n",
       "0               1              Diesel\n",
       "1               2            Gasolina\n",
       "2               3  Híbrido Enchufable\n",
       "3               4           Eléctrico\n",
       "4               5        Gasolina/gas\n",
       "5               6                 NaN\n",
       "6               7                 Gas"
      ]
     },
     "execution_count": 128,
     "metadata": {},
     "output_type": "execute_result"
    }
   ],
   "source": [
    "# Cargar csv\n",
    "df_combustibles = pd.read_csv(\"../bin/listado_combustibles.csv\")\n",
    "df_concesionarios = pd.read_csv(\"../bin/listado_concesionarios.csv\")\n",
    "df_distintivo_ambiental = pd.read_csv(\"../bin/listado_distintivo_ambiental.csv\")\n",
    "df_marcas = pd.read_csv(\"../bin/listado_marcas.csv\")\n",
    "df_modelos = pd.read_csv(\"../bin/listado_modelos.csv\")\n",
    "df_provincias = pd.read_csv(\"../bin/listado_provincias.csv\")\n",
    "df_sobrealimentacion = pd.read_csv(\"../bin/listado_sobrealimentacion.csv\")\n",
    "df_traccion = pd.read_csv(\"../bin/listado_traccion.csv\")\n",
    "df_prestaciones = pd.read_csv(\"../bin/prestaciones.csv\")\n",
    "df_combustibles"
   ]
  },
  {
   "cell_type": "code",
   "execution_count": null,
   "id": "01d351e2-4b61-4f98-91d3-3c4ec153a048",
   "metadata": {
    "tags": []
   },
   "outputs": [],
   "source": [
    "#Comprobar si hay nans\n",
    "df_distintivo_ambiental.isna().sum()"
   ]
  },
  {
   "cell_type": "code",
   "execution_count": 130,
   "id": "b1f91560-2469-4753-89c5-dd96291069a0",
   "metadata": {
    "tags": []
   },
   "outputs": [],
   "source": [
    "#Convertir a nan a none\n",
    "for columna in df_combustibles.columns:\n",
    "    df_combustibles[columna] = df_combustibles[columna].replace([np.nan, pd.NA], None)"
   ]
  },
  {
   "cell_type": "code",
   "execution_count": 132,
   "id": "e5652803-149c-4008-bfc7-bb2b1a595a99",
   "metadata": {
    "tags": []
   },
   "outputs": [
    {
     "data": {
      "text/html": [
       "<div>\n",
       "<style scoped>\n",
       "    .dataframe tbody tr th:only-of-type {\n",
       "        vertical-align: middle;\n",
       "    }\n",
       "\n",
       "    .dataframe tbody tr th {\n",
       "        vertical-align: top;\n",
       "    }\n",
       "\n",
       "    .dataframe thead th {\n",
       "        text-align: right;\n",
       "    }\n",
       "</style>\n",
       "<table border=\"1\" class=\"dataframe\">\n",
       "  <thead>\n",
       "    <tr style=\"text-align: right;\">\n",
       "      <th></th>\n",
       "      <th>id_combustible</th>\n",
       "      <th>nombre_combustible</th>\n",
       "    </tr>\n",
       "  </thead>\n",
       "  <tbody>\n",
       "    <tr>\n",
       "      <th>0</th>\n",
       "      <td>1</td>\n",
       "      <td>Diesel</td>\n",
       "    </tr>\n",
       "    <tr>\n",
       "      <th>1</th>\n",
       "      <td>2</td>\n",
       "      <td>Gasolina</td>\n",
       "    </tr>\n",
       "    <tr>\n",
       "      <th>2</th>\n",
       "      <td>3</td>\n",
       "      <td>Híbrido Enchufable</td>\n",
       "    </tr>\n",
       "    <tr>\n",
       "      <th>3</th>\n",
       "      <td>4</td>\n",
       "      <td>Eléctrico</td>\n",
       "    </tr>\n",
       "    <tr>\n",
       "      <th>4</th>\n",
       "      <td>5</td>\n",
       "      <td>Gasolina/gas</td>\n",
       "    </tr>\n",
       "    <tr>\n",
       "      <th>5</th>\n",
       "      <td>6</td>\n",
       "      <td>None</td>\n",
       "    </tr>\n",
       "    <tr>\n",
       "      <th>6</th>\n",
       "      <td>7</td>\n",
       "      <td>Gas</td>\n",
       "    </tr>\n",
       "  </tbody>\n",
       "</table>\n",
       "</div>"
      ],
      "text/plain": [
       "   id_combustible  nombre_combustible\n",
       "0               1              Diesel\n",
       "1               2            Gasolina\n",
       "2               3  Híbrido Enchufable\n",
       "3               4           Eléctrico\n",
       "4               5        Gasolina/gas\n",
       "5               6                None\n",
       "6               7                 Gas"
      ]
     },
     "execution_count": 132,
     "metadata": {},
     "output_type": "execute_result"
    }
   ],
   "source": [
    "df_combustibles"
   ]
  },
  {
   "cell_type": "code",
   "execution_count": 136,
   "id": "cb689281-4c97-4f02-ba4d-39391854ba3a",
   "metadata": {
    "tags": []
   },
   "outputs": [],
   "source": [
    "#Eliminar nans\n",
    "df_combustibles = df_combustibles.dropna(subset=['nombre_combustible'])"
   ]
  },
  {
   "cell_type": "code",
   "execution_count": 138,
   "id": "6244a6b3-98bf-4fbb-ae87-db3cc2240636",
   "metadata": {
    "tags": []
   },
   "outputs": [
    {
     "data": {
      "text/html": [
       "<div>\n",
       "<style scoped>\n",
       "    .dataframe tbody tr th:only-of-type {\n",
       "        vertical-align: middle;\n",
       "    }\n",
       "\n",
       "    .dataframe tbody tr th {\n",
       "        vertical-align: top;\n",
       "    }\n",
       "\n",
       "    .dataframe thead th {\n",
       "        text-align: right;\n",
       "    }\n",
       "</style>\n",
       "<table border=\"1\" class=\"dataframe\">\n",
       "  <thead>\n",
       "    <tr style=\"text-align: right;\">\n",
       "      <th></th>\n",
       "      <th>id_combustible</th>\n",
       "      <th>nombre_combustible</th>\n",
       "    </tr>\n",
       "  </thead>\n",
       "  <tbody>\n",
       "    <tr>\n",
       "      <th>0</th>\n",
       "      <td>1</td>\n",
       "      <td>Diesel</td>\n",
       "    </tr>\n",
       "    <tr>\n",
       "      <th>1</th>\n",
       "      <td>2</td>\n",
       "      <td>Gasolina</td>\n",
       "    </tr>\n",
       "    <tr>\n",
       "      <th>2</th>\n",
       "      <td>3</td>\n",
       "      <td>Híbrido Enchufable</td>\n",
       "    </tr>\n",
       "    <tr>\n",
       "      <th>3</th>\n",
       "      <td>4</td>\n",
       "      <td>Eléctrico</td>\n",
       "    </tr>\n",
       "    <tr>\n",
       "      <th>4</th>\n",
       "      <td>5</td>\n",
       "      <td>Gasolina/gas</td>\n",
       "    </tr>\n",
       "    <tr>\n",
       "      <th>6</th>\n",
       "      <td>7</td>\n",
       "      <td>Gas</td>\n",
       "    </tr>\n",
       "  </tbody>\n",
       "</table>\n",
       "</div>"
      ],
      "text/plain": [
       "   id_combustible  nombre_combustible\n",
       "0               1              Diesel\n",
       "1               2            Gasolina\n",
       "2               3  Híbrido Enchufable\n",
       "3               4           Eléctrico\n",
       "4               5        Gasolina/gas\n",
       "6               7                 Gas"
      ]
     },
     "execution_count": 138,
     "metadata": {},
     "output_type": "execute_result"
    }
   ],
   "source": [
    "df_combustibles"
   ]
  },
  {
   "cell_type": "code",
   "execution_count": null,
   "id": "2af8b72c-65ff-4543-bb2d-e4e68db10696",
   "metadata": {
    "tags": []
   },
   "outputs": [],
   "source": [
    "# Conectar a la base de datos usando los valores almacenados en `secrets.toml`\n",
    "def conectar_base_datos():\n",
    "    conn = mysql.connector.connect(\n",
    "        host=st.secrets[\"database\"][\"host\"],\n",
    "        user=st.secrets[\"database\"][\"user\"],\n",
    "        password=st.secrets[\"database\"][\"password\"],\n",
    "        database=st.secrets[\"database\"][\"database\"]\n",
    "    )\n",
    "    return conn"
   ]
  },
  {
   "cell_type": "code",
   "execution_count": 134,
   "id": "3d4dd19e-9ece-445c-9c37-9a5226ec0669",
   "metadata": {
    "tags": []
   },
   "outputs": [
    {
     "ename": "IntegrityError",
     "evalue": "1048 (23000): Column 'nombre_combustible' cannot be null",
     "output_type": "error",
     "traceback": [
      "\u001b[1;31m---------------------------------------------------------------------------\u001b[0m",
      "\u001b[1;31mMySQLInterfaceError\u001b[0m                       Traceback (most recent call last)",
      "File \u001b[1;32m~\\anaconda3\\Lib\\site-packages\\mysql\\connector\\connection_cext.py:705\u001b[0m, in \u001b[0;36mCMySQLConnection.cmd_query\u001b[1;34m(self, query, raw, buffered, raw_as_string)\u001b[0m\n\u001b[0;32m    704\u001b[0m         query \u001b[38;5;241m=\u001b[39m query\u001b[38;5;241m.\u001b[39mencode(\u001b[38;5;124m\"\u001b[39m\u001b[38;5;124mutf-8\u001b[39m\u001b[38;5;124m\"\u001b[39m)\n\u001b[1;32m--> 705\u001b[0m     \u001b[38;5;28mself\u001b[39m\u001b[38;5;241m.\u001b[39m_cmysql\u001b[38;5;241m.\u001b[39mquery(\n\u001b[0;32m    706\u001b[0m         query,\n\u001b[0;32m    707\u001b[0m         raw\u001b[38;5;241m=\u001b[39mraw,\n\u001b[0;32m    708\u001b[0m         buffered\u001b[38;5;241m=\u001b[39mbuffered,\n\u001b[0;32m    709\u001b[0m         raw_as_string\u001b[38;5;241m=\u001b[39mraw_as_string,\n\u001b[0;32m    710\u001b[0m         query_attrs\u001b[38;5;241m=\u001b[39m\u001b[38;5;28mself\u001b[39m\u001b[38;5;241m.\u001b[39mquery_attrs,\n\u001b[0;32m    711\u001b[0m     )\n\u001b[0;32m    712\u001b[0m \u001b[38;5;28;01mexcept\u001b[39;00m MySQLInterfaceError \u001b[38;5;28;01mas\u001b[39;00m err:\n",
      "\u001b[1;31mMySQLInterfaceError\u001b[0m: Column 'nombre_combustible' cannot be null",
      "\nThe above exception was the direct cause of the following exception:\n",
      "\u001b[1;31mIntegrityError\u001b[0m                            Traceback (most recent call last)",
      "Cell \u001b[1;32mIn[134], line 37\u001b[0m\n\u001b[0;32m     34\u001b[0m     \u001b[38;5;28mprint\u001b[39m(\u001b[38;5;124m\"\u001b[39m\u001b[38;5;124mDatos insertados correctamente\u001b[39m\u001b[38;5;124m\"\u001b[39m)\n\u001b[0;32m     36\u001b[0m \u001b[38;5;66;03m# Llamar a la funcion para insertar los datos en la tabla\u001b[39;00m\n\u001b[1;32m---> 37\u001b[0m insertar_datos(df_combustibles, \u001b[38;5;124m'\u001b[39m\u001b[38;5;124mcombustibles\u001b[39m\u001b[38;5;124m'\u001b[39m)\n",
      "Cell \u001b[1;32mIn[134], line 24\u001b[0m, in \u001b[0;36minsertar_datos\u001b[1;34m(df, nombre_tabla)\u001b[0m\n\u001b[0;32m     18\u001b[0m query \u001b[38;5;241m=\u001b[39m \u001b[38;5;124mf\u001b[39m\u001b[38;5;124m\"\"\"\u001b[39m\n\u001b[0;32m     19\u001b[0m \u001b[38;5;124m    INSERT INTO \u001b[39m\u001b[38;5;132;01m{\u001b[39;00mnombre_tabla\u001b[38;5;132;01m}\u001b[39;00m\u001b[38;5;124m (\u001b[39m\u001b[38;5;132;01m{\u001b[39;00m\u001b[38;5;124m'\u001b[39m\u001b[38;5;124m, \u001b[39m\u001b[38;5;124m'\u001b[39m\u001b[38;5;241m.\u001b[39mjoin(columnas)\u001b[38;5;132;01m}\u001b[39;00m\u001b[38;5;124m)\u001b[39m\n\u001b[0;32m     20\u001b[0m \u001b[38;5;124m    VALUES (\u001b[39m\u001b[38;5;132;01m{\u001b[39;00m\u001b[38;5;124m'\u001b[39m\u001b[38;5;124m, \u001b[39m\u001b[38;5;124m'\u001b[39m\u001b[38;5;241m.\u001b[39mjoin([\u001b[38;5;124m'\u001b[39m\u001b[38;5;132;01m%s\u001b[39;00m\u001b[38;5;124m'\u001b[39m]\u001b[38;5;250m \u001b[39m\u001b[38;5;241m*\u001b[39m\u001b[38;5;250m \u001b[39m\u001b[38;5;28mlen\u001b[39m(columnas))\u001b[38;5;132;01m}\u001b[39;00m\u001b[38;5;124m)\u001b[39m\n\u001b[0;32m     21\u001b[0m \u001b[38;5;124m\u001b[39m\u001b[38;5;124m\"\"\"\u001b[39m\n\u001b[0;32m     23\u001b[0m \u001b[38;5;66;03m# Ejecutar la consulta para todas las filas\u001b[39;00m\n\u001b[1;32m---> 24\u001b[0m cursor\u001b[38;5;241m.\u001b[39mexecutemany(query, valores)\n\u001b[0;32m     26\u001b[0m \u001b[38;5;66;03m# Confirmar los cambios en la base de datos\u001b[39;00m\n\u001b[0;32m     27\u001b[0m conn\u001b[38;5;241m.\u001b[39mcommit()\n",
      "File \u001b[1;32m~\\anaconda3\\Lib\\site-packages\\mysql\\connector\\cursor_cext.py:484\u001b[0m, in \u001b[0;36mCMySQLCursor.executemany\u001b[1;34m(self, operation, seq_params)\u001b[0m\n\u001b[0;32m    482\u001b[0m     \u001b[38;5;28;01mif\u001b[39;00m stmt \u001b[38;5;129;01mis\u001b[39;00m \u001b[38;5;129;01mnot\u001b[39;00m \u001b[38;5;28;01mNone\u001b[39;00m:\n\u001b[0;32m    483\u001b[0m         \u001b[38;5;28mself\u001b[39m\u001b[38;5;241m.\u001b[39m_executed \u001b[38;5;241m=\u001b[39m stmt\n\u001b[1;32m--> 484\u001b[0m         \u001b[38;5;28;01mreturn\u001b[39;00m \u001b[38;5;28mself\u001b[39m\u001b[38;5;241m.\u001b[39mexecute(stmt)\n\u001b[0;32m    486\u001b[0m rowcnt \u001b[38;5;241m=\u001b[39m \u001b[38;5;241m0\u001b[39m\n\u001b[0;32m    487\u001b[0m \u001b[38;5;28;01mtry\u001b[39;00m:\n\u001b[0;32m    488\u001b[0m     \u001b[38;5;66;03m# When processing read ops (e.g., SELECT), rowcnt is updated\u001b[39;00m\n\u001b[0;32m    489\u001b[0m     \u001b[38;5;66;03m# based on self._rowcount. For write ops (e.g., INSERT) is\u001b[39;00m\n\u001b[0;32m    490\u001b[0m     \u001b[38;5;66;03m# updated based on self._affected_rows.\u001b[39;00m\n\u001b[0;32m    491\u001b[0m     \u001b[38;5;66;03m# The variable self._description is None for write ops, that's\u001b[39;00m\n\u001b[0;32m    492\u001b[0m     \u001b[38;5;66;03m# why we use it as indicator for updating rowcnt.\u001b[39;00m\n",
      "File \u001b[1;32m~\\anaconda3\\Lib\\site-packages\\mysql\\connector\\cursor_cext.py:357\u001b[0m, in \u001b[0;36mCMySQLCursor.execute\u001b[1;34m(self, operation, params, multi)\u001b[0m\n\u001b[0;32m    352\u001b[0m             \u001b[38;5;28;01mraise\u001b[39;00m ProgrammingError(\n\u001b[0;32m    353\u001b[0m                 \u001b[38;5;124m\"\u001b[39m\u001b[38;5;124mNot all parameters were used in the SQL statement\u001b[39m\u001b[38;5;124m\"\u001b[39m\n\u001b[0;32m    354\u001b[0m             )\n\u001b[0;32m    356\u001b[0m \u001b[38;5;28;01mtry\u001b[39;00m:\n\u001b[1;32m--> 357\u001b[0m     result \u001b[38;5;241m=\u001b[39m \u001b[38;5;28mself\u001b[39m\u001b[38;5;241m.\u001b[39m_connection\u001b[38;5;241m.\u001b[39mcmd_query(\n\u001b[0;32m    358\u001b[0m         stmt,\n\u001b[0;32m    359\u001b[0m         raw\u001b[38;5;241m=\u001b[39m\u001b[38;5;28mself\u001b[39m\u001b[38;5;241m.\u001b[39m_raw,\n\u001b[0;32m    360\u001b[0m         buffered\u001b[38;5;241m=\u001b[39m\u001b[38;5;28mself\u001b[39m\u001b[38;5;241m.\u001b[39m_buffered,\n\u001b[0;32m    361\u001b[0m         raw_as_string\u001b[38;5;241m=\u001b[39m\u001b[38;5;28mself\u001b[39m\u001b[38;5;241m.\u001b[39m_raw_as_string,\n\u001b[0;32m    362\u001b[0m     )\n\u001b[0;32m    363\u001b[0m \u001b[38;5;28;01mexcept\u001b[39;00m MySQLInterfaceError \u001b[38;5;28;01mas\u001b[39;00m err:\n\u001b[0;32m    364\u001b[0m     \u001b[38;5;28;01mraise\u001b[39;00m get_mysql_exception(\n\u001b[0;32m    365\u001b[0m         msg\u001b[38;5;241m=\u001b[39merr\u001b[38;5;241m.\u001b[39mmsg, errno\u001b[38;5;241m=\u001b[39merr\u001b[38;5;241m.\u001b[39merrno, sqlstate\u001b[38;5;241m=\u001b[39merr\u001b[38;5;241m.\u001b[39msqlstate\n\u001b[0;32m    366\u001b[0m     ) \u001b[38;5;28;01mfrom\u001b[39;00m \u001b[38;5;21;01merr\u001b[39;00m\n",
      "File \u001b[1;32m~\\anaconda3\\Lib\\site-packages\\mysql\\connector\\opentelemetry\\context_propagation.py:97\u001b[0m, in \u001b[0;36mwith_context_propagation.<locals>.wrapper\u001b[1;34m(cnx, *args, **kwargs)\u001b[0m\n\u001b[0;32m     95\u001b[0m \u001b[38;5;66;03m# pylint: disable=possibly-used-before-assignment\u001b[39;00m\n\u001b[0;32m     96\u001b[0m \u001b[38;5;28;01mif\u001b[39;00m \u001b[38;5;129;01mnot\u001b[39;00m OTEL_ENABLED \u001b[38;5;129;01mor\u001b[39;00m \u001b[38;5;129;01mnot\u001b[39;00m cnx\u001b[38;5;241m.\u001b[39motel_context_propagation:\n\u001b[1;32m---> 97\u001b[0m     \u001b[38;5;28;01mreturn\u001b[39;00m method(cnx, \u001b[38;5;241m*\u001b[39margs, \u001b[38;5;241m*\u001b[39m\u001b[38;5;241m*\u001b[39mkwargs)\n\u001b[0;32m     99\u001b[0m current_span \u001b[38;5;241m=\u001b[39m trace\u001b[38;5;241m.\u001b[39mget_current_span()\n\u001b[0;32m    100\u001b[0m tp_header \u001b[38;5;241m=\u001b[39m \u001b[38;5;28;01mNone\u001b[39;00m\n",
      "File \u001b[1;32m~\\anaconda3\\Lib\\site-packages\\mysql\\connector\\connection_cext.py:713\u001b[0m, in \u001b[0;36mCMySQLConnection.cmd_query\u001b[1;34m(self, query, raw, buffered, raw_as_string)\u001b[0m\n\u001b[0;32m    705\u001b[0m     \u001b[38;5;28mself\u001b[39m\u001b[38;5;241m.\u001b[39m_cmysql\u001b[38;5;241m.\u001b[39mquery(\n\u001b[0;32m    706\u001b[0m         query,\n\u001b[0;32m    707\u001b[0m         raw\u001b[38;5;241m=\u001b[39mraw,\n\u001b[1;32m   (...)\u001b[0m\n\u001b[0;32m    710\u001b[0m         query_attrs\u001b[38;5;241m=\u001b[39m\u001b[38;5;28mself\u001b[39m\u001b[38;5;241m.\u001b[39mquery_attrs,\n\u001b[0;32m    711\u001b[0m     )\n\u001b[0;32m    712\u001b[0m \u001b[38;5;28;01mexcept\u001b[39;00m MySQLInterfaceError \u001b[38;5;28;01mas\u001b[39;00m err:\n\u001b[1;32m--> 713\u001b[0m     \u001b[38;5;28;01mraise\u001b[39;00m get_mysql_exception(\n\u001b[0;32m    714\u001b[0m         err\u001b[38;5;241m.\u001b[39merrno, msg\u001b[38;5;241m=\u001b[39merr\u001b[38;5;241m.\u001b[39mmsg, sqlstate\u001b[38;5;241m=\u001b[39merr\u001b[38;5;241m.\u001b[39msqlstate\n\u001b[0;32m    715\u001b[0m     ) \u001b[38;5;28;01mfrom\u001b[39;00m \u001b[38;5;21;01merr\u001b[39;00m\n\u001b[0;32m    716\u001b[0m \u001b[38;5;28;01mexcept\u001b[39;00m \u001b[38;5;167;01mAttributeError\u001b[39;00m \u001b[38;5;28;01mas\u001b[39;00m err:\n\u001b[0;32m    717\u001b[0m     addr \u001b[38;5;241m=\u001b[39m (\n\u001b[0;32m    718\u001b[0m         \u001b[38;5;28mself\u001b[39m\u001b[38;5;241m.\u001b[39m_unix_socket \u001b[38;5;28;01mif\u001b[39;00m \u001b[38;5;28mself\u001b[39m\u001b[38;5;241m.\u001b[39m_unix_socket \u001b[38;5;28;01melse\u001b[39;00m \u001b[38;5;124mf\u001b[39m\u001b[38;5;124m\"\u001b[39m\u001b[38;5;132;01m{\u001b[39;00m\u001b[38;5;28mself\u001b[39m\u001b[38;5;241m.\u001b[39m_host\u001b[38;5;132;01m}\u001b[39;00m\u001b[38;5;124m:\u001b[39m\u001b[38;5;132;01m{\u001b[39;00m\u001b[38;5;28mself\u001b[39m\u001b[38;5;241m.\u001b[39m_port\u001b[38;5;132;01m}\u001b[39;00m\u001b[38;5;124m\"\u001b[39m\n\u001b[0;32m    719\u001b[0m     )\n",
      "\u001b[1;31mIntegrityError\u001b[0m: 1048 (23000): Column 'nombre_combustible' cannot be null"
     ]
    }
   ],
   "source": [
    "# Funcion para insertar coches en la base de datos\n",
    "def insertar_datos(df, nombre_tabla):\n",
    "    # Conexión a la base df_cochedatos de MySQL\n",
    "    conn = mysql.connector.connect(\n",
    "        host = \"localhost\",\n",
    "        user = \"root\",\n",
    "        password = \"Whereisbotus1996\",\n",
    "        database = \"coches_segunda_mano\"\n",
    "    )\n",
    "    # Crear un cursor para ejecutar comandos SQL\n",
    "    cursor = conn.cursor()\n",
    "    # Obtener las columnas del DataFrame\n",
    "    columnas = df.columns.tolist()\n",
    "    # Convertir cada fila del DataFrame a una tupla\n",
    "    valores = [tuple(row) for row in df.to_numpy()]\n",
    "\n",
    "    # Crear la consulta SQL para insertar datos\n",
    "    query = f\"\"\"\n",
    "        INSERT INTO {nombre_tabla} ({', '.join(columnas)})\n",
    "        VALUES ({', '.join(['%s'] * len(columnas))})\n",
    "    \"\"\"\n",
    "\n",
    "    # Ejecutar la consulta para todas las filas\n",
    "    cursor.executemany(query, valores)\n",
    "\n",
    "    # Confirmar los cambios en la base de datos\n",
    "    conn.commit()\n",
    "\n",
    "    # Cerrar el cursor y la conexion\n",
    "    cursor.close()\n",
    "    conn.close()\n",
    "\n",
    "    # Mensaje de exito\n",
    "    print(\"Datos insertados correctamente\")\n",
    "\n",
    "# Llamar a la funcion para insertar los datos en la tabla\n",
    "insertar_datos(df_combustibles, 'combustibles')"
   ]
  },
  {
   "cell_type": "code",
   "execution_count": null,
   "id": "0aabe133-a705-4fc2-a122-a163202dfefb",
   "metadata": {},
   "outputs": [],
   "source": [
    "# Funcion para extraer datos\n",
    "def extraer_datos(nombre_tabla):\n",
    "    # Conexión a la base de datos de MySQL\n",
    "    conn = mysql.connector.connect(\n",
    "        host = \"localhost\",\n",
    "        user = \"root\",\n",
    "        password = \"Whereisbotus1996\",\n",
    "        database = \"coches_segunda_mano\"\n",
    "    )\n",
    "    # Crear un cursor para ejecutar comandos SQL\n",
    "    cursor = conn.cursor()\n",
    "\n",
    "    # Crear la consulta SQL para seleccionar todos los datos de la tabla\n",
    "    query = f\"SELECT * FROM {nombre_tabla}\"\n",
    "\n",
    "    # Ejecutar la consulta y recuperar los datos\n",
    "    cursor.execute(query)\n",
    "    resultado = cursor.fetchall()\n",
    "\n",
    "    # Obtener los nombres de las columnas de la tabla\n",
    "    columnas = [desc[0] for desc in cursor.description]\n",
    "\n",
    "    # Convertir los resultados a un DataFrame\n",
    "    df = pd.DataFrame(resultado, columns=columnas)\n",
    "\n",
    "    # Cerrar el cursor y la conexión\n",
    "    cursor.close()\n",
    "    conn.close()\n",
    "\n",
    "    # Devolver el DataFrame\n",
    "    return df\n",
    "\n",
    "# Llamar a la función para extraer datos de la tabla\n",
    "df_extraido = extraer_datos('tipo_traccion')\n",
    "print(df_extraido)"
   ]
  },
  {
   "cell_type": "code",
   "execution_count": null,
   "id": "7b6213ac-ab27-4abf-8ce1-7a7fbfbbfc49",
   "metadata": {},
   "outputs": [],
   "source": []
  }
 ],
 "metadata": {
  "kernelspec": {
   "display_name": "Python 3 (ipykernel)",
   "language": "python",
   "name": "python3"
  },
  "language_info": {
   "codemirror_mode": {
    "name": "ipython",
    "version": 3
   },
   "file_extension": ".py",
   "mimetype": "text/x-python",
   "name": "python",
   "nbconvert_exporter": "python",
   "pygments_lexer": "ipython3",
   "version": "3.11.7"
  }
 },
 "nbformat": 4,
 "nbformat_minor": 5
}
