{
 "cells": [
  {
   "cell_type": "code",
   "execution_count": null,
   "id": "5f8ced48-e284-43be-a6d6-604927d1f7a6",
   "metadata": {
    "tags": []
   },
   "outputs": [],
   "source": [
    "pip install mysql-connector-python"
   ]
  },
  {
   "cell_type": "code",
   "execution_count": null,
   "id": "14fe3573-ae56-4535-b534-241ef141e8ee",
   "metadata": {
    "tags": []
   },
   "outputs": [],
   "source": [
    "import pandas as pd\n",
    "import numpy as np\n",
    "import importlib.metadata\n",
    "import mysql.connector\n",
    "import streamlit as st\n",
    "import os\n",
    "\n",
    "from datetime import datetime"
   ]
  },
  {
   "cell_type": "code",
   "execution_count": null,
   "id": "d58f7cce-525c-4fda-b9ec-a4f57440b642",
   "metadata": {
    "tags": []
   },
   "outputs": [],
   "source": [
    "# Cargar csv\n",
    "df_combustibles = pd.read_csv(\"../bin/listado_combustibles.csv\")\n",
    "df_concesionarios = pd.read_csv(\"../bin/listado_concesionarios.csv\")\n",
    "df_distintivo_ambiental = pd.read_csv(\"../bin/listado_distintivo_ambiental.csv\")\n",
    "df_marcas = pd.read_csv(\"../bin/listado_marcas.csv\")\n",
    "df_modelos = pd.read_csv(\"../bin/listado_modelos.csv\")\n",
    "df_provincias = pd.read_csv(\"../bin/listado_provincias.csv\")\n",
    "df_sobrealimentacion = pd.read_csv(\"../bin/listado_sobrealimentacion.csv\")\n",
    "df_traccion = pd.read_csv(\"../bin/listado_traccion.csv\")\n",
    "df_cambio = pd.read_csv(\"../bin/listado_tipos_cambio.csv\")\n",
    "df_prestaciones = pd.read_csv(\"../bin/prestaciones.csv\")\n",
    "df_cambio"
   ]
  },
  {
   "cell_type": "code",
   "execution_count": 41,
   "id": "01d351e2-4b61-4f98-91d3-3c4ec153a048",
   "metadata": {
    "tags": []
   },
   "outputs": [
    {
     "data": {
      "text/plain": [
       "id_provincia                   7\n",
       "kilometraje                   63\n",
       "id_concesionario               0\n",
       "id_distintivo_ambiental      827\n",
       "garantia                     702\n",
       "precio_contado              2133\n",
       "precio_nuevo                9740\n",
       "largo                      10065\n",
       "ancho                      10050\n",
       "alto                       10073\n",
       "capacidad_maletero         10219\n",
       "num_plazas                 10046\n",
       "batalla                    10064\n",
       "peso                        8241\n",
       "num_puertas                  337\n",
       "consumo_medio              16674\n",
       "consumo_carretera          18367\n",
       "consumo_urbano             18364\n",
       "deposito                   12104\n",
       "cilindrada                 11658\n",
       "id_traccion                10046\n",
       "num_marchas                 8939\n",
       "potencia_kw                10017\n",
       "potencia_cv                  332\n",
       "par                        10195\n",
       "velocidad_max              10273\n",
       "aceleracion                10218\n",
       "mes_matriculacion              0\n",
       "ano_matriculacion              0\n",
       "co2                        19638\n",
       "num_cilindros              12001\n",
       "id_sobrealimentacion       14650\n",
       "id_marca                      39\n",
       "id_modelo                     76\n",
       "id_combustible               343\n",
       "id_tipo_cambio                 0\n",
       "dtype: int64"
      ]
     },
     "execution_count": 41,
     "metadata": {},
     "output_type": "execute_result"
    }
   ],
   "source": [
    "#Comprobar si hay nans\n",
    "df_prestaciones.isna().sum()"
   ]
  },
  {
   "cell_type": "code",
   "execution_count": null,
   "id": "b1f91560-2469-4753-89c5-dd96291069a0",
   "metadata": {
    "tags": []
   },
   "outputs": [],
   "source": [
    "#Convertir a nan a none\n",
    "for columna in df_combustibles.columns:\n",
    "    df_combustibles[columna] = df_combustibles[columna].replace([np.nan, pd.NA], None)"
   ]
  },
  {
   "cell_type": "code",
   "execution_count": null,
   "id": "e5652803-149c-4008-bfc7-bb2b1a595a99",
   "metadata": {
    "tags": []
   },
   "outputs": [],
   "source": [
    "df_combustibles"
   ]
  },
  {
   "cell_type": "code",
   "execution_count": null,
   "id": "cb689281-4c97-4f02-ba4d-39391854ba3a",
   "metadata": {
    "tags": []
   },
   "outputs": [],
   "source": [
    "#Eliminar nans\n",
    "df_combustibles = df_combustibles.dropna(subset=['nombre_combustible'])"
   ]
  },
  {
   "cell_type": "code",
   "execution_count": null,
   "id": "6244a6b3-98bf-4fbb-ae87-db3cc2240636",
   "metadata": {
    "tags": []
   },
   "outputs": [],
   "source": [
    "df_combustibles"
   ]
  },
  {
   "cell_type": "code",
   "execution_count": null,
   "id": "2af8b72c-65ff-4543-bb2d-e4e68db10696",
   "metadata": {
    "tags": []
   },
   "outputs": [],
   "source": [
    "# Conectar a la base de datos usando los valores almacenados en `secrets.toml`\n",
    "def conectar_base_datos():\n",
    "    conn = mysql.connector.connect(\n",
    "        host=st.secrets[\"database\"][\"host\"],\n",
    "        user=st.secrets[\"database\"][\"user\"],\n",
    "        password=st.secrets[\"database\"][\"password\"],\n",
    "        database=st.secrets[\"database\"][\"database\"]\n",
    "    )\n",
    "    return conn"
   ]
  },
  {
   "cell_type": "code",
   "execution_count": null,
   "id": "3d4dd19e-9ece-445c-9c37-9a5226ec0669",
   "metadata": {
    "tags": []
   },
   "outputs": [],
   "source": [
    "# Funcion para insertar coches en la base de datos\n",
    "def insertar_datos(df, nombre_tabla):\n",
    "    # Conexión a la base df_cochedatos de MySQL\n",
    "    conn = mysql.connector.connect(\n",
    "        host = \"localhost\",\n",
    "        user = \"root\",\n",
    "        password = \"Whereisbotus1996\",\n",
    "        database = \"coches_segunda_mano\"\n",
    "    )\n",
    "    # Crear un cursor para ejecutar comandos SQL\n",
    "    cursor = conn.cursor()\n",
    "    # Obtener las columnas del DataFrame\n",
    "    columnas = df.columns.tolist()\n",
    "    # Convertir cada fila del DataFrame a una tupla\n",
    "    valores = [tuple(row) for row in df.to_numpy()]\n",
    "\n",
    "    # Crear la consulta SQL para insertar datos\n",
    "    query = f\"\"\"\n",
    "        INSERT INTO {nombre_tabla} ({', '.join(columnas)})\n",
    "        VALUES ({', '.join(['%s'] * len(columnas))})\n",
    "    \"\"\"\n",
    "\n",
    "    # Ejecutar la consulta para todas las filas\n",
    "    cursor.executemany(query, valores)\n",
    "\n",
    "    # Confirmar los cambios en la base de datos\n",
    "    conn.commit()\n",
    "\n",
    "    # Cerrar el cursor y la conexion\n",
    "    cursor.close()\n",
    "    conn.close()\n",
    "\n",
    "    # Mensaje de exito\n",
    "    print(\"Datos insertados correctamente\")\n",
    "\n",
    "# Llamar a la funcion para insertar los datos en la tabla\n",
    "insertar_datos(df_prestaciones, 'prestaciones')"
   ]
  },
  {
   "cell_type": "code",
   "execution_count": 39,
   "id": "0aabe133-a705-4fc2-a122-a163202dfefb",
   "metadata": {},
   "outputs": [
    {
     "ename": "OSError",
     "evalue": "Cannot save file into a non-existent directory: 'Coches-segunda-mano\\bin'",
     "output_type": "error",
     "traceback": [
      "\u001b[1;31m---------------------------------------------------------------------------\u001b[0m",
      "\u001b[1;31mOSError\u001b[0m                                   Traceback (most recent call last)",
      "Cell \u001b[1;32mIn[39], line 43\u001b[0m\n\u001b[0;32m     40\u001b[0m     \u001b[38;5;28;01mreturn\u001b[39;00m df\n\u001b[0;32m     42\u001b[0m \u001b[38;5;66;03m# Llamar a la función para extraer datos de la tabla\u001b[39;00m\n\u001b[1;32m---> 43\u001b[0m df_extraido \u001b[38;5;241m=\u001b[39m extraer_datos(\u001b[38;5;124m'\u001b[39m\u001b[38;5;124mtipo_traccion\u001b[39m\u001b[38;5;124m'\u001b[39m, \u001b[38;5;124m'\u001b[39m\u001b[38;5;124mlistado_traccion_extraido.csv\u001b[39m\u001b[38;5;124m'\u001b[39m, \u001b[38;5;124m'\u001b[39m\u001b[38;5;124mCoches-segunda-mano/bin\u001b[39m\u001b[38;5;124m'\u001b[39m)\n\u001b[0;32m     44\u001b[0m \u001b[38;5;28mprint\u001b[39m(df_extraido)\n",
      "Cell \u001b[1;32mIn[39], line 32\u001b[0m, in \u001b[0;36mextraer_datos\u001b[1;34m(nombre_tabla, nombre_csv, carpeta_destino)\u001b[0m\n\u001b[0;32m     28\u001b[0m df \u001b[38;5;241m=\u001b[39m pd\u001b[38;5;241m.\u001b[39mDataFrame(resultado, columns\u001b[38;5;241m=\u001b[39mcolumnas)\n\u001b[0;32m     30\u001b[0m \u001b[38;5;66;03m#Guardar el df en un csv\u001b[39;00m\n\u001b[1;32m---> 32\u001b[0m df\u001b[38;5;241m.\u001b[39mto_csv(ruta_csv, index \u001b[38;5;241m=\u001b[39m \u001b[38;5;28;01mFalse\u001b[39;00m)\n\u001b[0;32m     34\u001b[0m \u001b[38;5;66;03m# Cerrar el cursor y la conexión\u001b[39;00m\n\u001b[0;32m     35\u001b[0m cursor\u001b[38;5;241m.\u001b[39mclose()\n",
      "File \u001b[1;32m~\\anaconda3\\Lib\\site-packages\\pandas\\util\\_decorators.py:333\u001b[0m, in \u001b[0;36mdeprecate_nonkeyword_arguments.<locals>.decorate.<locals>.wrapper\u001b[1;34m(*args, **kwargs)\u001b[0m\n\u001b[0;32m    327\u001b[0m \u001b[38;5;28;01mif\u001b[39;00m \u001b[38;5;28mlen\u001b[39m(args) \u001b[38;5;241m>\u001b[39m num_allow_args:\n\u001b[0;32m    328\u001b[0m     warnings\u001b[38;5;241m.\u001b[39mwarn(\n\u001b[0;32m    329\u001b[0m         msg\u001b[38;5;241m.\u001b[39mformat(arguments\u001b[38;5;241m=\u001b[39m_format_argument_list(allow_args)),\n\u001b[0;32m    330\u001b[0m         \u001b[38;5;167;01mFutureWarning\u001b[39;00m,\n\u001b[0;32m    331\u001b[0m         stacklevel\u001b[38;5;241m=\u001b[39mfind_stack_level(),\n\u001b[0;32m    332\u001b[0m     )\n\u001b[1;32m--> 333\u001b[0m \u001b[38;5;28;01mreturn\u001b[39;00m func(\u001b[38;5;241m*\u001b[39margs, \u001b[38;5;241m*\u001b[39m\u001b[38;5;241m*\u001b[39mkwargs)\n",
      "File \u001b[1;32m~\\anaconda3\\Lib\\site-packages\\pandas\\core\\generic.py:3967\u001b[0m, in \u001b[0;36mNDFrame.to_csv\u001b[1;34m(self, path_or_buf, sep, na_rep, float_format, columns, header, index, index_label, mode, encoding, compression, quoting, quotechar, lineterminator, chunksize, date_format, doublequote, escapechar, decimal, errors, storage_options)\u001b[0m\n\u001b[0;32m   3956\u001b[0m df \u001b[38;5;241m=\u001b[39m \u001b[38;5;28mself\u001b[39m \u001b[38;5;28;01mif\u001b[39;00m \u001b[38;5;28misinstance\u001b[39m(\u001b[38;5;28mself\u001b[39m, ABCDataFrame) \u001b[38;5;28;01melse\u001b[39;00m \u001b[38;5;28mself\u001b[39m\u001b[38;5;241m.\u001b[39mto_frame()\n\u001b[0;32m   3958\u001b[0m formatter \u001b[38;5;241m=\u001b[39m DataFrameFormatter(\n\u001b[0;32m   3959\u001b[0m     frame\u001b[38;5;241m=\u001b[39mdf,\n\u001b[0;32m   3960\u001b[0m     header\u001b[38;5;241m=\u001b[39mheader,\n\u001b[1;32m   (...)\u001b[0m\n\u001b[0;32m   3964\u001b[0m     decimal\u001b[38;5;241m=\u001b[39mdecimal,\n\u001b[0;32m   3965\u001b[0m )\n\u001b[1;32m-> 3967\u001b[0m \u001b[38;5;28;01mreturn\u001b[39;00m DataFrameRenderer(formatter)\u001b[38;5;241m.\u001b[39mto_csv(\n\u001b[0;32m   3968\u001b[0m     path_or_buf,\n\u001b[0;32m   3969\u001b[0m     lineterminator\u001b[38;5;241m=\u001b[39mlineterminator,\n\u001b[0;32m   3970\u001b[0m     sep\u001b[38;5;241m=\u001b[39msep,\n\u001b[0;32m   3971\u001b[0m     encoding\u001b[38;5;241m=\u001b[39mencoding,\n\u001b[0;32m   3972\u001b[0m     errors\u001b[38;5;241m=\u001b[39merrors,\n\u001b[0;32m   3973\u001b[0m     compression\u001b[38;5;241m=\u001b[39mcompression,\n\u001b[0;32m   3974\u001b[0m     quoting\u001b[38;5;241m=\u001b[39mquoting,\n\u001b[0;32m   3975\u001b[0m     columns\u001b[38;5;241m=\u001b[39mcolumns,\n\u001b[0;32m   3976\u001b[0m     index_label\u001b[38;5;241m=\u001b[39mindex_label,\n\u001b[0;32m   3977\u001b[0m     mode\u001b[38;5;241m=\u001b[39mmode,\n\u001b[0;32m   3978\u001b[0m     chunksize\u001b[38;5;241m=\u001b[39mchunksize,\n\u001b[0;32m   3979\u001b[0m     quotechar\u001b[38;5;241m=\u001b[39mquotechar,\n\u001b[0;32m   3980\u001b[0m     date_format\u001b[38;5;241m=\u001b[39mdate_format,\n\u001b[0;32m   3981\u001b[0m     doublequote\u001b[38;5;241m=\u001b[39mdoublequote,\n\u001b[0;32m   3982\u001b[0m     escapechar\u001b[38;5;241m=\u001b[39mescapechar,\n\u001b[0;32m   3983\u001b[0m     storage_options\u001b[38;5;241m=\u001b[39mstorage_options,\n\u001b[0;32m   3984\u001b[0m )\n",
      "File \u001b[1;32m~\\anaconda3\\Lib\\site-packages\\pandas\\io\\formats\\format.py:1014\u001b[0m, in \u001b[0;36mDataFrameRenderer.to_csv\u001b[1;34m(self, path_or_buf, encoding, sep, columns, index_label, mode, compression, quoting, quotechar, lineterminator, chunksize, date_format, doublequote, escapechar, errors, storage_options)\u001b[0m\n\u001b[0;32m    993\u001b[0m     created_buffer \u001b[38;5;241m=\u001b[39m \u001b[38;5;28;01mFalse\u001b[39;00m\n\u001b[0;32m    995\u001b[0m csv_formatter \u001b[38;5;241m=\u001b[39m CSVFormatter(\n\u001b[0;32m    996\u001b[0m     path_or_buf\u001b[38;5;241m=\u001b[39mpath_or_buf,\n\u001b[0;32m    997\u001b[0m     lineterminator\u001b[38;5;241m=\u001b[39mlineterminator,\n\u001b[1;32m   (...)\u001b[0m\n\u001b[0;32m   1012\u001b[0m     formatter\u001b[38;5;241m=\u001b[39m\u001b[38;5;28mself\u001b[39m\u001b[38;5;241m.\u001b[39mfmt,\n\u001b[0;32m   1013\u001b[0m )\n\u001b[1;32m-> 1014\u001b[0m csv_formatter\u001b[38;5;241m.\u001b[39msave()\n\u001b[0;32m   1016\u001b[0m \u001b[38;5;28;01mif\u001b[39;00m created_buffer:\n\u001b[0;32m   1017\u001b[0m     \u001b[38;5;28;01massert\u001b[39;00m \u001b[38;5;28misinstance\u001b[39m(path_or_buf, StringIO)\n",
      "File \u001b[1;32m~\\anaconda3\\Lib\\site-packages\\pandas\\io\\formats\\csvs.py:251\u001b[0m, in \u001b[0;36mCSVFormatter.save\u001b[1;34m(self)\u001b[0m\n\u001b[0;32m    247\u001b[0m \u001b[38;5;250m\u001b[39m\u001b[38;5;124;03m\"\"\"\u001b[39;00m\n\u001b[0;32m    248\u001b[0m \u001b[38;5;124;03mCreate the writer & save.\u001b[39;00m\n\u001b[0;32m    249\u001b[0m \u001b[38;5;124;03m\"\"\"\u001b[39;00m\n\u001b[0;32m    250\u001b[0m \u001b[38;5;66;03m# apply compression and byte/text conversion\u001b[39;00m\n\u001b[1;32m--> 251\u001b[0m \u001b[38;5;28;01mwith\u001b[39;00m get_handle(\n\u001b[0;32m    252\u001b[0m     \u001b[38;5;28mself\u001b[39m\u001b[38;5;241m.\u001b[39mfilepath_or_buffer,\n\u001b[0;32m    253\u001b[0m     \u001b[38;5;28mself\u001b[39m\u001b[38;5;241m.\u001b[39mmode,\n\u001b[0;32m    254\u001b[0m     encoding\u001b[38;5;241m=\u001b[39m\u001b[38;5;28mself\u001b[39m\u001b[38;5;241m.\u001b[39mencoding,\n\u001b[0;32m    255\u001b[0m     errors\u001b[38;5;241m=\u001b[39m\u001b[38;5;28mself\u001b[39m\u001b[38;5;241m.\u001b[39merrors,\n\u001b[0;32m    256\u001b[0m     compression\u001b[38;5;241m=\u001b[39m\u001b[38;5;28mself\u001b[39m\u001b[38;5;241m.\u001b[39mcompression,\n\u001b[0;32m    257\u001b[0m     storage_options\u001b[38;5;241m=\u001b[39m\u001b[38;5;28mself\u001b[39m\u001b[38;5;241m.\u001b[39mstorage_options,\n\u001b[0;32m    258\u001b[0m ) \u001b[38;5;28;01mas\u001b[39;00m handles:\n\u001b[0;32m    259\u001b[0m     \u001b[38;5;66;03m# Note: self.encoding is irrelevant here\u001b[39;00m\n\u001b[0;32m    260\u001b[0m     \u001b[38;5;28mself\u001b[39m\u001b[38;5;241m.\u001b[39mwriter \u001b[38;5;241m=\u001b[39m csvlib\u001b[38;5;241m.\u001b[39mwriter(\n\u001b[0;32m    261\u001b[0m         handles\u001b[38;5;241m.\u001b[39mhandle,\n\u001b[0;32m    262\u001b[0m         lineterminator\u001b[38;5;241m=\u001b[39m\u001b[38;5;28mself\u001b[39m\u001b[38;5;241m.\u001b[39mlineterminator,\n\u001b[1;32m   (...)\u001b[0m\n\u001b[0;32m    267\u001b[0m         quotechar\u001b[38;5;241m=\u001b[39m\u001b[38;5;28mself\u001b[39m\u001b[38;5;241m.\u001b[39mquotechar,\n\u001b[0;32m    268\u001b[0m     )\n\u001b[0;32m    270\u001b[0m     \u001b[38;5;28mself\u001b[39m\u001b[38;5;241m.\u001b[39m_save()\n",
      "File \u001b[1;32m~\\anaconda3\\Lib\\site-packages\\pandas\\io\\common.py:749\u001b[0m, in \u001b[0;36mget_handle\u001b[1;34m(path_or_buf, mode, encoding, compression, memory_map, is_text, errors, storage_options)\u001b[0m\n\u001b[0;32m    747\u001b[0m \u001b[38;5;66;03m# Only for write methods\u001b[39;00m\n\u001b[0;32m    748\u001b[0m \u001b[38;5;28;01mif\u001b[39;00m \u001b[38;5;124m\"\u001b[39m\u001b[38;5;124mr\u001b[39m\u001b[38;5;124m\"\u001b[39m \u001b[38;5;129;01mnot\u001b[39;00m \u001b[38;5;129;01min\u001b[39;00m mode \u001b[38;5;129;01mand\u001b[39;00m is_path:\n\u001b[1;32m--> 749\u001b[0m     check_parent_directory(\u001b[38;5;28mstr\u001b[39m(handle))\n\u001b[0;32m    751\u001b[0m \u001b[38;5;28;01mif\u001b[39;00m compression:\n\u001b[0;32m    752\u001b[0m     \u001b[38;5;28;01mif\u001b[39;00m compression \u001b[38;5;241m!=\u001b[39m \u001b[38;5;124m\"\u001b[39m\u001b[38;5;124mzstd\u001b[39m\u001b[38;5;124m\"\u001b[39m:\n\u001b[0;32m    753\u001b[0m         \u001b[38;5;66;03m# compression libraries do not like an explicit text-mode\u001b[39;00m\n",
      "File \u001b[1;32m~\\anaconda3\\Lib\\site-packages\\pandas\\io\\common.py:616\u001b[0m, in \u001b[0;36mcheck_parent_directory\u001b[1;34m(path)\u001b[0m\n\u001b[0;32m    614\u001b[0m parent \u001b[38;5;241m=\u001b[39m Path(path)\u001b[38;5;241m.\u001b[39mparent\n\u001b[0;32m    615\u001b[0m \u001b[38;5;28;01mif\u001b[39;00m \u001b[38;5;129;01mnot\u001b[39;00m parent\u001b[38;5;241m.\u001b[39mis_dir():\n\u001b[1;32m--> 616\u001b[0m     \u001b[38;5;28;01mraise\u001b[39;00m \u001b[38;5;167;01mOSError\u001b[39;00m(\u001b[38;5;124mrf\u001b[39m\u001b[38;5;124m\"\u001b[39m\u001b[38;5;124mCannot save file into a non-existent directory: \u001b[39m\u001b[38;5;124m'\u001b[39m\u001b[38;5;132;01m{\u001b[39;00mparent\u001b[38;5;132;01m}\u001b[39;00m\u001b[38;5;124m'\u001b[39m\u001b[38;5;124m\"\u001b[39m)\n",
      "\u001b[1;31mOSError\u001b[0m: Cannot save file into a non-existent directory: 'Coches-segunda-mano\\bin'"
     ]
    }
   ],
   "source": [
    "# Funcion para extraer datos\n",
    "def extraer_datos(nombre_tabla, nombre_csv, carpeta_destino):\n",
    "   \n",
    "    # Definir la ruta completa para guardar el archivo\n",
    "    ruta_csv = os.path.join(carpeta_destino, nombre_csv)\n",
    "    \n",
    "    # Conexión a la base de datos de MySQL\n",
    "    conn = mysql.connector.connect(\n",
    "        host = \"localhost\",\n",
    "        user = \"root\",\n",
    "        password = \"Whereisbotus1996\",\n",
    "        database = \"coches_segunda_mano\"\n",
    "    )\n",
    "    # Crear un cursor para ejecutar comandos SQL\n",
    "    cursor = conn.cursor()\n",
    "\n",
    "    # Crear la consulta SQL para seleccionar todos los datos de la tabla\n",
    "    query = f\"SELECT * FROM {nombre_tabla}\"\n",
    "\n",
    "    # Ejecutar la consulta y recuperar los datos\n",
    "    cursor.execute(query)\n",
    "    resultado = cursor.fetchall()\n",
    "\n",
    "    # Obtener los nombres de las columnas de la tabla\n",
    "    columnas = [desc[0] for desc in cursor.description]\n",
    "\n",
    "    # Convertir los resultados a un DataFrame\n",
    "    df = pd.DataFrame(resultado, columns=columnas)\n",
    "    \n",
    "    #Guardar el df en un csv\n",
    "    \n",
    "    df.to_csv(ruta_csv, index = False)\n",
    "\n",
    "    # Cerrar el cursor y la conexión\n",
    "    cursor.close()\n",
    "    conn.close()\n",
    "\n",
    "    # Devolver el DataFrame\n",
    "    print(f\"Datos extraidos y guardados en {nombre_csv}\")\n",
    "    return df\n",
    "\n",
    "# Llamar a la función para extraer datos de la tabla\n",
    "df_extraido = extraer_datos('tipo_traccion', 'listado_traccion_extraido.csv', '')\n",
    "print(df_extraido)"
   ]
  },
  {
   "cell_type": "code",
   "execution_count": null,
   "id": "7b6213ac-ab27-4abf-8ce1-7a7fbfbbfc49",
   "metadata": {},
   "outputs": [],
   "source": []
  }
 ],
 "metadata": {
  "kernelspec": {
   "display_name": "Python 3 (ipykernel)",
   "language": "python",
   "name": "python3"
  },
  "language_info": {
   "codemirror_mode": {
    "name": "ipython",
    "version": 3
   },
   "file_extension": ".py",
   "mimetype": "text/x-python",
   "name": "python",
   "nbconvert_exporter": "python",
   "pygments_lexer": "ipython3",
   "version": "3.11.7"
  }
 },
 "nbformat": 4,
 "nbformat_minor": 5
}
