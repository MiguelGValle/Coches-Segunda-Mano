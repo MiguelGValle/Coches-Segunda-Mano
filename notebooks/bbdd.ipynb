{
 "cells": [
  {
   "cell_type": "code",
   "execution_count": null,
   "id": "5f8ced48-e284-43be-a6d6-604927d1f7a6",
   "metadata": {
    "tags": []
   },
   "outputs": [],
   "source": [
    "pip install mysql-connector-python"
   ]
  },
  {
   "cell_type": "code",
   "execution_count": 4,
   "id": "14fe3573-ae56-4535-b534-241ef141e8ee",
   "metadata": {
    "tags": []
   },
   "outputs": [],
   "source": [
    "import pandas as pd\n",
    "import numpy as np\n",
    "import importlib.metadata\n",
    "import mysql.connector\n",
    "import streamlit as st\n",
    "\n",
    "from datetime import datetime"
   ]
  },
  {
   "cell_type": "code",
   "execution_count": 6,
   "id": "d58f7cce-525c-4fda-b9ec-a4f57440b642",
   "metadata": {
    "tags": []
   },
   "outputs": [
    {
     "data": {
      "text/html": [
       "<div>\n",
       "<style scoped>\n",
       "    .dataframe tbody tr th:only-of-type {\n",
       "        vertical-align: middle;\n",
       "    }\n",
       "\n",
       "    .dataframe tbody tr th {\n",
       "        vertical-align: top;\n",
       "    }\n",
       "\n",
       "    .dataframe thead th {\n",
       "        text-align: right;\n",
       "    }\n",
       "</style>\n",
       "<table border=\"1\" class=\"dataframe\">\n",
       "  <thead>\n",
       "    <tr style=\"text-align: right;\">\n",
       "      <th></th>\n",
       "      <th>id_marca</th>\n",
       "      <th>nombre_marca</th>\n",
       "    </tr>\n",
       "  </thead>\n",
       "  <tbody>\n",
       "    <tr>\n",
       "      <th>0</th>\n",
       "      <td>1</td>\n",
       "      <td>Toyota</td>\n",
       "    </tr>\n",
       "    <tr>\n",
       "      <th>1</th>\n",
       "      <td>2</td>\n",
       "      <td>Honda</td>\n",
       "    </tr>\n",
       "    <tr>\n",
       "      <th>2</th>\n",
       "      <td>3</td>\n",
       "      <td>Ford</td>\n",
       "    </tr>\n",
       "  </tbody>\n",
       "</table>\n",
       "</div>"
      ],
      "text/plain": [
       "   id_marca nombre_marca\n",
       "0         1       Toyota\n",
       "1         2        Honda\n",
       "2         3         Ford"
      ]
     },
     "execution_count": 6,
     "metadata": {},
     "output_type": "execute_result"
    }
   ],
   "source": [
    "# cargar el csv de prueba\n",
    "df_coches = pd.read_csv(\"../bin/coche_prueba.csv\")\n",
    "df_prueba = pd.read_csv(\"../bin/prueba.csv\")\n",
    "df_prueba"
   ]
  },
  {
   "cell_type": "code",
   "execution_count": 8,
   "id": "2af8b72c-65ff-4543-bb2d-e4e68db10696",
   "metadata": {
    "tags": []
   },
   "outputs": [],
   "source": [
    "# Conectar a la base de datos usando los valores almacenados en `secrets.toml`\n",
    "def conectar_base_datos():\n",
    "    conn = mysql.connector.connect(\n",
    "        host=st.secrets[\"database\"][\"host\"],\n",
    "        user=st.secrets[\"database\"][\"user\"],\n",
    "        password=st.secrets[\"database\"][\"password\"],\n",
    "        database=st.secrets[\"database\"][\"database\"]\n",
    "    )\n",
    "    return conn"
   ]
  },
  {
   "cell_type": "code",
   "execution_count": 12,
   "id": "3d4dd19e-9ece-445c-9c37-9a5226ec0669",
   "metadata": {
    "tags": []
   },
   "outputs": [
    {
     "ename": "FileNotFoundError",
     "evalue": "No secrets files found. Valid paths for a secrets.toml file are: C:\\Users\\cmv28\\.streamlit\\secrets.toml, C:\\Users\\cmv28\\Proyectos\\Coches-segunda-mano\\notebooks\\.streamlit\\secrets.toml",
     "output_type": "error",
     "traceback": [
      "\u001b[1;31m---------------------------------------------------------------------------\u001b[0m",
      "\u001b[1;31mFileNotFoundError\u001b[0m                         Traceback (most recent call last)",
      "Cell \u001b[1;32mIn[12], line 32\u001b[0m\n\u001b[0;32m     29\u001b[0m     \u001b[38;5;28mprint\u001b[39m(\u001b[38;5;124m\"\u001b[39m\u001b[38;5;124mDatos insertados correctamente\u001b[39m\u001b[38;5;124m\"\u001b[39m)\n\u001b[0;32m     31\u001b[0m \u001b[38;5;66;03m# Llamar a la funcion para insertar los datos en la tabla\u001b[39;00m\n\u001b[1;32m---> 32\u001b[0m insertar_datos(df_prueba, \u001b[38;5;124m'\u001b[39m\u001b[38;5;124mmarcas\u001b[39m\u001b[38;5;124m'\u001b[39m)\n",
      "Cell \u001b[1;32mIn[12], line 4\u001b[0m, in \u001b[0;36minsertar_datos\u001b[1;34m(df, nombre_tabla)\u001b[0m\n\u001b[0;32m      2\u001b[0m \u001b[38;5;28;01mdef\u001b[39;00m \u001b[38;5;21minsertar_datos\u001b[39m(df, nombre_tabla):\n\u001b[0;32m      3\u001b[0m     \u001b[38;5;66;03m# Conexión a la base df_cochedatos de MySQL\u001b[39;00m\n\u001b[1;32m----> 4\u001b[0m     conn \u001b[38;5;241m=\u001b[39m conectar_base_datos()\n\u001b[0;32m      5\u001b[0m     \u001b[38;5;66;03m# Crear un cursor para ejecutar comandos SQL\u001b[39;00m\n\u001b[0;32m      6\u001b[0m     cursor \u001b[38;5;241m=\u001b[39m conn\u001b[38;5;241m.\u001b[39mcursor()\n",
      "Cell \u001b[1;32mIn[8], line 4\u001b[0m, in \u001b[0;36mconectar_base_datos\u001b[1;34m()\u001b[0m\n\u001b[0;32m      2\u001b[0m \u001b[38;5;28;01mdef\u001b[39;00m \u001b[38;5;21mconectar_base_datos\u001b[39m():\n\u001b[0;32m      3\u001b[0m     conn \u001b[38;5;241m=\u001b[39m mysql\u001b[38;5;241m.\u001b[39mconnector\u001b[38;5;241m.\u001b[39mconnect(\n\u001b[1;32m----> 4\u001b[0m         host\u001b[38;5;241m=\u001b[39mst\u001b[38;5;241m.\u001b[39msecrets[\u001b[38;5;124m\"\u001b[39m\u001b[38;5;124mdatabase\u001b[39m\u001b[38;5;124m\"\u001b[39m][\u001b[38;5;124m\"\u001b[39m\u001b[38;5;124mhost\u001b[39m\u001b[38;5;124m\"\u001b[39m],\n\u001b[0;32m      5\u001b[0m         user\u001b[38;5;241m=\u001b[39mst\u001b[38;5;241m.\u001b[39msecrets[\u001b[38;5;124m\"\u001b[39m\u001b[38;5;124mdatabase\u001b[39m\u001b[38;5;124m\"\u001b[39m][\u001b[38;5;124m\"\u001b[39m\u001b[38;5;124muser\u001b[39m\u001b[38;5;124m\"\u001b[39m],\n\u001b[0;32m      6\u001b[0m         password\u001b[38;5;241m=\u001b[39mst\u001b[38;5;241m.\u001b[39msecrets[\u001b[38;5;124m\"\u001b[39m\u001b[38;5;124mdatabase\u001b[39m\u001b[38;5;124m\"\u001b[39m][\u001b[38;5;124m\"\u001b[39m\u001b[38;5;124mpassword\u001b[39m\u001b[38;5;124m\"\u001b[39m],\n\u001b[0;32m      7\u001b[0m         database\u001b[38;5;241m=\u001b[39mst\u001b[38;5;241m.\u001b[39msecrets[\u001b[38;5;124m\"\u001b[39m\u001b[38;5;124mdatabase\u001b[39m\u001b[38;5;124m\"\u001b[39m][\u001b[38;5;124m\"\u001b[39m\u001b[38;5;124mdatabase\u001b[39m\u001b[38;5;124m\"\u001b[39m]\n\u001b[0;32m      8\u001b[0m     )\n\u001b[0;32m      9\u001b[0m     \u001b[38;5;28;01mreturn\u001b[39;00m conn\n",
      "File \u001b[1;32m~\\anaconda3\\Lib\\site-packages\\streamlit\\runtime\\secrets.py:305\u001b[0m, in \u001b[0;36mSecrets.__getitem__\u001b[1;34m(self, key)\u001b[0m\n\u001b[0;32m    299\u001b[0m \u001b[38;5;250m\u001b[39m\u001b[38;5;124;03m\"\"\"Return the value with the given key. If no such key\u001b[39;00m\n\u001b[0;32m    300\u001b[0m \u001b[38;5;124;03mexists, raise a KeyError.\u001b[39;00m\n\u001b[0;32m    301\u001b[0m \n\u001b[0;32m    302\u001b[0m \u001b[38;5;124;03mThread-safe.\u001b[39;00m\n\u001b[0;32m    303\u001b[0m \u001b[38;5;124;03m\"\"\"\u001b[39;00m\n\u001b[0;32m    304\u001b[0m \u001b[38;5;28;01mtry\u001b[39;00m:\n\u001b[1;32m--> 305\u001b[0m     value \u001b[38;5;241m=\u001b[39m \u001b[38;5;28mself\u001b[39m\u001b[38;5;241m.\u001b[39m_parse(\u001b[38;5;28;01mTrue\u001b[39;00m)[key]\n\u001b[0;32m    306\u001b[0m     \u001b[38;5;28;01mif\u001b[39;00m \u001b[38;5;129;01mnot\u001b[39;00m \u001b[38;5;28misinstance\u001b[39m(value, Mapping):\n\u001b[0;32m    307\u001b[0m         \u001b[38;5;28;01mreturn\u001b[39;00m value\n",
      "File \u001b[1;32m~\\anaconda3\\Lib\\site-packages\\streamlit\\runtime\\secrets.py:214\u001b[0m, in \u001b[0;36mSecrets._parse\u001b[1;34m(self, print_exceptions)\u001b[0m\n\u001b[0;32m    212\u001b[0m     \u001b[38;5;28;01mif\u001b[39;00m print_exceptions:\n\u001b[0;32m    213\u001b[0m         st\u001b[38;5;241m.\u001b[39merror(err_msg)\n\u001b[1;32m--> 214\u001b[0m     \u001b[38;5;28;01mraise\u001b[39;00m \u001b[38;5;167;01mFileNotFoundError\u001b[39;00m(err_msg)\n\u001b[0;32m    216\u001b[0m \u001b[38;5;28;01mif\u001b[39;00m \u001b[38;5;28mlen\u001b[39m([p \u001b[38;5;28;01mfor\u001b[39;00m p \u001b[38;5;129;01min\u001b[39;00m \u001b[38;5;28mself\u001b[39m\u001b[38;5;241m.\u001b[39m_file_paths \u001b[38;5;28;01mif\u001b[39;00m os\u001b[38;5;241m.\u001b[39mpath\u001b[38;5;241m.\u001b[39mexists(p)]) \u001b[38;5;241m>\u001b[39m \u001b[38;5;241m1\u001b[39m:\n\u001b[0;32m    217\u001b[0m     _LOGGER\u001b[38;5;241m.\u001b[39minfo(\n\u001b[0;32m    218\u001b[0m         \u001b[38;5;124mf\u001b[39m\u001b[38;5;124m\"\u001b[39m\u001b[38;5;124mSecrets found in multiple locations: \u001b[39m\u001b[38;5;132;01m{\u001b[39;00m\u001b[38;5;124m'\u001b[39m\u001b[38;5;124m, \u001b[39m\u001b[38;5;124m'\u001b[39m\u001b[38;5;241m.\u001b[39mjoin(\u001b[38;5;28mself\u001b[39m\u001b[38;5;241m.\u001b[39m_file_paths)\u001b[38;5;132;01m}\u001b[39;00m\u001b[38;5;124m. \u001b[39m\u001b[38;5;124m\"\u001b[39m\n\u001b[0;32m    219\u001b[0m         \u001b[38;5;124m\"\u001b[39m\u001b[38;5;124mWhen multiple secret.toml files exist, local secrets will take precedence over global secrets.\u001b[39m\u001b[38;5;124m\"\u001b[39m\n\u001b[0;32m    220\u001b[0m     )\n",
      "\u001b[1;31mFileNotFoundError\u001b[0m: No secrets files found. Valid paths for a secrets.toml file are: C:\\Users\\cmv28\\.streamlit\\secrets.toml, C:\\Users\\cmv28\\Proyectos\\Coches-segunda-mano\\notebooks\\.streamlit\\secrets.toml"
     ]
    }
   ],
   "source": [
    "# Funcion para insertar coches en la base de datos\n",
    "def insertar_datos(df, nombre_tabla):\n",
    "    # Conexión a la base df_cochedatos de MySQL\n",
    "    conn = conectar_base_datos()\n",
    "    # Crear un cursor para ejecutar comandos SQL\n",
    "    cursor = conn.cursor()\n",
    "    # Obtener las columnas del DataFrame\n",
    "    columnas = df.columns.tolist()\n",
    "    # Convertir cada fila del DataFrame a una tupla\n",
    "    valores = [tuple(row) for row in df.to_numpy()]\n",
    "\n",
    "    # Crear la consulta SQL para insertar datos\n",
    "    query = f\"\"\"\n",
    "        INSERT INTO {nombre_tabla} ({', '.join(columnas)})\n",
    "        VALUES ({', '.join(['%s'] * len(columnas))})\n",
    "    \"\"\"\n",
    "\n",
    "    # Ejecutar la consulta para todas las filas\n",
    "    cursor.executemany(query, valores)\n",
    "\n",
    "    # Confirmar los cambios en la base de datos\n",
    "    conn.commit()\n",
    "\n",
    "    # Cerrar el cursor y la conexion\n",
    "    cursor.close()\n",
    "    conn.close()\n",
    "\n",
    "    # Mensaje de exito\n",
    "    print(\"Datos insertados correctamente\")\n",
    "\n",
    "# Llamar a la funcion para insertar los datos en la tabla\n",
    "insertar_datos(df_prueba, 'marcas')"
   ]
  },
  {
   "cell_type": "code",
   "execution_count": 6,
   "id": "0aabe133-a705-4fc2-a122-a163202dfefb",
   "metadata": {},
   "outputs": [
    {
     "name": "stdout",
     "output_type": "stream",
     "text": [
      "   id_marca nombre_marca\n",
      "0         1       Toyota\n",
      "1         2        Honda\n",
      "2         3         Ford\n"
     ]
    }
   ],
   "source": [
    "# Funcion para extraer datos\n",
    "def extraer_datos(nombre_tabla):\n",
    "    # Conexión a la base de datos de MySQL\n",
    "    conn = mysql.connector.connect(\n",
    "        host=\"localhost\",\n",
    "        user=\"root\",\n",
    "        password=\"Whereisbotus1996\",\n",
    "        database=\"coches_segunda_mano\"\n",
    "    )\n",
    "\n",
    "    # Crear un cursor para ejecutar comandos SQL\n",
    "    cursor = conn.cursor()\n",
    "\n",
    "    # Crear la consulta SQL para seleccionar todos los datos de la tabla\n",
    "    query = f\"SELECT * FROM {nombre_tabla}\"\n",
    "\n",
    "    # Ejecutar la consulta y recuperar los datos\n",
    "    cursor.execute(query)\n",
    "    resultado = cursor.fetchall()\n",
    "\n",
    "    # Obtener los nombres de las columnas de la tabla\n",
    "    columnas = [desc[0] for desc in cursor.description]\n",
    "\n",
    "    # Convertir los resultados a un DataFrame\n",
    "    df = pd.DataFrame(resultado, columns=columnas)\n",
    "\n",
    "    # Cerrar el cursor y la conexión\n",
    "    cursor.close()\n",
    "    conn.close()\n",
    "\n",
    "    # Devolver el DataFrame\n",
    "    return df\n",
    "\n",
    "# Llamar a la función para extraer datos de la tabla\n",
    "df_extraido = extraer_datos('marcas')\n",
    "print(df_extraido)"
   ]
  },
  {
   "cell_type": "code",
   "execution_count": null,
   "id": "7b6213ac-ab27-4abf-8ce1-7a7fbfbbfc49",
   "metadata": {},
   "outputs": [],
   "source": []
  }
 ],
 "metadata": {
  "kernelspec": {
   "display_name": "Python 3 (ipykernel)",
   "language": "python",
   "name": "python3"
  },
  "language_info": {
   "codemirror_mode": {
    "name": "ipython",
    "version": 3
   },
   "file_extension": ".py",
   "mimetype": "text/x-python",
   "name": "python",
   "nbconvert_exporter": "python",
   "pygments_lexer": "ipython3",
   "version": "3.11.7"
  }
 },
 "nbformat": 4,
 "nbformat_minor": 5
}
