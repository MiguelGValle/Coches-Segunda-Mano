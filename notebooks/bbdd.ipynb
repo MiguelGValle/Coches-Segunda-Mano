{
 "cells": [
  {
   "cell_type": "code",
   "execution_count": null,
   "id": "5f8ced48-e284-43be-a6d6-604927d1f7a6",
   "metadata": {
    "tags": []
   },
   "outputs": [],
   "source": [
    "pip install mysql-connector-python"
   ]
  },
  {
   "cell_type": "code",
   "execution_count": null,
   "id": "14fe3573-ae56-4535-b534-241ef141e8ee",
   "metadata": {
    "tags": []
   },
   "outputs": [],
   "source": [
    "import pandas as pd\n",
    "import numpy as np\n",
    "import importlib.metadata\n",
    "import mysql.connector\n",
    "\n",
    "from datetime import datetime"
   ]
  },
  {
   "cell_type": "code",
   "execution_count": null,
   "id": "d58f7cce-525c-4fda-b9ec-a4f57440b642",
   "metadata": {
    "tags": []
   },
   "outputs": [],
   "source": [
    "# cargar el csv de prueba\n",
    "df_coches = pd.read_csv(\"../bin/coche_prueba.csv\")\n",
    "df_prueba = pd.read_csv(\"../bin/prueba.csv\")\n",
    "df_prueba"
   ]
  },
  {
   "cell_type": "code",
   "execution_count": null,
   "id": "3d4dd19e-9ece-445c-9c37-9a5226ec0669",
   "metadata": {
    "tags": []
   },
   "outputs": [],
   "source": [
    "# Funcion para insertar coches en la base de datos\n",
    "def insertar_coche(df, nombre_tabla):\n",
    "    # Conexión a la base df_cochedatos de MySQL\n",
    "    conn = mysql.connector.connect(\n",
    "        host=\"localhost\",\n",
    "        user=\"root\",\n",
    "        password=\"Whereisbotus1996\",\n",
    "        database=\"coches_segunda_mano\"\n",
    "    )\n",
    "\n",
    "    # Obtener las columnas del DataFrame\n",
    "    columnas = df.columns.tolist()\n",
    "    # Convertir cada fila del DataFrame a una tupla\n",
    "    valores = [tuple(row) for row in df.to_numpy()]\n",
    "\n",
    "    # Crear un cursor para ejecutar comandos SQL\n",
    "    cursor = conn.cursor()\n",
    "\n",
    "    # Crear la consulta SQL para insertar datos\n",
    "    query = f\"\"\"\n",
    "        INSERT INTO {nombre_tabla} ({', '.join(columnas)})\n",
    "        VALUES ({', '.join(['%s'] * len(columnas))})\n",
    "    \"\"\"\n",
    "\n",
    "    # Ejecutar la consulta para todas las filas\n",
    "    cursor.executemany(query, valores)\n",
    "\n",
    "    # Confirmar los cambios en la base de datos\n",
    "    conn.commit()\n",
    "\n",
    "    # Cerrar el cursor y la conexion\n",
    "    cursor.close()\n",
    "    conn.close()\n",
    "\n",
    "    # Mensaje de exito\n",
    "    print(\"Datos insertados correctamente\")\n",
    "\n",
    "# Llamar a la funcion para insertar los datos en la tabla\n",
    "insertar_coche(df_prueba, 'marcas')"
   ]
  },
  {
   "cell_type": "code",
   "execution_count": null,
   "id": "0aabe133-a705-4fc2-a122-a163202dfefb",
   "metadata": {},
   "outputs": [],
   "source": []
  }
 ],
 "metadata": {
  "kernelspec": {
   "display_name": "Python 3 (ipykernel)",
   "language": "python",
   "name": "python3"
  },
  "language_info": {
   "codemirror_mode": {
    "name": "ipython",
    "version": 3
   },
   "file_extension": ".py",
   "mimetype": "text/x-python",
   "name": "python",
   "nbconvert_exporter": "python",
   "pygments_lexer": "ipython3",
   "version": "3.11.7"
  }
 },
 "nbformat": 4,
 "nbformat_minor": 5
}
