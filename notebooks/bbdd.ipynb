{
 "cells": [
  {
   "cell_type": "code",
   "execution_count": 5,
   "id": "5f8ced48-e284-43be-a6d6-604927d1f7a6",
   "metadata": {
    "tags": []
   },
   "outputs": [
    {
     "name": "stdout",
     "output_type": "stream",
     "text": [
      "Requirement already satisfied: mysql-connector-python in c:\\users\\cmv28\\anaconda3\\lib\\site-packages (9.0.0)\n",
      "Note: you may need to restart the kernel to use updated packages.\n"
     ]
    }
   ],
   "source": [
    "pip install mysql-connector-python"
   ]
  },
  {
   "cell_type": "code",
   "execution_count": 28,
   "id": "14fe3573-ae56-4535-b534-241ef141e8ee",
   "metadata": {
    "tags": []
   },
   "outputs": [],
   "source": [
    "import pandas as pd\n",
    "import numpy as np\n",
    "import importlib.metadata\n",
    "import mysql.connector\n",
    "\n",
    "from datetime import datetime"
   ]
  },
  {
   "cell_type": "code",
   "execution_count": 30,
   "id": "d58f7cce-525c-4fda-b9ec-a4f57440b642",
   "metadata": {
    "tags": []
   },
   "outputs": [],
   "source": []
  },
  {
   "cell_type": "code",
   "execution_count": 39,
   "id": "23ad96d5-40ff-4fbc-8ad9-ff21add6036c",
   "metadata": {
    "tags": []
   },
   "outputs": [
    {
     "ename": "SyntaxError",
     "evalue": "expected ':' (2273797638.py, line 2)",
     "output_type": "error",
     "traceback": [
      "\u001b[1;36m  Cell \u001b[1;32mIn[39], line 2\u001b[1;36m\u001b[0m\n\u001b[1;33m    def insertar_coche(df_coches);\u001b[0m\n\u001b[1;37m                                 ^\u001b[0m\n\u001b[1;31mSyntaxError\u001b[0m\u001b[1;31m:\u001b[0m expected ':'\n"
     ]
    }
   ],
   "source": [
    "#Funcion para insertar un coche en la bbdd\n",
    "def insertar_coche(df_coches);\n",
    "\n",
    "#Conexion a la base de datos de MySQL\n",
    "conn = mysql.connector.connect(\n",
    "    host = \"localhost\",\n",
    "    user = \"root\",\n",
    "    password = \"Whereisbotus1996\",\n",
    "    database = \"coches_segunda_mano\"\n",
    ")\n",
    "\n",
    "columnas_coches = [\"marca\", \"modelo\", \"localizacion\", \"tipo_combustible\", \"kilometros\", \"tipo_carroceria\", \"tipo_cambio\" , \"potencia_cv\", \"garantia\", \"distintivo_ambiental\", \"precio\", \"peso_masa_kg\", \"puertas\", \"plazas\", \"cilindros\", \"co2\", \"deposito\", \"month\", \"year\", \"fecha_extraccion\"]\n",
    "\n",
    "cursor = conn.cursor()\n",
    "    \n",
    "    for index, row in df_coches.iterrows():\n",
    "        coche_data = {\n",
    "            'marca': row['marca'],\n",
    "            'modelo': row['modelo'],\n",
    "            'localizacion': row['localizacion'],\n",
    "            'tipo_combustible': row['tipo_combustible'],\n",
    "            'kilometros': row['kilometros'],\n",
    "            'tipo_carroceria': row['tipo_carroceria'],\n",
    "            'tipo_cambio': row['tipo_combustible'],\n",
    "            'potencia_cv': row['potencia_cv'],\n",
    "            'garantia': row['garantia'],\n",
    "            'distintivo_ambiental': row['distintivo_ambiental'],\n",
    "            'precio': row['precio'],\n",
    "            'peso_masa_kg': row['peso_masa_kg'],\n",
    "            'puertas': row['puertas'],\n",
    "            'plazas': row['plazas'],\n",
    "            'cilindros': row['cilindros'],\n",
    "            'co2': row['co2'],\n",
    "            'deposito': row['deposito'],\n",
    "            'month': row['month'],\n",
    "            'year': row['year'],\n",
    "            'fecha_extraccion': datetime.now() \n",
    "        }\n",
    "        \n",
    "        valores = (\n",
    "            coche_data['marca'],\n",
    "            coche_data['localizacion'],\n",
    "            coche_data['año'],\n",
    "            coche_data['tipo_combustible'],\n",
    "            coche_data['kilometros'],\n",
    "            coche_data['tipo_carroceria'],\n",
    "            coche_data['tipo_cambio'],\n",
    "            coche_data['potencia_cv'],\n",
    "            coche_data['garantia'],\n",
    "            coche_data['distintivo_ambiental'],\n",
    "            coche_data['precio'],\n",
    "            coche_data['peso_masa_kg'],\n",
    "            coche_data['puertas'],\n",
    "            coche_data['plazas'],\n",
    "            coche_data['cilindros'],\n",
    "            coche_data['co2'],\n",
    "            coche_data['deposito'],\n",
    "            coche_data['month'],\n",
    "            coche_data['year'],\n",
    "            coche_data['fecha_extraccion']\n",
    "            \n",
    "        query = f\"\"\"\n",
    "            INSERT INTO coches_segunda_mano ({columnas_coches})\n",
    "            VALUES ({', '.join(['%s'] * len(valores))});\n",
    "        \"\"\"\n",
    "            \n",
    "        cursor.execute(query, valores)\n",
    "    \n",
    "    conn.commit()\n",
    "    cursor.close()\n",
    "    conn.close()\n",
    "    print(\"datos insertador correctamente\")        "
   ]
  },
  {
   "cell_type": "code",
   "execution_count": null,
   "id": "02b9c01a-68ef-4e79-843b-23bab3869f7b",
   "metadata": {},
   "outputs": [],
   "source": [
    "#Probamos la funcion\n",
    "insertar_datos_coches(df_coches)"
   ]
  },
  {
   "cell_type": "code",
   "execution_count": null,
   "id": "e048189a-46fd-4163-bab5-930300d7a003",
   "metadata": {},
   "outputs": [],
   "source": []
  },
  {
   "cell_type": "code",
   "execution_count": 32,
   "id": "ae0dc1d5-dcb4-474a-96eb-8a4bd6e20424",
   "metadata": {
    "tags": []
   },
   "outputs": [],
   "source": [
    "#Cerrar la conexion al final del proceso\n",
    "cursor.close()\n",
    "conn.close()"
   ]
  },
  {
   "cell_type": "code",
   "execution_count": null,
   "id": "aae51c9a-08be-42d6-920b-8c9a74110ce8",
   "metadata": {},
   "outputs": [],
   "source": []
  }
 ],
 "metadata": {
  "kernelspec": {
   "display_name": "Python 3 (ipykernel)",
   "language": "python",
   "name": "python3"
  },
  "language_info": {
   "codemirror_mode": {
    "name": "ipython",
    "version": 3
   },
   "file_extension": ".py",
   "mimetype": "text/x-python",
   "name": "python",
   "nbconvert_exporter": "python",
   "pygments_lexer": "ipython3",
   "version": "3.11.7"
  }
 },
 "nbformat": 4,
 "nbformat_minor": 5
}
