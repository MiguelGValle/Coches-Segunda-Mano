{
 "cells": [
  {
   "cell_type": "code",
   "execution_count": null,
   "id": "5f8ced48-e284-43be-a6d6-604927d1f7a6",
   "metadata": {
    "tags": []
   },
   "outputs": [],
   "source": [
    "pip install mysql-connector-python"
   ]
  },
  {
   "cell_type": "code",
   "execution_count": 21,
   "id": "14fe3573-ae56-4535-b534-241ef141e8ee",
   "metadata": {
    "tags": []
   },
   "outputs": [],
   "source": [
    "import pandas as pd\n",
    "import numpy as np\n",
    "import importlib.metadata\n",
    "import mysql.connector\n",
    "import streamlit as st\n",
    "\n",
    "from datetime import datetime"
   ]
  },
  {
   "cell_type": "code",
   "execution_count": 55,
   "id": "d58f7cce-525c-4fda-b9ec-a4f57440b642",
   "metadata": {
    "tags": []
   },
   "outputs": [
    {
     "data": {
      "text/html": [
       "<div>\n",
       "<style scoped>\n",
       "    .dataframe tbody tr th:only-of-type {\n",
       "        vertical-align: middle;\n",
       "    }\n",
       "\n",
       "    .dataframe tbody tr th {\n",
       "        vertical-align: top;\n",
       "    }\n",
       "\n",
       "    .dataframe thead th {\n",
       "        text-align: right;\n",
       "    }\n",
       "</style>\n",
       "<table border=\"1\" class=\"dataframe\">\n",
       "  <thead>\n",
       "    <tr style=\"text-align: right;\">\n",
       "      <th></th>\n",
       "      <th>id_distintivo</th>\n",
       "      <th>nombre_distintivo</th>\n",
       "    </tr>\n",
       "  </thead>\n",
       "  <tbody>\n",
       "    <tr>\n",
       "      <th>0</th>\n",
       "      <td>1</td>\n",
       "      <td>C</td>\n",
       "    </tr>\n",
       "    <tr>\n",
       "      <th>1</th>\n",
       "      <td>2</td>\n",
       "      <td>0 EMISIONES</td>\n",
       "    </tr>\n",
       "    <tr>\n",
       "      <th>2</th>\n",
       "      <td>3</td>\n",
       "      <td>no disponible</td>\n",
       "    </tr>\n",
       "    <tr>\n",
       "      <th>3</th>\n",
       "      <td>4</td>\n",
       "      <td>ECO</td>\n",
       "    </tr>\n",
       "    <tr>\n",
       "      <th>4</th>\n",
       "      <td>5</td>\n",
       "      <td>B</td>\n",
       "    </tr>\n",
       "  </tbody>\n",
       "</table>\n",
       "</div>"
      ],
      "text/plain": [
       "   id_distintivo nombre_distintivo\n",
       "0              1                 C\n",
       "1              2       0 EMISIONES\n",
       "2              3     no disponible\n",
       "3              4               ECO\n",
       "4              5                 B"
      ]
     },
     "execution_count": 55,
     "metadata": {},
     "output_type": "execute_result"
    }
   ],
   "source": [
    "# Cargar csv\n",
    "df_coches = pd.read_csv(\"../bin/coche_prueba.csv\")\n",
    "df_prueba = pd.read_csv(\"../bin/prueba.csv\")\n",
    "df_carrocerias = pd.read_csv(\"../bin/listado_carrocerias.csv\")\n",
    "df_combustibles = pd.read_csv(\"../bin/listado_combustibles.csv\")\n",
    "df_concesionarios = pd.read_csv(\"../bin/listado_concesionarios.csv\")\n",
    "df_distintivo_ambiental = pd.read_csv(\"../bin/listado_distintivo_ambiental.csv\")\n",
    "df_marcas = pd.read_csv(\"../bin/listado_marcas.csv\")\n",
    "df_modelos = pd.read_csv(\"../bin/listado_modelos.csv\")\n",
    "df_provincias = pd.read_csv(\"../bin/listado_provincias.csv\")\n",
    "df_sobrealimentacion = pd.read_csv(\"../bin/listado_sobrealimentacion.csv\")\n",
    "df_tipos_cambio = pd.read_csv(\"../bin/listado_tipos_cambio.csv\")\n",
    "df_prestaciones = pd.read_csv(\"../bin/prestaciones.csv\")\n",
    "df_distintivo_ambiental"
   ]
  },
  {
   "cell_type": "code",
   "execution_count": 8,
   "id": "2af8b72c-65ff-4543-bb2d-e4e68db10696",
   "metadata": {
    "tags": []
   },
   "outputs": [],
   "source": [
    "# Conectar a la base de datos usando los valores almacenados en `secrets.toml`\n",
    "def conectar_base_datos():\n",
    "    conn = mysql.connector.connect(\n",
    "        host=st.secrets[\"database\"][\"host\"],\n",
    "        user=st.secrets[\"database\"][\"user\"],\n",
    "        password=st.secrets[\"database\"][\"password\"],\n",
    "        database=st.secrets[\"database\"][\"database\"]\n",
    "    )\n",
    "    return conn"
   ]
  },
  {
   "cell_type": "code",
   "execution_count": null,
   "id": "3d4dd19e-9ece-445c-9c37-9a5226ec0669",
   "metadata": {
    "tags": []
   },
   "outputs": [],
   "source": [
    "# Funcion para insertar coches en la base de datos\n",
    "def insertar_datos(df, nombre_tabla):\n",
    "    # Conexión a la base df_cochedatos de MySQL\n",
    "    conn = mysql.connector.connect(\n",
    "        host = \"localhost\",\n",
    "        user = \"root\",\n",
    "        password = \"Whereisbotus1996\",\n",
    "        database = \"coches_segunda_mano\"\n",
    "    )\n",
    "    # Crear un cursor para ejecutar comandos SQL\n",
    "    cursor = conn.cursor()\n",
    "    # Obtener las columnas del DataFrame\n",
    "    columnas = df.columns.tolist()\n",
    "    # Convertir cada fila del DataFrame a una tupla\n",
    "    valores = [tuple(row) for row in df.to_numpy()]\n",
    "\n",
    "    # Crear la consulta SQL para insertar datos\n",
    "    query = f\"\"\"\n",
    "        INSERT INTO {nombre_tabla} ({', '.join(columnas)})\n",
    "        VALUES ({', '.join(['%s'] * len(columnas))})\n",
    "    \"\"\"\n",
    "\n",
    "    # Ejecutar la consulta para todas las filas\n",
    "    cursor.executemany(query, valores)\n",
    "\n",
    "    # Confirmar los cambios en la base de datos\n",
    "    conn.commit()\n",
    "\n",
    "    # Cerrar el cursor y la conexion\n",
    "    cursor.close()\n",
    "    conn.close()\n",
    "\n",
    "    # Mensaje de exito\n",
    "    print(\"Datos insertados correctamente\")\n",
    "\n",
    "# Llamar a la funcion para insertar los datos en la tabla\n",
    "insertar_datos(df_modelos, 'modelos')"
   ]
  },
  {
   "cell_type": "code",
   "execution_count": 6,
   "id": "0aabe133-a705-4fc2-a122-a163202dfefb",
   "metadata": {},
   "outputs": [
    {
     "name": "stdout",
     "output_type": "stream",
     "text": [
      "   id_marca nombre_marca\n",
      "0         1       Toyota\n",
      "1         2        Honda\n",
      "2         3         Ford\n"
     ]
    }
   ],
   "source": [
    "# Funcion para extraer datos\n",
    "def extraer_datos(nombre_tabla):\n",
    "    # Conexión a la base de datos de MySQL\n",
    "    conn = conectar_base_datos()\n",
    "    # Crear un cursor para ejecutar comandos SQL\n",
    "    cursor = conn.cursor()\n",
    "\n",
    "    # Crear la consulta SQL para seleccionar todos los datos de la tabla\n",
    "    query = f\"SELECT * FROM {nombre_tabla}\"\n",
    "\n",
    "    # Ejecutar la consulta y recuperar los datos\n",
    "    cursor.execute(query)\n",
    "    resultado = cursor.fetchall()\n",
    "\n",
    "    # Obtener los nombres de las columnas de la tabla\n",
    "    columnas = [desc[0] for desc in cursor.description]\n",
    "\n",
    "    # Convertir los resultados a un DataFrame\n",
    "    df = pd.DataFrame(resultado, columns=columnas)\n",
    "\n",
    "    # Cerrar el cursor y la conexión\n",
    "    cursor.close()\n",
    "    conn.close()\n",
    "\n",
    "    # Devolver el DataFrame\n",
    "    return df\n",
    "\n",
    "# Llamar a la función para extraer datos de la tabla\n",
    "df_extraido = extraer_datos('marcas')\n",
    "print(df_extraido)"
   ]
  },
  {
   "cell_type": "code",
   "execution_count": null,
   "id": "7b6213ac-ab27-4abf-8ce1-7a7fbfbbfc49",
   "metadata": {},
   "outputs": [],
   "source": []
  }
 ],
 "metadata": {
  "kernelspec": {
   "display_name": "Python 3 (ipykernel)",
   "language": "python",
   "name": "python3"
  },
  "language_info": {
   "codemirror_mode": {
    "name": "ipython",
    "version": 3
   },
   "file_extension": ".py",
   "mimetype": "text/x-python",
   "name": "python",
   "nbconvert_exporter": "python",
   "pygments_lexer": "ipython3",
   "version": "3.11.7"
  }
 },
 "nbformat": 4,
 "nbformat_minor": 5
}
