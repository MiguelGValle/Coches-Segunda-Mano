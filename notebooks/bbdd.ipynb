{
 "cells": [
  {
   "cell_type": "code",
   "execution_count": 5,
   "id": "5f8ced48-e284-43be-a6d6-604927d1f7a6",
   "metadata": {
    "tags": []
   },
   "outputs": [
    {
     "name": "stdout",
     "output_type": "stream",
     "text": [
      "Requirement already satisfied: mysql-connector-python in c:\\users\\cmv28\\anaconda3\\lib\\site-packages (9.0.0)\n",
      "Note: you may need to restart the kernel to use updated packages.\n"
     ]
    }
   ],
   "source": [
    "pip install mysql-connector-python"
   ]
  },
  {
   "cell_type": "code",
   "execution_count": 64,
   "id": "14fe3573-ae56-4535-b534-241ef141e8ee",
   "metadata": {
    "tags": []
   },
   "outputs": [],
   "source": [
    "import pandas as pd\n",
    "import numpy as np\n",
    "import importlib.metadata\n",
    "import mysql.connector\n",
    "\n",
    "from datetime import datetime"
   ]
  },
  {
   "cell_type": "code",
   "execution_count": null,
   "id": "d58f7cce-525c-4fda-b9ec-a4f57440b642",
   "metadata": {
    "tags": []
   },
   "outputs": [],
   "source": []
  },
  {
   "cell_type": "code",
   "execution_count": 67,
   "id": "23ad96d5-40ff-4fbc-8ad9-ff21add6036c",
   "metadata": {
    "tags": []
   },
   "outputs": [],
   "source": [
    "# Función para insertar un coche en la base de datos\n",
    "def insertar_coche(df_coches):\n",
    "    # Conexión a la base de datos de MySQL\n",
    "    conn = mysql.connector.connect(\n",
    "        host=\"localhost\",\n",
    "        user=\"root\",\n",
    "        password=\"Whereisbotus1996\",\n",
    "        database=\"coches_segunda_mano\"\n",
    "    )\n",
    "    \n",
    "    # Definir las columnas a insertar\n",
    "    columnas_coches = [\n",
    "        \"marca\", \"modelo\", \"localizacion\", \"tipo_combustible\", \"kilometros\", \n",
    "        \"tipo_carroceria\", \"tipo_cambio\", \"potencia_cv\", \"garantia\", \n",
    "        \"distintivo_ambiental\", \"precio\", \"peso_masa_kg\", \"puertas\", \n",
    "        \"plazas\", \"cilindros\", \"co2\", \"deposito\", \"month\", \"year\", \"fecha_extraccion\"\n",
    "    ]\n",
    "\n",
    "    cursor = conn.cursor()\n",
    "    for index, row in df_coches.iterrows():\n",
    "        coche_data = {\n",
    "            'marca': row['marca'],\n",
    "            'modelo': row['modelo'],\n",
    "            'localizacion': row['localizacion'],\n",
    "            'tipo_combustible': row['tipo_combustible'],\n",
    "            'kilometros': row['kilometros'],\n",
    "            'tipo_carroceria': row['tipo_carroceria'],\n",
    "            'tipo_cambio': row['tipo_combustible'],\n",
    "            'potencia_cv': row['potencia_cv'],\n",
    "            'garantia': row['garantia'],\n",
    "            'distintivo_ambiental': row['distintivo_ambiental'],\n",
    "            'precio': row['precio'],\n",
    "            'peso_masa_kg': row['peso_masa_kg'],\n",
    "            'puertas': row['puertas'],\n",
    "            'plazas': row['plazas'],\n",
    "            'cilindros': row['cilindros'],\n",
    "            'co2': row['co2'],\n",
    "            'deposito': row['deposito'],\n",
    "            'month': row['month'],\n",
    "            'year': row['year'],\n",
    "            'fecha_extraccion': datetime.now()\n",
    "        }\n",
    "\n",
    "        valores = (\n",
    "            coche_data['marca'],\n",
    "            coche_data['modelo'],\n",
    "            coche_data['localizacion'],\n",
    "            coche_data['tipo_combustible'],\n",
    "            coche_data['kilometros'],\n",
    "            coche_data['tipo_carroceria'],\n",
    "            coche_data['tipo_cambio'],\n",
    "            coche_data['potencia_cv'],\n",
    "            coche_data['garantia'],\n",
    "            coche_data['distintivo_ambiental'],\n",
    "            coche_data['precio'],\n",
    "            coche_data['peso_masa_kg'],\n",
    "            coche_data['puertas'],\n",
    "            coche_data['plazas'],\n",
    "            coche_data['cilindros'],\n",
    "            coche_data['co2'],\n",
    "            coche_data['deposito'],\n",
    "            coche_data['month'],\n",
    "            coche_data['year'],\n",
    "            coche_data['fecha_extraccion']\n",
    "        )\n",
    "\n",
    "        query = f\"\"\"\n",
    "            INSERT INTO coches_segunda_mano ({', '.join(columnas_coches)})\n",
    "            VALUES ({', '.join(['%s'] * len(valores))});\n",
    "        \"\"\"\n",
    "        \n",
    "        cursor.execute(query, valores)\n",
    "\n",
    "    conn.commit()\n",
    "    cursor.close()\n",
    "    conn.close()\n",
    "    print(\"Datos insertados correctamente\")\n",
    "    "
   ]
  },
  {
   "cell_type": "code",
   "execution_count": 81,
   "id": "02b9c01a-68ef-4e79-843b-23bab3869f7b",
   "metadata": {
    "tags": []
   },
   "outputs": [
    {
     "ename": "ProgrammingError",
     "evalue": "1054 (42S22): Unknown column 'localizacion' in 'field list'",
     "output_type": "error",
     "traceback": [
      "\u001b[1;31m---------------------------------------------------------------------------\u001b[0m",
      "\u001b[1;31mMySQLInterfaceError\u001b[0m                       Traceback (most recent call last)",
      "File \u001b[1;32m~\\anaconda3\\Lib\\site-packages\\mysql\\connector\\connection_cext.py:705\u001b[0m, in \u001b[0;36mCMySQLConnection.cmd_query\u001b[1;34m(self, query, raw, buffered, raw_as_string)\u001b[0m\n\u001b[0;32m    704\u001b[0m         query \u001b[38;5;241m=\u001b[39m query\u001b[38;5;241m.\u001b[39mencode(\u001b[38;5;124m\"\u001b[39m\u001b[38;5;124mutf-8\u001b[39m\u001b[38;5;124m\"\u001b[39m)\n\u001b[1;32m--> 705\u001b[0m     \u001b[38;5;28mself\u001b[39m\u001b[38;5;241m.\u001b[39m_cmysql\u001b[38;5;241m.\u001b[39mquery(\n\u001b[0;32m    706\u001b[0m         query,\n\u001b[0;32m    707\u001b[0m         raw\u001b[38;5;241m=\u001b[39mraw,\n\u001b[0;32m    708\u001b[0m         buffered\u001b[38;5;241m=\u001b[39mbuffered,\n\u001b[0;32m    709\u001b[0m         raw_as_string\u001b[38;5;241m=\u001b[39mraw_as_string,\n\u001b[0;32m    710\u001b[0m         query_attrs\u001b[38;5;241m=\u001b[39m\u001b[38;5;28mself\u001b[39m\u001b[38;5;241m.\u001b[39mquery_attrs,\n\u001b[0;32m    711\u001b[0m     )\n\u001b[0;32m    712\u001b[0m \u001b[38;5;28;01mexcept\u001b[39;00m MySQLInterfaceError \u001b[38;5;28;01mas\u001b[39;00m err:\n",
      "\u001b[1;31mMySQLInterfaceError\u001b[0m: Unknown column 'localizacion' in 'field list'",
      "\nThe above exception was the direct cause of the following exception:\n",
      "\u001b[1;31mProgrammingError\u001b[0m                          Traceback (most recent call last)",
      "Cell \u001b[1;32mIn[81], line 29\u001b[0m\n\u001b[0;32m     26\u001b[0m df_coches_prueba \u001b[38;5;241m=\u001b[39m pd\u001b[38;5;241m.\u001b[39mDataFrame(coche_prueba)\n\u001b[0;32m     28\u001b[0m \u001b[38;5;66;03m# Llamada a la función para insertar los datos del coche de prueba\u001b[39;00m\n\u001b[1;32m---> 29\u001b[0m insertar_coche(df_coches_prueba)\n",
      "Cell \u001b[1;32mIn[67], line 72\u001b[0m, in \u001b[0;36minsertar_coche\u001b[1;34m(df_coches)\u001b[0m\n\u001b[0;32m     44\u001b[0m     valores \u001b[38;5;241m=\u001b[39m (\n\u001b[0;32m     45\u001b[0m         coche_data[\u001b[38;5;124m'\u001b[39m\u001b[38;5;124mmarca\u001b[39m\u001b[38;5;124m'\u001b[39m],\n\u001b[0;32m     46\u001b[0m         coche_data[\u001b[38;5;124m'\u001b[39m\u001b[38;5;124mmodelo\u001b[39m\u001b[38;5;124m'\u001b[39m],\n\u001b[1;32m   (...)\u001b[0m\n\u001b[0;32m     64\u001b[0m         coche_data[\u001b[38;5;124m'\u001b[39m\u001b[38;5;124mfecha_extraccion\u001b[39m\u001b[38;5;124m'\u001b[39m]\n\u001b[0;32m     65\u001b[0m     )\n\u001b[0;32m     67\u001b[0m     query \u001b[38;5;241m=\u001b[39m \u001b[38;5;124mf\u001b[39m\u001b[38;5;124m\"\"\"\u001b[39m\n\u001b[0;32m     68\u001b[0m \u001b[38;5;124m        INSERT INTO coches_segunda_mano (\u001b[39m\u001b[38;5;132;01m{\u001b[39;00m\u001b[38;5;124m'\u001b[39m\u001b[38;5;124m, \u001b[39m\u001b[38;5;124m'\u001b[39m\u001b[38;5;241m.\u001b[39mjoin(columnas_coches)\u001b[38;5;132;01m}\u001b[39;00m\u001b[38;5;124m)\u001b[39m\n\u001b[0;32m     69\u001b[0m \u001b[38;5;124m        VALUES (\u001b[39m\u001b[38;5;132;01m{\u001b[39;00m\u001b[38;5;124m'\u001b[39m\u001b[38;5;124m, \u001b[39m\u001b[38;5;124m'\u001b[39m\u001b[38;5;241m.\u001b[39mjoin([\u001b[38;5;124m'\u001b[39m\u001b[38;5;132;01m%s\u001b[39;00m\u001b[38;5;124m'\u001b[39m]\u001b[38;5;250m \u001b[39m\u001b[38;5;241m*\u001b[39m\u001b[38;5;250m \u001b[39m\u001b[38;5;28mlen\u001b[39m(valores))\u001b[38;5;132;01m}\u001b[39;00m\u001b[38;5;124m);\u001b[39m\n\u001b[0;32m     70\u001b[0m \u001b[38;5;124m    \u001b[39m\u001b[38;5;124m\"\"\"\u001b[39m\n\u001b[1;32m---> 72\u001b[0m     cursor\u001b[38;5;241m.\u001b[39mexecute(query, valores)\n\u001b[0;32m     74\u001b[0m conn\u001b[38;5;241m.\u001b[39mcommit()\n\u001b[0;32m     75\u001b[0m cursor\u001b[38;5;241m.\u001b[39mclose()\n",
      "File \u001b[1;32m~\\anaconda3\\Lib\\site-packages\\mysql\\connector\\cursor_cext.py:357\u001b[0m, in \u001b[0;36mCMySQLCursor.execute\u001b[1;34m(self, operation, params, multi)\u001b[0m\n\u001b[0;32m    352\u001b[0m             \u001b[38;5;28;01mraise\u001b[39;00m ProgrammingError(\n\u001b[0;32m    353\u001b[0m                 \u001b[38;5;124m\"\u001b[39m\u001b[38;5;124mNot all parameters were used in the SQL statement\u001b[39m\u001b[38;5;124m\"\u001b[39m\n\u001b[0;32m    354\u001b[0m             )\n\u001b[0;32m    356\u001b[0m \u001b[38;5;28;01mtry\u001b[39;00m:\n\u001b[1;32m--> 357\u001b[0m     result \u001b[38;5;241m=\u001b[39m \u001b[38;5;28mself\u001b[39m\u001b[38;5;241m.\u001b[39m_connection\u001b[38;5;241m.\u001b[39mcmd_query(\n\u001b[0;32m    358\u001b[0m         stmt,\n\u001b[0;32m    359\u001b[0m         raw\u001b[38;5;241m=\u001b[39m\u001b[38;5;28mself\u001b[39m\u001b[38;5;241m.\u001b[39m_raw,\n\u001b[0;32m    360\u001b[0m         buffered\u001b[38;5;241m=\u001b[39m\u001b[38;5;28mself\u001b[39m\u001b[38;5;241m.\u001b[39m_buffered,\n\u001b[0;32m    361\u001b[0m         raw_as_string\u001b[38;5;241m=\u001b[39m\u001b[38;5;28mself\u001b[39m\u001b[38;5;241m.\u001b[39m_raw_as_string,\n\u001b[0;32m    362\u001b[0m     )\n\u001b[0;32m    363\u001b[0m \u001b[38;5;28;01mexcept\u001b[39;00m MySQLInterfaceError \u001b[38;5;28;01mas\u001b[39;00m err:\n\u001b[0;32m    364\u001b[0m     \u001b[38;5;28;01mraise\u001b[39;00m get_mysql_exception(\n\u001b[0;32m    365\u001b[0m         msg\u001b[38;5;241m=\u001b[39merr\u001b[38;5;241m.\u001b[39mmsg, errno\u001b[38;5;241m=\u001b[39merr\u001b[38;5;241m.\u001b[39merrno, sqlstate\u001b[38;5;241m=\u001b[39merr\u001b[38;5;241m.\u001b[39msqlstate\n\u001b[0;32m    366\u001b[0m     ) \u001b[38;5;28;01mfrom\u001b[39;00m \u001b[38;5;21;01merr\u001b[39;00m\n",
      "File \u001b[1;32m~\\anaconda3\\Lib\\site-packages\\mysql\\connector\\opentelemetry\\context_propagation.py:97\u001b[0m, in \u001b[0;36mwith_context_propagation.<locals>.wrapper\u001b[1;34m(cnx, *args, **kwargs)\u001b[0m\n\u001b[0;32m     95\u001b[0m \u001b[38;5;66;03m# pylint: disable=possibly-used-before-assignment\u001b[39;00m\n\u001b[0;32m     96\u001b[0m \u001b[38;5;28;01mif\u001b[39;00m \u001b[38;5;129;01mnot\u001b[39;00m OTEL_ENABLED \u001b[38;5;129;01mor\u001b[39;00m \u001b[38;5;129;01mnot\u001b[39;00m cnx\u001b[38;5;241m.\u001b[39motel_context_propagation:\n\u001b[1;32m---> 97\u001b[0m     \u001b[38;5;28;01mreturn\u001b[39;00m method(cnx, \u001b[38;5;241m*\u001b[39margs, \u001b[38;5;241m*\u001b[39m\u001b[38;5;241m*\u001b[39mkwargs)\n\u001b[0;32m     99\u001b[0m current_span \u001b[38;5;241m=\u001b[39m trace\u001b[38;5;241m.\u001b[39mget_current_span()\n\u001b[0;32m    100\u001b[0m tp_header \u001b[38;5;241m=\u001b[39m \u001b[38;5;28;01mNone\u001b[39;00m\n",
      "File \u001b[1;32m~\\anaconda3\\Lib\\site-packages\\mysql\\connector\\connection_cext.py:713\u001b[0m, in \u001b[0;36mCMySQLConnection.cmd_query\u001b[1;34m(self, query, raw, buffered, raw_as_string)\u001b[0m\n\u001b[0;32m    705\u001b[0m     \u001b[38;5;28mself\u001b[39m\u001b[38;5;241m.\u001b[39m_cmysql\u001b[38;5;241m.\u001b[39mquery(\n\u001b[0;32m    706\u001b[0m         query,\n\u001b[0;32m    707\u001b[0m         raw\u001b[38;5;241m=\u001b[39mraw,\n\u001b[1;32m   (...)\u001b[0m\n\u001b[0;32m    710\u001b[0m         query_attrs\u001b[38;5;241m=\u001b[39m\u001b[38;5;28mself\u001b[39m\u001b[38;5;241m.\u001b[39mquery_attrs,\n\u001b[0;32m    711\u001b[0m     )\n\u001b[0;32m    712\u001b[0m \u001b[38;5;28;01mexcept\u001b[39;00m MySQLInterfaceError \u001b[38;5;28;01mas\u001b[39;00m err:\n\u001b[1;32m--> 713\u001b[0m     \u001b[38;5;28;01mraise\u001b[39;00m get_mysql_exception(\n\u001b[0;32m    714\u001b[0m         err\u001b[38;5;241m.\u001b[39merrno, msg\u001b[38;5;241m=\u001b[39merr\u001b[38;5;241m.\u001b[39mmsg, sqlstate\u001b[38;5;241m=\u001b[39merr\u001b[38;5;241m.\u001b[39msqlstate\n\u001b[0;32m    715\u001b[0m     ) \u001b[38;5;28;01mfrom\u001b[39;00m \u001b[38;5;21;01merr\u001b[39;00m\n\u001b[0;32m    716\u001b[0m \u001b[38;5;28;01mexcept\u001b[39;00m \u001b[38;5;167;01mAttributeError\u001b[39;00m \u001b[38;5;28;01mas\u001b[39;00m err:\n\u001b[0;32m    717\u001b[0m     addr \u001b[38;5;241m=\u001b[39m (\n\u001b[0;32m    718\u001b[0m         \u001b[38;5;28mself\u001b[39m\u001b[38;5;241m.\u001b[39m_unix_socket \u001b[38;5;28;01mif\u001b[39;00m \u001b[38;5;28mself\u001b[39m\u001b[38;5;241m.\u001b[39m_unix_socket \u001b[38;5;28;01melse\u001b[39;00m \u001b[38;5;124mf\u001b[39m\u001b[38;5;124m\"\u001b[39m\u001b[38;5;132;01m{\u001b[39;00m\u001b[38;5;28mself\u001b[39m\u001b[38;5;241m.\u001b[39m_host\u001b[38;5;132;01m}\u001b[39;00m\u001b[38;5;124m:\u001b[39m\u001b[38;5;132;01m{\u001b[39;00m\u001b[38;5;28mself\u001b[39m\u001b[38;5;241m.\u001b[39m_port\u001b[38;5;132;01m}\u001b[39;00m\u001b[38;5;124m\"\u001b[39m\n\u001b[0;32m    719\u001b[0m     )\n",
      "\u001b[1;31mProgrammingError\u001b[0m: 1054 (42S22): Unknown column 'localizacion' in 'field list'"
     ]
    }
   ],
   "source": [
    "#Probamos la funcion\n",
    "\n",
    "coche_prueba = {\n",
    "    \"marca\": [\"Toyota\"],\n",
    "    \"modelo\": [\"Corolla\"],\n",
    "    \"localizacion\": [\"Madrid\"],\n",
    "    \"tipo_combustible\": [\"Gasolina\"],\n",
    "    \"kilometros\": [15000],\n",
    "    \"tipo_carroceria\": [\"Sedán\"],\n",
    "    \"tipo_cambio\": [\"Manual\"],\n",
    "    \"potencia_cv\": [130],\n",
    "    \"garantia\": [\"1 año\"],\n",
    "    \"distintivo_ambiental\": [\"C\"],\n",
    "    \"precio\": [15000],\n",
    "    \"peso_masa_kg\": [1200],\n",
    "    \"puertas\": [4],\n",
    "    \"plazas\": [5],\n",
    "    \"cilindros\": [4],\n",
    "    \"co2\": [110],\n",
    "    \"deposito\": [50],\n",
    "    \"month\": [datetime.now().month],\n",
    "    \"year\": [datetime.now().year],\n",
    "    \"fecha_extraccion\": [datetime.now()]\n",
    "}\n",
    "\n",
    "df_coches_prueba = pd.DataFrame(coche_prueba)\n",
    "\n",
    "# Llamada a la función para insertar los datos del coche de prueba\n",
    "insertar_coche(df_coches_prueba)"
   ]
  },
  {
   "cell_type": "code",
   "execution_count": null,
   "id": "e048189a-46fd-4163-bab5-930300d7a003",
   "metadata": {},
   "outputs": [],
   "source": []
  },
  {
   "cell_type": "code",
   "execution_count": 32,
   "id": "ae0dc1d5-dcb4-474a-96eb-8a4bd6e20424",
   "metadata": {
    "tags": []
   },
   "outputs": [],
   "source": [
    "#Cerrar la conexion al final del proceso\n",
    "cursor.close()\n",
    "conn.close()"
   ]
  },
  {
   "cell_type": "code",
   "execution_count": null,
   "id": "aae51c9a-08be-42d6-920b-8c9a74110ce8",
   "metadata": {},
   "outputs": [],
   "source": []
  }
 ],
 "metadata": {
  "kernelspec": {
   "display_name": "Python 3 (ipykernel)",
   "language": "python",
   "name": "python3"
  },
  "language_info": {
   "codemirror_mode": {
    "name": "ipython",
    "version": 3
   },
   "file_extension": ".py",
   "mimetype": "text/x-python",
   "name": "python",
   "nbconvert_exporter": "python",
   "pygments_lexer": "ipython3",
   "version": "3.11.7"
  }
 },
 "nbformat": 4,
 "nbformat_minor": 5
}
