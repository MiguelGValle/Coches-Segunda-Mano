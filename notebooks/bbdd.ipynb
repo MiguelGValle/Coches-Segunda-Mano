{
 "cells": [
  {
   "cell_type": "code",
   "execution_count": null,
   "id": "5f8ced48-e284-43be-a6d6-604927d1f7a6",
   "metadata": {
    "tags": []
   },
   "outputs": [],
   "source": [
    "pip install mysql-connector-python"
   ]
  },
  {
   "cell_type": "code",
   "execution_count": null,
   "id": "14fe3573-ae56-4535-b534-241ef141e8ee",
   "metadata": {
    "tags": []
   },
   "outputs": [],
   "source": [
    "import pandas as pd\n",
    "import numpy as np\n",
    "import importlib.metadata\n",
    "import mysql.connector\n",
    "import streamlit as st\n",
    "import os\n",
    "\n",
    "from datetime import datetime"
   ]
  },
  {
   "cell_type": "code",
   "execution_count": null,
   "id": "d58f7cce-525c-4fda-b9ec-a4f57440b642",
   "metadata": {
    "tags": []
   },
   "outputs": [],
   "source": [
    "# Cargar csv\n",
    "df_combustibles = pd.read_csv(\"../bin/listado_combustibles.csv\")\n",
    "df_concesionarios = pd.read_csv(\"../bin/listado_concesionarios.csv\")\n",
    "df_distintivo_ambiental = pd.read_csv(\"../bin/listado_distintivo_ambiental.csv\")\n",
    "df_marcas = pd.read_csv(\"../bin/listado_marcas.csv\")\n",
    "df_modelos = pd.read_csv(\"../bin/listado_modelos.csv\")\n",
    "df_provincias = pd.read_csv(\"../bin/listado_provincias.csv\")\n",
    "df_sobrealimentacion = pd.read_csv(\"../bin/listado_sobrealimentacion.csv\")\n",
    "df_traccion = pd.read_csv(\"../bin/listado_traccion.csv\")\n",
    "df_cambio = pd.read_csv(\"../bin/listado_tipos_cambio.csv\")\n",
    "df_prestaciones = pd.read_csv(\"../bin/prestaciones.csv\")"
   ]
  },
  {
   "cell_type": "code",
   "execution_count": null,
   "id": "01d351e2-4b61-4f98-91d3-3c4ec153a048",
   "metadata": {
    "tags": []
   },
   "outputs": [],
   "source": [
    "#Comprobar si hay nans\n",
    "df_prestaciones.isna().sum()"
   ]
  },
  {
   "cell_type": "code",
   "execution_count": null,
   "id": "b1f91560-2469-4753-89c5-dd96291069a0",
   "metadata": {
    "tags": []
   },
   "outputs": [],
   "source": [
    "#Convertir a nan a none\n",
    "for columna in df_combustibles.columns:\n",
    "    df_combustibles[columna] = df_combustibles[columna].replace([np.nan, pd.NA], None)"
   ]
  },
  {
   "cell_type": "code",
   "execution_count": null,
   "id": "e5652803-149c-4008-bfc7-bb2b1a595a99",
   "metadata": {
    "tags": []
   },
   "outputs": [],
   "source": [
    "df_combustibles"
   ]
  },
  {
   "cell_type": "code",
   "execution_count": null,
   "id": "cb689281-4c97-4f02-ba4d-39391854ba3a",
   "metadata": {
    "tags": []
   },
   "outputs": [],
   "source": [
    "#Eliminar nans\n",
    "df_combustibles = df_combustibles.dropna(subset=['nombre_combustible'])"
   ]
  },
  {
   "cell_type": "code",
   "execution_count": null,
   "id": "6244a6b3-98bf-4fbb-ae87-db3cc2240636",
   "metadata": {
    "tags": []
   },
   "outputs": [],
   "source": [
    "df_combustibles"
   ]
  },
  {
   "cell_type": "code",
   "execution_count": null,
   "id": "2af8b72c-65ff-4543-bb2d-e4e68db10696",
   "metadata": {
    "tags": []
   },
   "outputs": [],
   "source": [
    "# Conectar a la base de datos usando los valores almacenados en `secrets.toml`\n",
    "def conectar_base_datos():\n",
    "    conn = mysql.connector.connect(\n",
    "        host=st.secrets[\"database\"][\"host\"],\n",
    "        user=st.secrets[\"database\"][\"user\"],\n",
    "        password=st.secrets[\"database\"][\"password\"],\n",
    "        database=st.secrets[\"database\"][\"database\"]\n",
    "    )\n",
    "    return conn"
   ]
  },
  {
   "cell_type": "code",
   "execution_count": null,
   "id": "3d4dd19e-9ece-445c-9c37-9a5226ec0669",
   "metadata": {
    "tags": []
   },
   "outputs": [],
   "source": [
    "# Funcion para insertar coches en la base de datos\n",
    "def insertar_datos(df, nombre_tabla):\n",
    "    # Conexión a la base df_cochedatos de MySQL\n",
    "    conn = mysql.connector.connect(\n",
    "        host = \"localhost\",\n",
    "        user = \"root\",\n",
    "        password = \"Whereisbotus1996\",\n",
    "        database = \"coches_segunda_mano\"\n",
    "    )\n",
    "    # Crear un cursor para ejecutar comandos SQL\n",
    "    cursor = conn.cursor()\n",
    "    # Obtener las columnas del DataFrame\n",
    "    columnas = df.columns.tolist()\n",
    "    # Convertir cada fila del DataFrame a una tupla\n",
    "    valores = [tuple(row) for row in df.to_numpy()]\n",
    "\n",
    "    # Crear la consulta SQL para insertar datos\n",
    "    query = f\"\"\"\n",
    "        INSERT INTO {nombre_tabla} ({', '.join(columnas)})\n",
    "        VALUES ({', '.join(['%s'] * len(columnas))})\n",
    "    \"\"\"\n",
    "\n",
    "    # Ejecutar la consulta para todas las filas\n",
    "    cursor.executemany(query, valores)\n",
    "\n",
    "    # Confirmar los cambios en la base de datos\n",
    "    conn.commit()\n",
    "\n",
    "    # Cerrar el cursor y la conexion\n",
    "    cursor.close()\n",
    "    conn.close()\n",
    "\n",
    "    # Mensaje de exito\n",
    "    print(\"Datos insertados correctamente\")\n",
    "\n",
    "# Llamar a la funcion para insertar los datos en la tabla\n",
    "insertar_datos(df_prestaciones, 'prestaciones')"
   ]
  },
  {
   "cell_type": "code",
   "execution_count": null,
   "id": "0aabe133-a705-4fc2-a122-a163202dfefb",
   "metadata": {},
   "outputs": [],
   "source": [
    "# Funcion para extraer datos\n",
    "def extraer_datos(nombre_tabla, nombre_csv, carpeta_destino):\n",
    "   \n",
    "    # Definir la ruta completa para guardar el archivo\n",
    "    ruta_csv = os.path.join(carpeta_destino, nombre_csv)\n",
    "    \n",
    "    # Conexión a la base de datos de MySQL\n",
    "    conn = mysql.connector.connect(\n",
    "        host = \"localhost\",\n",
    "        user = \"root\",\n",
    "        password = \"Whereisbotus1996\",\n",
    "        database = \"coches_segunda_mano\"\n",
    "    )\n",
    "    # Crear un cursor para ejecutar comandos SQL\n",
    "    cursor = conn.cursor()\n",
    "\n",
    "    # Crear la consulta SQL para seleccionar todos los datos de la tabla\n",
    "    query = f\"SELECT * FROM {nombre_tabla}\"\n",
    "\n",
    "    # Ejecutar la consulta y recuperar los datos\n",
    "    cursor.execute(query)\n",
    "    resultado = cursor.fetchall()\n",
    "\n",
    "    # Obtener los nombres de las columnas de la tabla\n",
    "    columnas = [desc[0] for desc in cursor.description]\n",
    "\n",
    "    # Convertir los resultados a un DataFrame\n",
    "    df = pd.DataFrame(resultado, columns=columnas)\n",
    "    \n",
    "    #Guardar el df en un csv\n",
    "    \n",
    "    df.to_csv(ruta_csv, index = False)\n",
    "\n",
    "    # Cerrar el cursor y la conexión\n",
    "    cursor.close()\n",
    "    conn.close()\n",
    "\n",
    "    # Devolver el DataFrame\n",
    "    print(f\"Datos extraidos y guardados en {nombre_csv}\")\n",
    "    return df\n",
    "\n",
    "# Llamar a la función para extraer datos de la tabla\n",
    "df_extraido = extraer_datos('tipo_traccion', 'listado_traccion_extraido.csv', '')\n",
    "print(df_extraido)"
   ]
  },
  {
   "cell_type": "code",
   "execution_count": null,
   "id": "7b6213ac-ab27-4abf-8ce1-7a7fbfbbfc49",
   "metadata": {},
   "outputs": [],
   "source": []
  }
 ],
 "metadata": {
  "kernelspec": {
   "display_name": "Python 3 (ipykernel)",
   "language": "python",
   "name": "python3"
  },
  "language_info": {
   "codemirror_mode": {
    "name": "ipython",
    "version": 3
   },
   "file_extension": ".py",
   "mimetype": "text/x-python",
   "name": "python",
   "nbconvert_exporter": "python",
   "pygments_lexer": "ipython3",
   "version": "3.11.7"
  }
 },
 "nbformat": 4,
 "nbformat_minor": 5
}
