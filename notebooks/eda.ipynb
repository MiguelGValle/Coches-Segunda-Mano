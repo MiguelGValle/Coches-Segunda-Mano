{
 "cells": [
  {
   "cell_type": "code",
   "execution_count": 2,
   "id": "bd88e695-1453-4dfb-a5b0-1000dc34d2ac",
   "metadata": {
    "tags": []
   },
   "outputs": [],
   "source": [
    "import numpy as np\n",
    "import pandas as pd\n",
    "import matplotlib.pyplot as plt\n",
    "import seaborn as sns\n",
    "\n",
    "from sklearn.preprocessing import LabelEncoder\n",
    "from sklearn.preprocessing import OneHotEncoder\n",
    "from sklearn.impute import KNNImputer\n",
    "\n",
    "from sklearn.ensemble import RandomForestRegressor"
   ]
  },
  {
   "cell_type": "code",
   "execution_count": 3,
   "id": "769e28ab-33f0-48c4-b662-ed99be01e869",
   "metadata": {
    "tags": []
   },
   "outputs": [
    {
     "data": {
      "text/html": [
       "<div>\n",
       "<style scoped>\n",
       "    .dataframe tbody tr th:only-of-type {\n",
       "        vertical-align: middle;\n",
       "    }\n",
       "\n",
       "    .dataframe tbody tr th {\n",
       "        vertical-align: top;\n",
       "    }\n",
       "\n",
       "    .dataframe thead th {\n",
       "        text-align: right;\n",
       "    }\n",
       "</style>\n",
       "<table border=\"1\" class=\"dataframe\">\n",
       "  <thead>\n",
       "    <tr style=\"text-align: right;\">\n",
       "      <th></th>\n",
       "      <th>fecha_extracción</th>\n",
       "      <th>provincia</th>\n",
       "      <th>marca_modelo</th>\n",
       "      <th>fecha_matriculacion</th>\n",
       "      <th>kilometraje</th>\n",
       "      <th>nombre_vendedor</th>\n",
       "      <th>tipo_vendedor</th>\n",
       "      <th>distintivo_ambiental</th>\n",
       "      <th>garantia</th>\n",
       "      <th>precio_contado</th>\n",
       "      <th>precio_nuevo</th>\n",
       "      <th>carroceria</th>\n",
       "      <th>num_puertas</th>\n",
       "      <th>num_plazas</th>\n",
       "      <th>peso</th>\n",
       "      <th>combustible</th>\n",
       "      <th>potencia_cv</th>\n",
       "      <th>cilindrada</th>\n",
       "      <th>tipo_cambio</th>\n",
       "      <th>num_marchas</th>\n",
       "      <th>largo</th>\n",
       "      <th>ancho</th>\n",
       "      <th>alto</th>\n",
       "      <th>capacidad_maletero</th>\n",
       "      <th>batalla</th>\n",
       "      <th>consumo_medio</th>\n",
       "      <th>consumo_carretera</th>\n",
       "      <th>consumo_urbano</th>\n",
       "      <th>CO2</th>\n",
       "      <th>deposito</th>\n",
       "      <th>cilindros</th>\n",
       "      <th>sobrealimentacion</th>\n",
       "      <th>traccion</th>\n",
       "      <th>potencia_kw</th>\n",
       "      <th>par</th>\n",
       "      <th>velocidad_max</th>\n",
       "      <th>aceleracion</th>\n",
       "    </tr>\n",
       "  </thead>\n",
       "  <tbody>\n",
       "    <tr>\n",
       "      <th>0</th>\n",
       "      <td>2024-11-04 16:50:01.106559</td>\n",
       "      <td>Las Palmas</td>\n",
       "      <td>Detalles MERCEDES-BENZ EQA (2021)</td>\n",
       "      <td>Matriculado: 01/2021</td>\n",
       "      <td>28000</td>\n",
       "      <td>GT CARS PREMIUM LAS PALMAS</td>\n",
       "      <td>Profesional</td>\n",
       "      <td>0 EMISIONES</td>\n",
       "      <td>12 meses</td>\n",
       "      <td>35900</td>\n",
       "      <td>no disponible</td>\n",
       "      <td>4x4, SUV o pickup</td>\n",
       "      <td>5 Puertas</td>\n",
       "      <td>5</td>\n",
       "      <td>NaN</td>\n",
       "      <td>Eléctrico</td>\n",
       "      <td>218</td>\n",
       "      <td>NaN</td>\n",
       "      <td>Automático</td>\n",
       "      <td>NaN</td>\n",
       "      <td>NaN</td>\n",
       "      <td>NaN</td>\n",
       "      <td>NaN</td>\n",
       "      <td>NaN</td>\n",
       "      <td>NaN</td>\n",
       "      <td>NaN</td>\n",
       "      <td>NaN</td>\n",
       "      <td>NaN</td>\n",
       "      <td>NaN</td>\n",
       "      <td>NaN</td>\n",
       "      <td>NaN</td>\n",
       "      <td>NaN</td>\n",
       "      <td>NaN</td>\n",
       "      <td>NaN</td>\n",
       "      <td>NaN</td>\n",
       "      <td>NaN</td>\n",
       "      <td>NaN</td>\n",
       "    </tr>\n",
       "    <tr>\n",
       "      <th>1</th>\n",
       "      <td>2024-11-04 16:50:01.106559</td>\n",
       "      <td>Madrid</td>\n",
       "      <td>Detalles RENAULT Laguna (2001)</td>\n",
       "      <td>Matriculado: 09/2001</td>\n",
       "      <td>246000</td>\n",
       "      <td>AUTOS VALDEL</td>\n",
       "      <td>Profesional</td>\n",
       "      <td>B</td>\n",
       "      <td>3 meses</td>\n",
       "      <td>2190</td>\n",
       "      <td>21300</td>\n",
       "      <td>CarroceríaBerlina</td>\n",
       "      <td>Número de puertas5</td>\n",
       "      <td>Número de plazas5</td>\n",
       "      <td>Peso/Masa max. autorizado (kg)1.865</td>\n",
       "      <td>Combustible Gasolina</td>\n",
       "      <td>Potencia (CV)123</td>\n",
       "      <td>Cilindrada (cm3) 1.783</td>\n",
       "      <td>Tipo de transmisión Manual</td>\n",
       "      <td>Número de marchas5</td>\n",
       "      <td>4576 mm Largo</td>\n",
       "      <td>1772 mm Ancho</td>\n",
       "      <td>1429 mm Alto</td>\n",
       "      <td>Capacidad del maletero (l)0/0</td>\n",
       "      <td>Batalla (mm)\\r\\n2.740</td>\n",
       "      <td>Consumo medio 7,50 litros/100 km</td>\n",
       "      <td>Consumo en carretera 6,10 litros/100 km</td>\n",
       "      <td>Consumo urbano 10,00 litros/100 km</td>\n",
       "      <td>CO2 (g/km) - g/km</td>\n",
       "      <td>Depósito de combustible (l) 0,00 litros</td>\n",
       "      <td>Nº de cilindros 4 cilindros</td>\n",
       "      <td>Sobrealimentación -</td>\n",
       "      <td>TracciónTracción delantera</td>\n",
       "      <td>Potencia (KW)89</td>\n",
       "      <td>Par (Nm)168</td>\n",
       "      <td>Velocidad máxima (km/h)-</td>\n",
       "      <td>Aceleración 0-100 km/h (s)10,70</td>\n",
       "    </tr>\n",
       "    <tr>\n",
       "      <th>2</th>\n",
       "      <td>2024-11-04 16:50:01.106559</td>\n",
       "      <td>Ciudad Real</td>\n",
       "      <td>Detalles KGM / SSANGYONG Tivoli (2019)</td>\n",
       "      <td>Matriculado: 10/2019</td>\n",
       "      <td>77440</td>\n",
       "      <td>AUTOS JIMECAR</td>\n",
       "      <td>Profesional</td>\n",
       "      <td>C</td>\n",
       "      <td>12 meses</td>\n",
       "      <td>15990</td>\n",
       "      <td>21063</td>\n",
       "      <td>CarroceríaTodo Terreno</td>\n",
       "      <td>Número de puertas5</td>\n",
       "      <td>Número de plazas5</td>\n",
       "      <td>Peso/Masa max. autorizado (kg)1.880</td>\n",
       "      <td>Combustible Gasolina</td>\n",
       "      <td>Potencia (CV)163</td>\n",
       "      <td>Cilindrada (cm3) 1.497</td>\n",
       "      <td>Tipo de transmisión Automática secuencial</td>\n",
       "      <td>Número de marchas6</td>\n",
       "      <td>4225 mm Largo</td>\n",
       "      <td>1810 mm Ancho</td>\n",
       "      <td>1613 mm Alto</td>\n",
       "      <td>Capacidad del maletero (l)427/1.115</td>\n",
       "      <td>Batalla (mm)\\r\\n2.600</td>\n",
       "      <td>Consumo medio 7,50 litros/100 km</td>\n",
       "      <td>Consumo en carretera 6,40 litros/100 km</td>\n",
       "      <td>Consumo urbano 9,30 litros/100 km</td>\n",
       "      <td>CO2 (g/km) 160 g/km</td>\n",
       "      <td>Depósito de combustible (l) 50,00 litros</td>\n",
       "      <td>Nº de cilindros 4 cilindros</td>\n",
       "      <td>Sobrealimentación Turbo</td>\n",
       "      <td>TracciónTracción delantera</td>\n",
       "      <td>Potencia (KW)120</td>\n",
       "      <td>Par (Nm)260</td>\n",
       "      <td>Velocidad máxima (km/h)175</td>\n",
       "      <td>Aceleración 0-100 km/h (s)0,00</td>\n",
       "    </tr>\n",
       "    <tr>\n",
       "      <th>3</th>\n",
       "      <td>2024-11-04 16:50:01.106559</td>\n",
       "      <td>Madrid</td>\n",
       "      <td>Detalles FORD Puma (2023)</td>\n",
       "      <td>Matriculado: 06/2023</td>\n",
       "      <td>29011</td>\n",
       "      <td>ROMADRID CAR SLU</td>\n",
       "      <td>Profesional</td>\n",
       "      <td>ECO</td>\n",
       "      <td>19 meses</td>\n",
       "      <td>18990</td>\n",
       "      <td>26293</td>\n",
       "      <td>CarroceríaTodo Terreno</td>\n",
       "      <td>Número de puertas5</td>\n",
       "      <td>Número de plazas5</td>\n",
       "      <td>Peso/Masa max. autorizado (kg)1.760</td>\n",
       "      <td>Combustible Gasolina</td>\n",
       "      <td>Potencia (CV)125</td>\n",
       "      <td>Cilindrada (cm3) 999</td>\n",
       "      <td>Tipo de transmisión Manual</td>\n",
       "      <td>Número de marchas6</td>\n",
       "      <td>4186 mm Largo</td>\n",
       "      <td>1805 mm Ancho</td>\n",
       "      <td>1537 mm Alto</td>\n",
       "      <td>Capacidad del maletero (l)402/1.216</td>\n",
       "      <td>Batalla (mm)\\r\\n2.588</td>\n",
       "      <td>Consumo medio 0,00 litros/100 km</td>\n",
       "      <td>Consumo en carretera 0,00 litros/100 km</td>\n",
       "      <td>Consumo urbano 0,00 litros/100 km</td>\n",
       "      <td>CO2 (g/km) - g/km</td>\n",
       "      <td>Depósito de combustible (l) 42,00 litros</td>\n",
       "      <td>Nº de cilindros 3 cilindros</td>\n",
       "      <td>Sobrealimentación Turbo</td>\n",
       "      <td>TracciónTracción delantera</td>\n",
       "      <td>Potencia (KW)92</td>\n",
       "      <td>Par (Nm)210</td>\n",
       "      <td>Velocidad máxima (km/h)191</td>\n",
       "      <td>Aceleración 0-100 km/h (s)9,80</td>\n",
       "    </tr>\n",
       "    <tr>\n",
       "      <th>4</th>\n",
       "      <td>2024-11-04 16:50:01.106559</td>\n",
       "      <td>Vizcaya</td>\n",
       "      <td>Detalles CITROEN C4 (2024)</td>\n",
       "      <td>Matriculado: 09/2024</td>\n",
       "      <td>10</td>\n",
       "      <td>PEUGEOT KAREALDE, Stock Km0</td>\n",
       "      <td>Profesional</td>\n",
       "      <td>C</td>\n",
       "      <td>36 meses</td>\n",
       "      <td>20760</td>\n",
       "      <td>26750</td>\n",
       "      <td>CarroceríaBerlina</td>\n",
       "      <td>Número de puertas5</td>\n",
       "      <td>Número de plazas5</td>\n",
       "      <td>Peso/Masa max. autorizado (kg)1.735</td>\n",
       "      <td>Combustible Gasolina</td>\n",
       "      <td>Potencia (CV)130</td>\n",
       "      <td>Cilindrada (cm3) 1.199</td>\n",
       "      <td>Tipo de transmisión Manual</td>\n",
       "      <td>Número de marchas6</td>\n",
       "      <td>4360 mm Largo</td>\n",
       "      <td>1834 mm Ancho</td>\n",
       "      <td>1520 mm Alto</td>\n",
       "      <td>Capacidad del maletero (l)380/408</td>\n",
       "      <td>Batalla (mm)\\r\\n2.670</td>\n",
       "      <td>Consumo medio 0,00 litros/100 km</td>\n",
       "      <td>Consumo en carretera 0,00 litros/100 km</td>\n",
       "      <td>Consumo urbano 0,00 litros/100 km</td>\n",
       "      <td>CO2 (g/km) - g/km</td>\n",
       "      <td>Depósito de combustible (l) 60,00 litros</td>\n",
       "      <td>Nº de cilindros 3 cilindros</td>\n",
       "      <td>Sobrealimentación -</td>\n",
       "      <td>TracciónTracción delantera</td>\n",
       "      <td>Potencia (KW)96</td>\n",
       "      <td>Par (Nm)230</td>\n",
       "      <td>Velocidad máxima (km/h)210</td>\n",
       "      <td>Aceleración 0-100 km/h (s)10,80</td>\n",
       "    </tr>\n",
       "    <tr>\n",
       "      <th>5</th>\n",
       "      <td>2024-11-04 16:50:01.106559</td>\n",
       "      <td>Madrid</td>\n",
       "      <td>Detalles MERCEDES-BENZ Clase A (2021)</td>\n",
       "      <td>Matriculado: 01/2021</td>\n",
       "      <td>95000</td>\n",
       "      <td>CARSFOREAL</td>\n",
       "      <td>Profesional</td>\n",
       "      <td>C</td>\n",
       "      <td>12 meses</td>\n",
       "      <td>21990</td>\n",
       "      <td>38438</td>\n",
       "      <td>CarroceríaBerlina</td>\n",
       "      <td>Número de puertas5</td>\n",
       "      <td>Número de plazas5</td>\n",
       "      <td>Peso/Masa max. autorizado (kg)1.995</td>\n",
       "      <td>Combustible Diesel</td>\n",
       "      <td>Potencia (CV)150</td>\n",
       "      <td>Cilindrada (cm3) 1.950</td>\n",
       "      <td>Tipo de transmisión Automática secuencial</td>\n",
       "      <td>Número de marchas8</td>\n",
       "      <td>4419 mm Largo</td>\n",
       "      <td>1796 mm Ancho</td>\n",
       "      <td>1440 mm Alto</td>\n",
       "      <td>Capacidad del maletero (l)345/1.185</td>\n",
       "      <td>Batalla (mm)\\r\\n2.729</td>\n",
       "      <td>Consumo medio 4,20 litros/100 km</td>\n",
       "      <td>Consumo en carretera 3,70 litros/100 km</td>\n",
       "      <td>Consumo urbano 5,00 litros/100 km</td>\n",
       "      <td>CO2 (g/km) 110 g/km</td>\n",
       "      <td>Depósito de combustible (l) 43,00 litros</td>\n",
       "      <td>Nº de cilindros 4 cilindros</td>\n",
       "      <td>Sobrealimentación Turbo de geometría variable</td>\n",
       "      <td>TracciónTracción delantera</td>\n",
       "      <td>Potencia (KW)110</td>\n",
       "      <td>Par (Nm)320</td>\n",
       "      <td>Velocidad máxima (km/h)220</td>\n",
       "      <td>Aceleración 0-100 km/h (s)8,10</td>\n",
       "    </tr>\n",
       "    <tr>\n",
       "      <th>6</th>\n",
       "      <td>2024-11-04 16:50:01.106559</td>\n",
       "      <td>Madrid</td>\n",
       "      <td>Detalles VOLKSWAGEN California (2017)</td>\n",
       "      <td>Matriculado: 04/2017</td>\n",
       "      <td>116131</td>\n",
       "      <td>CARSFOREAL</td>\n",
       "      <td>Profesional</td>\n",
       "      <td>C</td>\n",
       "      <td>12 meses</td>\n",
       "      <td>39990</td>\n",
       "      <td>52594</td>\n",
       "      <td>CarroceríaMonovolumen</td>\n",
       "      <td>Número de puertas5</td>\n",
       "      <td>Número de plazas5</td>\n",
       "      <td>Peso/Masa max. autorizado (kg)3.000</td>\n",
       "      <td>Combustible Diesel</td>\n",
       "      <td>Potencia (CV)150</td>\n",
       "      <td>Cilindrada (cm3) 1.968</td>\n",
       "      <td>Tipo de transmisión Manual</td>\n",
       "      <td>Número de marchas6</td>\n",
       "      <td>4904 mm Largo</td>\n",
       "      <td>1904 mm Ancho</td>\n",
       "      <td>1990 mm Alto</td>\n",
       "      <td>Capacidad del maletero (l)0/0</td>\n",
       "      <td>Batalla (mm)\\r\\n3.000</td>\n",
       "      <td>Consumo medio 6,40 litros/100 km</td>\n",
       "      <td>Consumo en carretera 5,70 litros/100 km</td>\n",
       "      <td>Consumo urbano 7,60 litros/100 km</td>\n",
       "      <td>CO2 (g/km) 168 g/km</td>\n",
       "      <td>Depósito de combustible (l) 80,00 litros</td>\n",
       "      <td>Nº de cilindros 4 cilindros</td>\n",
       "      <td>Sobrealimentación Turbo de geometría variable</td>\n",
       "      <td>TracciónTracción delantera</td>\n",
       "      <td>Potencia (KW)110</td>\n",
       "      <td>Par (Nm)340</td>\n",
       "      <td>Velocidad máxima (km/h)179</td>\n",
       "      <td>Aceleración 0-100 km/h (s)0,00</td>\n",
       "    </tr>\n",
       "    <tr>\n",
       "      <th>7</th>\n",
       "      <td>2024-11-04 16:50:01.106559</td>\n",
       "      <td>Alicante</td>\n",
       "      <td>Detalles MITSUBISHI Outlander (2017)</td>\n",
       "      <td>Matriculado: 04/2017</td>\n",
       "      <td>79000</td>\n",
       "      <td>SALSANTA</td>\n",
       "      <td>Profesional</td>\n",
       "      <td>C</td>\n",
       "      <td>12 meses</td>\n",
       "      <td>18900</td>\n",
       "      <td>31250</td>\n",
       "      <td>CarroceríaTodo Terreno</td>\n",
       "      <td>Número de puertas5</td>\n",
       "      <td>Número de plazas7</td>\n",
       "      <td>Peso/Masa max. autorizado (kg)2.260</td>\n",
       "      <td>Combustible Diesel</td>\n",
       "      <td>Potencia (CV)150</td>\n",
       "      <td>Cilindrada (cm3) 2.268</td>\n",
       "      <td>Tipo de transmisión Manual</td>\n",
       "      <td>Número de marchas6</td>\n",
       "      <td>4695 mm Largo</td>\n",
       "      <td>1810 mm Ancho</td>\n",
       "      <td>1680 mm Alto</td>\n",
       "      <td>Capacidad del maletero (l)519/1.625</td>\n",
       "      <td>Batalla (mm)\\r\\n2.670</td>\n",
       "      <td>Consumo medio 5,10 litros/100 km</td>\n",
       "      <td>Consumo en carretera 4,50 litros/100 km</td>\n",
       "      <td>Consumo urbano 6,10 litros/100 km</td>\n",
       "      <td>CO2 (g/km) 134 g/km</td>\n",
       "      <td>Depósito de combustible (l) 63,00 litros</td>\n",
       "      <td>Nº de cilindros 4 cilindros</td>\n",
       "      <td>Sobrealimentación Turbo de geometría variable</td>\n",
       "      <td>TracciónTracción delantera</td>\n",
       "      <td>Potencia (KW)110</td>\n",
       "      <td>Par (Nm)380</td>\n",
       "      <td>Velocidad máxima (km/h)200</td>\n",
       "      <td>Aceleración 0-100 km/h (s)10,00</td>\n",
       "    </tr>\n",
       "    <tr>\n",
       "      <th>8</th>\n",
       "      <td>2024-11-04 16:50:01.106559</td>\n",
       "      <td>Alicante</td>\n",
       "      <td>Detalles RENAULT Captur (2020)</td>\n",
       "      <td>Matriculado: 12/2020</td>\n",
       "      <td>29000</td>\n",
       "      <td>SALSANTA</td>\n",
       "      <td>Profesional</td>\n",
       "      <td>C</td>\n",
       "      <td>12 meses</td>\n",
       "      <td>18350</td>\n",
       "      <td>23190</td>\n",
       "      <td>CarroceríaTodo Terreno</td>\n",
       "      <td>Número de puertas5</td>\n",
       "      <td>Número de plazas5</td>\n",
       "      <td>Peso/Masa max. autorizado (kg)1.775</td>\n",
       "      <td>Combustible Gasolina</td>\n",
       "      <td>Potencia (CV)130</td>\n",
       "      <td>Cilindrada (cm3) 1.333</td>\n",
       "      <td>Tipo de transmisión Manual</td>\n",
       "      <td>Número de marchas6</td>\n",
       "      <td>4228 mm Largo</td>\n",
       "      <td>1797 mm Ancho</td>\n",
       "      <td>1566 mm Alto</td>\n",
       "      <td>Capacidad del maletero (l)536/0</td>\n",
       "      <td>Batalla (mm)\\r\\n2.639</td>\n",
       "      <td>Consumo medio 5,60 litros/100 km</td>\n",
       "      <td>Consumo en carretera 5,30 litros/100 km</td>\n",
       "      <td>Consumo urbano 7,40 litros/100 km</td>\n",
       "      <td>CO2 (g/km) 127 g/km</td>\n",
       "      <td>Depósito de combustible (l) 48,00 litros</td>\n",
       "      <td>Nº de cilindros 4 cilindros</td>\n",
       "      <td>Sobrealimentación Turbo</td>\n",
       "      <td>TracciónTracción delantera</td>\n",
       "      <td>Potencia (KW)96</td>\n",
       "      <td>Par (Nm)240</td>\n",
       "      <td>Velocidad máxima (km/h)195</td>\n",
       "      <td>Aceleración 0-100 km/h (s)10,60</td>\n",
       "    </tr>\n",
       "    <tr>\n",
       "      <th>9</th>\n",
       "      <td>2024-11-04 16:50:01.106559</td>\n",
       "      <td>Alicante</td>\n",
       "      <td>Detalles MERCEDES-BENZ Clase C (2022)</td>\n",
       "      <td>Matriculado: 12/2022</td>\n",
       "      <td>5000</td>\n",
       "      <td>AUTO SALON VILLANUEVA</td>\n",
       "      <td>Profesional</td>\n",
       "      <td>ECO</td>\n",
       "      <td>12 meses</td>\n",
       "      <td>72900</td>\n",
       "      <td>93146</td>\n",
       "      <td>CarroceríaBerlina</td>\n",
       "      <td>Número de puertas4</td>\n",
       "      <td>Número de plazas5</td>\n",
       "      <td>Peso/Masa max. autorizado (kg)2.350</td>\n",
       "      <td>Combustible Gasolina</td>\n",
       "      <td>Potencia (CV)408</td>\n",
       "      <td>Cilindrada (cm3) 1.991</td>\n",
       "      <td>Tipo de transmisión Automática secuencial</td>\n",
       "      <td>Número de marchas9</td>\n",
       "      <td>4791 mm Largo</td>\n",
       "      <td>1824 mm Ancho</td>\n",
       "      <td>1450 mm Alto</td>\n",
       "      <td>Capacidad del maletero (l)455/0</td>\n",
       "      <td>Batalla (mm)\\r\\n2.865</td>\n",
       "      <td>Consumo medio 0,00 litros/100 km</td>\n",
       "      <td>Consumo en carretera 0,00 litros/100 km</td>\n",
       "      <td>Consumo urbano 0,00 litros/100 km</td>\n",
       "      <td>CO2 (g/km) - g/km</td>\n",
       "      <td>Depósito de combustible (l) 66,00 litros</td>\n",
       "      <td>Nº de cilindros 4 cilindros</td>\n",
       "      <td>Sobrealimentación Turbo</td>\n",
       "      <td>TracciónTracción total permanente</td>\n",
       "      <td>Potencia (KW)300</td>\n",
       "      <td>Par (Nm)500</td>\n",
       "      <td>Velocidad máxima (km/h)250</td>\n",
       "      <td>Aceleración 0-100 km/h (s)4,60</td>\n",
       "    </tr>\n",
       "  </tbody>\n",
       "</table>\n",
       "</div>"
      ],
      "text/plain": [
       "             fecha_extracción    provincia  \\\n",
       "0  2024-11-04 16:50:01.106559   Las Palmas   \n",
       "1  2024-11-04 16:50:01.106559       Madrid   \n",
       "2  2024-11-04 16:50:01.106559  Ciudad Real   \n",
       "3  2024-11-04 16:50:01.106559       Madrid   \n",
       "4  2024-11-04 16:50:01.106559      Vizcaya   \n",
       "5  2024-11-04 16:50:01.106559       Madrid   \n",
       "6  2024-11-04 16:50:01.106559       Madrid   \n",
       "7  2024-11-04 16:50:01.106559     Alicante   \n",
       "8  2024-11-04 16:50:01.106559     Alicante   \n",
       "9  2024-11-04 16:50:01.106559     Alicante   \n",
       "\n",
       "                              marca_modelo   fecha_matriculacion  kilometraje  \\\n",
       "0       Detalles MERCEDES-BENZ EQA (2021)   Matriculado: 01/2021        28000   \n",
       "1          Detalles RENAULT Laguna (2001)   Matriculado: 09/2001       246000   \n",
       "2  Detalles KGM / SSANGYONG Tivoli (2019)   Matriculado: 10/2019        77440   \n",
       "3               Detalles FORD Puma (2023)   Matriculado: 06/2023        29011   \n",
       "4              Detalles CITROEN C4 (2024)   Matriculado: 09/2024           10   \n",
       "5   Detalles MERCEDES-BENZ Clase A (2021)   Matriculado: 01/2021        95000   \n",
       "6   Detalles VOLKSWAGEN California (2017)   Matriculado: 04/2017       116131   \n",
       "7    Detalles MITSUBISHI Outlander (2017)   Matriculado: 04/2017        79000   \n",
       "8          Detalles RENAULT Captur (2020)   Matriculado: 12/2020        29000   \n",
       "9   Detalles MERCEDES-BENZ Clase C (2022)   Matriculado: 12/2022         5000   \n",
       "\n",
       "               nombre_vendedor tipo_vendedor distintivo_ambiental  garantia  \\\n",
       "0   GT CARS PREMIUM LAS PALMAS   Profesional          0 EMISIONES  12 meses   \n",
       "1                 AUTOS VALDEL   Profesional                    B   3 meses   \n",
       "2                AUTOS JIMECAR   Profesional                    C  12 meses   \n",
       "3             ROMADRID CAR SLU   Profesional                  ECO  19 meses   \n",
       "4  PEUGEOT KAREALDE, Stock Km0   Profesional                    C  36 meses   \n",
       "5                   CARSFOREAL   Profesional                    C  12 meses   \n",
       "6                   CARSFOREAL   Profesional                    C  12 meses   \n",
       "7                     SALSANTA   Profesional                    C  12 meses   \n",
       "8                     SALSANTA   Profesional                    C  12 meses   \n",
       "9        AUTO SALON VILLANUEVA   Profesional                  ECO  12 meses   \n",
       "\n",
       "  precio_contado   precio_nuevo              carroceria         num_puertas  \\\n",
       "0          35900  no disponible       4x4, SUV o pickup           5 Puertas   \n",
       "1           2190          21300       CarroceríaBerlina  Número de puertas5   \n",
       "2          15990          21063  CarroceríaTodo Terreno  Número de puertas5   \n",
       "3          18990          26293  CarroceríaTodo Terreno  Número de puertas5   \n",
       "4          20760          26750       CarroceríaBerlina  Número de puertas5   \n",
       "5          21990          38438       CarroceríaBerlina  Número de puertas5   \n",
       "6          39990          52594   CarroceríaMonovolumen  Número de puertas5   \n",
       "7          18900          31250  CarroceríaTodo Terreno  Número de puertas5   \n",
       "8          18350          23190  CarroceríaTodo Terreno  Número de puertas5   \n",
       "9          72900          93146       CarroceríaBerlina  Número de puertas4   \n",
       "\n",
       "          num_plazas                                 peso  \\\n",
       "0                  5                                  NaN   \n",
       "1  Número de plazas5  Peso/Masa max. autorizado (kg)1.865   \n",
       "2  Número de plazas5  Peso/Masa max. autorizado (kg)1.880   \n",
       "3  Número de plazas5  Peso/Masa max. autorizado (kg)1.760   \n",
       "4  Número de plazas5  Peso/Masa max. autorizado (kg)1.735   \n",
       "5  Número de plazas5  Peso/Masa max. autorizado (kg)1.995   \n",
       "6  Número de plazas5  Peso/Masa max. autorizado (kg)3.000   \n",
       "7  Número de plazas7  Peso/Masa max. autorizado (kg)2.260   \n",
       "8  Número de plazas5  Peso/Masa max. autorizado (kg)1.775   \n",
       "9  Número de plazas5  Peso/Masa max. autorizado (kg)2.350   \n",
       "\n",
       "            combustible       potencia_cv              cilindrada  \\\n",
       "0             Eléctrico               218                     NaN   \n",
       "1  Combustible Gasolina  Potencia (CV)123  Cilindrada (cm3) 1.783   \n",
       "2  Combustible Gasolina  Potencia (CV)163  Cilindrada (cm3) 1.497   \n",
       "3  Combustible Gasolina  Potencia (CV)125    Cilindrada (cm3) 999   \n",
       "4  Combustible Gasolina  Potencia (CV)130  Cilindrada (cm3) 1.199   \n",
       "5    Combustible Diesel  Potencia (CV)150  Cilindrada (cm3) 1.950   \n",
       "6    Combustible Diesel  Potencia (CV)150  Cilindrada (cm3) 1.968   \n",
       "7    Combustible Diesel  Potencia (CV)150  Cilindrada (cm3) 2.268   \n",
       "8  Combustible Gasolina  Potencia (CV)130  Cilindrada (cm3) 1.333   \n",
       "9  Combustible Gasolina  Potencia (CV)408  Cilindrada (cm3) 1.991   \n",
       "\n",
       "                                 tipo_cambio         num_marchas  \\\n",
       "0                                 Automático                 NaN   \n",
       "1                 Tipo de transmisión Manual  Número de marchas5   \n",
       "2  Tipo de transmisión Automática secuencial  Número de marchas6   \n",
       "3                 Tipo de transmisión Manual  Número de marchas6   \n",
       "4                 Tipo de transmisión Manual  Número de marchas6   \n",
       "5  Tipo de transmisión Automática secuencial  Número de marchas8   \n",
       "6                 Tipo de transmisión Manual  Número de marchas6   \n",
       "7                 Tipo de transmisión Manual  Número de marchas6   \n",
       "8                 Tipo de transmisión Manual  Número de marchas6   \n",
       "9  Tipo de transmisión Automática secuencial  Número de marchas9   \n",
       "\n",
       "           largo          ancho          alto  \\\n",
       "0            NaN            NaN           NaN   \n",
       "1  4576 mm Largo  1772 mm Ancho  1429 mm Alto   \n",
       "2  4225 mm Largo  1810 mm Ancho  1613 mm Alto   \n",
       "3  4186 mm Largo  1805 mm Ancho  1537 mm Alto   \n",
       "4  4360 mm Largo  1834 mm Ancho  1520 mm Alto   \n",
       "5  4419 mm Largo  1796 mm Ancho  1440 mm Alto   \n",
       "6  4904 mm Largo  1904 mm Ancho  1990 mm Alto   \n",
       "7  4695 mm Largo  1810 mm Ancho  1680 mm Alto   \n",
       "8  4228 mm Largo  1797 mm Ancho  1566 mm Alto   \n",
       "9  4791 mm Largo  1824 mm Ancho  1450 mm Alto   \n",
       "\n",
       "                    capacidad_maletero                batalla  \\\n",
       "0                                  NaN                    NaN   \n",
       "1        Capacidad del maletero (l)0/0  Batalla (mm)\\r\\n2.740   \n",
       "2  Capacidad del maletero (l)427/1.115  Batalla (mm)\\r\\n2.600   \n",
       "3  Capacidad del maletero (l)402/1.216  Batalla (mm)\\r\\n2.588   \n",
       "4    Capacidad del maletero (l)380/408  Batalla (mm)\\r\\n2.670   \n",
       "5  Capacidad del maletero (l)345/1.185  Batalla (mm)\\r\\n2.729   \n",
       "6        Capacidad del maletero (l)0/0  Batalla (mm)\\r\\n3.000   \n",
       "7  Capacidad del maletero (l)519/1.625  Batalla (mm)\\r\\n2.670   \n",
       "8      Capacidad del maletero (l)536/0  Batalla (mm)\\r\\n2.639   \n",
       "9      Capacidad del maletero (l)455/0  Batalla (mm)\\r\\n2.865   \n",
       "\n",
       "                      consumo_medio                        consumo_carretera  \\\n",
       "0                               NaN                                      NaN   \n",
       "1  Consumo medio 7,50 litros/100 km  Consumo en carretera 6,10 litros/100 km   \n",
       "2  Consumo medio 7,50 litros/100 km  Consumo en carretera 6,40 litros/100 km   \n",
       "3  Consumo medio 0,00 litros/100 km  Consumo en carretera 0,00 litros/100 km   \n",
       "4  Consumo medio 0,00 litros/100 km  Consumo en carretera 0,00 litros/100 km   \n",
       "5  Consumo medio 4,20 litros/100 km  Consumo en carretera 3,70 litros/100 km   \n",
       "6  Consumo medio 6,40 litros/100 km  Consumo en carretera 5,70 litros/100 km   \n",
       "7  Consumo medio 5,10 litros/100 km  Consumo en carretera 4,50 litros/100 km   \n",
       "8  Consumo medio 5,60 litros/100 km  Consumo en carretera 5,30 litros/100 km   \n",
       "9  Consumo medio 0,00 litros/100 km  Consumo en carretera 0,00 litros/100 km   \n",
       "\n",
       "                       consumo_urbano                  CO2  \\\n",
       "0                                 NaN                  NaN   \n",
       "1  Consumo urbano 10,00 litros/100 km    CO2 (g/km) - g/km   \n",
       "2   Consumo urbano 9,30 litros/100 km  CO2 (g/km) 160 g/km   \n",
       "3   Consumo urbano 0,00 litros/100 km    CO2 (g/km) - g/km   \n",
       "4   Consumo urbano 0,00 litros/100 km    CO2 (g/km) - g/km   \n",
       "5   Consumo urbano 5,00 litros/100 km  CO2 (g/km) 110 g/km   \n",
       "6   Consumo urbano 7,60 litros/100 km  CO2 (g/km) 168 g/km   \n",
       "7   Consumo urbano 6,10 litros/100 km  CO2 (g/km) 134 g/km   \n",
       "8   Consumo urbano 7,40 litros/100 km  CO2 (g/km) 127 g/km   \n",
       "9   Consumo urbano 0,00 litros/100 km    CO2 (g/km) - g/km   \n",
       "\n",
       "                                   deposito                    cilindros  \\\n",
       "0                                       NaN                          NaN   \n",
       "1   Depósito de combustible (l) 0,00 litros  Nº de cilindros 4 cilindros   \n",
       "2  Depósito de combustible (l) 50,00 litros  Nº de cilindros 4 cilindros   \n",
       "3  Depósito de combustible (l) 42,00 litros  Nº de cilindros 3 cilindros   \n",
       "4  Depósito de combustible (l) 60,00 litros  Nº de cilindros 3 cilindros   \n",
       "5  Depósito de combustible (l) 43,00 litros  Nº de cilindros 4 cilindros   \n",
       "6  Depósito de combustible (l) 80,00 litros  Nº de cilindros 4 cilindros   \n",
       "7  Depósito de combustible (l) 63,00 litros  Nº de cilindros 4 cilindros   \n",
       "8  Depósito de combustible (l) 48,00 litros  Nº de cilindros 4 cilindros   \n",
       "9  Depósito de combustible (l) 66,00 litros  Nº de cilindros 4 cilindros   \n",
       "\n",
       "                               sobrealimentacion  \\\n",
       "0                                            NaN   \n",
       "1                            Sobrealimentación -   \n",
       "2                        Sobrealimentación Turbo   \n",
       "3                        Sobrealimentación Turbo   \n",
       "4                            Sobrealimentación -   \n",
       "5  Sobrealimentación Turbo de geometría variable   \n",
       "6  Sobrealimentación Turbo de geometría variable   \n",
       "7  Sobrealimentación Turbo de geometría variable   \n",
       "8                        Sobrealimentación Turbo   \n",
       "9                        Sobrealimentación Turbo   \n",
       "\n",
       "                            traccion       potencia_kw          par  \\\n",
       "0                                NaN               NaN          NaN   \n",
       "1         TracciónTracción delantera   Potencia (KW)89  Par (Nm)168   \n",
       "2         TracciónTracción delantera  Potencia (KW)120  Par (Nm)260   \n",
       "3         TracciónTracción delantera   Potencia (KW)92  Par (Nm)210   \n",
       "4         TracciónTracción delantera   Potencia (KW)96  Par (Nm)230   \n",
       "5         TracciónTracción delantera  Potencia (KW)110  Par (Nm)320   \n",
       "6         TracciónTracción delantera  Potencia (KW)110  Par (Nm)340   \n",
       "7         TracciónTracción delantera  Potencia (KW)110  Par (Nm)380   \n",
       "8         TracciónTracción delantera   Potencia (KW)96  Par (Nm)240   \n",
       "9  TracciónTracción total permanente  Potencia (KW)300  Par (Nm)500   \n",
       "\n",
       "                velocidad_max                      aceleracion  \n",
       "0                         NaN                              NaN  \n",
       "1    Velocidad máxima (km/h)-  Aceleración 0-100 km/h (s)10,70  \n",
       "2  Velocidad máxima (km/h)175   Aceleración 0-100 km/h (s)0,00  \n",
       "3  Velocidad máxima (km/h)191   Aceleración 0-100 km/h (s)9,80  \n",
       "4  Velocidad máxima (km/h)210  Aceleración 0-100 km/h (s)10,80  \n",
       "5  Velocidad máxima (km/h)220   Aceleración 0-100 km/h (s)8,10  \n",
       "6  Velocidad máxima (km/h)179   Aceleración 0-100 km/h (s)0,00  \n",
       "7  Velocidad máxima (km/h)200  Aceleración 0-100 km/h (s)10,00  \n",
       "8  Velocidad máxima (km/h)195  Aceleración 0-100 km/h (s)10,60  \n",
       "9  Velocidad máxima (km/h)250   Aceleración 0-100 km/h (s)4,60  "
      ]
     },
     "execution_count": 3,
     "metadata": {},
     "output_type": "execute_result"
    }
   ],
   "source": [
    "pd.set_option('display.max_columns', None)\n",
    "\n",
    "df = pd.read_csv('../bin/data.csv')\n",
    "\n",
    "df.head(10)"
   ]
  },
  {
   "cell_type": "code",
   "execution_count": 4,
   "id": "2bfbbec4-2563-4e6f-889d-4b4478ccc86f",
   "metadata": {
    "tags": []
   },
   "outputs": [
    {
     "data": {
      "text/plain": [
       "Index(['fecha_extracción', 'provincia', 'marca_modelo', 'fecha_matriculacion',\n",
       "       'kilometraje', 'nombre_vendedor', 'tipo_vendedor',\n",
       "       'distintivo_ambiental', 'garantia', 'precio_contado', 'precio_nuevo',\n",
       "       'carroceria', 'num_puertas', 'num_plazas', 'peso', 'combustible',\n",
       "       'potencia_cv', 'cilindrada', 'tipo_cambio', 'num_marchas', 'largo',\n",
       "       'ancho', 'alto', 'capacidad_maletero', 'batalla', 'consumo_medio',\n",
       "       'consumo_carretera', 'consumo_urbano', 'CO2', 'deposito', 'cilindros',\n",
       "       'sobrealimentacion', 'traccion', 'potencia_kw', 'par', 'velocidad_max',\n",
       "       'aceleracion'],\n",
       "      dtype='object')"
      ]
     },
     "execution_count": 4,
     "metadata": {},
     "output_type": "execute_result"
    }
   ],
   "source": [
    "df.columns"
   ]
  },
  {
   "cell_type": "code",
   "execution_count": 5,
   "id": "4ea8dc60-d276-495e-a14f-f1496c927ae5",
   "metadata": {
    "tags": []
   },
   "outputs": [
    {
     "data": {
      "text/plain": [
       "True"
      ]
     },
     "execution_count": 5,
     "metadata": {},
     "output_type": "execute_result"
    }
   ],
   "source": [
    "df['kilometraje'].dtype == 'int64'"
   ]
  },
  {
   "cell_type": "code",
   "execution_count": 6,
   "id": "7cf662aa-d336-474b-a688-3b28b7972449",
   "metadata": {
    "tags": []
   },
   "outputs": [
    {
     "data": {
      "text/plain": [
       "(30, 37)"
      ]
     },
     "execution_count": 6,
     "metadata": {},
     "output_type": "execute_result"
    }
   ],
   "source": [
    "df.shape"
   ]
  },
  {
   "cell_type": "code",
   "execution_count": 7,
   "id": "3dcfb253-755b-4f05-ab83-869ea6764465",
   "metadata": {
    "tags": []
   },
   "outputs": [
    {
     "name": "stdout",
     "output_type": "stream",
     "text": [
      "fecha_extracción        0.000000\n",
      "provincia               0.000000\n",
      "marca_modelo            0.000000\n",
      "fecha_matriculacion     0.000000\n",
      "kilometraje             0.000000\n",
      "nombre_vendedor         0.000000\n",
      "tipo_vendedor           0.000000\n",
      "distintivo_ambiental    0.000000\n",
      "garantia                0.000000\n",
      "precio_contado          0.000000\n",
      "precio_nuevo            0.000000\n",
      "carroceria              0.000000\n",
      "num_puertas             0.000000\n",
      "num_plazas              0.000000\n",
      "peso                    3.333333\n",
      "combustible             0.000000\n",
      "potencia_cv             0.000000\n",
      "cilindrada              3.333333\n",
      "tipo_cambio             0.000000\n",
      "num_marchas             3.333333\n",
      "largo                   3.333333\n",
      "ancho                   3.333333\n",
      "alto                    3.333333\n",
      "capacidad_maletero      3.333333\n",
      "batalla                 3.333333\n",
      "consumo_medio           3.333333\n",
      "consumo_carretera       3.333333\n",
      "consumo_urbano          3.333333\n",
      "CO2                     3.333333\n",
      "deposito                3.333333\n",
      "cilindros               3.333333\n",
      "sobrealimentacion       3.333333\n",
      "traccion                3.333333\n",
      "potencia_kw             3.333333\n",
      "par                     3.333333\n",
      "velocidad_max           3.333333\n",
      "aceleracion             3.333333\n",
      "dtype: float64\n"
     ]
    }
   ],
   "source": [
    "nan_percentage = df.isna().mean()*100\n",
    "print(nan_percentage)"
   ]
  },
  {
   "cell_type": "code",
   "execution_count": 8,
   "id": "22c56b73-6978-427c-bc36-8b62b210e4f2",
   "metadata": {
    "tags": []
   },
   "outputs": [],
   "source": [
    "df = df.dropna(subset=['precio_contado'])"
   ]
  },
  {
   "cell_type": "code",
   "execution_count": 9,
   "id": "95f2e2ca-697b-4347-9cea-35b9ec4db363",
   "metadata": {
    "tags": []
   },
   "outputs": [
    {
     "name": "stdout",
     "output_type": "stream",
     "text": [
      "fecha_extracción        0.000000\n",
      "provincia               0.000000\n",
      "marca_modelo            0.000000\n",
      "fecha_matriculacion     0.000000\n",
      "kilometraje             0.000000\n",
      "nombre_vendedor         0.000000\n",
      "tipo_vendedor           0.000000\n",
      "distintivo_ambiental    0.000000\n",
      "garantia                0.000000\n",
      "precio_contado          0.000000\n",
      "precio_nuevo            0.000000\n",
      "carroceria              0.000000\n",
      "num_puertas             0.000000\n",
      "num_plazas              0.000000\n",
      "peso                    3.333333\n",
      "combustible             0.000000\n",
      "potencia_cv             0.000000\n",
      "cilindrada              3.333333\n",
      "tipo_cambio             0.000000\n",
      "num_marchas             3.333333\n",
      "largo                   3.333333\n",
      "ancho                   3.333333\n",
      "alto                    3.333333\n",
      "capacidad_maletero      3.333333\n",
      "batalla                 3.333333\n",
      "consumo_medio           3.333333\n",
      "consumo_carretera       3.333333\n",
      "consumo_urbano          3.333333\n",
      "CO2                     3.333333\n",
      "deposito                3.333333\n",
      "cilindros               3.333333\n",
      "sobrealimentacion       3.333333\n",
      "traccion                3.333333\n",
      "potencia_kw             3.333333\n",
      "par                     3.333333\n",
      "velocidad_max           3.333333\n",
      "aceleracion             3.333333\n",
      "dtype: float64\n"
     ]
    }
   ],
   "source": [
    "nan_percentage = df.isna().mean()*100\n",
    "print(nan_percentage)"
   ]
  },
  {
   "cell_type": "code",
   "execution_count": 10,
   "id": "bee20fcc-1422-45a2-b6a0-bc5592f84942",
   "metadata": {
    "tags": []
   },
   "outputs": [
    {
     "data": {
      "text/plain": [
       "(30, 37)"
      ]
     },
     "execution_count": 10,
     "metadata": {},
     "output_type": "execute_result"
    }
   ],
   "source": [
    "df.shape"
   ]
  },
  {
   "cell_type": "code",
   "execution_count": 11,
   "id": "f587315e-c852-4859-8639-897a560e5cf8",
   "metadata": {
    "tags": []
   },
   "outputs": [
    {
     "data": {
      "text/plain": [
       "array(['Automático', 'Tipo de transmisión Manual',\n",
       "       'Tipo de transmisión Automática secuencial'], dtype=object)"
      ]
     },
     "execution_count": 11,
     "metadata": {},
     "output_type": "execute_result"
    }
   ],
   "source": [
    "df['tipo_cambio'].unique()"
   ]
  },
  {
   "cell_type": "code",
   "execution_count": 12,
   "id": "d87a7ef8-87e1-4ad1-9efe-09d9ac9418cd",
   "metadata": {
    "tags": []
   },
   "outputs": [],
   "source": [
    "df['tipo_cambio'] = df['tipo_cambio'].apply(lambda x: 'Automático' if 'Automátic' in x else 'Manual')"
   ]
  },
  {
   "cell_type": "code",
   "execution_count": 13,
   "id": "9f14f2ff-119d-4ddd-880c-e82d7bdf0226",
   "metadata": {
    "tags": []
   },
   "outputs": [
    {
     "data": {
      "text/plain": [
       "array(['4x4, SUV o pickup', 'CarroceríaBerlina', 'CarroceríaTodo Terreno',\n",
       "       'CarroceríaMonovolumen', 'CarroceríaCoupe', 'CarroceríaRoadster',\n",
       "       'CarroceríaStationwagon'], dtype=object)"
      ]
     },
     "execution_count": 13,
     "metadata": {},
     "output_type": "execute_result"
    }
   ],
   "source": [
    "df['carroceria'].unique()"
   ]
  },
  {
   "cell_type": "code",
   "execution_count": 14,
   "id": "9ff2f035-73c1-45fe-994d-d593fe66fe8d",
   "metadata": {
    "tags": []
   },
   "outputs": [],
   "source": [
    "df[\"carroceria\"] = df[\"carroceria\"].str.replace(\"Carrocería\",\"\")"
   ]
  },
  {
   "cell_type": "code",
   "execution_count": 15,
   "id": "78cf8c39-2f8b-4a72-8642-d242e00b0cfa",
   "metadata": {
    "tags": []
   },
   "outputs": [],
   "source": [
    "df[\"combustible\"] = df[\"combustible\"].str.replace(\"combustible \",\"\").str.replace(\"Combustible \",\"\")"
   ]
  },
  {
   "cell_type": "code",
   "execution_count": 16,
   "id": "40ee3d97-00d8-47df-810b-998f735f88ce",
   "metadata": {
    "tags": []
   },
   "outputs": [],
   "source": [
    "df['fecha_matriculacion'] = df['fecha_matriculacion'].str.split(\"Matriculado: \").str[1]\n",
    "\n",
    "def limpiar_fecha(fecha):\n",
    "    try:\n",
    "        mes, ano = fecha.split('/')\n",
    "        return int(mes), int(ano)\n",
    "    except:\n",
    "        return np.nan, int(fecha)\n",
    "\n",
    "df[['mes_matriculacion', 'ano_matriculacion']] = df['fecha_matriculacion'].apply(lambda x: pd.Series(limpiar_fecha(x)))"
   ]
  },
  {
   "cell_type": "code",
   "execution_count": 17,
   "id": "0f419beb-4d95-4a45-8f67-522868befe8a",
   "metadata": {
    "tags": []
   },
   "outputs": [],
   "source": [
    "df = df.drop(columns=['fecha_matriculacion'])"
   ]
  },
  {
   "cell_type": "code",
   "execution_count": 18,
   "id": "e8d72401-05de-4ca9-9a8a-1fb889a875eb",
   "metadata": {
    "tags": []
   },
   "outputs": [],
   "source": [
    "df['ano_matriculacion']=df['ano_matriculacion'].astype('int64')"
   ]
  },
  {
   "cell_type": "code",
   "execution_count": 19,
   "id": "d517cb61-21d4-44fb-bc8a-01147aefece0",
   "metadata": {
    "tags": []
   },
   "outputs": [],
   "source": [
    "df['mes_matriculacion']=df['mes_matriculacion'].astype('int64')"
   ]
  },
  {
   "cell_type": "code",
   "execution_count": 20,
   "id": "2dc17830-16cd-4f79-a0f4-6700a494166f",
   "metadata": {
    "tags": []
   },
   "outputs": [],
   "source": [
    "df = df[df[\"tipo_vendedor\"] == \"Profesional\"]\n",
    "df = df.drop(columns=['tipo_vendedor'])"
   ]
  },
  {
   "cell_type": "code",
   "execution_count": 21,
   "id": "849132da-b51e-4165-9fb9-b35a4d84df85",
   "metadata": {
    "tags": []
   },
   "outputs": [],
   "source": [
    "df[\"garantia\"] = df[\"garantia\"].str.split(' ').str[0].replace(\"Sí\",np.nan).replace(\"No\",0).astype(float)"
   ]
  },
  {
   "cell_type": "code",
   "execution_count": 22,
   "id": "63f5b44d-1570-4741-b34b-85129522d841",
   "metadata": {
    "tags": []
   },
   "outputs": [],
   "source": [
    "df[\"precio_contado\"] = pd.to_numeric(df[\"precio_contado\"], errors='coerce')"
   ]
  },
  {
   "cell_type": "code",
   "execution_count": 23,
   "id": "06a77469-dc5a-48f3-b4aa-5d0b0602e4f2",
   "metadata": {
    "tags": []
   },
   "outputs": [],
   "source": [
    "df[\"precio_nuevo\"] = pd.to_numeric(df[\"precio_nuevo\"], errors='coerce')"
   ]
  },
  {
   "cell_type": "code",
   "execution_count": 24,
   "id": "5c51ec0b-0366-4ed3-b348-5dc45189997b",
   "metadata": {
    "tags": []
   },
   "outputs": [],
   "source": [
    "df[\"largo\"] = df[\"largo\"].str.split(' ').str[0].replace(\"-\", np.nan).astype(float)"
   ]
  },
  {
   "cell_type": "code",
   "execution_count": 25,
   "id": "85f52ff5-0129-45de-ac39-9a4cee03cbbb",
   "metadata": {
    "tags": []
   },
   "outputs": [],
   "source": [
    "df[\"ancho\"] = df[\"ancho\"].str.split(' ').str[0].replace(\"-\", np.nan).astype(float)"
   ]
  },
  {
   "cell_type": "code",
   "execution_count": 26,
   "id": "3c283364-32d8-456d-951b-92c77ea237a8",
   "metadata": {
    "tags": []
   },
   "outputs": [],
   "source": [
    "df[\"alto\"] = df[\"alto\"].str.split(' ').str[0].replace(\"-\", np.nan).astype(float)"
   ]
  },
  {
   "cell_type": "code",
   "execution_count": 27,
   "id": "0e8f679a-727d-4b2a-91c4-c2c5983fae18",
   "metadata": {
    "tags": []
   },
   "outputs": [],
   "source": [
    "df[\"capacidad_maletero\"] = df[\"capacidad_maletero\"].str.split(\")\").str[1].str.split(\"/\").str[0].astype(float)"
   ]
  },
  {
   "cell_type": "code",
   "execution_count": 28,
   "id": "ccc371e7-fb83-40d4-91e1-a4fefbcbc768",
   "metadata": {
    "tags": []
   },
   "outputs": [],
   "source": [
    "df[\"num_plazas\"] = df[\"num_plazas\"].str.split(\"s\").str[1].astype(float)"
   ]
  },
  {
   "cell_type": "code",
   "execution_count": 29,
   "id": "c29505a8-aa7f-48c5-ab5a-036cfe680f50",
   "metadata": {
    "tags": []
   },
   "outputs": [],
   "source": [
    "df[\"batalla\"] = df[\"batalla\"].str.extract(r'(\\d+\\.\\d+)').replace(\".\",\"\").astype(float)"
   ]
  },
  {
   "cell_type": "code",
   "execution_count": 30,
   "id": "a753b782-7ed5-47ca-8ccb-d7e7fd349d36",
   "metadata": {
    "tags": []
   },
   "outputs": [],
   "source": [
    "df[\"peso\"] = df[\"peso\"].str.extract(r'(\\d+\\.\\d+)').replace(\".\",\"\").astype(float)"
   ]
  },
  {
   "cell_type": "code",
   "execution_count": 31,
   "id": "3e8b36b8-6441-492e-b3c4-90057498a23c",
   "metadata": {
    "tags": []
   },
   "outputs": [],
   "source": [
    "df[\"num_puertas\"] = df[\"num_puertas\"].str.extract(r'(\\d+)').astype(int)"
   ]
  },
  {
   "cell_type": "code",
   "execution_count": 32,
   "id": "22367bf7-73a5-4c25-87b1-790df7214241",
   "metadata": {
    "tags": []
   },
   "outputs": [],
   "source": [
    "df[\"consumo_medio\"] = df[\"consumo_medio\"].str.extract(r'(\\d+,\\d+)').replace(',', '.', regex=True).astype(float)"
   ]
  },
  {
   "cell_type": "code",
   "execution_count": 33,
   "id": "3969de4e-0172-4dcb-bc8f-542842b4f67a",
   "metadata": {
    "tags": []
   },
   "outputs": [],
   "source": [
    "df[\"consumo_carretera\"] = df[\"consumo_carretera\"].str.extract(r'(\\d+,\\d+)').replace(',', '.', regex=True).astype(float)"
   ]
  },
  {
   "cell_type": "code",
   "execution_count": 34,
   "id": "a043db1f-36ae-4ade-8701-9486003dc275",
   "metadata": {
    "tags": []
   },
   "outputs": [],
   "source": [
    "df[\"consumo_urbano\"] = df[\"consumo_urbano\"].str.extract(r'(\\d+,\\d+)').replace(',', '.', regex=True).astype(float)"
   ]
  },
  {
   "cell_type": "code",
   "execution_count": 35,
   "id": "9e7b90ff-b54c-4590-9fc7-fa6dcd1c788d",
   "metadata": {
    "tags": []
   },
   "outputs": [],
   "source": [
    "df[\"co2\"] = df[\"CO2\"].str.extract(r'(\\d{1,3})(?= g/km)')[0].astype(float)"
   ]
  },
  {
   "cell_type": "code",
   "execution_count": 36,
   "id": "69cd4eb8-61aa-44cf-8f4d-5f289eb3766e",
   "metadata": {
    "tags": []
   },
   "outputs": [],
   "source": [
    "df[\"deposito\"] = df[\"deposito\"].str.extract(r'(\\d+,\\d+)').replace(',', '.', regex=True).astype(float)"
   ]
  },
  {
   "cell_type": "code",
   "execution_count": 37,
   "id": "deb67ce6-7cc5-4dc4-b07b-36048c62fc2c",
   "metadata": {
    "tags": []
   },
   "outputs": [],
   "source": [
    "df[\"num_cilindros\"] = df[\"cilindros\"].str.extract(r'(\\d+)').astype(float)"
   ]
  },
  {
   "cell_type": "code",
   "execution_count": 38,
   "id": "c8cfaa85-66c8-4273-b852-8f9b2538b6f1",
   "metadata": {
    "tags": []
   },
   "outputs": [],
   "source": [
    "df[\"cilindrada\"] = df[\"cilindrada\"].str.extract(r'(\\d+,\\d+|\\d+\\.\\d+)').replace(',', '.', regex=True).astype(float)"
   ]
  },
  {
   "cell_type": "code",
   "execution_count": 39,
   "id": "b6e78afc-09a1-4d6e-8ff1-9fabab15e1a9",
   "metadata": {
    "tags": []
   },
   "outputs": [],
   "source": [
    "df[\"num_marchas\"] = df[\"num_marchas\"].str.extract(r'(\\d+)').astype(float)"
   ]
  },
  {
   "cell_type": "code",
   "execution_count": 40,
   "id": "0df10320-0503-4d1a-9430-b176494be2c4",
   "metadata": {
    "tags": []
   },
   "outputs": [],
   "source": [
    "df[\"potencia_kw\"] = df[\"potencia_kw\"].str.extract(r'(\\d+)').astype(float)"
   ]
  },
  {
   "cell_type": "code",
   "execution_count": 41,
   "id": "95982777-9705-41d5-83ac-2bfe21e30a15",
   "metadata": {
    "tags": []
   },
   "outputs": [],
   "source": [
    "df[\"potencia_cv\"] = df[\"potencia_cv\"].str.extract(r'(\\d+)').astype(float)"
   ]
  },
  {
   "cell_type": "code",
   "execution_count": 42,
   "id": "9b558210-846d-49a1-8466-1f1a91234a5e",
   "metadata": {
    "tags": []
   },
   "outputs": [],
   "source": [
    "df[\"par\"] = df[\"par\"].str.extract(r'(\\d+)').astype(float)"
   ]
  },
  {
   "cell_type": "code",
   "execution_count": 43,
   "id": "f12b5248-cbd0-497d-a109-35fac57f817f",
   "metadata": {
    "tags": []
   },
   "outputs": [],
   "source": [
    "df[\"velocidad_max\"] = df[\"velocidad_max\"].str.extract(r'(\\d+)').astype(float)"
   ]
  },
  {
   "cell_type": "code",
   "execution_count": 44,
   "id": "21b423fd-f628-4cf6-9c22-a1f6a4f0a8ca",
   "metadata": {
    "tags": []
   },
   "outputs": [],
   "source": [
    "df[\"aceleracion\"] = df[\"aceleracion\"].str.extract(r'(\\d+,\\d+|\\d+\\.\\d+)')[0].str.replace(\",\", \".\").astype(float)"
   ]
  },
  {
   "cell_type": "code",
   "execution_count": 45,
   "id": "6f83d5cb-40d2-4f9f-a494-bc31908e9482",
   "metadata": {
    "tags": []
   },
   "outputs": [],
   "source": [
    "df['id_sobrealimentacion'] = df['sobrealimentacion'].apply(lambda x: x.replace('Sobrealimentación', '') if pd.notna(x) else x)"
   ]
  },
  {
   "cell_type": "code",
   "execution_count": 47,
   "id": "c0b9090c-4ff6-494d-a5ab-97715d7dfbdb",
   "metadata": {
    "tags": []
   },
   "outputs": [
    {
     "ename": "TypeError",
     "evalue": "replace() argument 1 must be str, not float",
     "output_type": "error",
     "traceback": [
      "\u001b[1;31m---------------------------------------------------------------------------\u001b[0m",
      "\u001b[1;31mTypeError\u001b[0m                                 Traceback (most recent call last)",
      "Cell \u001b[1;32mIn[47], line 10\u001b[0m\n\u001b[0;32m      8\u001b[0m \u001b[38;5;66;03m#En la línea de abajo, \"next\" busca el siguiente elemento de la lista para comprobar que coincide\u001b[39;00m\n\u001b[0;32m      9\u001b[0m df[\u001b[38;5;124m'\u001b[39m\u001b[38;5;124mmarca\u001b[39m\u001b[38;5;124m'\u001b[39m] \u001b[38;5;241m=\u001b[39m df[\u001b[38;5;124m'\u001b[39m\u001b[38;5;124mmarca_modelo\u001b[39m\u001b[38;5;124m'\u001b[39m]\u001b[38;5;241m.\u001b[39mapply(\u001b[38;5;28;01mlambda\u001b[39;00m x: \u001b[38;5;28mnext\u001b[39m((marca \u001b[38;5;28;01mfor\u001b[39;00m marca \u001b[38;5;129;01min\u001b[39;00m lista_marcas \u001b[38;5;28;01mif\u001b[39;00m marca \u001b[38;5;129;01min\u001b[39;00m x), np\u001b[38;5;241m.\u001b[39mnan))\n\u001b[1;32m---> 10\u001b[0m df[\u001b[38;5;124m'\u001b[39m\u001b[38;5;124mmodelo\u001b[39m\u001b[38;5;124m'\u001b[39m] \u001b[38;5;241m=\u001b[39m df\u001b[38;5;241m.\u001b[39mapply(\u001b[38;5;28;01mlambda\u001b[39;00m x: x[\u001b[38;5;124m'\u001b[39m\u001b[38;5;124mmarca_modelo\u001b[39m\u001b[38;5;124m'\u001b[39m]\u001b[38;5;241m.\u001b[39mreplace(x[\u001b[38;5;124m'\u001b[39m\u001b[38;5;124mmarca\u001b[39m\u001b[38;5;124m'\u001b[39m], \u001b[38;5;124m\"\u001b[39m\u001b[38;5;124m\"\u001b[39m)\u001b[38;5;241m.\u001b[39mstrip(\u001b[38;5;124m\"\u001b[39m\u001b[38;5;124m ()\u001b[39m\u001b[38;5;124m\"\u001b[39m) \u001b[38;5;28;01mif\u001b[39;00m x[\u001b[38;5;124m'\u001b[39m\u001b[38;5;124mmarca\u001b[39m\u001b[38;5;124m'\u001b[39m] \u001b[38;5;28;01melse\u001b[39;00m x[\u001b[38;5;124m'\u001b[39m\u001b[38;5;124mmarca_modelo\u001b[39m\u001b[38;5;124m'\u001b[39m], axis\u001b[38;5;241m=\u001b[39m\u001b[38;5;241m1\u001b[39m)\n",
      "File \u001b[1;32m~\\anaconda3\\Lib\\site-packages\\pandas\\core\\frame.py:10374\u001b[0m, in \u001b[0;36mDataFrame.apply\u001b[1;34m(self, func, axis, raw, result_type, args, by_row, engine, engine_kwargs, **kwargs)\u001b[0m\n\u001b[0;32m  10360\u001b[0m \u001b[38;5;28;01mfrom\u001b[39;00m \u001b[38;5;21;01mpandas\u001b[39;00m\u001b[38;5;21;01m.\u001b[39;00m\u001b[38;5;21;01mcore\u001b[39;00m\u001b[38;5;21;01m.\u001b[39;00m\u001b[38;5;21;01mapply\u001b[39;00m \u001b[38;5;28;01mimport\u001b[39;00m frame_apply\n\u001b[0;32m  10362\u001b[0m op \u001b[38;5;241m=\u001b[39m frame_apply(\n\u001b[0;32m  10363\u001b[0m     \u001b[38;5;28mself\u001b[39m,\n\u001b[0;32m  10364\u001b[0m     func\u001b[38;5;241m=\u001b[39mfunc,\n\u001b[1;32m   (...)\u001b[0m\n\u001b[0;32m  10372\u001b[0m     kwargs\u001b[38;5;241m=\u001b[39mkwargs,\n\u001b[0;32m  10373\u001b[0m )\n\u001b[1;32m> 10374\u001b[0m \u001b[38;5;28;01mreturn\u001b[39;00m op\u001b[38;5;241m.\u001b[39mapply()\u001b[38;5;241m.\u001b[39m__finalize__(\u001b[38;5;28mself\u001b[39m, method\u001b[38;5;241m=\u001b[39m\u001b[38;5;124m\"\u001b[39m\u001b[38;5;124mapply\u001b[39m\u001b[38;5;124m\"\u001b[39m)\n",
      "File \u001b[1;32m~\\anaconda3\\Lib\\site-packages\\pandas\\core\\apply.py:916\u001b[0m, in \u001b[0;36mFrameApply.apply\u001b[1;34m(self)\u001b[0m\n\u001b[0;32m    913\u001b[0m \u001b[38;5;28;01melif\u001b[39;00m \u001b[38;5;28mself\u001b[39m\u001b[38;5;241m.\u001b[39mraw:\n\u001b[0;32m    914\u001b[0m     \u001b[38;5;28;01mreturn\u001b[39;00m \u001b[38;5;28mself\u001b[39m\u001b[38;5;241m.\u001b[39mapply_raw(engine\u001b[38;5;241m=\u001b[39m\u001b[38;5;28mself\u001b[39m\u001b[38;5;241m.\u001b[39mengine, engine_kwargs\u001b[38;5;241m=\u001b[39m\u001b[38;5;28mself\u001b[39m\u001b[38;5;241m.\u001b[39mengine_kwargs)\n\u001b[1;32m--> 916\u001b[0m \u001b[38;5;28;01mreturn\u001b[39;00m \u001b[38;5;28mself\u001b[39m\u001b[38;5;241m.\u001b[39mapply_standard()\n",
      "File \u001b[1;32m~\\anaconda3\\Lib\\site-packages\\pandas\\core\\apply.py:1063\u001b[0m, in \u001b[0;36mFrameApply.apply_standard\u001b[1;34m(self)\u001b[0m\n\u001b[0;32m   1061\u001b[0m \u001b[38;5;28;01mdef\u001b[39;00m \u001b[38;5;21mapply_standard\u001b[39m(\u001b[38;5;28mself\u001b[39m):\n\u001b[0;32m   1062\u001b[0m     \u001b[38;5;28;01mif\u001b[39;00m \u001b[38;5;28mself\u001b[39m\u001b[38;5;241m.\u001b[39mengine \u001b[38;5;241m==\u001b[39m \u001b[38;5;124m\"\u001b[39m\u001b[38;5;124mpython\u001b[39m\u001b[38;5;124m\"\u001b[39m:\n\u001b[1;32m-> 1063\u001b[0m         results, res_index \u001b[38;5;241m=\u001b[39m \u001b[38;5;28mself\u001b[39m\u001b[38;5;241m.\u001b[39mapply_series_generator()\n\u001b[0;32m   1064\u001b[0m     \u001b[38;5;28;01melse\u001b[39;00m:\n\u001b[0;32m   1065\u001b[0m         results, res_index \u001b[38;5;241m=\u001b[39m \u001b[38;5;28mself\u001b[39m\u001b[38;5;241m.\u001b[39mapply_series_numba()\n",
      "File \u001b[1;32m~\\anaconda3\\Lib\\site-packages\\pandas\\core\\apply.py:1081\u001b[0m, in \u001b[0;36mFrameApply.apply_series_generator\u001b[1;34m(self)\u001b[0m\n\u001b[0;32m   1078\u001b[0m \u001b[38;5;28;01mwith\u001b[39;00m option_context(\u001b[38;5;124m\"\u001b[39m\u001b[38;5;124mmode.chained_assignment\u001b[39m\u001b[38;5;124m\"\u001b[39m, \u001b[38;5;28;01mNone\u001b[39;00m):\n\u001b[0;32m   1079\u001b[0m     \u001b[38;5;28;01mfor\u001b[39;00m i, v \u001b[38;5;129;01min\u001b[39;00m \u001b[38;5;28menumerate\u001b[39m(series_gen):\n\u001b[0;32m   1080\u001b[0m         \u001b[38;5;66;03m# ignore SettingWithCopy here in case the user mutates\u001b[39;00m\n\u001b[1;32m-> 1081\u001b[0m         results[i] \u001b[38;5;241m=\u001b[39m \u001b[38;5;28mself\u001b[39m\u001b[38;5;241m.\u001b[39mfunc(v, \u001b[38;5;241m*\u001b[39m\u001b[38;5;28mself\u001b[39m\u001b[38;5;241m.\u001b[39margs, \u001b[38;5;241m*\u001b[39m\u001b[38;5;241m*\u001b[39m\u001b[38;5;28mself\u001b[39m\u001b[38;5;241m.\u001b[39mkwargs)\n\u001b[0;32m   1082\u001b[0m         \u001b[38;5;28;01mif\u001b[39;00m \u001b[38;5;28misinstance\u001b[39m(results[i], ABCSeries):\n\u001b[0;32m   1083\u001b[0m             \u001b[38;5;66;03m# If we have a view on v, we need to make a copy because\u001b[39;00m\n\u001b[0;32m   1084\u001b[0m             \u001b[38;5;66;03m#  series_generator will swap out the underlying data\u001b[39;00m\n\u001b[0;32m   1085\u001b[0m             results[i] \u001b[38;5;241m=\u001b[39m results[i]\u001b[38;5;241m.\u001b[39mcopy(deep\u001b[38;5;241m=\u001b[39m\u001b[38;5;28;01mFalse\u001b[39;00m)\n",
      "Cell \u001b[1;32mIn[47], line 10\u001b[0m, in \u001b[0;36m<lambda>\u001b[1;34m(x)\u001b[0m\n\u001b[0;32m      8\u001b[0m \u001b[38;5;66;03m#En la línea de abajo, \"next\" busca el siguiente elemento de la lista para comprobar que coincide\u001b[39;00m\n\u001b[0;32m      9\u001b[0m df[\u001b[38;5;124m'\u001b[39m\u001b[38;5;124mmarca\u001b[39m\u001b[38;5;124m'\u001b[39m] \u001b[38;5;241m=\u001b[39m df[\u001b[38;5;124m'\u001b[39m\u001b[38;5;124mmarca_modelo\u001b[39m\u001b[38;5;124m'\u001b[39m]\u001b[38;5;241m.\u001b[39mapply(\u001b[38;5;28;01mlambda\u001b[39;00m x: \u001b[38;5;28mnext\u001b[39m((marca \u001b[38;5;28;01mfor\u001b[39;00m marca \u001b[38;5;129;01min\u001b[39;00m lista_marcas \u001b[38;5;28;01mif\u001b[39;00m marca \u001b[38;5;129;01min\u001b[39;00m x), np\u001b[38;5;241m.\u001b[39mnan))\n\u001b[1;32m---> 10\u001b[0m df[\u001b[38;5;124m'\u001b[39m\u001b[38;5;124mmodelo\u001b[39m\u001b[38;5;124m'\u001b[39m] \u001b[38;5;241m=\u001b[39m df\u001b[38;5;241m.\u001b[39mapply(\u001b[38;5;28;01mlambda\u001b[39;00m x: x[\u001b[38;5;124m'\u001b[39m\u001b[38;5;124mmarca_modelo\u001b[39m\u001b[38;5;124m'\u001b[39m]\u001b[38;5;241m.\u001b[39mreplace(x[\u001b[38;5;124m'\u001b[39m\u001b[38;5;124mmarca\u001b[39m\u001b[38;5;124m'\u001b[39m], \u001b[38;5;124m\"\u001b[39m\u001b[38;5;124m\"\u001b[39m)\u001b[38;5;241m.\u001b[39mstrip(\u001b[38;5;124m\"\u001b[39m\u001b[38;5;124m ()\u001b[39m\u001b[38;5;124m\"\u001b[39m) \u001b[38;5;28;01mif\u001b[39;00m x[\u001b[38;5;124m'\u001b[39m\u001b[38;5;124mmarca\u001b[39m\u001b[38;5;124m'\u001b[39m] \u001b[38;5;28;01melse\u001b[39;00m x[\u001b[38;5;124m'\u001b[39m\u001b[38;5;124mmarca_modelo\u001b[39m\u001b[38;5;124m'\u001b[39m], axis\u001b[38;5;241m=\u001b[39m\u001b[38;5;241m1\u001b[39m)\n",
      "\u001b[1;31mTypeError\u001b[0m: replace() argument 1 must be str, not float"
     ]
    }
   ],
   "source": [
    "marca_listado = pd.read_csv('../bin/listado_marcas.csv')\n",
    "\n",
    "#La lista de marcas no está en mayúsculas pero en \"data\" sí. Hay que convertir todo a mayúsculas\n",
    "lista_marcas = [marca.upper() for marca in marca_listado['nombre_marca'].tolist()]\n",
    "\n",
    "df['marca_modelo'] = df['marca_modelo'].str.replace(\"Detalles \", \"\").str.strip().str.upper()\n",
    "\n",
    "#En la línea de abajo, \"next\" busca el siguiente elemento de la lista para comprobar que coincide\n",
    "df['marca'] = df['marca_modelo'].apply(lambda x: next((marca for marca in lista_marcas if marca in x), np.nan))\n",
    "df['modelo'] = df.apply(lambda x: x['marca_modelo'].replace(x['marca'], \"\").strip(\" ()\") if x['marca'] else x['marca_modelo'], axis=1)\n"
   ]
  },
  {
   "cell_type": "code",
   "execution_count": null,
   "id": "a57ef3b8-a1e5-463f-a309-8f19ee4a9353",
   "metadata": {
    "tags": []
   },
   "outputs": [],
   "source": [
    "df = df.drop(columns=['marca_modelo', 'CO2', 'cilindros', 'sobrealimentacion'])"
   ]
  },
  {
   "cell_type": "code",
   "execution_count": null,
   "id": "19b3eac5-f4aa-4389-890a-397eb7637315",
   "metadata": {
    "tags": []
   },
   "outputs": [],
   "source": [
    "df.rename(columns={'distintivo_ambiental': 'id_distintivo_ambiental'\n",
    "                  , 'marca': 'id_marca'\n",
    "                  , 'modelo': 'id_modelo'\n",
    "                  , 'nombre_vendedor': 'id_concesionario'\n",
    "                  , 'provincia': 'id_provincia'\n",
    "                  , 'carroceria': 'id_carroceria'}, inplace=True)"
   ]
  },
  {
   "cell_type": "code",
   "execution_count": null,
   "id": "ef47087a-ae56-42ea-a827-235bd06c39f5",
   "metadata": {
    "tags": []
   },
   "outputs": [],
   "source": [
    "df.shape"
   ]
  },
  {
   "cell_type": "code",
   "execution_count": null,
   "id": "2e9480a4-67f5-45ac-a5dd-c7fcf3293b11",
   "metadata": {
    "tags": []
   },
   "outputs": [],
   "source": [
    "df.dtypes"
   ]
  },
  {
   "cell_type": "code",
   "execution_count": null,
   "id": "0791aed9-90e4-4085-b20c-76d0cd50b675",
   "metadata": {
    "tags": []
   },
   "outputs": [],
   "source": [
    "categorical_columns = df.select_dtypes(include=['object', 'category']).columns\n",
    "continuous_columns = df.select_dtypes(include=['Int64', 'float', 'int']).columns\n",
    "\n",
    "\n",
    "def metricas (df, columna):\n",
    "    \n",
    "    if columna in categorical_columns:\n",
    "        \n",
    "        plt.figure(figsize=(15, 6))\n",
    "        \n",
    "        plt.subplot(1, 2, 1)\n",
    "        sns.countplot(data=df, x=columna)\n",
    "        plt.title(f'Distribución de {columna}')\n",
    "        plt.xticks(rotation=45, ha='right')\n",
    "        \n",
    "        plt.subplot(1, 2, 2)\n",
    "        sns.boxplot(data=df, x=columna, y='precio_contado')\n",
    "        plt.title(f'Boxplot de {columna} con precio')\n",
    "        plt.xticks(rotation=90)\n",
    "        plt.tight_layout()\n",
    "        plt.xticks(rotation=45, ha='right')\n",
    "        plt.show()\n",
    "    \n",
    "    elif columna in continuous_columns:\n",
    "\n",
    "        plt.figure(figsize=(15, 6))\n",
    "        \n",
    "        plt.subplot(1, 3, 1)\n",
    "        sns.histplot(df[columna], kde=True)\n",
    "        plt.title(f'Histograma de {columna}')\n",
    "        \n",
    "        \n",
    "        plt.subplot(1, 3, 2)\n",
    "        sns.boxplot(x=df[columna])\n",
    "        plt.title(f'Boxplot de {columna}')\n",
    "        plt.xticks(rotation=45, ha='right')\n",
    "        \n",
    "        plt.subplot(1, 3, 3)\n",
    "        sns.scatterplot(x=df[columna], y=df['precio_contado'])\n",
    "        plt.title(f'Scatterplot de {columna} con precio')\n",
    "        plt.tight_layout()\n",
    "        plt.xticks(rotation=45, ha='right')\n",
    "        plt.show()"
   ]
  },
  {
   "cell_type": "code",
   "execution_count": null,
   "id": "965accb7-5290-4fd0-9210-d0aa781b0b35",
   "metadata": {
    "tags": []
   },
   "outputs": [],
   "source": [
    "categorical_columns"
   ]
  },
  {
   "cell_type": "code",
   "execution_count": null,
   "id": "e2d7268b-02a3-45e9-8273-04ddb52cea57",
   "metadata": {
    "tags": []
   },
   "outputs": [],
   "source": [
    "len(categorical_columns)"
   ]
  },
  {
   "cell_type": "code",
   "execution_count": null,
   "id": "b0aca54f-8efc-45d9-8836-f626a3939dc2",
   "metadata": {
    "tags": []
   },
   "outputs": [],
   "source": [
    "continuous_columns"
   ]
  },
  {
   "cell_type": "code",
   "execution_count": null,
   "id": "74328faa-e12f-49bd-bc06-f8a3a920326e",
   "metadata": {},
   "outputs": [],
   "source": [
    "len(continuous_columns)"
   ]
  },
  {
   "cell_type": "code",
   "execution_count": null,
   "id": "a6cbfb73-fd60-4454-a9fd-2699e3c92903",
   "metadata": {
    "tags": []
   },
   "outputs": [],
   "source": [
    "for columna in continuous_columns:\n",
    "    metricas(df, columna)"
   ]
  },
  {
   "cell_type": "code",
   "execution_count": null,
   "id": "87d54720-4a03-4470-aec2-5a3cb312dce1",
   "metadata": {
    "tags": []
   },
   "outputs": [],
   "source": [
    "for columna in categorical_columns:\n",
    "    metricas(df, columna)"
   ]
  },
  {
   "cell_type": "code",
   "execution_count": null,
   "id": "2a141dc2-bb24-4407-9e0c-0e0db97f9bb9",
   "metadata": {
    "tags": []
   },
   "outputs": [],
   "source": [
    "continuous_columns"
   ]
  },
  {
   "cell_type": "code",
   "execution_count": null,
   "id": "998bfaf2-fbce-4d81-92f3-5803138e539c",
   "metadata": {
    "tags": []
   },
   "outputs": [],
   "source": [
    "correlation_matrix = df[continuous_columns].corr()\n",
    "\n",
    "plt.figure(figsize=(25, 15))\n",
    "\n",
    "sns.heatmap(correlation_matrix, annot=True)\n",
    "\n",
    "plt.title('Mapa de Calor de Correlaciones')\n",
    "plt.show()"
   ]
  },
  {
   "cell_type": "code",
   "execution_count": null,
   "id": "18bb1f15-db6a-422f-981a-f71f6be53709",
   "metadata": {
    "tags": []
   },
   "outputs": [],
   "source": [
    "df.head()"
   ]
  },
  {
   "cell_type": "code",
   "execution_count": null,
   "id": "5fc29f0e-e2c3-47ff-8a5e-14a30c257c02",
   "metadata": {
    "tags": []
   },
   "outputs": [],
   "source": [
    "listado_provincias = {}\n",
    "for index,detalle in enumerate (df['id_provincia'].unique(), start = 1):\n",
    "    detalle = detalle\n",
    "    \n",
    "    listado_provincias[index] = detalle\n",
    "\n",
    "df_provincias = pd.DataFrame.from_dict(listado_provincias, orient='index', columns=['nombre_provincia']).reset_index()\n",
    "df_provincias.rename(columns={'index': 'id_provincia'}, inplace=True)\n",
    "df_provincias.to_csv('../bin/listado_provincias.csv', index=False)\n",
    "\n",
    "conversion = {v: k for k, v in listado_provincias.items()}\n",
    "df['id_provincia'] = df['id_provincia'].map(conversion)"
   ]
  },
  {
   "cell_type": "code",
   "execution_count": null,
   "id": "691aef56-369f-4160-8eb9-a2db2e2819d7",
   "metadata": {
    "tags": []
   },
   "outputs": [],
   "source": [
    "listado_concesionarios = {}\n",
    "for index,detalle in enumerate (df['id_concesionario'].unique(), start = 1):\n",
    "    \n",
    "    id_provincia = df[df['id_concesionario'] == detalle]['id_provincia'].iloc[0]\n",
    "    \n",
    "    listado_concesionarios[index] = {'nombre_concesionario': detalle, 'id_provincia': id_provincia}\n",
    "\n",
    "df_concesionarios = pd.DataFrame.from_dict(listado_concesionarios, orient='index', columns=['nombre_concesionario', 'id_provincia']).reset_index()\n",
    "df_concesionarios.rename(columns={'index': 'id_concesionario'}, inplace=True)\n",
    "df_concesionarios.to_csv('../bin/listado_concesionarios.csv', index=False)\n",
    "\n",
    "conversion = df_concesionarios.set_index('nombre_concesionario')['id_concesionario'].to_dict()\n",
    "\n",
    "df['id_concesionario'] = df['id_concesionario'].map(conversion)"
   ]
  },
  {
   "cell_type": "code",
   "execution_count": null,
   "id": "07be000c-9c69-44e2-b130-b770896bf242",
   "metadata": {
    "tags": []
   },
   "outputs": [],
   "source": [
    "df_concesionarios"
   ]
  },
  {
   "cell_type": "code",
   "execution_count": null,
   "id": "9854bfa0-a0c3-428d-92ea-95b8d5421aeb",
   "metadata": {
    "tags": []
   },
   "outputs": [],
   "source": [
    "listado_modelos = {}\n",
    "for index,detalle in enumerate (df['id_modelo'].unique(), start = 1):\n",
    "    detalle = detalle\n",
    "    \n",
    "    listado_modelos[index] = detalle\n",
    "\n",
    "df_modelos = pd.DataFrame.from_dict(listado_modelos, orient='index', columns=['nombre_modelo']).reset_index()\n",
    "df_modelos.rename(columns={'index': 'id_modelo'}, inplace=True)\n",
    "df_modelos.to_csv('../bin/listado_modelos.csv', index=False)\n",
    "\n",
    "conversion = {v: k for k, v in listado_modelos.items()}\n",
    "df['id_modelo'] = df['id_modelo'].map(conversion)"
   ]
  },
  {
   "cell_type": "code",
   "execution_count": null,
   "id": "51d6ccb0-d738-4229-a3bb-b94cfc24ae8d",
   "metadata": {},
   "outputs": [],
   "source": [
    "listado_marcas = {}\n",
    "for index,detalle in enumerate (df['id_marca'].unique(), start = 1):\n",
    "    detalle = detalle\n",
    "    \n",
    "    listado_marcas[index] = detalle\n",
    "\n",
    "df_marcas = pd.DataFrame.from_dict(listado_marcas, orient='index', columns=['nombre_marca']).reset_index()\n",
    "df_marcas.rename(columns={'index': 'id_marca'}, inplace=True)\n",
    "df_marcas.to_csv('../bin/listado_modelos.csv', index=False)\n",
    "\n",
    "conversion = {v: k for k, v in listado_marcas.items()}\n",
    "df['id_marca'] = df['id_marca'].map(conversion)"
   ]
  },
  {
   "cell_type": "code",
   "execution_count": null,
   "id": "ae3be277-2339-471b-840b-902cecd528cd",
   "metadata": {
    "tags": []
   },
   "outputs": [],
   "source": [
    "listado_carrocerias = {}\n",
    "for index,detalle in enumerate (df['id_carroceria'].unique(), start = 1):\n",
    "    detalle = detalle\n",
    "    \n",
    "    listado_carrocerias[index] = detalle\n",
    "    \n",
    "df_carrocerias = pd.DataFrame.from_dict(listado_carrocerias, orient='index', columns=['nombre_carroceria']).reset_index()\n",
    "df_carrocerias.rename(columns={'index': 'id_carroceria'}, inplace=True)\n",
    "df_carrocerias.to_csv('../bin/listado_carrocerias.csv', index=False)\n",
    "\n",
    "conversion = {v: k for k, v in listado_carrocerias.items()}\n",
    "df['id_carroceria'] = df['id_carroceria'].map(conversion)"
   ]
  },
  {
   "cell_type": "code",
   "execution_count": null,
   "id": "2392022d-8655-4020-b218-c1b460f3fc60",
   "metadata": {
    "tags": []
   },
   "outputs": [],
   "source": [
    "listado_distintivo_ambiental = {}\n",
    "for index,detalle in enumerate (df['id_distintivo_ambiental'].unique(), start = 1):\n",
    "    detalle = detalle\n",
    "    \n",
    "    listado_distintivo_ambiental[index] = detalle\n",
    "    \n",
    "df_distintivo_ambiental = pd.DataFrame.from_dict(listado_distintivo_ambiental, orient='index', columns=['nombre_distintivo']).reset_index()\n",
    "df_distintivo_ambiental.rename(columns={'index': 'id_distintivo'}, inplace=True)\n",
    "df_distintivo_ambiental.to_csv('../bin/listado_distintivo_ambiental.csv', index=False)\n",
    "\n",
    "conversion = {v: k for k, v in listado_distintivo_ambiental.items()}\n",
    "df['id_distintivo_ambiental'] = df['id_distintivo_ambiental'].map(conversion)"
   ]
  },
  {
   "cell_type": "code",
   "execution_count": null,
   "id": "642b0883-3511-4696-a579-73a7e1f1f0e0",
   "metadata": {
    "tags": []
   },
   "outputs": [],
   "source": [
    "listado_combustibles = {}\n",
    "for index,detalle in enumerate (df['combustible'].unique(), start = 1):\n",
    "    detalle = detalle\n",
    "    \n",
    "    listado_combustibles[index] = detalle\n",
    "    \n",
    "df_combustibles = pd.DataFrame.from_dict(listado_combustibles, orient='index', columns=['nombre_combustible']).reset_index()\n",
    "df_combustibles.rename(columns={'index': 'id_combustible'}, inplace=True)\n",
    "df_combustibles.to_csv('../bin/listado_combustibles.csv', index=False)\n",
    "\n",
    "conversion = {v: k for k, v in listado_combustibles.items()}\n",
    "df['combustible'] = df['combustible'].map(conversion)"
   ]
  },
  {
   "cell_type": "code",
   "execution_count": null,
   "id": "31d1e6fe-1b12-4c1f-b833-42cb48cfa67f",
   "metadata": {
    "tags": []
   },
   "outputs": [],
   "source": [
    "listado_tipos_cambio = {}\n",
    "for index,detalle in enumerate (df['tipo_cambio'].unique(), start = 1):\n",
    "    detalle = detalle\n",
    "    \n",
    "    listado_tipos_cambio[index] = detalle\n",
    "    \n",
    "df_tipos_cambio = pd.DataFrame.from_dict(listado_tipos_cambio, orient='index', columns=['nombre_tipo_cambio']).reset_index()\n",
    "df_tipos_cambio.rename(columns={'index': 'id_tipo_cambio'}, inplace=True)\n",
    "df_tipos_cambio.to_csv('../bin/listado_tipos_cambio.csv', index=False)\n",
    "\n",
    "tipos_cambio_to_indices = {v: k for k, v in listado_tipos_cambio.items()}\n",
    "df['id_tipo_cambio'] = df['tipo_cambio'].map(tipos_cambio_to_indices)\n",
    "\n",
    "df = df.drop(columns=['tipo_cambio'])"
   ]
  },
  {
   "cell_type": "code",
   "execution_count": null,
   "id": "eac3c315-595c-4013-ba67-dcc774579ff5",
   "metadata": {
    "tags": []
   },
   "outputs": [],
   "source": [
    "listado_sobrealimentacion = {}\n",
    "for index,detalle in enumerate (df['id_sobrealimentacion'].unique(), start = 1):\n",
    "    detalle = detalle\n",
    "    \n",
    "    listado_sobrealimentacion[index] = detalle\n",
    "    \n",
    "df_sobrealimentacion = pd.DataFrame.from_dict(listado_sobrealimentacion, orient='index', columns=['nombre_sobrealimentacion']).reset_index()\n",
    "df_sobrealimentacion.rename(columns={'index': 'id_sobrealimentacion'}, inplace=True)\n",
    "df_sobrealimentacion.to_csv('../bin/listado_sobrealimentacion.csv', index=False)\n",
    "\n",
    "conversion = {v: k for k, v in listado_sobrealimentacion.items()}\n",
    "df['id_sobrealimentacion'] = df['id_sobrealimentacion'].map(conversion)"
   ]
  },
  {
   "cell_type": "code",
   "execution_count": null,
   "id": "8b6ea96f-4cc3-453f-9cef-f346c0d1b894",
   "metadata": {
    "tags": []
   },
   "outputs": [],
   "source": [
    "df = df.drop(columns=['traccion'])"
   ]
  },
  {
   "cell_type": "code",
   "execution_count": null,
   "id": "97f6df1a-c023-441a-990a-b6046cca7093",
   "metadata": {
    "tags": []
   },
   "outputs": [],
   "source": [
    "df.to_csv('../bin/prestaciones.csv', index=False)"
   ]
  },
  {
   "cell_type": "code",
   "execution_count": null,
   "id": "992da351-8f90-4bea-8b7c-a0ab1ce87571",
   "metadata": {
    "tags": []
   },
   "outputs": [],
   "source": [
    "df.head()"
   ]
  },
  {
   "cell_type": "code",
   "execution_count": null,
   "id": "59717b28-6f6f-43a8-aa91-1a44040ab104",
   "metadata": {},
   "outputs": [],
   "source": []
  }
 ],
 "metadata": {
  "kernelspec": {
   "display_name": "Python 3 (ipykernel)",
   "language": "python",
   "name": "python3"
  },
  "language_info": {
   "codemirror_mode": {
    "name": "ipython",
    "version": 3
   },
   "file_extension": ".py",
   "mimetype": "text/x-python",
   "name": "python",
   "nbconvert_exporter": "python",
   "pygments_lexer": "ipython3",
   "version": "3.11.7"
  }
 },
 "nbformat": 4,
 "nbformat_minor": 5
}
